{
 "cells": [
  {
   "cell_type": "markdown",
   "metadata": {
    "id": "EyLk3ZD-mw3G"
   },
   "source": [
    "# Install StellarGraph\n"
   ]
  },
  {
   "cell_type": "code",
   "execution_count": null,
   "metadata": {
    "id": "ZMbdz_h4HFHI"
   },
   "outputs": [],
   "source": [
    "!pip install stellargraph"
   ]
  },
  {
   "cell_type": "code",
   "execution_count": 1,
   "metadata": {
    "executionInfo": {
     "elapsed": 1298,
     "status": "ok",
     "timestamp": 1618142594482,
     "user": {
      "displayName": "Róbert Jačko",
      "photoUrl": "",
      "userId": "15811568458173000815"
     },
     "user_tz": -120
    },
    "id": "PVlkSS-Kmud-"
   },
   "outputs": [],
   "source": [
    "# verify that we're using the correct version of StellarGraph for this notebook\n",
    "import stellargraph as sg\n",
    "\n",
    "try:\n",
    "    sg.utils.validate_notebook_version(\"1.2.1\")\n",
    "except AttributeError:\n",
    "    raise ValueError(\n",
    "        f\"This notebook requires StellarGraph version 1.2.1, but a different version {sg.__version__} is installed.  Please see <https://github.com/stellargraph/stellargraph/issues/1172>.\"\n",
    "    ) from None"
   ]
  },
  {
   "cell_type": "markdown",
   "metadata": {
    "id": "1amfDVqIto9n"
   },
   "source": [
    "# Read JSON files\n",
    "\n",
    "do premennej `graphsRaw` sa nacitaju vsetky grafy z datasetu\n",
    "\n",
    "`graphRaw`:\n",
    "  - `filename`: nazov .lua suboru z ktoreho je vytvoreny\n",
    "  - `isTest`: 1 ak je to \"testovaci\" subor, inak 0\n",
    "  - `isSpec`: 1 ak je to testovaci subor, inak 0\n",
    "  - `nodes`: DataFrame(columns=\\['id', 'type'\\])\n",
    "  - `edges`: DataFrame(columns=\\['from', 'to'\\])\n",
    "\n"
   ]
  },
  {
   "cell_type": "code",
   "execution_count": 2,
   "metadata": {
    "colab": {
     "base_uri": "https://localhost:8080/",
     "height": 102,
     "referenced_widgets": [
      "d0212312301f4edb9a05cd0de57ab5a1",
      "3249d8ec6d5e450abe2178bee0a899a2",
      "162bd196dd004a1bb543c5d470dc2828",
      "15885d8b533f4ac78900e6b7a161f2bb",
      "a2ace461f6a046ddb5d63eef280929bc",
      "dbc8f281cdd043c795ea0cb458f5b30f",
      "f840a18c31ed44cfbba779a94586ebec",
      "3bdcfa533f6a423ab810910410e4f4e8"
     ]
    },
    "executionInfo": {
     "elapsed": 1121229,
     "status": "ok",
     "timestamp": 1618140077216,
     "user": {
      "displayName": "Róbert Jačko",
      "photoUrl": "",
      "userId": "15811568458173000815"
     },
     "user_tz": -120
    },
    "id": "MrVVg61b_wx9",
    "outputId": "8944ca81-3fa4-4ae0-fc6f-5e78face3737"
   },
   "outputs": [
    {
     "data": {
      "application/vnd.jupyter.widget-view+json": {
       "model_id": "1aacec35b1c64efaac0c3707423e83f1",
       "version_major": 2,
       "version_minor": 0
      },
      "text/plain": [
       "Dataset loading:   0%|          | 0/1515 [00:00<?, ?it/s]"
      ]
     },
     "metadata": {},
     "output_type": "display_data"
    },
    {
     "name": "stdout",
     "output_type": "stream",
     "text": [
      "Wrong json file: ../data/lua-path/test_wcs.lua.json\n",
      "Wrong json file: ../data/pop3/test-message.lua.json\n",
      "Wrong json file: ../data/rkeys/rkeys.lua.json\n",
      "Wrong json file: ../data/stacktraceplus/StackTracePlus.lua.json\n"
     ]
    }
   ],
   "source": [
    "import os\n",
    "import pandas as pd\n",
    "import json\n",
    "from tqdm.notebook import tnrange # loading bar\n",
    "\n",
    "graphsRaw = []\n",
    "\n",
    "dataPath = '../data'\n",
    "dirs = os.listdir(dataPath)\n",
    "nDirs = len(dirs)\n",
    "\n",
    "for i in tnrange(nDirs, desc='Dataset loading'):\n",
    "    dirname = dirs[i]\n",
    "    dirPath = dataPath + '/' + dirname\n",
    "    for filename in os.listdir(dirPath):\n",
    "        json_file = dirPath + '/' + filename\n",
    "        with open(json_file) as jf:\n",
    "            graph = {}\n",
    "            try:\n",
    "                jsonData = json.load(jf)\n",
    "                graph['filename'] = jsonData['_filename']\n",
    "                graph['isTest'] = int(jsonData['_isTest'])\n",
    "                graph['isSpec'] = int(jsonData['_isSpec'])\n",
    "                graph['nodes'] = pd.DataFrame(jsonData['nodes'], columns=['id', 'type'])\n",
    "                graph['nodes'] = graph['nodes'].set_index('id')\n",
    "                graph['edges'] = pd.DataFrame(jsonData['edges'], columns=['from', 'to'])\n",
    "                graphsRaw.append(graph)\n",
    "            except:\n",
    "                print(f'Wrong json file: {json_file}')"
   ]
  },
  {
   "cell_type": "markdown",
   "metadata": {
    "id": "kWTkf36Ws1Gg"
   },
   "source": [
    "# OneHot\n",
    "\n",
    "kazdemu grafu z `graphsRaw` sa prida atribut `encNodeTypes` (OneHot kodovanie typov uzlov)\n",
    "- `encNodeTypes` je DataFrame OneHot kodovani pre vsetky uzly v danom grafe\n",
    "- **typy uzlov**: *\\['require container', 'function', 'local variable', 'file', 'tableconstructor', 'module', 'statement:keyword', 'variable container', 'statement:numericfor', 'statement:genericfor', 'statement:if', 'global function', 'statement:functioncall', 'statement:assign', 'function container', 'statement:localassign', 'global variable', 'statement:globalfunction', 'statement:while', 'statement:localfunction', 'interface container', 'interface', 'require local variable', 'statement:do', 'statement:repeat'\\]*\n",
    "- ostatne typy uzlov sa ignoruju"
   ]
  },
  {
   "cell_type": "code",
   "execution_count": 3,
   "metadata": {
    "executionInfo": {
     "elapsed": 4894,
     "status": "ok",
     "timestamp": 1618141244142,
     "user": {
      "displayName": "Róbert Jačko",
      "photoUrl": "",
      "userId": "15811568458173000815"
     },
     "user_tz": -120
    },
    "id": "YAutjsD6s0Ei"
   },
   "outputs": [],
   "source": [
    "from sklearn.preprocessing import OneHotEncoder\n",
    "import numpy as np\n",
    "\n",
    "ntypes = ['require container', 'function', 'local variable', 'file', \n",
    "          'tableconstructor', 'module', 'statement:keyword', \n",
    "          'variable container', 'statement:numericfor', 'statement:genericfor', \n",
    "          'statement:if', 'global function', 'statement:functioncall', \n",
    "          'statement:assign', 'function container', 'statement:localassign', \n",
    "          'global variable', 'statement:globalfunction', 'statement:while', \n",
    "          'statement:localfunction', 'interface container', 'interface', \n",
    "          'require local variable', 'statement:do', 'statement:repeat']\n",
    "\n",
    "enc = OneHotEncoder(handle_unknown='ignore')\n",
    "X = np.array(ntypes).reshape(-1,1)\n",
    "enc.fit(X)\n",
    "\n",
    "# encode all NodeTypes in graph\n",
    "for gr in graphsRaw:\n",
    "    encoded = enc.transform(gr['nodes']['type'].values.reshape(-1,1))\n",
    "    gr['encNodeTypes'] = pd.DataFrame(encoded.toarray())"
   ]
  },
  {
   "cell_type": "code",
   "execution_count": 4,
   "metadata": {},
   "outputs": [
    {
     "data": {
      "text/html": [
       "<div>\n",
       "<style scoped>\n",
       "    .dataframe tbody tr th:only-of-type {\n",
       "        vertical-align: middle;\n",
       "    }\n",
       "\n",
       "    .dataframe tbody tr th {\n",
       "        vertical-align: top;\n",
       "    }\n",
       "\n",
       "    .dataframe thead th {\n",
       "        text-align: right;\n",
       "    }\n",
       "</style>\n",
       "<table border=\"1\" class=\"dataframe\">\n",
       "  <thead>\n",
       "    <tr style=\"text-align: right;\">\n",
       "      <th></th>\n",
       "      <th>0</th>\n",
       "      <th>1</th>\n",
       "      <th>2</th>\n",
       "      <th>3</th>\n",
       "      <th>4</th>\n",
       "      <th>5</th>\n",
       "      <th>6</th>\n",
       "      <th>7</th>\n",
       "      <th>8</th>\n",
       "      <th>9</th>\n",
       "      <th>...</th>\n",
       "      <th>15</th>\n",
       "      <th>16</th>\n",
       "      <th>17</th>\n",
       "      <th>18</th>\n",
       "      <th>19</th>\n",
       "      <th>20</th>\n",
       "      <th>21</th>\n",
       "      <th>22</th>\n",
       "      <th>23</th>\n",
       "      <th>24</th>\n",
       "    </tr>\n",
       "  </thead>\n",
       "  <tbody>\n",
       "    <tr>\n",
       "      <th>0</th>\n",
       "      <td>1.0</td>\n",
       "      <td>0.0</td>\n",
       "      <td>0.0</td>\n",
       "      <td>0.0</td>\n",
       "      <td>0.0</td>\n",
       "      <td>0.0</td>\n",
       "      <td>0.0</td>\n",
       "      <td>0.0</td>\n",
       "      <td>0.0</td>\n",
       "      <td>0.0</td>\n",
       "      <td>...</td>\n",
       "      <td>0.0</td>\n",
       "      <td>0.0</td>\n",
       "      <td>0.0</td>\n",
       "      <td>0.0</td>\n",
       "      <td>0.0</td>\n",
       "      <td>0.0</td>\n",
       "      <td>0.0</td>\n",
       "      <td>0.0</td>\n",
       "      <td>0.0</td>\n",
       "      <td>0.0</td>\n",
       "    </tr>\n",
       "    <tr>\n",
       "      <th>1</th>\n",
       "      <td>0.0</td>\n",
       "      <td>0.0</td>\n",
       "      <td>0.0</td>\n",
       "      <td>0.0</td>\n",
       "      <td>0.0</td>\n",
       "      <td>0.0</td>\n",
       "      <td>0.0</td>\n",
       "      <td>0.0</td>\n",
       "      <td>1.0</td>\n",
       "      <td>0.0</td>\n",
       "      <td>...</td>\n",
       "      <td>0.0</td>\n",
       "      <td>0.0</td>\n",
       "      <td>0.0</td>\n",
       "      <td>0.0</td>\n",
       "      <td>0.0</td>\n",
       "      <td>0.0</td>\n",
       "      <td>0.0</td>\n",
       "      <td>0.0</td>\n",
       "      <td>0.0</td>\n",
       "      <td>0.0</td>\n",
       "    </tr>\n",
       "    <tr>\n",
       "      <th>2</th>\n",
       "      <td>0.0</td>\n",
       "      <td>1.0</td>\n",
       "      <td>0.0</td>\n",
       "      <td>0.0</td>\n",
       "      <td>0.0</td>\n",
       "      <td>0.0</td>\n",
       "      <td>0.0</td>\n",
       "      <td>0.0</td>\n",
       "      <td>0.0</td>\n",
       "      <td>0.0</td>\n",
       "      <td>...</td>\n",
       "      <td>0.0</td>\n",
       "      <td>0.0</td>\n",
       "      <td>0.0</td>\n",
       "      <td>0.0</td>\n",
       "      <td>0.0</td>\n",
       "      <td>0.0</td>\n",
       "      <td>0.0</td>\n",
       "      <td>0.0</td>\n",
       "      <td>0.0</td>\n",
       "      <td>0.0</td>\n",
       "    </tr>\n",
       "    <tr>\n",
       "      <th>3</th>\n",
       "      <td>0.0</td>\n",
       "      <td>0.0</td>\n",
       "      <td>0.0</td>\n",
       "      <td>0.0</td>\n",
       "      <td>0.0</td>\n",
       "      <td>0.0</td>\n",
       "      <td>0.0</td>\n",
       "      <td>0.0</td>\n",
       "      <td>0.0</td>\n",
       "      <td>0.0</td>\n",
       "      <td>...</td>\n",
       "      <td>0.0</td>\n",
       "      <td>0.0</td>\n",
       "      <td>0.0</td>\n",
       "      <td>0.0</td>\n",
       "      <td>0.0</td>\n",
       "      <td>0.0</td>\n",
       "      <td>0.0</td>\n",
       "      <td>0.0</td>\n",
       "      <td>0.0</td>\n",
       "      <td>0.0</td>\n",
       "    </tr>\n",
       "    <tr>\n",
       "      <th>4</th>\n",
       "      <td>0.0</td>\n",
       "      <td>1.0</td>\n",
       "      <td>0.0</td>\n",
       "      <td>0.0</td>\n",
       "      <td>0.0</td>\n",
       "      <td>0.0</td>\n",
       "      <td>0.0</td>\n",
       "      <td>0.0</td>\n",
       "      <td>0.0</td>\n",
       "      <td>0.0</td>\n",
       "      <td>...</td>\n",
       "      <td>0.0</td>\n",
       "      <td>0.0</td>\n",
       "      <td>0.0</td>\n",
       "      <td>0.0</td>\n",
       "      <td>0.0</td>\n",
       "      <td>0.0</td>\n",
       "      <td>0.0</td>\n",
       "      <td>0.0</td>\n",
       "      <td>0.0</td>\n",
       "      <td>0.0</td>\n",
       "    </tr>\n",
       "    <tr>\n",
       "      <th>...</th>\n",
       "      <td>...</td>\n",
       "      <td>...</td>\n",
       "      <td>...</td>\n",
       "      <td>...</td>\n",
       "      <td>...</td>\n",
       "      <td>...</td>\n",
       "      <td>...</td>\n",
       "      <td>...</td>\n",
       "      <td>...</td>\n",
       "      <td>...</td>\n",
       "      <td>...</td>\n",
       "      <td>...</td>\n",
       "      <td>...</td>\n",
       "      <td>...</td>\n",
       "      <td>...</td>\n",
       "      <td>...</td>\n",
       "      <td>...</td>\n",
       "      <td>...</td>\n",
       "      <td>...</td>\n",
       "      <td>...</td>\n",
       "      <td>...</td>\n",
       "    </tr>\n",
       "    <tr>\n",
       "      <th>169</th>\n",
       "      <td>0.0</td>\n",
       "      <td>0.0</td>\n",
       "      <td>0.0</td>\n",
       "      <td>0.0</td>\n",
       "      <td>1.0</td>\n",
       "      <td>0.0</td>\n",
       "      <td>0.0</td>\n",
       "      <td>0.0</td>\n",
       "      <td>0.0</td>\n",
       "      <td>0.0</td>\n",
       "      <td>...</td>\n",
       "      <td>0.0</td>\n",
       "      <td>0.0</td>\n",
       "      <td>0.0</td>\n",
       "      <td>0.0</td>\n",
       "      <td>0.0</td>\n",
       "      <td>0.0</td>\n",
       "      <td>0.0</td>\n",
       "      <td>0.0</td>\n",
       "      <td>0.0</td>\n",
       "      <td>0.0</td>\n",
       "    </tr>\n",
       "    <tr>\n",
       "      <th>170</th>\n",
       "      <td>0.0</td>\n",
       "      <td>0.0</td>\n",
       "      <td>0.0</td>\n",
       "      <td>0.0</td>\n",
       "      <td>0.0</td>\n",
       "      <td>0.0</td>\n",
       "      <td>1.0</td>\n",
       "      <td>0.0</td>\n",
       "      <td>0.0</td>\n",
       "      <td>0.0</td>\n",
       "      <td>...</td>\n",
       "      <td>0.0</td>\n",
       "      <td>0.0</td>\n",
       "      <td>0.0</td>\n",
       "      <td>0.0</td>\n",
       "      <td>0.0</td>\n",
       "      <td>0.0</td>\n",
       "      <td>0.0</td>\n",
       "      <td>0.0</td>\n",
       "      <td>0.0</td>\n",
       "      <td>0.0</td>\n",
       "    </tr>\n",
       "    <tr>\n",
       "      <th>171</th>\n",
       "      <td>0.0</td>\n",
       "      <td>0.0</td>\n",
       "      <td>0.0</td>\n",
       "      <td>0.0</td>\n",
       "      <td>0.0</td>\n",
       "      <td>1.0</td>\n",
       "      <td>0.0</td>\n",
       "      <td>0.0</td>\n",
       "      <td>0.0</td>\n",
       "      <td>0.0</td>\n",
       "      <td>...</td>\n",
       "      <td>0.0</td>\n",
       "      <td>0.0</td>\n",
       "      <td>0.0</td>\n",
       "      <td>0.0</td>\n",
       "      <td>0.0</td>\n",
       "      <td>0.0</td>\n",
       "      <td>0.0</td>\n",
       "      <td>0.0</td>\n",
       "      <td>0.0</td>\n",
       "      <td>0.0</td>\n",
       "    </tr>\n",
       "    <tr>\n",
       "      <th>172</th>\n",
       "      <td>0.0</td>\n",
       "      <td>0.0</td>\n",
       "      <td>0.0</td>\n",
       "      <td>0.0</td>\n",
       "      <td>0.0</td>\n",
       "      <td>1.0</td>\n",
       "      <td>0.0</td>\n",
       "      <td>0.0</td>\n",
       "      <td>0.0</td>\n",
       "      <td>0.0</td>\n",
       "      <td>...</td>\n",
       "      <td>0.0</td>\n",
       "      <td>0.0</td>\n",
       "      <td>0.0</td>\n",
       "      <td>0.0</td>\n",
       "      <td>0.0</td>\n",
       "      <td>0.0</td>\n",
       "      <td>0.0</td>\n",
       "      <td>0.0</td>\n",
       "      <td>0.0</td>\n",
       "      <td>0.0</td>\n",
       "    </tr>\n",
       "    <tr>\n",
       "      <th>173</th>\n",
       "      <td>0.0</td>\n",
       "      <td>0.0</td>\n",
       "      <td>0.0</td>\n",
       "      <td>0.0</td>\n",
       "      <td>0.0</td>\n",
       "      <td>1.0</td>\n",
       "      <td>0.0</td>\n",
       "      <td>0.0</td>\n",
       "      <td>0.0</td>\n",
       "      <td>0.0</td>\n",
       "      <td>...</td>\n",
       "      <td>0.0</td>\n",
       "      <td>0.0</td>\n",
       "      <td>0.0</td>\n",
       "      <td>0.0</td>\n",
       "      <td>0.0</td>\n",
       "      <td>0.0</td>\n",
       "      <td>0.0</td>\n",
       "      <td>0.0</td>\n",
       "      <td>0.0</td>\n",
       "      <td>0.0</td>\n",
       "    </tr>\n",
       "  </tbody>\n",
       "</table>\n",
       "<p>174 rows × 25 columns</p>\n",
       "</div>"
      ],
      "text/plain": [
       "      0    1    2    3    4    5    6    7    8    9   ...   15   16   17  \\\n",
       "0    1.0  0.0  0.0  0.0  0.0  0.0  0.0  0.0  0.0  0.0  ...  0.0  0.0  0.0   \n",
       "1    0.0  0.0  0.0  0.0  0.0  0.0  0.0  0.0  1.0  0.0  ...  0.0  0.0  0.0   \n",
       "2    0.0  1.0  0.0  0.0  0.0  0.0  0.0  0.0  0.0  0.0  ...  0.0  0.0  0.0   \n",
       "3    0.0  0.0  0.0  0.0  0.0  0.0  0.0  0.0  0.0  0.0  ...  0.0  0.0  0.0   \n",
       "4    0.0  1.0  0.0  0.0  0.0  0.0  0.0  0.0  0.0  0.0  ...  0.0  0.0  0.0   \n",
       "..   ...  ...  ...  ...  ...  ...  ...  ...  ...  ...  ...  ...  ...  ...   \n",
       "169  0.0  0.0  0.0  0.0  1.0  0.0  0.0  0.0  0.0  0.0  ...  0.0  0.0  0.0   \n",
       "170  0.0  0.0  0.0  0.0  0.0  0.0  1.0  0.0  0.0  0.0  ...  0.0  0.0  0.0   \n",
       "171  0.0  0.0  0.0  0.0  0.0  1.0  0.0  0.0  0.0  0.0  ...  0.0  0.0  0.0   \n",
       "172  0.0  0.0  0.0  0.0  0.0  1.0  0.0  0.0  0.0  0.0  ...  0.0  0.0  0.0   \n",
       "173  0.0  0.0  0.0  0.0  0.0  1.0  0.0  0.0  0.0  0.0  ...  0.0  0.0  0.0   \n",
       "\n",
       "      18   19   20   21   22   23   24  \n",
       "0    0.0  0.0  0.0  0.0  0.0  0.0  0.0  \n",
       "1    0.0  0.0  0.0  0.0  0.0  0.0  0.0  \n",
       "2    0.0  0.0  0.0  0.0  0.0  0.0  0.0  \n",
       "3    0.0  0.0  0.0  0.0  0.0  0.0  0.0  \n",
       "4    0.0  0.0  0.0  0.0  0.0  0.0  0.0  \n",
       "..   ...  ...  ...  ...  ...  ...  ...  \n",
       "169  0.0  0.0  0.0  0.0  0.0  0.0  0.0  \n",
       "170  0.0  0.0  0.0  0.0  0.0  0.0  0.0  \n",
       "171  0.0  0.0  0.0  0.0  0.0  0.0  0.0  \n",
       "172  0.0  0.0  0.0  0.0  0.0  0.0  0.0  \n",
       "173  0.0  0.0  0.0  0.0  0.0  0.0  0.0  \n",
       "\n",
       "[174 rows x 25 columns]"
      ]
     },
     "execution_count": 4,
     "metadata": {},
     "output_type": "execute_result"
    }
   ],
   "source": [
    "graphsRaw[0]['encNodeTypes']"
   ]
  },
  {
   "cell_type": "markdown",
   "metadata": {
    "id": "_vKrj7jHFE2i"
   },
   "source": [
    "# Create dataset\n",
    "\n",
    "dataset tvoria `graphs` a `graph_labels`\n",
    "- `graphs` je list of StellarGraphs\n",
    "- `graph_labels` je list oznaceni pre dany graf na i-tej pozcii pre atribut `isTest`"
   ]
  },
  {
   "cell_type": "code",
   "execution_count": 123,
   "metadata": {
    "executionInfo": {
     "elapsed": 10748,
     "status": "ok",
     "timestamp": 1618141256474,
     "user": {
      "displayName": "Róbert Jačko",
      "photoUrl": "",
      "userId": "15811568458173000815"
     },
     "user_tz": -120
    },
    "id": "dWIGwUA4FEII"
   },
   "outputs": [],
   "source": [
    "from stellargraph import StellarGraph\n",
    "\n",
    "def createStellarGraph(graphRaw):\n",
    "    nodes = graphRaw['encNodeTypes']\n",
    "    edges = graphRaw['edges']\n",
    "    graph = StellarGraph(nodes=nodes, edges=edges, source_column='from', target_column='to', is_directed=True)\n",
    "    return graph\n",
    "\n",
    "\n",
    "graphs = [createStellarGraph(gr) for gr in graphsRaw]\n",
    "#graph_labels = pd.Series([1 if gr['isSpec'] else 2 if gr['isTest'] else 0 for gr in graphsRaw], dtype=\"category\", name='label')\n",
    "graph_labels = pd.Series([1 if gr['isSpec'] or gr['isTest'] else 0 for gr in graphsRaw], dtype=\"category\", name='label')"
   ]
  },
  {
   "cell_type": "markdown",
   "metadata": {},
   "source": [
    "# Dataset stats"
   ]
  },
  {
   "cell_type": "code",
   "execution_count": 124,
   "metadata": {},
   "outputs": [
    {
     "data": {
      "text/plain": [
       "0    6439\n",
       "1     748\n",
       "Name: label, dtype: int64"
      ]
     },
     "execution_count": 124,
     "metadata": {},
     "output_type": "execute_result"
    }
   ],
   "source": [
    "graph_labels.value_counts()"
   ]
  },
  {
   "cell_type": "code",
   "execution_count": 125,
   "metadata": {},
   "outputs": [
    {
     "data": {
      "text/html": [
       "<div>\n",
       "<style scoped>\n",
       "    .dataframe tbody tr th:only-of-type {\n",
       "        vertical-align: middle;\n",
       "    }\n",
       "\n",
       "    .dataframe tbody tr th {\n",
       "        vertical-align: top;\n",
       "    }\n",
       "\n",
       "    .dataframe thead th {\n",
       "        text-align: right;\n",
       "    }\n",
       "</style>\n",
       "<table border=\"1\" class=\"dataframe\">\n",
       "  <thead>\n",
       "    <tr style=\"text-align: right;\">\n",
       "      <th></th>\n",
       "      <th>nodes</th>\n",
       "      <th>edges</th>\n",
       "    </tr>\n",
       "  </thead>\n",
       "  <tbody>\n",
       "    <tr>\n",
       "      <th>count</th>\n",
       "      <td>7187.0</td>\n",
       "      <td>7187.0</td>\n",
       "    </tr>\n",
       "    <tr>\n",
       "      <th>mean</th>\n",
       "      <td>103.5</td>\n",
       "      <td>175.8</td>\n",
       "    </tr>\n",
       "    <tr>\n",
       "      <th>std</th>\n",
       "      <td>165.2</td>\n",
       "      <td>827.9</td>\n",
       "    </tr>\n",
       "    <tr>\n",
       "      <th>min</th>\n",
       "      <td>5.0</td>\n",
       "      <td>4.0</td>\n",
       "    </tr>\n",
       "    <tr>\n",
       "      <th>25%</th>\n",
       "      <td>28.0</td>\n",
       "      <td>34.0</td>\n",
       "    </tr>\n",
       "    <tr>\n",
       "      <th>50%</th>\n",
       "      <td>58.0</td>\n",
       "      <td>79.0</td>\n",
       "    </tr>\n",
       "    <tr>\n",
       "      <th>75%</th>\n",
       "      <td>118.0</td>\n",
       "      <td>175.5</td>\n",
       "    </tr>\n",
       "    <tr>\n",
       "      <th>max</th>\n",
       "      <td>4025.0</td>\n",
       "      <td>64311.0</td>\n",
       "    </tr>\n",
       "  </tbody>\n",
       "</table>\n",
       "</div>"
      ],
      "text/plain": [
       "        nodes    edges\n",
       "count  7187.0   7187.0\n",
       "mean    103.5    175.8\n",
       "std     165.2    827.9\n",
       "min       5.0      4.0\n",
       "25%      28.0     34.0\n",
       "50%      58.0     79.0\n",
       "75%     118.0    175.5\n",
       "max    4025.0  64311.0"
      ]
     },
     "execution_count": 125,
     "metadata": {},
     "output_type": "execute_result"
    }
   ],
   "source": [
    "summary = pd.DataFrame(\n",
    "    [(g.number_of_nodes(), g.number_of_edges()) for g in graphs],\n",
    "    columns=[\"nodes\", \"edges\"],\n",
    ")\n",
    "summary.describe().round(1)"
   ]
  },
  {
   "cell_type": "markdown",
   "metadata": {},
   "source": [
    "# Fit dataset to 1:1\n",
    "z datasetu sa vyberie len nejaky pocet grafov tak aby sa pocty grafov vytvorenych z testovacich a grafov vytvorenych z netestovacich suborov rovnal "
   ]
  },
  {
   "cell_type": "code",
   "execution_count": 93,
   "metadata": {},
   "outputs": [],
   "source": [
    "from imblearn.under_sampling import RandomUnderSampler\n",
    "\n",
    "undersample = RandomUnderSampler(sampling_strategy='majority')\n",
    "X_under, y_under = undersample.fit_resample(np.array(graphs).reshape(-1, 1), graph_labels.to_numpy())"
   ]
  },
  {
   "cell_type": "code",
   "execution_count": 109,
   "metadata": {},
   "outputs": [],
   "source": [
    "graphs = X_under.flatten()\n",
    "graph_labels = y_under"
   ]
  },
  {
   "cell_type": "code",
   "execution_count": 219,
   "metadata": {
    "executionInfo": {
     "elapsed": 1017,
     "status": "ok",
     "timestamp": 1618142129480,
     "user": {
      "displayName": "Róbert Jačko",
      "photoUrl": "",
      "userId": "15811568458173000815"
     },
     "user_tz": -120
    },
    "id": "tcAm2QE5v6oR"
   },
   "outputs": [],
   "source": [
    "'''\n",
    "import random\n",
    "import numpy as np\n",
    "\n",
    "noTests, tests = [], []\n",
    "for idx, d in enumerate(graph_labels):\n",
    "    if d == 1:\n",
    "        tests.append(idx)\n",
    "    elif d == 0:\n",
    "        noTests.append(idx)\n",
    "\n",
    "SIZE = 200\n",
    "\n",
    "resampledNoTests = random.sample(noTests, SIZE)\n",
    "resampledTests = random.sample(tests, SIZE)\n",
    "finalIdxs = np.random.choice(np.concatenate([resampledTests, resampledNoTests]), SIZE*2, replace=False)\n",
    "final_graphs, final_graph_labels = [], []\n",
    "for i in finalIdxs:\n",
    "    final_graphs.append(graphs[i])\n",
    "    final_graph_labels.append(graph_labels[i])\n",
    "final_graph_labels = pd.Series(final_graph_labels, dtype=\"category\", name='label')\n",
    "```"
   ]
  },
  {
   "cell_type": "code",
   "execution_count": 220,
   "metadata": {
    "executionInfo": {
     "elapsed": 564,
     "status": "ok",
     "timestamp": 1618142252320,
     "user": {
      "displayName": "Róbert Jačko",
      "photoUrl": "",
      "userId": "15811568458173000815"
     },
     "user_tz": -120
    },
    "id": "hWE3ebimyqRC"
   },
   "outputs": [],
   "source": [
    "#graphs, graph_labels = final_graphs, final_graph_labels"
   ]
  },
  {
   "cell_type": "markdown",
   "metadata": {},
   "source": [
    "# Undersampled dataset stats"
   ]
  },
  {
   "cell_type": "code",
   "execution_count": 96,
   "metadata": {},
   "outputs": [
    {
     "name": "stdout",
     "output_type": "stream",
     "text": [
      "StellarGraph: Directed multigraph\n",
      " Nodes: 105, Edges: 164\n",
      "\n",
      " Node types:\n",
      "  default: [105]\n",
      "    Features: float32 vector, length 25\n",
      "    Edge types: default-default->default\n",
      "\n",
      " Edge types:\n",
      "    default-default->default: [164]\n",
      "        Weights: all 1 (default)\n",
      "        Features: none\n"
     ]
    }
   ],
   "source": [
    "print(graphs[0].info())"
   ]
  },
  {
   "cell_type": "code",
   "execution_count": 222,
   "metadata": {},
   "outputs": [
    {
     "name": "stdout",
     "output_type": "stream",
     "text": [
      "StellarGraph: Directed multigraph\n",
      " Nodes: 8, Edges: 7\n",
      "\n",
      " Node types:\n",
      "  default: [8]\n",
      "    Features: float32 vector, length 25\n",
      "    Edge types: default-default->default\n",
      "\n",
      " Edge types:\n",
      "    default-default->default: [7]\n",
      "        Weights: all 1 (default)\n",
      "        Features: none\n"
     ]
    }
   ],
   "source": [
    "print(graphs[1].info())"
   ]
  },
  {
   "cell_type": "code",
   "execution_count": 223,
   "metadata": {},
   "outputs": [
    {
     "data": {
      "text/html": [
       "<div>\n",
       "<style scoped>\n",
       "    .dataframe tbody tr th:only-of-type {\n",
       "        vertical-align: middle;\n",
       "    }\n",
       "\n",
       "    .dataframe tbody tr th {\n",
       "        vertical-align: top;\n",
       "    }\n",
       "\n",
       "    .dataframe thead th {\n",
       "        text-align: right;\n",
       "    }\n",
       "</style>\n",
       "<table border=\"1\" class=\"dataframe\">\n",
       "  <thead>\n",
       "    <tr style=\"text-align: right;\">\n",
       "      <th></th>\n",
       "      <th>label</th>\n",
       "    </tr>\n",
       "  </thead>\n",
       "  <tbody>\n",
       "    <tr>\n",
       "      <th>0</th>\n",
       "      <td>6439</td>\n",
       "    </tr>\n",
       "    <tr>\n",
       "      <th>1</th>\n",
       "      <td>1</td>\n",
       "    </tr>\n",
       "  </tbody>\n",
       "</table>\n",
       "</div>"
      ],
      "text/plain": [
       "   label\n",
       "0   6439\n",
       "1      1"
      ]
     },
     "execution_count": 223,
     "metadata": {},
     "output_type": "execute_result"
    }
   ],
   "source": [
    "graph_labels.value_counts().to_frame()"
   ]
  },
  {
   "cell_type": "code",
   "execution_count": 224,
   "metadata": {},
   "outputs": [
    {
     "data": {
      "text/html": [
       "<div>\n",
       "<style scoped>\n",
       "    .dataframe tbody tr th:only-of-type {\n",
       "        vertical-align: middle;\n",
       "    }\n",
       "\n",
       "    .dataframe tbody tr th {\n",
       "        vertical-align: top;\n",
       "    }\n",
       "\n",
       "    .dataframe thead th {\n",
       "        text-align: right;\n",
       "    }\n",
       "</style>\n",
       "<table border=\"1\" class=\"dataframe\">\n",
       "  <thead>\n",
       "    <tr style=\"text-align: right;\">\n",
       "      <th></th>\n",
       "      <th>nodes</th>\n",
       "      <th>edges</th>\n",
       "    </tr>\n",
       "  </thead>\n",
       "  <tbody>\n",
       "    <tr>\n",
       "      <th>count</th>\n",
       "      <td>6440.0</td>\n",
       "      <td>6440.0</td>\n",
       "    </tr>\n",
       "    <tr>\n",
       "      <th>mean</th>\n",
       "      <td>105.6</td>\n",
       "      <td>174.2</td>\n",
       "    </tr>\n",
       "    <tr>\n",
       "      <th>std</th>\n",
       "      <td>165.5</td>\n",
       "      <td>860.0</td>\n",
       "    </tr>\n",
       "    <tr>\n",
       "      <th>min</th>\n",
       "      <td>5.0</td>\n",
       "      <td>4.0</td>\n",
       "    </tr>\n",
       "    <tr>\n",
       "      <th>25%</th>\n",
       "      <td>29.0</td>\n",
       "      <td>34.0</td>\n",
       "    </tr>\n",
       "    <tr>\n",
       "      <th>50%</th>\n",
       "      <td>60.0</td>\n",
       "      <td>80.0</td>\n",
       "    </tr>\n",
       "    <tr>\n",
       "      <th>75%</th>\n",
       "      <td>121.0</td>\n",
       "      <td>177.0</td>\n",
       "    </tr>\n",
       "    <tr>\n",
       "      <th>max</th>\n",
       "      <td>4025.0</td>\n",
       "      <td>64311.0</td>\n",
       "    </tr>\n",
       "  </tbody>\n",
       "</table>\n",
       "</div>"
      ],
      "text/plain": [
       "        nodes    edges\n",
       "count  6440.0   6440.0\n",
       "mean    105.6    174.2\n",
       "std     165.5    860.0\n",
       "min       5.0      4.0\n",
       "25%      29.0     34.0\n",
       "50%      60.0     80.0\n",
       "75%     121.0    177.0\n",
       "max    4025.0  64311.0"
      ]
     },
     "execution_count": 224,
     "metadata": {},
     "output_type": "execute_result"
    }
   ],
   "source": [
    "summary = pd.DataFrame(\n",
    "    [(g.number_of_nodes(), g.number_of_edges()) for g in graphs],\n",
    "    columns=[\"nodes\", \"edges\"],\n",
    ")\n",
    "summary.describe().round(1)"
   ]
  },
  {
   "cell_type": "markdown",
   "metadata": {},
   "source": [
    "# Prepair generator"
   ]
  },
  {
   "cell_type": "code",
   "execution_count": 126,
   "metadata": {},
   "outputs": [],
   "source": [
    "graph_labels = pd.get_dummies(graph_labels, drop_first=True)"
   ]
  },
  {
   "cell_type": "code",
   "execution_count": 127,
   "metadata": {},
   "outputs": [],
   "source": [
    "from stellargraph.mapper import PaddedGraphGenerator\n",
    "generator = PaddedGraphGenerator(graphs=graphs)"
   ]
  },
  {
   "cell_type": "markdown",
   "metadata": {},
   "source": [
    "# Supervised graph classification with GCN [StellarGraph]"
   ]
  },
  {
   "cell_type": "code",
   "execution_count": 100,
   "metadata": {},
   "outputs": [],
   "source": [
    "from stellargraph.layer import GCNSupervisedGraphClassification\n",
    "\n",
    "from sklearn import model_selection\n",
    "\n",
    "from tensorflow.keras import Model\n",
    "from tensorflow.keras.optimizers import Adam\n",
    "from tensorflow.keras.layers import Dense\n",
    "from tensorflow.keras.losses import binary_crossentropy\n",
    "from tensorflow.keras.callbacks import EarlyStopping\n",
    "import tensorflow as tf\n",
    "import matplotlib.pyplot as plt"
   ]
  },
  {
   "cell_type": "code",
   "execution_count": 101,
   "metadata": {},
   "outputs": [],
   "source": [
    "def create_graph_classification_model(generator):\n",
    "    gc_model = GCNSupervisedGraphClassification(\n",
    "        layer_sizes=[64, 64],\n",
    "        activations=[\"relu\", \"relu\"],\n",
    "        generator=generator,\n",
    "        dropout=0.5,\n",
    "    )\n",
    "    x_inp, x_out = gc_model.in_out_tensors()\n",
    "    predictions = Dense(units=32, activation=\"relu\")(x_out)\n",
    "    predictions = Dense(units=16, activation=\"relu\")(predictions)\n",
    "    predictions = Dense(units=1, activation=\"sigmoid\")(predictions)\n",
    "\n",
    "    model = Model(inputs=x_inp, outputs=predictions)\n",
    "    model.compile(optimizer=Adam(0.005), loss=binary_crossentropy, metrics=[\"acc\"])\n",
    "\n",
    "    return model"
   ]
  },
  {
   "cell_type": "code",
   "execution_count": 102,
   "metadata": {},
   "outputs": [],
   "source": [
    "es = EarlyStopping(\n",
    "    monitor=\"val_loss\", min_delta=0, patience=25, restore_best_weights=True\n",
    ")"
   ]
  },
  {
   "cell_type": "code",
   "execution_count": 103,
   "metadata": {},
   "outputs": [],
   "source": [
    "def get_generators(train_index, test_index, graph_labels, batch_size):\n",
    "    train_gen = generator.flow(\n",
    "        train_index, targets=graph_labels.iloc[train_index].values, batch_size=batch_size\n",
    "    )\n",
    "    test_gen = generator.flow(\n",
    "        test_index, targets=graph_labels.iloc[test_index].values, batch_size=batch_size\n",
    "    )\n",
    "\n",
    "    return train_gen, test_gen"
   ]
  },
  {
   "cell_type": "code",
   "execution_count": 104,
   "metadata": {},
   "outputs": [],
   "source": [
    "train_graphs, test_graphs = model_selection.train_test_split(\n",
    "    graph_labels, train_size=0.9, test_size=None, stratify=graph_labels,\n",
    ")"
   ]
  },
  {
   "cell_type": "code",
   "execution_count": 105,
   "metadata": {},
   "outputs": [],
   "source": [
    "train_gen, test_gen = get_generators(\n",
    "        train_graphs.index, test_graphs.index, graph_labels, batch_size=30\n",
    "    )"
   ]
  },
  {
   "cell_type": "code",
   "execution_count": 106,
   "metadata": {},
   "outputs": [],
   "source": [
    "model = create_graph_classification_model(generator)"
   ]
  },
  {
   "cell_type": "code",
   "execution_count": 107,
   "metadata": {},
   "outputs": [],
   "source": [
    "epochs = 100"
   ]
  },
  {
   "cell_type": "code",
   "execution_count": 108,
   "metadata": {},
   "outputs": [
    {
     "name": "stdout",
     "output_type": "stream",
     "text": [
      "Epoch 1/100\n",
      "45/45 [==============================] - 75s 2s/step - loss: 0.6799 - acc: 0.5283 - val_loss: 0.5359 - val_acc: 0.7467\n",
      "Epoch 2/100\n",
      "45/45 [==============================] - 36s 805ms/step - loss: 0.5270 - acc: 0.7371 - val_loss: 0.5127 - val_acc: 0.7467\n",
      "Epoch 3/100\n",
      "45/45 [==============================] - 29s 659ms/step - loss: 0.5173 - acc: 0.7451 - val_loss: 0.5130 - val_acc: 0.7400\n",
      "Epoch 4/100\n",
      "45/45 [==============================] - 24s 553ms/step - loss: 0.5050 - acc: 0.7671 - val_loss: 0.5110 - val_acc: 0.7600\n",
      "Epoch 5/100\n",
      "45/45 [==============================] - 21s 484ms/step - loss: 0.5085 - acc: 0.7704 - val_loss: 0.5047 - val_acc: 0.7533\n",
      "Epoch 6/100\n",
      "45/45 [==============================] - 16s 370ms/step - loss: 0.4917 - acc: 0.7623 - val_loss: 0.5148 - val_acc: 0.7533\n",
      "Epoch 7/100\n",
      "45/45 [==============================] - 17s 381ms/step - loss: 0.4608 - acc: 0.7896 - val_loss: 0.4978 - val_acc: 0.7533\n",
      "Epoch 8/100\n",
      "45/45 [==============================] - 16s 361ms/step - loss: 0.4644 - acc: 0.7917 - val_loss: 0.4852 - val_acc: 0.7867\n",
      "Epoch 9/100\n",
      "45/45 [==============================] - 17s 384ms/step - loss: 0.4657 - acc: 0.7912 - val_loss: 0.4788 - val_acc: 0.7667\n",
      "Epoch 10/100\n",
      "45/45 [==============================] - 17s 376ms/step - loss: 0.4853 - acc: 0.7648 - val_loss: 0.4994 - val_acc: 0.7667\n",
      "Epoch 11/100\n",
      "45/45 [==============================] - 17s 369ms/step - loss: 0.5014 - acc: 0.7588 - val_loss: 0.4888 - val_acc: 0.7800\n",
      "Epoch 12/100\n",
      "45/45 [==============================] - 15s 326ms/step - loss: 0.4494 - acc: 0.7993 - val_loss: 0.5038 - val_acc: 0.7867\n",
      "Epoch 13/100\n",
      "45/45 [==============================] - 16s 359ms/step - loss: 0.4965 - acc: 0.7920 - val_loss: 0.4690 - val_acc: 0.7933\n",
      "Epoch 14/100\n",
      "45/45 [==============================] - 18s 412ms/step - loss: 0.4694 - acc: 0.8066 - val_loss: 0.4879 - val_acc: 0.7800\n",
      "Epoch 15/100\n",
      "45/45 [==============================] - 15s 331ms/step - loss: 0.4898 - acc: 0.7740 - val_loss: 0.4861 - val_acc: 0.7667\n",
      "Epoch 16/100\n",
      "45/45 [==============================] - 16s 351ms/step - loss: 0.4857 - acc: 0.7773 - val_loss: 0.4702 - val_acc: 0.8000\n",
      "Epoch 17/100\n",
      "45/45 [==============================] - 20s 445ms/step - loss: 0.4723 - acc: 0.7843 - val_loss: 0.4757 - val_acc: 0.8000\n",
      "Epoch 18/100\n",
      "45/45 [==============================] - 16s 365ms/step - loss: 0.4824 - acc: 0.7758 - val_loss: 0.4607 - val_acc: 0.8200\n",
      "Epoch 19/100\n",
      "45/45 [==============================] - 16s 363ms/step - loss: 0.4563 - acc: 0.7968 - val_loss: 0.4792 - val_acc: 0.8067\n",
      "Epoch 20/100\n",
      "45/45 [==============================] - 16s 350ms/step - loss: 0.4869 - acc: 0.7796 - val_loss: 0.4717 - val_acc: 0.8000\n",
      "Epoch 21/100\n",
      "45/45 [==============================] - 16s 352ms/step - loss: 0.5013 - acc: 0.7554 - val_loss: 0.5062 - val_acc: 0.7733\n",
      "Epoch 22/100\n",
      "45/45 [==============================] - 16s 352ms/step - loss: 0.4976 - acc: 0.7598 - val_loss: 0.4783 - val_acc: 0.7800\n",
      "Epoch 23/100\n",
      "45/45 [==============================] - 16s 355ms/step - loss: 0.4474 - acc: 0.8054 - val_loss: 0.4619 - val_acc: 0.8067\n",
      "Epoch 24/100\n",
      "45/45 [==============================] - 15s 343ms/step - loss: 0.4799 - acc: 0.7702 - val_loss: 0.4726 - val_acc: 0.7867\n",
      "Epoch 25/100\n",
      "45/45 [==============================] - 17s 376ms/step - loss: 0.4564 - acc: 0.8027 - val_loss: 0.4727 - val_acc: 0.8000\n",
      "Epoch 26/100\n",
      "45/45 [==============================] - 16s 351ms/step - loss: 0.4518 - acc: 0.8051 - val_loss: 0.4743 - val_acc: 0.8000\n",
      "Epoch 27/100\n",
      "45/45 [==============================] - 15s 348ms/step - loss: 0.4422 - acc: 0.8150 - val_loss: 0.4636 - val_acc: 0.8133\n",
      "Epoch 28/100\n",
      "45/45 [==============================] - 16s 352ms/step - loss: 0.4907 - acc: 0.7738 - val_loss: 0.4653 - val_acc: 0.8000\n",
      "Epoch 29/100\n",
      "45/45 [==============================] - 18s 393ms/step - loss: 0.4534 - acc: 0.7959 - val_loss: 0.4815 - val_acc: 0.7867\n",
      "Epoch 30/100\n",
      "45/45 [==============================] - 16s 359ms/step - loss: 0.4767 - acc: 0.7815 - val_loss: 0.4778 - val_acc: 0.7933\n",
      "Epoch 31/100\n",
      "45/45 [==============================] - 17s 376ms/step - loss: 0.4827 - acc: 0.7724 - val_loss: 0.4900 - val_acc: 0.7600\n",
      "Epoch 32/100\n",
      "45/45 [==============================] - 16s 351ms/step - loss: 0.4714 - acc: 0.7759 - val_loss: 0.4573 - val_acc: 0.8067\n",
      "Epoch 33/100\n",
      "45/45 [==============================] - 18s 399ms/step - loss: 0.4534 - acc: 0.7906 - val_loss: 0.4649 - val_acc: 0.8133\n",
      "Epoch 34/100\n",
      "45/45 [==============================] - 17s 390ms/step - loss: 0.4637 - acc: 0.7869 - val_loss: 0.4711 - val_acc: 0.8067\n",
      "Epoch 35/100\n",
      "45/45 [==============================] - 18s 406ms/step - loss: 0.4599 - acc: 0.7950 - val_loss: 0.4674 - val_acc: 0.8067\n",
      "Epoch 36/100\n",
      "45/45 [==============================] - 19s 432ms/step - loss: 0.4590 - acc: 0.7893 - val_loss: 0.4711 - val_acc: 0.8200\n",
      "Epoch 37/100\n",
      "45/45 [==============================] - 19s 436ms/step - loss: 0.4670 - acc: 0.7722 - val_loss: 0.4894 - val_acc: 0.8067\n",
      "Epoch 38/100\n",
      "45/45 [==============================] - 18s 394ms/step - loss: 0.4645 - acc: 0.7979 - val_loss: 0.4570 - val_acc: 0.8133\n",
      "Epoch 39/100\n",
      "45/45 [==============================] - 19s 429ms/step - loss: 0.4688 - acc: 0.7788 - val_loss: 0.4947 - val_acc: 0.7667\n",
      "Epoch 40/100\n",
      "45/45 [==============================] - 18s 392ms/step - loss: 0.4625 - acc: 0.7857 - val_loss: 0.4723 - val_acc: 0.8000\n",
      "Epoch 41/100\n",
      "45/45 [==============================] - 18s 395ms/step - loss: 0.4653 - acc: 0.7759 - val_loss: 0.4988 - val_acc: 0.7333\n",
      "Epoch 42/100\n",
      "45/45 [==============================] - 16s 368ms/step - loss: 0.4406 - acc: 0.8027 - val_loss: 0.4881 - val_acc: 0.7733\n",
      "Epoch 43/100\n",
      "45/45 [==============================] - 19s 424ms/step - loss: 0.4337 - acc: 0.8096 - val_loss: 0.4915 - val_acc: 0.7600\n",
      "Epoch 44/100\n",
      "45/45 [==============================] - 17s 381ms/step - loss: 0.4837 - acc: 0.7769 - val_loss: 0.4636 - val_acc: 0.8267\n",
      "Epoch 45/100\n",
      "45/45 [==============================] - 17s 381ms/step - loss: 0.4718 - acc: 0.7816 - val_loss: 0.4722 - val_acc: 0.8000\n",
      "Epoch 46/100\n",
      "45/45 [==============================] - 20s 443ms/step - loss: 0.4393 - acc: 0.8081 - val_loss: 0.4883 - val_acc: 0.7800\n",
      "Epoch 47/100\n",
      "45/45 [==============================] - 18s 414ms/step - loss: 0.4771 - acc: 0.7796 - val_loss: 0.4877 - val_acc: 0.7733\n",
      "Epoch 48/100\n",
      "45/45 [==============================] - 20s 449ms/step - loss: 0.4467 - acc: 0.8010 - val_loss: 0.4742 - val_acc: 0.8067\n",
      "Epoch 49/100\n",
      "45/45 [==============================] - 17s 379ms/step - loss: 0.4702 - acc: 0.7915 - val_loss: 0.4785 - val_acc: 0.8000\n",
      "Epoch 50/100\n",
      "45/45 [==============================] - 20s 445ms/step - loss: 0.4312 - acc: 0.8005 - val_loss: 0.4972 - val_acc: 0.7867\n",
      "Epoch 51/100\n",
      "45/45 [==============================] - 20s 455ms/step - loss: 0.4616 - acc: 0.7736 - val_loss: 0.4858 - val_acc: 0.7800\n",
      "Epoch 52/100\n",
      "45/45 [==============================] - 17s 389ms/step - loss: 0.4383 - acc: 0.8044 - val_loss: 0.4808 - val_acc: 0.8067\n",
      "Epoch 53/100\n",
      "45/45 [==============================] - 17s 382ms/step - loss: 0.4856 - acc: 0.7612 - val_loss: 0.4779 - val_acc: 0.7867\n",
      "Epoch 54/100\n",
      "45/45 [==============================] - 18s 412ms/step - loss: 0.4860 - acc: 0.7697 - val_loss: 0.4731 - val_acc: 0.7933\n",
      "Epoch 55/100\n",
      "45/45 [==============================] - 17s 377ms/step - loss: 0.4649 - acc: 0.7786 - val_loss: 0.4695 - val_acc: 0.8000\n",
      "Epoch 56/100\n",
      "45/45 [==============================] - 16s 372ms/step - loss: 0.4212 - acc: 0.8061 - val_loss: 0.4887 - val_acc: 0.7733\n",
      "Epoch 57/100\n",
      "45/45 [==============================] - 18s 409ms/step - loss: 0.4701 - acc: 0.7815 - val_loss: 0.4802 - val_acc: 0.7667\n",
      "Epoch 58/100\n",
      "45/45 [==============================] - 19s 422ms/step - loss: 0.4467 - acc: 0.7950 - val_loss: 0.4744 - val_acc: 0.7867\n",
      "Epoch 59/100\n",
      "45/45 [==============================] - 19s 419ms/step - loss: 0.4509 - acc: 0.7934 - val_loss: 0.4864 - val_acc: 0.7933\n",
      "Epoch 60/100\n",
      "45/45 [==============================] - 18s 409ms/step - loss: 0.4594 - acc: 0.7850 - val_loss: 0.4920 - val_acc: 0.7667\n",
      "Epoch 61/100\n",
      "45/45 [==============================] - 17s 383ms/step - loss: 0.4405 - acc: 0.8047 - val_loss: 0.4681 - val_acc: 0.8067\n",
      "Epoch 62/100\n",
      "45/45 [==============================] - 19s 420ms/step - loss: 0.4431 - acc: 0.7962 - val_loss: 0.4633 - val_acc: 0.8200\n",
      "Epoch 63/100\n",
      "45/45 [==============================] - 17s 383ms/step - loss: 0.4452 - acc: 0.8010 - val_loss: 0.4925 - val_acc: 0.7800\n"
     ]
    }
   ],
   "source": [
    "history = model.fit(\n",
    "        train_gen, epochs=epochs, validation_data=test_gen, verbose=1, callbacks=[es],\n",
    "    )\n",
    "\n",
    "test_metrics = model.evaluate(test_gen, verbose=0)\n",
    "test_acc = test_metrics[model.metrics_names.index(\"acc\")]"
   ]
  },
  {
   "cell_type": "code",
   "execution_count": 110,
   "metadata": {},
   "outputs": [
    {
     "data": {
      "image/png": "[encoded data removed]",
      "text/plain": [
       "<Figure size 504x576 with 2 Axes>"
      ]
     },
     "metadata": {
      "needs_background": "light"
     },
     "output_type": "display_data"
    }
   ],
   "source": [
    "sg.utils.plot_history(history)"
   ]
  },
  {
   "cell_type": "code",
   "execution_count": 111,
   "metadata": {},
   "outputs": [
    {
     "name": "stdout",
     "output_type": "stream",
     "text": [
      "0.8133333325386047\n"
     ]
    }
   ],
   "source": [
    "print(test_acc)"
   ]
  },
  {
   "cell_type": "markdown",
   "metadata": {},
   "source": [
    "# Evaluate on test sample"
   ]
  },
  {
   "cell_type": "code",
   "execution_count": 128,
   "metadata": {},
   "outputs": [],
   "source": [
    "test_gen = generator.flow(\n",
    "        np.arange(0, graph_labels.size), targets=graph_labels.values, batch_size=1\n",
    "    )"
   ]
  },
  {
   "cell_type": "code",
   "execution_count": 129,
   "metadata": {},
   "outputs": [
    {
     "name": "stdout",
     "output_type": "stream",
     "text": [
      "7187/7187 [==============================] - 15s 2ms/step - loss: 0.3909 - acc: 0.8881\n",
      "\n",
      "Test Set Metrics:\n",
      "\tloss: 0.3909\n",
      "\tacc: 0.8881\n"
     ]
    }
   ],
   "source": [
    "test_metrics = model.evaluate(test_gen)\n",
    "print(\"\\nTest Set Metrics:\")\n",
    "for name, val in zip(model.metrics_names, test_metrics):\n",
    "    print(\"\\t{}: {:0.4f}\".format(name, val))"
   ]
  },
  {
   "cell_type": "markdown",
   "metadata": {},
   "source": [
    "# Save model to local storage"
   ]
  },
  {
   "cell_type": "code",
   "execution_count": 131,
   "metadata": {},
   "outputs": [
    {
     "name": "stdout",
     "output_type": "stream",
     "text": [
      "INFO:tensorflow:Assets written to: model/assets\n"
     ]
    }
   ],
   "source": [
    "model.save('model')"
   ]
  },
  {
   "cell_type": "markdown",
   "metadata": {
    "id": "6I6csNRwb4yj"
   },
   "source": [
    "# Hidden"
   ]
  },
  {
   "cell_type": "code",
   "execution_count": 3,
   "metadata": {
    "id": "-XBlIB8aoBkw"
   },
   "outputs": [],
   "source": [
    "uniquelist = []\n",
    "for d in graphsRaw:\n",
    "    curr_list = d['nodes']['type'].unique()\n",
    "    uniquelist += list(set(curr_list) - set(uniquelist))"
   ]
  },
  {
   "cell_type": "code",
   "execution_count": 4,
   "metadata": {
    "id": "VsoPcB4xv3Py"
   },
   "outputs": [
    {
     "name": "stdout",
     "output_type": "stream",
     "text": [
      "36\n",
      "['function container', 'statement:if', 'local variable', 'blank lines', 'variable container', 'statement:genericfor', 'statement:keyword', 'statement:localassign', 'module', 'statement:assign', 'interface', 'file', 'interface container', 'require container', 'global variable', 'statement:while', 'n/a', 'statement:functioncall', 'global function', 'tableconstructor', 'function', 'table assign node', 'require local variable', 'string', 'statement:numericfor', 'number', 'statement:localfunction', '_simpleexp', 'statement:globalfunction', 'keyword', 'symbol', 'statement:repeat', 'unop', 'boolean', '_prefixexp', 'statement:do']\n"
     ]
    }
   ],
   "source": [
    "print(len(uniquelist))\n",
    "print(uniquelist)"
   ]
  },
  {
   "cell_type": "markdown",
   "metadata": {
    "id": "aRj0HCRwBaew"
   },
   "source": [
    "# Visualize graphs"
   ]
  },
  {
   "cell_type": "code",
   "execution_count": null,
   "metadata": {
    "id": "j-_h0Z_Y_3g-"
   },
   "outputs": [],
   "source": [
    "from graphviz import Digraph\n",
    "\n",
    "for _, d in enumerate(data):\n",
    "  nodes_data = data[623]['nodes']\n",
    "  edges_data = data[623]['edges']\n",
    "\n",
    "  dot = Digraph(format='png')\n",
    "  for index, row in nodes_data.iterrows():\n",
    "    dot.node(str(row.id), str(row['type']), shape='box') # + '\\n' + str(row.text)\n",
    "  for index, row in edges_data.iterrows():\n",
    "    dot.edge(str(row['from']), str(row['to'])) #, label=row['label']\n",
    "  dot.render('graphVisualizations/' + data[623]['filename'])\n",
    "  # TODO\n",
    "  if _ >= 0:\n",
    "    break "
   ]
  }
 ],
 "metadata": {
  "colab": {
   "authorship_tag": "ABX9TyMW/6WLUiCZmdSHzUTgjtD5",
   "collapsed_sections": [],
   "mount_file_id": "1ghqp0ozbvYngfuZnMTHUNbn4N3wicmLY",
   "name": "BPprojekt.ipynb",
   "provenance": [],
   "toc_visible": true
  },
  "kernelspec": {
   "display_name": "Python 3",
   "language": "python",
   "name": "python3"
  },
  "language_info": {
   "codemirror_mode": {
    "name": "ipython",
    "version": 3
   },
   "file_extension": ".py",
   "mimetype": "text/x-python",
   "name": "python",
   "nbconvert_exporter": "python",
   "pygments_lexer": "ipython3",
   "version": "3.8.8"
  },
  "widgets": {
   "application/vnd.jupyter.widget-state+json": {
    "15885d8b533f4ac78900e6b7a161f2bb": {
     "model_module": "@jupyter-widgets/controls",
     "model_name": "HTMLModel",
     "state": {
      "_dom_classes": [],
      "_model_module": "@jupyter-widgets/controls",
      "_model_module_version": "1.5.0",
      "_model_name": "HTMLModel",
      "_view_count": null,
      "_view_module": "@jupyter-widgets/controls",
      "_view_module_version": "1.5.0",
      "_view_name": "HTMLView",
      "description": "",
      "description_tooltip": null,
      "layout": "IPY_MODEL_3bdcfa533f6a423ab810910410e4f4e8",
      "placeholder": "​",
      "style": "IPY_MODEL_f840a18c31ed44cfbba779a94586ebec",
      "value": " 815/815 [38:04&lt;00:00,  2.80s/it]"
     }
    },
    "162bd196dd004a1bb543c5d470dc2828": {
     "model_module": "@jupyter-widgets/controls",
     "model_name": "FloatProgressModel",
     "state": {
      "_dom_classes": [],
      "_model_module": "@jupyter-widgets/controls",
      "_model_module_version": "1.5.0",
      "_model_name": "FloatProgressModel",
      "_view_count": null,
      "_view_module": "@jupyter-widgets/controls",
      "_view_module_version": "1.5.0",
      "_view_name": "ProgressView",
      "bar_style": "success",
      "description": "Dataset loading: 100%",
      "description_tooltip": null,
      "layout": "IPY_MODEL_dbc8f281cdd043c795ea0cb458f5b30f",
      "max": 815,
      "min": 0,
      "orientation": "horizontal",
      "style": "IPY_MODEL_a2ace461f6a046ddb5d63eef280929bc",
      "value": 815
     }
    },
    "3249d8ec6d5e450abe2178bee0a899a2": {
     "model_module": "@jupyter-widgets/base",
     "model_name": "LayoutModel",
     "state": {
      "_model_module": "@jupyter-widgets/base",
      "_model_module_version": "1.2.0",
      "_model_name": "LayoutModel",
      "_view_count": null,
      "_view_module": "@jupyter-widgets/base",
      "_view_module_version": "1.2.0",
      "_view_name": "LayoutView",
      "align_content": null,
      "align_items": null,
      "align_self": null,
      "border": null,
      "bottom": null,
      "display": null,
      "flex": null,
      "flex_flow": null,
      "grid_area": null,
      "grid_auto_columns": null,
      "grid_auto_flow": null,
      "grid_auto_rows": null,
      "grid_column": null,
      "grid_gap": null,
      "grid_row": null,
      "grid_template_areas": null,
      "grid_template_columns": null,
      "grid_template_rows": null,
      "height": null,
      "justify_content": null,
      "justify_items": null,
      "left": null,
      "margin": null,
      "max_height": null,
      "max_width": null,
      "min_height": null,
      "min_width": null,
      "object_fit": null,
      "object_position": null,
      "order": null,
      "overflow": null,
      "overflow_x": null,
      "overflow_y": null,
      "padding": null,
      "right": null,
      "top": null,
      "visibility": null,
      "width": null
     }
    },
    "3bdcfa533f6a423ab810910410e4f4e8": {
     "model_module": "@jupyter-widgets/base",
     "model_name": "LayoutModel",
     "state": {
      "_model_module": "@jupyter-widgets/base",
      "_model_module_version": "1.2.0",
      "_model_name": "LayoutModel",
      "_view_count": null,
      "_view_module": "@jupyter-widgets/base",
      "_view_module_version": "1.2.0",
      "_view_name": "LayoutView",
      "align_content": null,
      "align_items": null,
      "align_self": null,
      "border": null,
      "bottom": null,
      "display": null,
      "flex": null,
      "flex_flow": null,
      "grid_area": null,
      "grid_auto_columns": null,
      "grid_auto_flow": null,
      "grid_auto_rows": null,
      "grid_column": null,
      "grid_gap": null,
      "grid_row": null,
      "grid_template_areas": null,
      "grid_template_columns": null,
      "grid_template_rows": null,
      "height": null,
      "justify_content": null,
      "justify_items": null,
      "left": null,
      "margin": null,
      "max_height": null,
      "max_width": null,
      "min_height": null,
      "min_width": null,
      "object_fit": null,
      "object_position": null,
      "order": null,
      "overflow": null,
      "overflow_x": null,
      "overflow_y": null,
      "padding": null,
      "right": null,
      "top": null,
      "visibility": null,
      "width": null
     }
    },
    "a2ace461f6a046ddb5d63eef280929bc": {
     "model_module": "@jupyter-widgets/controls",
     "model_name": "ProgressStyleModel",
     "state": {
      "_model_module": "@jupyter-widgets/controls",
      "_model_module_version": "1.5.0",
      "_model_name": "ProgressStyleModel",
      "_view_count": null,
      "_view_module": "@jupyter-widgets/base",
      "_view_module_version": "1.2.0",
      "_view_name": "StyleView",
      "bar_color": null,
      "description_width": "initial"
     }
    },
    "d0212312301f4edb9a05cd0de57ab5a1": {
     "model_module": "@jupyter-widgets/controls",
     "model_name": "HBoxModel",
     "state": {
      "_dom_classes": [],
      "_model_module": "@jupyter-widgets/controls",
      "_model_module_version": "1.5.0",
      "_model_name": "HBoxModel",
      "_view_count": null,
      "_view_module": "@jupyter-widgets/controls",
      "_view_module_version": "1.5.0",
      "_view_name": "HBoxView",
      "box_style": "",
      "children": [
       "IPY_MODEL_162bd196dd004a1bb543c5d470dc2828",
       "IPY_MODEL_15885d8b533f4ac78900e6b7a161f2bb"
      ],
      "layout": "IPY_MODEL_3249d8ec6d5e450abe2178bee0a899a2"
     }
    },
    "dbc8f281cdd043c795ea0cb458f5b30f": {
     "model_module": "@jupyter-widgets/base",
     "model_name": "LayoutModel",
     "state": {
      "_model_module": "@jupyter-widgets/base",
      "_model_module_version": "1.2.0",
      "_model_name": "LayoutModel",
      "_view_count": null,
      "_view_module": "@jupyter-widgets/base",
      "_view_module_version": "1.2.0",
      "_view_name": "LayoutView",
      "align_content": null,
      "align_items": null,
      "align_self": null,
      "border": null,
      "bottom": null,
      "display": null,
      "flex": null,
      "flex_flow": null,
      "grid_area": null,
      "grid_auto_columns": null,
      "grid_auto_flow": null,
      "grid_auto_rows": null,
      "grid_column": null,
      "grid_gap": null,
      "grid_row": null,
      "grid_template_areas": null,
      "grid_template_columns": null,
      "grid_template_rows": null,
      "height": null,
      "justify_content": null,
      "justify_items": null,
      "left": null,
      "margin": null,
      "max_height": null,
      "max_width": null,
      "min_height": null,
      "min_width": null,
      "object_fit": null,
      "object_position": null,
      "order": null,
      "overflow": null,
      "overflow_x": null,
      "overflow_y": null,
      "padding": null,
      "right": null,
      "top": null,
      "visibility": null,
      "width": null
     }
    },
    "f840a18c31ed44cfbba779a94586ebec": {
     "model_module": "@jupyter-widgets/controls",
     "model_name": "DescriptionStyleModel",
     "state": {
      "_model_module": "@jupyter-widgets/controls",
      "_model_module_version": "1.5.0",
      "_model_name": "DescriptionStyleModel",
      "_view_count": null,
      "_view_module": "@jupyter-widgets/base",
      "_view_module_version": "1.2.0",
      "_view_name": "StyleView",
      "description_width": ""
     }
    }
   }
  }
 },
 "nbformat": 4,
 "nbformat_minor": 4
}
