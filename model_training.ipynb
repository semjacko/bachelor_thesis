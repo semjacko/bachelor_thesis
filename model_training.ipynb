{
 "cells": [
  {
   "cell_type": "markdown",
   "metadata": {
    "id": "EyLk3ZD-mw3G"
   },
   "source": [
    "# Install StellarGraph\n"
   ]
  },
  {
   "cell_type": "code",
   "execution_count": null,
   "metadata": {
    "id": "ZMbdz_h4HFHI"
   },
   "outputs": [],
   "source": [
    "!pip install stellargraph"
   ]
  },
  {
   "cell_type": "code",
   "execution_count": 1,
   "metadata": {
    "executionInfo": {
     "elapsed": 1298,
     "status": "ok",
     "timestamp": 1618142594482,
     "user": {
      "displayName": "Róbert Jačko",
      "photoUrl": "",
      "userId": "15811568458173000815"
     },
     "user_tz": -120
    },
    "id": "PVlkSS-Kmud-"
   },
   "outputs": [],
   "source": [
    "# verify that we're using the correct version of StellarGraph for this notebook\n",
    "import stellargraph as sg\n",
    "\n",
    "try:\n",
    "    sg.utils.validate_notebook_version(\"1.2.1\")\n",
    "except AttributeError:\n",
    "    raise ValueError(\n",
    "        f\"This notebook requires StellarGraph version 1.2.1, but a different version {sg.__version__} is installed.  Please see <https://github.com/stellargraph/stellargraph/issues/1172>.\"\n",
    "    ) from None"
   ]
  },
  {
   "cell_type": "markdown",
   "metadata": {
    "id": "1amfDVqIto9n"
   },
   "source": [
    "# Read JSON files\n",
    "\n",
    "do premennej `graphsRaw` sa nacitaju vsetky grafy z datasetu\n",
    "\n",
    "`graphsRaw`:\n",
    "  - `filename`: nazov .lua suboru z ktoreho je vytvoreny\n",
    "  - `isTest`: 1 ak je to \"testovaci\" subor, inak 0\n",
    "  - `isSpec`: 1 ak je to testovaci subor, inak 0\n",
    "  - `nodes`: DataFrame(columns=\\['id', 'type'\\])\n",
    "  - `edges`: DataFrame(columns=\\['from', 'to'\\])\n",
    "\n"
   ]
  },
  {
   "cell_type": "code",
   "execution_count": 2,
   "metadata": {
    "colab": {
     "base_uri": "https://localhost:8080/",
     "height": 102,
     "referenced_widgets": [
      "d0212312301f4edb9a05cd0de57ab5a1",
      "3249d8ec6d5e450abe2178bee0a899a2",
      "162bd196dd004a1bb543c5d470dc2828",
      "15885d8b533f4ac78900e6b7a161f2bb",
      "a2ace461f6a046ddb5d63eef280929bc",
      "dbc8f281cdd043c795ea0cb458f5b30f",
      "f840a18c31ed44cfbba779a94586ebec",
      "3bdcfa533f6a423ab810910410e4f4e8"
     ]
    },
    "executionInfo": {
     "elapsed": 1121229,
     "status": "ok",
     "timestamp": 1618140077216,
     "user": {
      "displayName": "Róbert Jačko",
      "photoUrl": "",
      "userId": "15811568458173000815"
     },
     "user_tz": -120
    },
    "id": "MrVVg61b_wx9",
    "outputId": "8944ca81-3fa4-4ae0-fc6f-5e78face3737"
   },
   "outputs": [
    {
     "data": {
      "application/vnd.jupyter.widget-view+json": {
       "model_id": "0bcd7577d51e491687b4e0e6a3e3da6b",
       "version_major": 2,
       "version_minor": 0
      },
      "text/plain": [
       "Dataset loading:   0%|          | 0/1515 [00:00<?, ?it/s]"
      ]
     },
     "metadata": {},
     "output_type": "display_data"
    },
    {
     "name": "stdout",
     "output_type": "stream",
     "text": [
      "Wrong json file: ../data/lua-path/test_wcs.lua.json\n",
      "Wrong json file: ../data/pop3/test-message.lua.json\n",
      "Wrong json file: ../data/rkeys/rkeys.lua.json\n",
      "Wrong json file: ../data/stacktraceplus/StackTracePlus.lua.json\n"
     ]
    }
   ],
   "source": [
    "import os\n",
    "import pandas as pd\n",
    "import json\n",
    "from tqdm.notebook import tnrange # loading bar\n",
    "\n",
    "dataPath = '../data'\n",
    "graphsRaw = []\n",
    "dirs = os.listdir(dataPath)\n",
    "nDirs = len(dirs)\n",
    "\n",
    "for i in tnrange(nDirs, desc='Dataset loading'):\n",
    "    dirname = dirs[i]\n",
    "    dirPath = dataPath + '/' + dirname\n",
    "    for filename in os.listdir(dirPath):\n",
    "        json_file = dirPath + '/' + filename\n",
    "        with open(json_file) as jf:\n",
    "            graph = {}\n",
    "            try:\n",
    "                jsonData = json.load(jf)\n",
    "                graph['filename'] = jsonData['_filename']\n",
    "                graph['isTest'] = int(jsonData['_isTest'])\n",
    "                graph['isSpec'] = int(jsonData['_isSpec'])\n",
    "                graph['nodes'] = pd.DataFrame(jsonData['nodes'], columns=['id', 'type'])\n",
    "                graph['nodes'] = graph['nodes'].set_index('id')\n",
    "                graph['edges'] = pd.DataFrame(jsonData['edges'], columns=['from', 'to'])\n",
    "                graphsRaw.append(graph)\n",
    "            except:\n",
    "                print(f'Wrong json file: {json_file}')"
   ]
  },
  {
   "cell_type": "markdown",
   "metadata": {
    "id": "kWTkf36Ws1Gg"
   },
   "source": [
    "# OneHot\n",
    "\n",
    "kazdemu grafu z `graphsRaw` sa prida atribut `encNodeTypes` (OneHot kodovanie typov uzlov)\n",
    "- `encNodeTypes` je DataFrame OneHot kodovani pre vsetky uzly v danom grafe\n",
    "- **typy uzlov**: *\\['require container', 'function', 'local variable', 'file', 'tableconstructor', 'module', 'statement:keyword', 'variable container', 'statement:numericfor', 'statement:genericfor', 'statement:if', 'global function', 'statement:functioncall', 'statement:assign', 'function container', 'statement:localassign', 'global variable', 'statement:globalfunction', 'statement:while', 'statement:localfunction', 'interface container', 'interface', 'require local variable', 'statement:do', 'statement:repeat'\\]*\n",
    "- ostatne typy uzlov sa ignoruju"
   ]
  },
  {
   "cell_type": "code",
   "execution_count": 3,
   "metadata": {
    "executionInfo": {
     "elapsed": 4894,
     "status": "ok",
     "timestamp": 1618141244142,
     "user": {
      "displayName": "Róbert Jačko",
      "photoUrl": "",
      "userId": "15811568458173000815"
     },
     "user_tz": -120
    },
    "id": "YAutjsD6s0Ei"
   },
   "outputs": [],
   "source": [
    "from sklearn.preprocessing import OneHotEncoder\n",
    "import numpy as np\n",
    "\n",
    "ntypes = ['require container', 'function', 'local variable', 'file', \n",
    "          'tableconstructor', 'module', 'statement:keyword', \n",
    "          'variable container', 'statement:numericfor', 'statement:genericfor', \n",
    "          'statement:if', 'global function', 'statement:functioncall', \n",
    "          'statement:assign', 'function container', 'statement:localassign', \n",
    "          'global variable', 'statement:globalfunction', 'statement:while', \n",
    "          'statement:localfunction', 'interface container', 'interface', \n",
    "          'require local variable', 'statement:do', 'statement:repeat']\n",
    "\n",
    "enc = OneHotEncoder(handle_unknown='ignore')\n",
    "X = np.array(ntypes).reshape(-1,1)\n",
    "enc.fit(X)\n",
    "\n",
    "# encode all NodeTypes in graph\n",
    "for gr in graphsRaw:\n",
    "    encoded = enc.transform(gr['nodes']['type'].values.reshape(-1,1))\n",
    "    gr['encNodeTypes'] = pd.DataFrame(encoded.toarray())"
   ]
  },
  {
   "cell_type": "code",
   "execution_count": 4,
   "metadata": {},
   "outputs": [
    {
     "data": {
      "text/html": [
       "<div>\n",
       "<style scoped>\n",
       "    .dataframe tbody tr th:only-of-type {\n",
       "        vertical-align: middle;\n",
       "    }\n",
       "\n",
       "    .dataframe tbody tr th {\n",
       "        vertical-align: top;\n",
       "    }\n",
       "\n",
       "    .dataframe thead th {\n",
       "        text-align: right;\n",
       "    }\n",
       "</style>\n",
       "<table border=\"1\" class=\"dataframe\">\n",
       "  <thead>\n",
       "    <tr style=\"text-align: right;\">\n",
       "      <th></th>\n",
       "      <th>0</th>\n",
       "      <th>1</th>\n",
       "      <th>2</th>\n",
       "      <th>3</th>\n",
       "      <th>4</th>\n",
       "      <th>5</th>\n",
       "      <th>6</th>\n",
       "      <th>7</th>\n",
       "      <th>8</th>\n",
       "      <th>9</th>\n",
       "      <th>...</th>\n",
       "      <th>15</th>\n",
       "      <th>16</th>\n",
       "      <th>17</th>\n",
       "      <th>18</th>\n",
       "      <th>19</th>\n",
       "      <th>20</th>\n",
       "      <th>21</th>\n",
       "      <th>22</th>\n",
       "      <th>23</th>\n",
       "      <th>24</th>\n",
       "    </tr>\n",
       "  </thead>\n",
       "  <tbody>\n",
       "    <tr>\n",
       "      <th>0</th>\n",
       "      <td>1.0</td>\n",
       "      <td>0.0</td>\n",
       "      <td>0.0</td>\n",
       "      <td>0.0</td>\n",
       "      <td>0.0</td>\n",
       "      <td>0.0</td>\n",
       "      <td>0.0</td>\n",
       "      <td>0.0</td>\n",
       "      <td>0.0</td>\n",
       "      <td>0.0</td>\n",
       "      <td>...</td>\n",
       "      <td>0.0</td>\n",
       "      <td>0.0</td>\n",
       "      <td>0.0</td>\n",
       "      <td>0.0</td>\n",
       "      <td>0.0</td>\n",
       "      <td>0.0</td>\n",
       "      <td>0.0</td>\n",
       "      <td>0.0</td>\n",
       "      <td>0.0</td>\n",
       "      <td>0.0</td>\n",
       "    </tr>\n",
       "    <tr>\n",
       "      <th>1</th>\n",
       "      <td>0.0</td>\n",
       "      <td>0.0</td>\n",
       "      <td>0.0</td>\n",
       "      <td>0.0</td>\n",
       "      <td>0.0</td>\n",
       "      <td>0.0</td>\n",
       "      <td>0.0</td>\n",
       "      <td>0.0</td>\n",
       "      <td>1.0</td>\n",
       "      <td>0.0</td>\n",
       "      <td>...</td>\n",
       "      <td>0.0</td>\n",
       "      <td>0.0</td>\n",
       "      <td>0.0</td>\n",
       "      <td>0.0</td>\n",
       "      <td>0.0</td>\n",
       "      <td>0.0</td>\n",
       "      <td>0.0</td>\n",
       "      <td>0.0</td>\n",
       "      <td>0.0</td>\n",
       "      <td>0.0</td>\n",
       "    </tr>\n",
       "    <tr>\n",
       "      <th>2</th>\n",
       "      <td>0.0</td>\n",
       "      <td>1.0</td>\n",
       "      <td>0.0</td>\n",
       "      <td>0.0</td>\n",
       "      <td>0.0</td>\n",
       "      <td>0.0</td>\n",
       "      <td>0.0</td>\n",
       "      <td>0.0</td>\n",
       "      <td>0.0</td>\n",
       "      <td>0.0</td>\n",
       "      <td>...</td>\n",
       "      <td>0.0</td>\n",
       "      <td>0.0</td>\n",
       "      <td>0.0</td>\n",
       "      <td>0.0</td>\n",
       "      <td>0.0</td>\n",
       "      <td>0.0</td>\n",
       "      <td>0.0</td>\n",
       "      <td>0.0</td>\n",
       "      <td>0.0</td>\n",
       "      <td>0.0</td>\n",
       "    </tr>\n",
       "    <tr>\n",
       "      <th>3</th>\n",
       "      <td>0.0</td>\n",
       "      <td>0.0</td>\n",
       "      <td>0.0</td>\n",
       "      <td>0.0</td>\n",
       "      <td>0.0</td>\n",
       "      <td>0.0</td>\n",
       "      <td>0.0</td>\n",
       "      <td>0.0</td>\n",
       "      <td>0.0</td>\n",
       "      <td>0.0</td>\n",
       "      <td>...</td>\n",
       "      <td>0.0</td>\n",
       "      <td>0.0</td>\n",
       "      <td>0.0</td>\n",
       "      <td>0.0</td>\n",
       "      <td>0.0</td>\n",
       "      <td>0.0</td>\n",
       "      <td>0.0</td>\n",
       "      <td>0.0</td>\n",
       "      <td>0.0</td>\n",
       "      <td>0.0</td>\n",
       "    </tr>\n",
       "    <tr>\n",
       "      <th>4</th>\n",
       "      <td>0.0</td>\n",
       "      <td>1.0</td>\n",
       "      <td>0.0</td>\n",
       "      <td>0.0</td>\n",
       "      <td>0.0</td>\n",
       "      <td>0.0</td>\n",
       "      <td>0.0</td>\n",
       "      <td>0.0</td>\n",
       "      <td>0.0</td>\n",
       "      <td>0.0</td>\n",
       "      <td>...</td>\n",
       "      <td>0.0</td>\n",
       "      <td>0.0</td>\n",
       "      <td>0.0</td>\n",
       "      <td>0.0</td>\n",
       "      <td>0.0</td>\n",
       "      <td>0.0</td>\n",
       "      <td>0.0</td>\n",
       "      <td>0.0</td>\n",
       "      <td>0.0</td>\n",
       "      <td>0.0</td>\n",
       "    </tr>\n",
       "    <tr>\n",
       "      <th>...</th>\n",
       "      <td>...</td>\n",
       "      <td>...</td>\n",
       "      <td>...</td>\n",
       "      <td>...</td>\n",
       "      <td>...</td>\n",
       "      <td>...</td>\n",
       "      <td>...</td>\n",
       "      <td>...</td>\n",
       "      <td>...</td>\n",
       "      <td>...</td>\n",
       "      <td>...</td>\n",
       "      <td>...</td>\n",
       "      <td>...</td>\n",
       "      <td>...</td>\n",
       "      <td>...</td>\n",
       "      <td>...</td>\n",
       "      <td>...</td>\n",
       "      <td>...</td>\n",
       "      <td>...</td>\n",
       "      <td>...</td>\n",
       "      <td>...</td>\n",
       "    </tr>\n",
       "    <tr>\n",
       "      <th>169</th>\n",
       "      <td>0.0</td>\n",
       "      <td>0.0</td>\n",
       "      <td>0.0</td>\n",
       "      <td>0.0</td>\n",
       "      <td>1.0</td>\n",
       "      <td>0.0</td>\n",
       "      <td>0.0</td>\n",
       "      <td>0.0</td>\n",
       "      <td>0.0</td>\n",
       "      <td>0.0</td>\n",
       "      <td>...</td>\n",
       "      <td>0.0</td>\n",
       "      <td>0.0</td>\n",
       "      <td>0.0</td>\n",
       "      <td>0.0</td>\n",
       "      <td>0.0</td>\n",
       "      <td>0.0</td>\n",
       "      <td>0.0</td>\n",
       "      <td>0.0</td>\n",
       "      <td>0.0</td>\n",
       "      <td>0.0</td>\n",
       "    </tr>\n",
       "    <tr>\n",
       "      <th>170</th>\n",
       "      <td>0.0</td>\n",
       "      <td>0.0</td>\n",
       "      <td>0.0</td>\n",
       "      <td>0.0</td>\n",
       "      <td>0.0</td>\n",
       "      <td>0.0</td>\n",
       "      <td>1.0</td>\n",
       "      <td>0.0</td>\n",
       "      <td>0.0</td>\n",
       "      <td>0.0</td>\n",
       "      <td>...</td>\n",
       "      <td>0.0</td>\n",
       "      <td>0.0</td>\n",
       "      <td>0.0</td>\n",
       "      <td>0.0</td>\n",
       "      <td>0.0</td>\n",
       "      <td>0.0</td>\n",
       "      <td>0.0</td>\n",
       "      <td>0.0</td>\n",
       "      <td>0.0</td>\n",
       "      <td>0.0</td>\n",
       "    </tr>\n",
       "    <tr>\n",
       "      <th>171</th>\n",
       "      <td>0.0</td>\n",
       "      <td>0.0</td>\n",
       "      <td>0.0</td>\n",
       "      <td>0.0</td>\n",
       "      <td>0.0</td>\n",
       "      <td>1.0</td>\n",
       "      <td>0.0</td>\n",
       "      <td>0.0</td>\n",
       "      <td>0.0</td>\n",
       "      <td>0.0</td>\n",
       "      <td>...</td>\n",
       "      <td>0.0</td>\n",
       "      <td>0.0</td>\n",
       "      <td>0.0</td>\n",
       "      <td>0.0</td>\n",
       "      <td>0.0</td>\n",
       "      <td>0.0</td>\n",
       "      <td>0.0</td>\n",
       "      <td>0.0</td>\n",
       "      <td>0.0</td>\n",
       "      <td>0.0</td>\n",
       "    </tr>\n",
       "    <tr>\n",
       "      <th>172</th>\n",
       "      <td>0.0</td>\n",
       "      <td>0.0</td>\n",
       "      <td>0.0</td>\n",
       "      <td>0.0</td>\n",
       "      <td>0.0</td>\n",
       "      <td>1.0</td>\n",
       "      <td>0.0</td>\n",
       "      <td>0.0</td>\n",
       "      <td>0.0</td>\n",
       "      <td>0.0</td>\n",
       "      <td>...</td>\n",
       "      <td>0.0</td>\n",
       "      <td>0.0</td>\n",
       "      <td>0.0</td>\n",
       "      <td>0.0</td>\n",
       "      <td>0.0</td>\n",
       "      <td>0.0</td>\n",
       "      <td>0.0</td>\n",
       "      <td>0.0</td>\n",
       "      <td>0.0</td>\n",
       "      <td>0.0</td>\n",
       "    </tr>\n",
       "    <tr>\n",
       "      <th>173</th>\n",
       "      <td>0.0</td>\n",
       "      <td>0.0</td>\n",
       "      <td>0.0</td>\n",
       "      <td>0.0</td>\n",
       "      <td>0.0</td>\n",
       "      <td>1.0</td>\n",
       "      <td>0.0</td>\n",
       "      <td>0.0</td>\n",
       "      <td>0.0</td>\n",
       "      <td>0.0</td>\n",
       "      <td>...</td>\n",
       "      <td>0.0</td>\n",
       "      <td>0.0</td>\n",
       "      <td>0.0</td>\n",
       "      <td>0.0</td>\n",
       "      <td>0.0</td>\n",
       "      <td>0.0</td>\n",
       "      <td>0.0</td>\n",
       "      <td>0.0</td>\n",
       "      <td>0.0</td>\n",
       "      <td>0.0</td>\n",
       "    </tr>\n",
       "  </tbody>\n",
       "</table>\n",
       "<p>174 rows × 25 columns</p>\n",
       "</div>"
      ],
      "text/plain": [
       "      0    1    2    3    4    5    6    7    8    9   ...   15   16   17  \\\n",
       "0    1.0  0.0  0.0  0.0  0.0  0.0  0.0  0.0  0.0  0.0  ...  0.0  0.0  0.0   \n",
       "1    0.0  0.0  0.0  0.0  0.0  0.0  0.0  0.0  1.0  0.0  ...  0.0  0.0  0.0   \n",
       "2    0.0  1.0  0.0  0.0  0.0  0.0  0.0  0.0  0.0  0.0  ...  0.0  0.0  0.0   \n",
       "3    0.0  0.0  0.0  0.0  0.0  0.0  0.0  0.0  0.0  0.0  ...  0.0  0.0  0.0   \n",
       "4    0.0  1.0  0.0  0.0  0.0  0.0  0.0  0.0  0.0  0.0  ...  0.0  0.0  0.0   \n",
       "..   ...  ...  ...  ...  ...  ...  ...  ...  ...  ...  ...  ...  ...  ...   \n",
       "169  0.0  0.0  0.0  0.0  1.0  0.0  0.0  0.0  0.0  0.0  ...  0.0  0.0  0.0   \n",
       "170  0.0  0.0  0.0  0.0  0.0  0.0  1.0  0.0  0.0  0.0  ...  0.0  0.0  0.0   \n",
       "171  0.0  0.0  0.0  0.0  0.0  1.0  0.0  0.0  0.0  0.0  ...  0.0  0.0  0.0   \n",
       "172  0.0  0.0  0.0  0.0  0.0  1.0  0.0  0.0  0.0  0.0  ...  0.0  0.0  0.0   \n",
       "173  0.0  0.0  0.0  0.0  0.0  1.0  0.0  0.0  0.0  0.0  ...  0.0  0.0  0.0   \n",
       "\n",
       "      18   19   20   21   22   23   24  \n",
       "0    0.0  0.0  0.0  0.0  0.0  0.0  0.0  \n",
       "1    0.0  0.0  0.0  0.0  0.0  0.0  0.0  \n",
       "2    0.0  0.0  0.0  0.0  0.0  0.0  0.0  \n",
       "3    0.0  0.0  0.0  0.0  0.0  0.0  0.0  \n",
       "4    0.0  0.0  0.0  0.0  0.0  0.0  0.0  \n",
       "..   ...  ...  ...  ...  ...  ...  ...  \n",
       "169  0.0  0.0  0.0  0.0  0.0  0.0  0.0  \n",
       "170  0.0  0.0  0.0  0.0  0.0  0.0  0.0  \n",
       "171  0.0  0.0  0.0  0.0  0.0  0.0  0.0  \n",
       "172  0.0  0.0  0.0  0.0  0.0  0.0  0.0  \n",
       "173  0.0  0.0  0.0  0.0  0.0  0.0  0.0  \n",
       "\n",
       "[174 rows x 25 columns]"
      ]
     },
     "execution_count": 4,
     "metadata": {},
     "output_type": "execute_result"
    }
   ],
   "source": [
    "graphsRaw[0]['encNodeTypes']"
   ]
  },
  {
   "cell_type": "markdown",
   "metadata": {
    "id": "_vKrj7jHFE2i"
   },
   "source": [
    "# Create dataset\n",
    "\n",
    "dataset tvoria `graphs` a `graph_labels`\n",
    "- `graphs` je list of StellarGraph\n",
    "- `graph_labels` je oznacenie daneho grafu pre atribut `isTest`"
   ]
  },
  {
   "cell_type": "code",
   "execution_count": 216,
   "metadata": {
    "executionInfo": {
     "elapsed": 10748,
     "status": "ok",
     "timestamp": 1618141256474,
     "user": {
      "displayName": "Róbert Jačko",
      "photoUrl": "",
      "userId": "15811568458173000815"
     },
     "user_tz": -120
    },
    "id": "dWIGwUA4FEII"
   },
   "outputs": [],
   "source": [
    "from stellargraph import StellarGraph\n",
    "\n",
    "def createStellarGraph(graphRaw):\n",
    "    nodes = graphRaw['encNodeTypes']\n",
    "    edges = graphRaw['edges']\n",
    "    graph = StellarGraph(nodes=nodes, edges=edges, source_column='from', target_column='to', is_directed=True)\n",
    "    return graph\n",
    "\n",
    "\n",
    "graphs = [createStellarGraph(gr) for gr in graphsRaw]\n",
    "#graph_labels = pd.Series([1 if gr['isSpec'] else 2 if gr['isTest'] else 0 for gr in graphsRaw], dtype=\"category\", name='label')\n",
    "graph_labels = pd.Series([1 if gr['isSpec'] or gr['isTest'] else 0 for gr in graphsRaw], dtype=\"category\", name='label')"
   ]
  },
  {
   "cell_type": "markdown",
   "metadata": {},
   "source": [
    "# Dataset stats"
   ]
  },
  {
   "cell_type": "code",
   "execution_count": 217,
   "metadata": {},
   "outputs": [
    {
     "name": "stdout",
     "output_type": "stream",
     "text": [
      "0    6439\n",
      "1     758\n",
      "Name: label, dtype: int64\n"
     ]
    }
   ],
   "source": [
    "print(graph_labels.value_counts())"
   ]
  },
  {
   "cell_type": "code",
   "execution_count": 218,
   "metadata": {},
   "outputs": [
    {
     "data": {
      "text/html": [
       "<div>\n",
       "<style scoped>\n",
       "    .dataframe tbody tr th:only-of-type {\n",
       "        vertical-align: middle;\n",
       "    }\n",
       "\n",
       "    .dataframe tbody tr th {\n",
       "        vertical-align: top;\n",
       "    }\n",
       "\n",
       "    .dataframe thead th {\n",
       "        text-align: right;\n",
       "    }\n",
       "</style>\n",
       "<table border=\"1\" class=\"dataframe\">\n",
       "  <thead>\n",
       "    <tr style=\"text-align: right;\">\n",
       "      <th></th>\n",
       "      <th>nodes</th>\n",
       "      <th>edges</th>\n",
       "    </tr>\n",
       "  </thead>\n",
       "  <tbody>\n",
       "    <tr>\n",
       "      <th>count</th>\n",
       "      <td>7197.0</td>\n",
       "      <td>7197.0</td>\n",
       "    </tr>\n",
       "    <tr>\n",
       "      <th>mean</th>\n",
       "      <td>103.3</td>\n",
       "      <td>175.5</td>\n",
       "    </tr>\n",
       "    <tr>\n",
       "      <th>std</th>\n",
       "      <td>165.1</td>\n",
       "      <td>827.3</td>\n",
       "    </tr>\n",
       "    <tr>\n",
       "      <th>min</th>\n",
       "      <td>5.0</td>\n",
       "      <td>4.0</td>\n",
       "    </tr>\n",
       "    <tr>\n",
       "      <th>25%</th>\n",
       "      <td>28.0</td>\n",
       "      <td>34.0</td>\n",
       "    </tr>\n",
       "    <tr>\n",
       "      <th>50%</th>\n",
       "      <td>58.0</td>\n",
       "      <td>79.0</td>\n",
       "    </tr>\n",
       "    <tr>\n",
       "      <th>75%</th>\n",
       "      <td>118.0</td>\n",
       "      <td>175.0</td>\n",
       "    </tr>\n",
       "    <tr>\n",
       "      <th>max</th>\n",
       "      <td>4025.0</td>\n",
       "      <td>64311.0</td>\n",
       "    </tr>\n",
       "  </tbody>\n",
       "</table>\n",
       "</div>"
      ],
      "text/plain": [
       "        nodes    edges\n",
       "count  7197.0   7197.0\n",
       "mean    103.3    175.5\n",
       "std     165.1    827.3\n",
       "min       5.0      4.0\n",
       "25%      28.0     34.0\n",
       "50%      58.0     79.0\n",
       "75%     118.0    175.0\n",
       "max    4025.0  64311.0"
      ]
     },
     "execution_count": 218,
     "metadata": {},
     "output_type": "execute_result"
    }
   ],
   "source": [
    "summary = pd.DataFrame(\n",
    "    [(g.number_of_nodes(), g.number_of_edges()) for g in graphs],\n",
    "    columns=[\"nodes\", \"edges\"],\n",
    ")\n",
    "summary.describe().round(1)"
   ]
  },
  {
   "cell_type": "markdown",
   "metadata": {},
   "source": [
    "# Fit dataset to 1:1\n",
    "z datasetu sa vyberie len nejaky pocet grafov tak aby sa pocty grafov vytvorenych z testovacich a grafov vytvorenych z netestovacich suborov rovnal "
   ]
  },
  {
   "cell_type": "code",
   "execution_count": 219,
   "metadata": {
    "executionInfo": {
     "elapsed": 1017,
     "status": "ok",
     "timestamp": 1618142129480,
     "user": {
      "displayName": "Róbert Jačko",
      "photoUrl": "",
      "userId": "15811568458173000815"
     },
     "user_tz": -120
    },
    "id": "tcAm2QE5v6oR"
   },
   "outputs": [],
   "source": [
    "import random\n",
    "import numpy as np\n",
    "\n",
    "noTests, tests = [], []\n",
    "for idx, d in enumerate(graph_labels):\n",
    "    if d == 1:\n",
    "        tests.append(idx)\n",
    "    elif d == 0:\n",
    "        noTests.append(idx)\n",
    "\n",
    "SIZE = 200\n",
    "\n",
    "resampledNoTests = random.sample(noTests, SIZE)\n",
    "resampledTests = random.sample(tests, SIZE)\n",
    "finalIdxs = np.random.choice(np.concatenate([resampledTests, resampledNoTests]), SIZE*2, replace=False)\n",
    "final_graphs, final_graph_labels = [], []\n",
    "for i in finalIdxs:\n",
    "    final_graphs.append(graphs[i])\n",
    "    final_graph_labels.append(graph_labels[i])\n",
    "final_graph_labels = pd.Series(final_graph_labels, dtype=\"category\", name='label')"
   ]
  },
  {
   "cell_type": "code",
   "execution_count": 220,
   "metadata": {
    "executionInfo": {
     "elapsed": 564,
     "status": "ok",
     "timestamp": 1618142252320,
     "user": {
      "displayName": "Róbert Jačko",
      "photoUrl": "",
      "userId": "15811568458173000815"
     },
     "user_tz": -120
    },
    "id": "hWE3ebimyqRC"
   },
   "outputs": [],
   "source": [
    "graphs, graph_labels = final_graphs, final_graph_labels"
   ]
  },
  {
   "cell_type": "markdown",
   "metadata": {},
   "source": [
    "# Show statistics"
   ]
  },
  {
   "cell_type": "code",
   "execution_count": 221,
   "metadata": {},
   "outputs": [
    {
     "name": "stdout",
     "output_type": "stream",
     "text": [
      "StellarGraph: Directed multigraph\n",
      " Nodes: 92, Edges: 130\n",
      "\n",
      " Node types:\n",
      "  default: [92]\n",
      "    Features: float32 vector, length 25\n",
      "    Edge types: default-default->default\n",
      "\n",
      " Edge types:\n",
      "    default-default->default: [130]\n",
      "        Weights: all 1 (default)\n",
      "        Features: none\n"
     ]
    }
   ],
   "source": [
    "print(graphs[0].info())"
   ]
  },
  {
   "cell_type": "code",
   "execution_count": 222,
   "metadata": {},
   "outputs": [
    {
     "name": "stdout",
     "output_type": "stream",
     "text": [
      "StellarGraph: Directed multigraph\n",
      " Nodes: 8, Edges: 7\n",
      "\n",
      " Node types:\n",
      "  default: [8]\n",
      "    Features: float32 vector, length 25\n",
      "    Edge types: default-default->default\n",
      "\n",
      " Edge types:\n",
      "    default-default->default: [7]\n",
      "        Weights: all 1 (default)\n",
      "        Features: none\n"
     ]
    }
   ],
   "source": [
    "print(graphs[1].info())"
   ]
  },
  {
   "cell_type": "code",
   "execution_count": 223,
   "metadata": {},
   "outputs": [
    {
     "data": {
      "text/html": [
       "<div>\n",
       "<style scoped>\n",
       "    .dataframe tbody tr th:only-of-type {\n",
       "        vertical-align: middle;\n",
       "    }\n",
       "\n",
       "    .dataframe tbody tr th {\n",
       "        vertical-align: top;\n",
       "    }\n",
       "\n",
       "    .dataframe thead th {\n",
       "        text-align: right;\n",
       "    }\n",
       "</style>\n",
       "<table border=\"1\" class=\"dataframe\">\n",
       "  <thead>\n",
       "    <tr style=\"text-align: right;\">\n",
       "      <th></th>\n",
       "      <th>label</th>\n",
       "    </tr>\n",
       "  </thead>\n",
       "  <tbody>\n",
       "    <tr>\n",
       "      <th>0</th>\n",
       "      <td>6439</td>\n",
       "    </tr>\n",
       "    <tr>\n",
       "      <th>1</th>\n",
       "      <td>1</td>\n",
       "    </tr>\n",
       "  </tbody>\n",
       "</table>\n",
       "</div>"
      ],
      "text/plain": [
       "   label\n",
       "0   6439\n",
       "1      1"
      ]
     },
     "execution_count": 223,
     "metadata": {},
     "output_type": "execute_result"
    }
   ],
   "source": [
    "graph_labels.value_counts().to_frame()"
   ]
  },
  {
   "cell_type": "code",
   "execution_count": 224,
   "metadata": {},
   "outputs": [
    {
     "data": {
      "text/html": [
       "<div>\n",
       "<style scoped>\n",
       "    .dataframe tbody tr th:only-of-type {\n",
       "        vertical-align: middle;\n",
       "    }\n",
       "\n",
       "    .dataframe tbody tr th {\n",
       "        vertical-align: top;\n",
       "    }\n",
       "\n",
       "    .dataframe thead th {\n",
       "        text-align: right;\n",
       "    }\n",
       "</style>\n",
       "<table border=\"1\" class=\"dataframe\">\n",
       "  <thead>\n",
       "    <tr style=\"text-align: right;\">\n",
       "      <th></th>\n",
       "      <th>nodes</th>\n",
       "      <th>edges</th>\n",
       "    </tr>\n",
       "  </thead>\n",
       "  <tbody>\n",
       "    <tr>\n",
       "      <th>count</th>\n",
       "      <td>6440.0</td>\n",
       "      <td>6440.0</td>\n",
       "    </tr>\n",
       "    <tr>\n",
       "      <th>mean</th>\n",
       "      <td>105.6</td>\n",
       "      <td>174.2</td>\n",
       "    </tr>\n",
       "    <tr>\n",
       "      <th>std</th>\n",
       "      <td>165.5</td>\n",
       "      <td>860.0</td>\n",
       "    </tr>\n",
       "    <tr>\n",
       "      <th>min</th>\n",
       "      <td>5.0</td>\n",
       "      <td>4.0</td>\n",
       "    </tr>\n",
       "    <tr>\n",
       "      <th>25%</th>\n",
       "      <td>29.0</td>\n",
       "      <td>34.0</td>\n",
       "    </tr>\n",
       "    <tr>\n",
       "      <th>50%</th>\n",
       "      <td>60.0</td>\n",
       "      <td>80.0</td>\n",
       "    </tr>\n",
       "    <tr>\n",
       "      <th>75%</th>\n",
       "      <td>121.0</td>\n",
       "      <td>177.0</td>\n",
       "    </tr>\n",
       "    <tr>\n",
       "      <th>max</th>\n",
       "      <td>4025.0</td>\n",
       "      <td>64311.0</td>\n",
       "    </tr>\n",
       "  </tbody>\n",
       "</table>\n",
       "</div>"
      ],
      "text/plain": [
       "        nodes    edges\n",
       "count  6440.0   6440.0\n",
       "mean    105.6    174.2\n",
       "std     165.5    860.0\n",
       "min       5.0      4.0\n",
       "25%      29.0     34.0\n",
       "50%      60.0     80.0\n",
       "75%     121.0    177.0\n",
       "max    4025.0  64311.0"
      ]
     },
     "execution_count": 224,
     "metadata": {},
     "output_type": "execute_result"
    }
   ],
   "source": [
    "summary = pd.DataFrame(\n",
    "    [(g.number_of_nodes(), g.number_of_edges()) for g in graphs],\n",
    "    columns=[\"nodes\", \"edges\"],\n",
    ")\n",
    "summary.describe().round(1)"
   ]
  },
  {
   "cell_type": "markdown",
   "metadata": {},
   "source": [
    "# Prepair generator"
   ]
  },
  {
   "cell_type": "code",
   "execution_count": 225,
   "metadata": {},
   "outputs": [],
   "source": [
    "graph_labels = pd.get_dummies(graph_labels, drop_first=True)"
   ]
  },
  {
   "cell_type": "code",
   "execution_count": 226,
   "metadata": {},
   "outputs": [],
   "source": [
    "from stellargraph.mapper import PaddedGraphGenerator\n",
    "generator = PaddedGraphGenerator(graphs=graphs)"
   ]
  },
  {
   "cell_type": "markdown",
   "metadata": {},
   "source": [
    "# Supervised graph classification with GCN [StellarGraph]"
   ]
  },
  {
   "cell_type": "code",
   "execution_count": 27,
   "metadata": {},
   "outputs": [],
   "source": [
    "from stellargraph.layer import GCNSupervisedGraphClassification\n",
    "\n",
    "from sklearn import model_selection\n",
    "\n",
    "from tensorflow.keras import Model\n",
    "from tensorflow.keras.optimizers import Adam\n",
    "from tensorflow.keras.layers import Dense\n",
    "from tensorflow.keras.losses import binary_crossentropy\n",
    "from tensorflow.keras.callbacks import EarlyStopping\n",
    "import tensorflow as tf\n",
    "import matplotlib.pyplot as plt"
   ]
  },
  {
   "cell_type": "code",
   "execution_count": 28,
   "metadata": {},
   "outputs": [],
   "source": [
    "def create_graph_classification_model(generator):\n",
    "    gc_model = GCNSupervisedGraphClassification(\n",
    "        layer_sizes=[64, 64],\n",
    "        activations=[\"relu\", \"relu\"],\n",
    "        generator=generator,\n",
    "        dropout=0.5,\n",
    "    )\n",
    "    x_inp, x_out = gc_model.in_out_tensors()\n",
    "    predictions = Dense(units=32, activation=\"relu\")(x_out)\n",
    "    predictions = Dense(units=16, activation=\"relu\")(predictions)\n",
    "    predictions = Dense(units=1, activation=\"sigmoid\")(predictions)\n",
    "\n",
    "    model = Model(inputs=x_inp, outputs=predictions)\n",
    "    model.compile(optimizer=Adam(0.005), loss=binary_crossentropy, metrics=[\"acc\"])\n",
    "\n",
    "    return model"
   ]
  },
  {
   "cell_type": "code",
   "execution_count": 30,
   "metadata": {},
   "outputs": [],
   "source": [
    "es = EarlyStopping(\n",
    "    monitor=\"val_loss\", min_delta=0, patience=25, restore_best_weights=True\n",
    ")"
   ]
  },
  {
   "cell_type": "code",
   "execution_count": 32,
   "metadata": {},
   "outputs": [],
   "source": [
    "def get_generators(train_index, test_index, graph_labels, batch_size):\n",
    "    train_gen = generator.flow(\n",
    "        train_index, targets=graph_labels.iloc[train_index].values, batch_size=batch_size\n",
    "    )\n",
    "    test_gen = generator.flow(\n",
    "        test_index, targets=graph_labels.iloc[test_index].values, batch_size=batch_size\n",
    "    )\n",
    "\n",
    "    return train_gen, test_gen"
   ]
  },
  {
   "cell_type": "code",
   "execution_count": 37,
   "metadata": {},
   "outputs": [],
   "source": [
    "train_graphs, test_graphs = model_selection.train_test_split(\n",
    "    graph_labels, train_size=0.9, test_size=None, stratify=graph_labels,\n",
    ")"
   ]
  },
  {
   "cell_type": "code",
   "execution_count": 45,
   "metadata": {},
   "outputs": [],
   "source": [
    "train_gen, test_gen = get_generators(\n",
    "        train_graphs.index, test_graphs.index, graph_labels, batch_size=30\n",
    "    )"
   ]
  },
  {
   "cell_type": "code",
   "execution_count": 46,
   "metadata": {},
   "outputs": [],
   "source": [
    "model = create_graph_classification_model(generator)"
   ]
  },
  {
   "cell_type": "code",
   "execution_count": null,
   "metadata": {},
   "outputs": [],
   "source": [
    "epochs = 100"
   ]
  },
  {
   "cell_type": "code",
   "execution_count": 47,
   "metadata": {},
   "outputs": [
    {
     "name": "stdout",
     "output_type": "stream",
     "text": [
      "Epoch 1/100\n",
      "12/12 [==============================] - 11s 884ms/step - loss: 0.6944 - acc: 0.4945 - val_loss: 0.6808 - val_acc: 0.5750\n",
      "Epoch 2/100\n",
      "12/12 [==============================] - 5s 468ms/step - loss: 0.6603 - acc: 0.6846 - val_loss: 0.6414 - val_acc: 0.6750\n",
      "Epoch 3/100\n",
      "12/12 [==============================] - 6s 512ms/step - loss: 0.5741 - acc: 0.7382 - val_loss: 0.6317 - val_acc: 0.7500\n",
      "Epoch 4/100\n",
      "12/12 [==============================] - 6s 518ms/step - loss: 0.5059 - acc: 0.7710 - val_loss: 0.6260 - val_acc: 0.6750\n",
      "Epoch 5/100\n",
      "12/12 [==============================] - 6s 553ms/step - loss: 0.4895 - acc: 0.7461 - val_loss: 0.6526 - val_acc: 0.6000\n",
      "Epoch 6/100\n",
      "12/12 [==============================] - 6s 421ms/step - loss: 0.5033 - acc: 0.7667 - val_loss: 0.6403 - val_acc: 0.6250\n",
      "Epoch 7/100\n",
      "12/12 [==============================] - 6s 443ms/step - loss: 0.4592 - acc: 0.7864 - val_loss: 0.6432 - val_acc: 0.6500\n",
      "Epoch 8/100\n",
      "12/12 [==============================] - 6s 492ms/step - loss: 0.4393 - acc: 0.7894 - val_loss: 0.6660 - val_acc: 0.7250\n",
      "Epoch 9/100\n",
      "12/12 [==============================] - 6s 504ms/step - loss: 0.4908 - acc: 0.7597 - val_loss: 0.6734 - val_acc: 0.7250\n",
      "Epoch 10/100\n",
      "12/12 [==============================] - 5s 442ms/step - loss: 0.5355 - acc: 0.7589 - val_loss: 0.6403 - val_acc: 0.6250\n",
      "Epoch 11/100\n",
      "12/12 [==============================] - 6s 487ms/step - loss: 0.5034 - acc: 0.7582 - val_loss: 0.6484 - val_acc: 0.6000\n",
      "Epoch 12/100\n",
      "12/12 [==============================] - 5s 480ms/step - loss: 0.4569 - acc: 0.7938 - val_loss: 0.6407 - val_acc: 0.7250\n",
      "Epoch 13/100\n",
      "12/12 [==============================] - 5s 479ms/step - loss: 0.4637 - acc: 0.8087 - val_loss: 0.6526 - val_acc: 0.6500\n",
      "Epoch 14/100\n",
      "12/12 [==============================] - 6s 511ms/step - loss: 0.4641 - acc: 0.8043 - val_loss: 0.6338 - val_acc: 0.7750\n",
      "Epoch 15/100\n",
      "12/12 [==============================] - 6s 520ms/step - loss: 0.4584 - acc: 0.7933 - val_loss: 0.6294 - val_acc: 0.7000\n",
      "Epoch 16/100\n",
      "12/12 [==============================] - 5s 413ms/step - loss: 0.4641 - acc: 0.8071 - val_loss: 0.6415 - val_acc: 0.6250\n",
      "Epoch 17/100\n",
      "12/12 [==============================] - 5s 484ms/step - loss: 0.4793 - acc: 0.7830 - val_loss: 0.6370 - val_acc: 0.6750\n",
      "Epoch 18/100\n",
      "12/12 [==============================] - 5s 440ms/step - loss: 0.4956 - acc: 0.7683 - val_loss: 0.6544 - val_acc: 0.6750\n",
      "Epoch 19/100\n",
      "12/12 [==============================] - 5s 409ms/step - loss: 0.4587 - acc: 0.7781 - val_loss: 0.6605 - val_acc: 0.6500\n",
      "Epoch 20/100\n",
      "12/12 [==============================] - 6s 225ms/step - loss: 0.4365 - acc: 0.8005 - val_loss: 0.6309 - val_acc: 0.7000\n",
      "Epoch 21/100\n",
      "12/12 [==============================] - 5s 460ms/step - loss: 0.4630 - acc: 0.8035 - val_loss: 0.6404 - val_acc: 0.7500\n",
      "Epoch 22/100\n",
      "12/12 [==============================] - 5s 208ms/step - loss: 0.4330 - acc: 0.8427 - val_loss: 0.6463 - val_acc: 0.6250\n",
      "Epoch 23/100\n",
      "12/12 [==============================] - 5s 485ms/step - loss: 0.4371 - acc: 0.8096 - val_loss: 0.6322 - val_acc: 0.7250\n",
      "Epoch 24/100\n",
      "12/12 [==============================] - 6s 478ms/step - loss: 0.4239 - acc: 0.8336 - val_loss: 0.6816 - val_acc: 0.6250\n",
      "Epoch 25/100\n",
      "12/12 [==============================] - 6s 491ms/step - loss: 0.3570 - acc: 0.8470 - val_loss: 0.6377 - val_acc: 0.6750\n",
      "Epoch 26/100\n",
      "12/12 [==============================] - 9s 783ms/step - loss: 0.4522 - acc: 0.8270 - val_loss: 0.6370 - val_acc: 0.6500\n",
      "Epoch 27/100\n",
      "12/12 [==============================] - 7s 630ms/step - loss: 0.4746 - acc: 0.7953 - val_loss: 0.6311 - val_acc: 0.6750\n",
      "Epoch 28/100\n",
      "12/12 [==============================] - 6s 482ms/step - loss: 0.4660 - acc: 0.8161 - val_loss: 0.6381 - val_acc: 0.7500\n",
      "Epoch 29/100\n",
      "12/12 [==============================] - 5s 487ms/step - loss: 0.4645 - acc: 0.7788 - val_loss: 0.6140 - val_acc: 0.6500\n",
      "Epoch 30/100\n",
      "12/12 [==============================] - 5s 466ms/step - loss: 0.4042 - acc: 0.8046 - val_loss: 0.6512 - val_acc: 0.6500\n",
      "Epoch 31/100\n",
      "12/12 [==============================] - 6s 490ms/step - loss: 0.4078 - acc: 0.8464 - val_loss: 0.6518 - val_acc: 0.6250\n",
      "Epoch 32/100\n",
      "12/12 [==============================] - 6s 499ms/step - loss: 0.3911 - acc: 0.8351 - val_loss: 0.6336 - val_acc: 0.6750\n",
      "Epoch 33/100\n",
      "12/12 [==============================] - 5s 208ms/step - loss: 0.4752 - acc: 0.7937 - val_loss: 0.6212 - val_acc: 0.6500\n",
      "Epoch 34/100\n",
      "12/12 [==============================] - 6s 511ms/step - loss: 0.4480 - acc: 0.7969 - val_loss: 0.6342 - val_acc: 0.6500\n",
      "Epoch 35/100\n",
      "12/12 [==============================] - 7s 289ms/step - loss: 0.4244 - acc: 0.8192 - val_loss: 0.6406 - val_acc: 0.6500\n",
      "Epoch 36/100\n",
      "12/12 [==============================] - 7s 649ms/step - loss: 0.4033 - acc: 0.8114 - val_loss: 0.6348 - val_acc: 0.6500\n",
      "Epoch 37/100\n",
      "12/12 [==============================] - 7s 642ms/step - loss: 0.4039 - acc: 0.8144 - val_loss: 0.6302 - val_acc: 0.6750\n",
      "Epoch 38/100\n",
      "12/12 [==============================] - 7s 640ms/step - loss: 0.4233 - acc: 0.8289 - val_loss: 0.6385 - val_acc: 0.5750\n",
      "Epoch 39/100\n",
      "12/12 [==============================] - 6s 497ms/step - loss: 0.4390 - acc: 0.8040 - val_loss: 0.6216 - val_acc: 0.7000\n",
      "Epoch 40/100\n",
      "12/12 [==============================] - 5s 490ms/step - loss: 0.4235 - acc: 0.8199 - val_loss: 0.6504 - val_acc: 0.6500\n",
      "Epoch 41/100\n",
      "12/12 [==============================] - 7s 597ms/step - loss: 0.4134 - acc: 0.8213 - val_loss: 0.6353 - val_acc: 0.7000\n",
      "Epoch 42/100\n",
      "12/12 [==============================] - 6s 493ms/step - loss: 0.4021 - acc: 0.8235 - val_loss: 0.6089 - val_acc: 0.7000\n",
      "Epoch 43/100\n",
      "12/12 [==============================] - 6s 513ms/step - loss: 0.4161 - acc: 0.8253 - val_loss: 0.6186 - val_acc: 0.6750\n",
      "Epoch 44/100\n",
      "12/12 [==============================] - 6s 223ms/step - loss: 0.4567 - acc: 0.7791 - val_loss: 0.6261 - val_acc: 0.6250\n",
      "Epoch 45/100\n",
      "12/12 [==============================] - 6s 494ms/step - loss: 0.3983 - acc: 0.8263 - val_loss: 0.6478 - val_acc: 0.7500\n",
      "Epoch 46/100\n",
      "12/12 [==============================] - 5s 481ms/step - loss: 0.4213 - acc: 0.7916 - val_loss: 0.6527 - val_acc: 0.6750\n",
      "Epoch 47/100\n",
      "12/12 [==============================] - 6s 229ms/step - loss: 0.4218 - acc: 0.8211 - val_loss: 0.6177 - val_acc: 0.7000\n",
      "Epoch 48/100\n",
      "12/12 [==============================] - 6s 490ms/step - loss: 0.3807 - acc: 0.8713 - val_loss: 0.6772 - val_acc: 0.6250\n",
      "Epoch 49/100\n",
      "12/12 [==============================] - 6s 495ms/step - loss: 0.4362 - acc: 0.7993 - val_loss: 0.6306 - val_acc: 0.7000\n",
      "Epoch 50/100\n",
      "12/12 [==============================] - 6s 218ms/step - loss: 0.4209 - acc: 0.7984 - val_loss: 0.6159 - val_acc: 0.7000\n",
      "Epoch 51/100\n",
      "12/12 [==============================] - 6s 490ms/step - loss: 0.4310 - acc: 0.8173 - val_loss: 0.6411 - val_acc: 0.6250\n",
      "Epoch 52/100\n",
      "12/12 [==============================] - 7s 566ms/step - loss: 0.4426 - acc: 0.7909 - val_loss: 0.6517 - val_acc: 0.6500\n",
      "Epoch 53/100\n",
      "12/12 [==============================] - 8s 685ms/step - loss: 0.4470 - acc: 0.7728 - val_loss: 0.6229 - val_acc: 0.7500\n",
      "Epoch 54/100\n",
      "12/12 [==============================] - 6s 543ms/step - loss: 0.4842 - acc: 0.7726 - val_loss: 0.6149 - val_acc: 0.6750\n",
      "Epoch 55/100\n",
      "12/12 [==============================] - 6s 537ms/step - loss: 0.4045 - acc: 0.8351 - val_loss: 0.6509 - val_acc: 0.6500\n",
      "Epoch 56/100\n",
      "12/12 [==============================] - 6s 482ms/step - loss: 0.4430 - acc: 0.8224 - val_loss: 0.6390 - val_acc: 0.6500\n",
      "Epoch 57/100\n",
      "12/12 [==============================] - 5s 462ms/step - loss: 0.4376 - acc: 0.8255 - val_loss: 0.6378 - val_acc: 0.7250\n",
      "Epoch 58/100\n",
      "12/12 [==============================] - 6s 516ms/step - loss: 0.4310 - acc: 0.7957 - val_loss: 0.6502 - val_acc: 0.6250\n",
      "Epoch 59/100\n",
      "12/12 [==============================] - 6s 485ms/step - loss: 0.3939 - acc: 0.8197 - val_loss: 0.6377 - val_acc: 0.6500\n",
      "Epoch 60/100\n",
      "12/12 [==============================] - 6s 438ms/step - loss: 0.3956 - acc: 0.8552 - val_loss: 0.6278 - val_acc: 0.6750\n",
      "Epoch 61/100\n",
      "12/12 [==============================] - 6s 207ms/step - loss: 0.4061 - acc: 0.8283 - val_loss: 0.6532 - val_acc: 0.6250\n",
      "Epoch 62/100\n",
      "12/12 [==============================] - 6s 477ms/step - loss: 0.4551 - acc: 0.7864 - val_loss: 0.6280 - val_acc: 0.6250\n",
      "Epoch 63/100\n",
      "12/12 [==============================] - 5s 480ms/step - loss: 0.4441 - acc: 0.8196 - val_loss: 0.6480 - val_acc: 0.6250\n",
      "Epoch 64/100\n",
      "12/12 [==============================] - 5s 423ms/step - loss: 0.4405 - acc: 0.8214 - val_loss: 0.6275 - val_acc: 0.6500\n",
      "Epoch 65/100\n",
      "12/12 [==============================] - 6s 495ms/step - loss: 0.4124 - acc: 0.8252 - val_loss: 0.6142 - val_acc: 0.6750\n",
      "Epoch 66/100\n",
      "12/12 [==============================] - 6s 432ms/step - loss: 0.4354 - acc: 0.8388 - val_loss: 0.6355 - val_acc: 0.6750\n",
      "Epoch 67/100\n",
      "12/12 [==============================] - 5s 482ms/step - loss: 0.3526 - acc: 0.8623 - val_loss: 0.6822 - val_acc: 0.6500\n"
     ]
    }
   ],
   "source": [
    "history = model.fit(\n",
    "        train_gen, epochs=epochs, validation_data=test_gen, verbose=1, callbacks=[es],\n",
    "    )\n",
    "\n",
    "test_metrics = model.evaluate(test_gen, verbose=0)\n",
    "test_acc = test_metrics[model.metrics_names.index(\"acc\")]"
   ]
  },
  {
   "cell_type": "code",
   "execution_count": 48,
   "metadata": {},
   "outputs": [
    {
     "data": {
      "image/png": "[encoded data removed]",
      "text/plain": [
       "<Figure size 504x576 with 2 Axes>"
      ]
     },
     "metadata": {
      "needs_background": "light"
     },
     "output_type": "display_data"
    }
   ],
   "source": [
    "sg.utils.plot_history(history)"
   ]
  },
  {
   "cell_type": "code",
   "execution_count": 50,
   "metadata": {},
   "outputs": [
    {
     "name": "stdout",
     "output_type": "stream",
     "text": [
      "0.699999988079071\n"
     ]
    }
   ],
   "source": [
    "print(test_acc)"
   ]
  },
  {
   "cell_type": "code",
   "execution_count": 227,
   "metadata": {},
   "outputs": [
    {
     "data": {
      "text/html": [
       "<div>\n",
       "<style scoped>\n",
       "    .dataframe tbody tr th:only-of-type {\n",
       "        vertical-align: middle;\n",
       "    }\n",
       "\n",
       "    .dataframe tbody tr th {\n",
       "        vertical-align: top;\n",
       "    }\n",
       "\n",
       "    .dataframe thead th {\n",
       "        text-align: right;\n",
       "    }\n",
       "</style>\n",
       "<table border=\"1\" class=\"dataframe\">\n",
       "  <thead>\n",
       "    <tr style=\"text-align: right;\">\n",
       "      <th></th>\n",
       "      <th>1</th>\n",
       "    </tr>\n",
       "  </thead>\n",
       "  <tbody>\n",
       "    <tr>\n",
       "      <th>0</th>\n",
       "      <td>0</td>\n",
       "    </tr>\n",
       "    <tr>\n",
       "      <th>1</th>\n",
       "      <td>0</td>\n",
       "    </tr>\n",
       "    <tr>\n",
       "      <th>2</th>\n",
       "      <td>0</td>\n",
       "    </tr>\n",
       "    <tr>\n",
       "      <th>3</th>\n",
       "      <td>0</td>\n",
       "    </tr>\n",
       "    <tr>\n",
       "      <th>4</th>\n",
       "      <td>0</td>\n",
       "    </tr>\n",
       "    <tr>\n",
       "      <th>...</th>\n",
       "      <td>...</td>\n",
       "    </tr>\n",
       "    <tr>\n",
       "      <th>6435</th>\n",
       "      <td>0</td>\n",
       "    </tr>\n",
       "    <tr>\n",
       "      <th>6436</th>\n",
       "      <td>0</td>\n",
       "    </tr>\n",
       "    <tr>\n",
       "      <th>6437</th>\n",
       "      <td>0</td>\n",
       "    </tr>\n",
       "    <tr>\n",
       "      <th>6438</th>\n",
       "      <td>0</td>\n",
       "    </tr>\n",
       "    <tr>\n",
       "      <th>6439</th>\n",
       "      <td>0</td>\n",
       "    </tr>\n",
       "  </tbody>\n",
       "</table>\n",
       "<p>6440 rows × 1 columns</p>\n",
       "</div>"
      ],
      "text/plain": [
       "      1\n",
       "0     0\n",
       "1     0\n",
       "2     0\n",
       "3     0\n",
       "4     0\n",
       "...  ..\n",
       "6435  0\n",
       "6436  0\n",
       "6437  0\n",
       "6438  0\n",
       "6439  0\n",
       "\n",
       "[6440 rows x 1 columns]"
      ]
     },
     "execution_count": 227,
     "metadata": {},
     "output_type": "execute_result"
    }
   ],
   "source": [
    "graph_labels"
   ]
  },
  {
   "cell_type": "code",
   "execution_count": 228,
   "metadata": {},
   "outputs": [],
   "source": [
    "test_gen = generator.flow(\n",
    "        np.arange(0, graph_labels.size), targets=graph_labels.values, batch_size=1\n",
    "    )"
   ]
  },
  {
   "cell_type": "code",
   "execution_count": 230,
   "metadata": {},
   "outputs": [
    {
     "name": "stdout",
     "output_type": "stream",
     "text": [
      "6440/6440 [==============================] - 18s 3ms/step - loss: 0.3772 - acc: 0.8851\n",
      "\n",
      "Test Set Metrics:\n",
      "\tloss: 0.3772\n",
      "\tacc: 0.8851\n"
     ]
    }
   ],
   "source": [
    "test_metrics = model.evaluate(test_gen)\n",
    "print(\"\\nTest Set Metrics:\")\n",
    "for name, val in zip(model.metrics_names, test_metrics):\n",
    "    print(\"\\t{}: {:0.4f}\".format(name, val))"
   ]
  },
  {
   "cell_type": "markdown",
   "metadata": {},
   "source": [
    "# End-to-End classification with trained model"
   ]
  },
  {
   "cell_type": "code",
   "execution_count": 156,
   "metadata": {},
   "outputs": [],
   "source": [
    "import pandas as pd\n",
    "import json\n",
    "\n",
    "def readGraph(path):\n",
    "    graph = {}\n",
    "    with open(path) as jsonFile:\n",
    "        jsonData = json.load(jsonFile)\n",
    "        graph['filename'] = jsonData['_filename']\n",
    "        graph['isTest'] = int(jsonData['_isTest'])\n",
    "        graph['isSpec'] = int(jsonData['_isSpec'])\n",
    "        graph['nodes'] = pd.DataFrame(jsonData['nodes'], columns=['id', 'type'])\n",
    "        graph['nodes'] = graph['nodes'].set_index('id')\n",
    "        graph['edges'] = pd.DataFrame(jsonData['edges'], columns=['from', 'to'])\n",
    "        graphsRaw.append(graph)\n",
    "    return graph"
   ]
  },
  {
   "cell_type": "code",
   "execution_count": 157,
   "metadata": {},
   "outputs": [],
   "source": [
    "from sklearn.preprocessing import OneHotEncoder\n",
    "import numpy as np\n",
    "\n",
    "def encodeNodeTypes(graph):\n",
    "    ntypes = ['require container', 'function', 'local variable', 'file', \n",
    "            'tableconstructor', 'module', 'statement:keyword', \n",
    "            'variable container', 'statement:numericfor', 'statement:genericfor', \n",
    "            'statement:if', 'global function', 'statement:functioncall', \n",
    "            'statement:assign', 'function container', 'statement:localassign', \n",
    "            'global variable', 'statement:globalfunction', 'statement:while', \n",
    "            'statement:localfunction', 'interface container', 'interface', \n",
    "            'require local variable', 'statement:do', 'statement:repeat']\n",
    "\n",
    "    enc = OneHotEncoder(handle_unknown='ignore')\n",
    "    X = np.array(ntypes).reshape(-1,1)\n",
    "    enc.fit(X)\n",
    "    encoded = enc.transform(graph['nodes']['type'].values.reshape(-1,1))\n",
    "    graph['encNodeTypes'] = pd.DataFrame(encoded.toarray())"
   ]
  },
  {
   "cell_type": "code",
   "execution_count": 158,
   "metadata": {},
   "outputs": [],
   "source": [
    "from stellargraph import StellarGraph\n",
    "\n",
    "def createStellarGraph(graph):\n",
    "    nodes = graph['encNodeTypes']\n",
    "    edges = graph['edges']\n",
    "    label = graph['isSpec'] or graph['isTest']\n",
    "    stellGraph = StellarGraph(nodes=nodes, edges=edges, source_column='from', target_column='to', is_directed=True)\n",
    "    return stellGraph, label"
   ]
  },
  {
   "cell_type": "code",
   "execution_count": 179,
   "metadata": {},
   "outputs": [],
   "source": [
    "from stellargraph.mapper import PaddedGraphGenerator\n",
    "\n",
    "def makePrediction(path):\n",
    "    graph = readGraph(path)\n",
    "    encodeNodeTypes(graph)\n",
    "    stellGraph, label = createStellarGraph(graph)\n",
    "    generator = PaddedGraphGenerator(graphs=[stellGraph])\n",
    "    x = generator.flow(graphs=[stellGraph])\n",
    "    return model.predict(x)[0][0]"
   ]
  },
  {
   "cell_type": "code",
   "execution_count": 183,
   "metadata": {},
   "outputs": [
    {
     "data": {
      "text/plain": [
       "0.9123748"
      ]
     },
     "execution_count": 183,
     "metadata": {},
     "output_type": "execute_result"
    }
   ],
   "source": [
    "makePrediction('../data/_TEST/_testsource.lua.json')"
   ]
  },
  {
   "cell_type": "code",
   "execution_count": 182,
   "metadata": {},
   "outputs": [
    {
     "name": "stdout",
     "output_type": "stream",
     "text": [
      "INFO:tensorflow:Assets written to: model/assets\n"
     ]
    }
   ],
   "source": [
    "model.save('model')"
   ]
  },
  {
   "cell_type": "code",
   "execution_count": 155,
   "metadata": {},
   "outputs": [
    {
     "name": "stdout",
     "output_type": "stream",
     "text": [
      "KerasTensor(type_spec=TensorSpec(shape=(None, None, 25), dtype=tf.float32, name='input_7'), name='input_7', description=\"created by layer 'input_7'\")\n"
     ]
    }
   ],
   "source": [
    "import sys\n",
    "tensor = model.get_layer(index=0).input\n",
    "print(tensor)\n",
    "#tf.print(tensor, output_stream=sys.stdout)"
   ]
  },
  {
   "cell_type": "code",
   "execution_count": 118,
   "metadata": {},
   "outputs": [
    {
     "name": "stdout",
     "output_type": "stream",
     "text": [
      "<tensorflow.python.keras.engine.input_layer.InputLayer object at 0x7fb1f2038940>\n",
      "<tensorflow.python.keras.layers.core.Dropout object at 0x7fb1f1fddd00>\n",
      "<tensorflow.python.keras.engine.input_layer.InputLayer object at 0x7fb1f1fe7df0>\n",
      "<stellargraph.layer.gcn.GraphConvolution object at 0x7fb1f1fddb50>\n",
      "<tensorflow.python.keras.layers.core.Dropout object at 0x7fb1f22bbdc0>\n",
      "<stellargraph.layer.gcn.GraphConvolution object at 0x7fb1f21c56a0>\n",
      "<tensorflow.python.keras.engine.input_layer.InputLayer object at 0x7fb1f23bc550>\n",
      "<tensorflow.python.keras.layers.pooling.GlobalAveragePooling1D object at 0x7fb1f1fc25e0>\n",
      "<tensorflow.python.keras.layers.core.Dense object at 0x7fb1f1f46820>\n",
      "<tensorflow.python.keras.layers.core.Dense object at 0x7fb1f1f828b0>\n",
      "<tensorflow.python.keras.layers.core.Dense object at 0x7fb1f1f4af70>\n"
     ]
    }
   ],
   "source": [
    "output = x\n",
    "listOutputs = []\n",
    "for i in range(11):\n",
    "    #print(output)\n",
    "    #output = model.get_layer(index=i).compute_mask(output)\n",
    "    #listOutputs.append(output)\n",
    "    print(model.get_layer(index=i))"
   ]
  },
  {
   "cell_type": "markdown",
   "metadata": {
    "id": "6I6csNRwb4yj"
   },
   "source": [
    "# Hidden"
   ]
  },
  {
   "cell_type": "code",
   "execution_count": 3,
   "metadata": {
    "id": "-XBlIB8aoBkw"
   },
   "outputs": [],
   "source": [
    "uniquelist = []\n",
    "for d in graphsRaw:\n",
    "    curr_list = d['nodes']['type'].unique()\n",
    "    uniquelist += list(set(curr_list) - set(uniquelist))"
   ]
  },
  {
   "cell_type": "code",
   "execution_count": 4,
   "metadata": {
    "id": "VsoPcB4xv3Py"
   },
   "outputs": [
    {
     "name": "stdout",
     "output_type": "stream",
     "text": [
      "36\n",
      "['function container', 'statement:if', 'local variable', 'blank lines', 'variable container', 'statement:genericfor', 'statement:keyword', 'statement:localassign', 'module', 'statement:assign', 'interface', 'file', 'interface container', 'require container', 'global variable', 'statement:while', 'n/a', 'statement:functioncall', 'global function', 'tableconstructor', 'function', 'table assign node', 'require local variable', 'string', 'statement:numericfor', 'number', 'statement:localfunction', '_simpleexp', 'statement:globalfunction', 'keyword', 'symbol', 'statement:repeat', 'unop', 'boolean', '_prefixexp', 'statement:do']\n"
     ]
    }
   ],
   "source": [
    "print(len(uniquelist))\n",
    "print(uniquelist)"
   ]
  },
  {
   "cell_type": "markdown",
   "metadata": {
    "id": "aRj0HCRwBaew"
   },
   "source": [
    "# Visualize graphs"
   ]
  },
  {
   "cell_type": "code",
   "execution_count": null,
   "metadata": {
    "id": "j-_h0Z_Y_3g-"
   },
   "outputs": [],
   "source": [
    "from graphviz import Digraph\n",
    "\n",
    "for _, d in enumerate(data):\n",
    "  nodes_data = data[623]['nodes']\n",
    "  edges_data = data[623]['edges']\n",
    "\n",
    "  dot = Digraph(format='png')\n",
    "  for index, row in nodes_data.iterrows():\n",
    "    dot.node(str(row.id), str(row['type']), shape='box') # + '\\n' + str(row.text)\n",
    "  for index, row in edges_data.iterrows():\n",
    "    dot.edge(str(row['from']), str(row['to'])) #, label=row['label']\n",
    "  dot.render('graphVisualizations/' + data[623]['filename'])\n",
    "  # TODO\n",
    "  if _ >= 0:\n",
    "    break "
   ]
  }
 ],
 "metadata": {
  "colab": {
   "authorship_tag": "ABX9TyMW/6WLUiCZmdSHzUTgjtD5",
   "collapsed_sections": [],
   "mount_file_id": "1ghqp0ozbvYngfuZnMTHUNbn4N3wicmLY",
   "name": "BPprojekt.ipynb",
   "provenance": [],
   "toc_visible": true
  },
  "kernelspec": {
   "display_name": "Python 3",
   "language": "python",
   "name": "python3"
  },
  "language_info": {
   "codemirror_mode": {
    "name": "ipython",
    "version": 3
   },
   "file_extension": ".py",
   "mimetype": "text/x-python",
   "name": "python",
   "nbconvert_exporter": "python",
   "pygments_lexer": "ipython3",
   "version": "3.8.8"
  },
  "widgets": {
   "application/vnd.jupyter.widget-state+json": {
    "15885d8b533f4ac78900e6b7a161f2bb": {
     "model_module": "@jupyter-widgets/controls",
     "model_name": "HTMLModel",
     "state": {
      "_dom_classes": [],
      "_model_module": "@jupyter-widgets/controls",
      "_model_module_version": "1.5.0",
      "_model_name": "HTMLModel",
      "_view_count": null,
      "_view_module": "@jupyter-widgets/controls",
      "_view_module_version": "1.5.0",
      "_view_name": "HTMLView",
      "description": "",
      "description_tooltip": null,
      "layout": "IPY_MODEL_3bdcfa533f6a423ab810910410e4f4e8",
      "placeholder": "​",
      "style": "IPY_MODEL_f840a18c31ed44cfbba779a94586ebec",
      "value": " 815/815 [38:04&lt;00:00,  2.80s/it]"
     }
    },
    "162bd196dd004a1bb543c5d470dc2828": {
     "model_module": "@jupyter-widgets/controls",
     "model_name": "FloatProgressModel",
     "state": {
      "_dom_classes": [],
      "_model_module": "@jupyter-widgets/controls",
      "_model_module_version": "1.5.0",
      "_model_name": "FloatProgressModel",
      "_view_count": null,
      "_view_module": "@jupyter-widgets/controls",
      "_view_module_version": "1.5.0",
      "_view_name": "ProgressView",
      "bar_style": "success",
      "description": "Dataset loading: 100%",
      "description_tooltip": null,
      "layout": "IPY_MODEL_dbc8f281cdd043c795ea0cb458f5b30f",
      "max": 815,
      "min": 0,
      "orientation": "horizontal",
      "style": "IPY_MODEL_a2ace461f6a046ddb5d63eef280929bc",
      "value": 815
     }
    },
    "3249d8ec6d5e450abe2178bee0a899a2": {
     "model_module": "@jupyter-widgets/base",
     "model_name": "LayoutModel",
     "state": {
      "_model_module": "@jupyter-widgets/base",
      "_model_module_version": "1.2.0",
      "_model_name": "LayoutModel",
      "_view_count": null,
      "_view_module": "@jupyter-widgets/base",
      "_view_module_version": "1.2.0",
      "_view_name": "LayoutView",
      "align_content": null,
      "align_items": null,
      "align_self": null,
      "border": null,
      "bottom": null,
      "display": null,
      "flex": null,
      "flex_flow": null,
      "grid_area": null,
      "grid_auto_columns": null,
      "grid_auto_flow": null,
      "grid_auto_rows": null,
      "grid_column": null,
      "grid_gap": null,
      "grid_row": null,
      "grid_template_areas": null,
      "grid_template_columns": null,
      "grid_template_rows": null,
      "height": null,
      "justify_content": null,
      "justify_items": null,
      "left": null,
      "margin": null,
      "max_height": null,
      "max_width": null,
      "min_height": null,
      "min_width": null,
      "object_fit": null,
      "object_position": null,
      "order": null,
      "overflow": null,
      "overflow_x": null,
      "overflow_y": null,
      "padding": null,
      "right": null,
      "top": null,
      "visibility": null,
      "width": null
     }
    },
    "3bdcfa533f6a423ab810910410e4f4e8": {
     "model_module": "@jupyter-widgets/base",
     "model_name": "LayoutModel",
     "state": {
      "_model_module": "@jupyter-widgets/base",
      "_model_module_version": "1.2.0",
      "_model_name": "LayoutModel",
      "_view_count": null,
      "_view_module": "@jupyter-widgets/base",
      "_view_module_version": "1.2.0",
      "_view_name": "LayoutView",
      "align_content": null,
      "align_items": null,
      "align_self": null,
      "border": null,
      "bottom": null,
      "display": null,
      "flex": null,
      "flex_flow": null,
      "grid_area": null,
      "grid_auto_columns": null,
      "grid_auto_flow": null,
      "grid_auto_rows": null,
      "grid_column": null,
      "grid_gap": null,
      "grid_row": null,
      "grid_template_areas": null,
      "grid_template_columns": null,
      "grid_template_rows": null,
      "height": null,
      "justify_content": null,
      "justify_items": null,
      "left": null,
      "margin": null,
      "max_height": null,
      "max_width": null,
      "min_height": null,
      "min_width": null,
      "object_fit": null,
      "object_position": null,
      "order": null,
      "overflow": null,
      "overflow_x": null,
      "overflow_y": null,
      "padding": null,
      "right": null,
      "top": null,
      "visibility": null,
      "width": null
     }
    },
    "a2ace461f6a046ddb5d63eef280929bc": {
     "model_module": "@jupyter-widgets/controls",
     "model_name": "ProgressStyleModel",
     "state": {
      "_model_module": "@jupyter-widgets/controls",
      "_model_module_version": "1.5.0",
      "_model_name": "ProgressStyleModel",
      "_view_count": null,
      "_view_module": "@jupyter-widgets/base",
      "_view_module_version": "1.2.0",
      "_view_name": "StyleView",
      "bar_color": null,
      "description_width": "initial"
     }
    },
    "d0212312301f4edb9a05cd0de57ab5a1": {
     "model_module": "@jupyter-widgets/controls",
     "model_name": "HBoxModel",
     "state": {
      "_dom_classes": [],
      "_model_module": "@jupyter-widgets/controls",
      "_model_module_version": "1.5.0",
      "_model_name": "HBoxModel",
      "_view_count": null,
      "_view_module": "@jupyter-widgets/controls",
      "_view_module_version": "1.5.0",
      "_view_name": "HBoxView",
      "box_style": "",
      "children": [
       "IPY_MODEL_162bd196dd004a1bb543c5d470dc2828",
       "IPY_MODEL_15885d8b533f4ac78900e6b7a161f2bb"
      ],
      "layout": "IPY_MODEL_3249d8ec6d5e450abe2178bee0a899a2"
     }
    },
    "dbc8f281cdd043c795ea0cb458f5b30f": {
     "model_module": "@jupyter-widgets/base",
     "model_name": "LayoutModel",
     "state": {
      "_model_module": "@jupyter-widgets/base",
      "_model_module_version": "1.2.0",
      "_model_name": "LayoutModel",
      "_view_count": null,
      "_view_module": "@jupyter-widgets/base",
      "_view_module_version": "1.2.0",
      "_view_name": "LayoutView",
      "align_content": null,
      "align_items": null,
      "align_self": null,
      "border": null,
      "bottom": null,
      "display": null,
      "flex": null,
      "flex_flow": null,
      "grid_area": null,
      "grid_auto_columns": null,
      "grid_auto_flow": null,
      "grid_auto_rows": null,
      "grid_column": null,
      "grid_gap": null,
      "grid_row": null,
      "grid_template_areas": null,
      "grid_template_columns": null,
      "grid_template_rows": null,
      "height": null,
      "justify_content": null,
      "justify_items": null,
      "left": null,
      "margin": null,
      "max_height": null,
      "max_width": null,
      "min_height": null,
      "min_width": null,
      "object_fit": null,
      "object_position": null,
      "order": null,
      "overflow": null,
      "overflow_x": null,
      "overflow_y": null,
      "padding": null,
      "right": null,
      "top": null,
      "visibility": null,
      "width": null
     }
    },
    "f840a18c31ed44cfbba779a94586ebec": {
     "model_module": "@jupyter-widgets/controls",
     "model_name": "DescriptionStyleModel",
     "state": {
      "_model_module": "@jupyter-widgets/controls",
      "_model_module_version": "1.5.0",
      "_model_name": "DescriptionStyleModel",
      "_view_count": null,
      "_view_module": "@jupyter-widgets/base",
      "_view_module_version": "1.2.0",
      "_view_name": "StyleView",
      "description_width": ""
     }
    }
   }
  }
 },
 "nbformat": 4,
 "nbformat_minor": 4
}
