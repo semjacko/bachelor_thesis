{
 "cells": [
  {
   "cell_type": "markdown",
   "id": "597d3ae8",
   "metadata": {},
   "source": [
    "# GraphPredictor\n",
    "Trieda na jednoduchu manipulaciu s natrenovanym modelom neuronovaj siete"
   ]
  },
  {
   "cell_type": "code",
   "execution_count": 2,
   "id": "2b74e242",
   "metadata": {},
   "outputs": [],
   "source": [
    "import pandas as pd\n",
    "import json\n",
    "from sklearn.preprocessing import OneHotEncoder\n",
    "import numpy as np\n",
    "from stellargraph import StellarGraph\n",
    "from stellargraph.mapper import PaddedGraphGenerator\n",
    "from tensorflow import keras\n",
    "from graphviz import Digraph\n",
    "\n",
    "\n",
    "class GraphPredictor:\n",
    "    \n",
    "    NODE_TYPES = ['require container', 'function', 'local variable', 'file',\n",
    "                  'tableconstructor', 'module', 'statement:keyword', \n",
    "                  'variable container', 'statement:numericfor', 'statement:genericfor', \n",
    "                  'statement:if', 'global function', 'statement:functioncall', \n",
    "                  'statement:assign', 'function container', 'statement:localassign', \n",
    "                  'global variable', 'statement:globalfunction', 'statement:while', \n",
    "                  'statement:localfunction', 'interface container', 'interface', \n",
    "                  'require local variable', 'statement:do', 'statement:repeat']\n",
    "\n",
    "    \n",
    "    def __init__(self, model):\n",
    "        # if model is path\n",
    "        if (isinstance(model, str)):\n",
    "            self.model = keras.models.load_model(model)\n",
    "        else:\n",
    "            self.model = model\n",
    "    \n",
    "    \n",
    "    def create_StellarGraph(self, graph):\n",
    "        nodes = graph['encNodeTypes']\n",
    "        edges = graph['edges']\n",
    "        stellGraph = StellarGraph(\n",
    "                nodes=nodes,\n",
    "                edges=edges,\n",
    "                source_column='from',\n",
    "                target_column='to',\n",
    "                is_directed=True\n",
    "            )\n",
    "        \n",
    "        return stellGraph\n",
    "    \n",
    "    \n",
    "    def create_label(self, graph):\n",
    "        label = [1, 0, 0]\n",
    "        if graph['is_shebang']:\n",
    "            label = [0, 1, 0]\n",
    "        elif graph['is_spec']:\n",
    "            label = [0, 0, 1]\n",
    "        \n",
    "        return label\n",
    "    \n",
    "    \n",
    "    def encode_node_types(self, graph):\n",
    "        enc = OneHotEncoder(handle_unknown='ignore')\n",
    "        X = np.array(self.NODE_TYPES).reshape(-1,1)\n",
    "        enc.fit(X)\n",
    "        encoded = enc.transform(graph['nodes']['type'].values.reshape(-1,1))\n",
    "        graph['encNodeTypes'] = pd.DataFrame(encoded.toarray())\n",
    "    \n",
    "    \n",
    "    def read_graph(self, graph_path):\n",
    "        graph = {}\n",
    "        \n",
    "        with open(graph_path) as json_file:\n",
    "            json_data = json.load(json_file)\n",
    "            graph['filename'] = json_data['_filename']\n",
    "            graph['path'] = json_data['_path']\n",
    "            graph['is_test'] = int(json_data['_isTest'])\n",
    "            graph['is_spec'] = int(json_data['_isSpec'])\n",
    "            graph['is_shebang'] = int(json_data['_isShebang'])\n",
    "            graph['nodes'] = pd.DataFrame(json_data['nodes'], columns=['id', 'type', 'text'])\n",
    "            graph['nodes'] = graph['nodes'].set_index('id')\n",
    "            graph['edges'] = pd.DataFrame(json_data['edges'], columns=['from', 'to'])\n",
    "            \n",
    "        self.encode_node_types(graph) \n",
    "        \n",
    "        return graph    \n",
    "    \n",
    "    \n",
    "    def show_graph(self, graph):\n",
    "        graph_raw = graph\n",
    "        \n",
    "        # if graph is path\n",
    "        if (isinstance(graph, str)):\n",
    "            graph_raw = self.read_graph(graph)\n",
    "        \n",
    "        nodes_data = graph_raw['nodes']\n",
    "        edges_data = graph_raw['edges']\n",
    "\n",
    "        dot = Digraph(format='png')\n",
    "        \n",
    "        for idx, row in nodes_data.iterrows():\n",
    "            dot.node(str(idx), str(row['type'] + '\\n' + str(row['text'])), shape='box')\n",
    "\n",
    "        for idx, row in edges_data.iterrows():\n",
    "            dot.edge(str(row['from']), str(row['to']))\n",
    "        \n",
    "        return dot\n",
    "    \n",
    "    \n",
    "    def predict(self, graphs, print_predictions=True):\n",
    "        graphs_raw = graphs\n",
    "        \n",
    "        # if graphs are paths to graphs\n",
    "        if (isinstance(graphs[0], str)):\n",
    "            graphs_raw = [self.read_graph(path) for path in graphs]\n",
    "            \n",
    "        stellGraphs = [self.create_StellarGraph(g) for g in graphs_raw]\n",
    "        labels = [self.create_label(g) for g in graphs_raw]\n",
    "        \n",
    "        generator = PaddedGraphGenerator(graphs=stellGraphs)\n",
    "        X = generator.flow(graphs=stellGraphs)\n",
    "        predicts = self.model.predict(X)\n",
    "        \n",
    "        if (print_predictions):\n",
    "            for i, p in enumerate(predicts):\n",
    "                filename = graphs_raw[i]['filename']\n",
    "                basic = round(p[0]*100, 2)\n",
    "                shebang = round(p[1]*100, 2)\n",
    "                spec = round(p[2]*100, 2)\n",
    "                print(f'{filename}:\\n\\tbasic {basic}%\\n\\tshebang {shebang}%\\n\\tspec {spec}%')\n",
    "                \n",
    "            return\n",
    "        \n",
    "        return predicts\n",
    "    \n",
    "    \n",
    "    def evaluate(self, graphs):\n",
    "        graphs_raw = graphs\n",
    "        \n",
    "        # if graphs are paths to graphs\n",
    "        if (isinstance(graphs[0], str)):\n",
    "            graphs_raw = [self.read_graph(path) for path in graphs]\n",
    "            \n",
    "        stellGraphs = [self.create_StellarGraph(g) for g in graphs_raw]\n",
    "        labels = [self.create_label(g) for g in graphs_raw]\n",
    "        \n",
    "        generator = PaddedGraphGenerator(graphs=stellGraphs)\n",
    "        test_gen = generator.flow(graphs=stellGraphs, targets=np.array(labels))\n",
    "        \n",
    "        return self.model.evaluate(test_gen, verbose=1)"
   ]
  },
  {
   "cell_type": "markdown",
   "id": "8e7584ba",
   "metadata": {},
   "source": [
    "## Usage of GraphPredictor"
   ]
  },
  {
   "cell_type": "markdown",
   "id": "d0d0a447",
   "metadata": {},
   "source": [
    "Konstruktor berie ako parameter cestu k modelu alebo samotny model"
   ]
  },
  {
   "cell_type": "code",
   "execution_count": 3,
   "id": "0b2173a5",
   "metadata": {},
   "outputs": [],
   "source": [
    "graph_predictor = GraphPredictor('model')"
   ]
  },
  {
   "cell_type": "code",
   "execution_count": 4,
   "id": "d369407d",
   "metadata": {},
   "outputs": [],
   "source": [
    "graph_paths = ['../data/30log/30log.lua.json', \n",
    "               '../data/bencode/dumptorrent.lua.json', \n",
    "               '../data/busted/cl_error_messages.lua.json']"
   ]
  },
  {
   "cell_type": "markdown",
   "id": "319fabdc",
   "metadata": {},
   "source": [
    "### Predictions \n",
    "Funkcia berie ako parameter list ciest ku grafom alebo nacitane grafy."
   ]
  },
  {
   "cell_type": "code",
   "execution_count": 5,
   "id": "a1702fa8",
   "metadata": {},
   "outputs": [
    {
     "name": "stdout",
     "output_type": "stream",
     "text": [
      "30log.lua:\n",
      "\tbasic 88.31%\n",
      "\tshebang 6.2%\n",
      "\tspec 5.49%\n",
      "dumptorrent.lua:\n",
      "\tbasic 28.75%\n",
      "\tshebang 66.13%\n",
      "\tspec 5.12%\n",
      "cl_error_messages.lua:\n",
      "\tbasic 1.09%\n",
      "\tshebang 1.27%\n",
      "\tspec 97.65%\n"
     ]
    }
   ],
   "source": [
    "graph_predictor.predict(graph_paths)"
   ]
  },
  {
   "cell_type": "markdown",
   "id": "3b3496dc",
   "metadata": {},
   "source": [
    "### Evaluation\n",
    "Funkcia berie ako parameter list ciest ku grafom alebo nacitane grafy."
   ]
  },
  {
   "cell_type": "code",
   "execution_count": 6,
   "id": "5d63a01d",
   "metadata": {},
   "outputs": [
    {
     "name": "stdout",
     "output_type": "stream",
     "text": [
      "3/3 [==============================] - 0s 4ms/step - loss: 0.1872 - accuracy: 1.0000 - precision: 1.0000\n",
      "\n",
      "Test Set Metrics:\n",
      "\tloss: 0.1872\n",
      "\taccuracy: 1.0000\n",
      "\tprecision: 1.0000\n"
     ]
    }
   ],
   "source": [
    "test_metrics = graph_predictor.evaluate(graph_paths)\n",
    "\n",
    "print(\"\\nTest Set Metrics:\")\n",
    "for name, val in zip(graph_predictor.model.metrics_names, test_metrics):\n",
    "    print(\"\\t{}: {:0.4f}\".format(name, val))"
   ]
  },
  {
   "cell_type": "markdown",
   "id": "4fdf3a07",
   "metadata": {},
   "source": [
    "### Graph vizualisation\n",
    "Funkcia berie ako parameter cestu ku konkretnemu grafu alebo instanciu nacitaneho grafu"
   ]
  },
  {
   "cell_type": "code",
   "execution_count": null,
   "id": "48dc060a",
   "metadata": {},
   "outputs": [],
   "source": [
    "graph_predictor.show_graph(graph_paths[0])"
   ]
  }
 ],
 "metadata": {
  "kernelspec": {
   "display_name": "Python 3",
   "language": "python",
   "name": "python3"
  },
  "language_info": {
   "codemirror_mode": {
    "name": "ipython",
    "version": 3
   },
   "file_extension": ".py",
   "mimetype": "text/x-python",
   "name": "python",
   "nbconvert_exporter": "python",
   "pygments_lexer": "ipython3",
   "version": "3.8.8"
  }
 },
 "nbformat": 4,
 "nbformat_minor": 5
}
