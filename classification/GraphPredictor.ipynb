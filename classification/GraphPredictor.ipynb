{
 "cells": [
  {
   "cell_type": "code",
   "execution_count": 39,
   "id": "36939ca1",
   "metadata": {},
   "outputs": [],
   "source": [
    "import pandas as pd\n",
    "import json\n",
    "from sklearn.preprocessing import OneHotEncoder\n",
    "import numpy as np\n",
    "from stellargraph import StellarGraph\n",
    "from stellargraph.mapper import PaddedGraphGenerator\n",
    "from tensorflow import keras\n",
    "\n",
    "\n",
    "class GraphPredictor:\n",
    "    NODE_TYPES = ['require container', 'function', 'local variable', 'file',\n",
    "                  'tableconstructor', 'module', 'statement:keyword', \n",
    "                  'variable container', 'statement:numericfor', 'statement:genericfor', \n",
    "                  'statement:if', 'global function', 'statement:functioncall', \n",
    "                  'statement:assign', 'function container', 'statement:localassign', \n",
    "                  'global variable', 'statement:globalfunction', 'statement:while', \n",
    "                  'statement:localfunction', 'interface container', 'interface', \n",
    "                  'require local variable', 'statement:do', 'statement:repeat']\n",
    "\n",
    "    def __init__(self, model_path):\n",
    "        self.model = keras.models.load_model(model_path)\n",
    "    \n",
    "    def create_StellarGraph(self, graph):\n",
    "        nodes = graph['encNodeTypes']\n",
    "        edges = graph['edges']\n",
    "        label = graph['isSpec'] or graph['isTest']\n",
    "        stellGraph = StellarGraph(nodes=nodes, edges=edges, source_column='from', target_column='to', is_directed=True)\n",
    "        return stellGraph, label\n",
    "    \n",
    "    def encode_node_types(self, graph):\n",
    "        enc = OneHotEncoder(handle_unknown='ignore')\n",
    "        X = np.array(self.NODE_TYPES).reshape(-1,1)\n",
    "        enc.fit(X)\n",
    "        encoded = enc.transform(graph['nodes']['type'].values.reshape(-1,1))\n",
    "        graph['encNodeTypes'] = pd.DataFrame(encoded.toarray())\n",
    "    \n",
    "    def read_graph(self, graph_path):\n",
    "        graph = {}\n",
    "        with open(graph_path) as jsonFile:\n",
    "            jsonData = json.load(jsonFile)\n",
    "            graph['filename'] = jsonData['_filename']\n",
    "            graph['isTest'] = int(jsonData['_isTest'])\n",
    "            graph['isSpec'] = int(jsonData['_isSpec'])\n",
    "            graph['nodes'] = pd.DataFrame(jsonData['nodes'], columns=['id', 'type'])\n",
    "            graph['nodes'] = graph['nodes'].set_index('id')\n",
    "            graph['edges'] = pd.DataFrame(jsonData['edges'], columns=['from', 'to'])\n",
    "        self.encode_node_types(graph) \n",
    "        return self.create_StellarGraph(graph)     \n",
    "    \n",
    "    def predict(self, graph_path):\n",
    "        stellGraph, label = self.read_graph(graph_path)\n",
    "        generator = PaddedGraphGenerator(graphs=[stellGraph])\n",
    "        X = generator.flow(graphs=[stellGraph])\n",
    "        return self.model.predict(X)[0][0]\n",
    "    \n",
    "    def evaluate(self, graph_path):\n",
    "        stellGraph, label = self.read_graph(graph_path)\n",
    "        generator = PaddedGraphGenerator(graphs=[stellGraph])\n",
    "        g = generator.flow(graphs=[stellGraph], targets=[label])\n",
    "        return self.model.evaluate(g, verbose=0)"
   ]
  },
  {
   "cell_type": "code",
   "execution_count": 40,
   "id": "ec03a11e",
   "metadata": {},
   "outputs": [],
   "source": [
    "graph_predictor = GraphPredictor('model')"
   ]
  },
  {
   "cell_type": "code",
   "execution_count": 52,
   "id": "f0f4482e",
   "metadata": {},
   "outputs": [
    {
     "name": "stdout",
     "output_type": "stream",
     "text": [
      "This is 75.98% TEST file\n"
     ]
    }
   ],
   "source": [
    "result = graph_predictor.predict('../data/_TEST/file.lua.json')\n",
    "print(f'This is {str(round(result * 100, 2))}% TEST file')"
   ]
  },
  {
   "cell_type": "code",
   "execution_count": 55,
   "id": "8bb2dfa7",
   "metadata": {},
   "outputs": [
    {
     "name": "stdout",
     "output_type": "stream",
     "text": [
      "\n",
      "Test Metrics:\n",
      "\tloss: 0.2747\n",
      "\tacc: 1.0000\n"
     ]
    }
   ],
   "source": [
    "test_metrics = graph_predictor.evaluate('../data/_TEST/file.lua.json')\n",
    "print(\"\\nTest Metrics:\")\n",
    "for name, val in zip(graph_predictor.model.metrics_names, test_metrics):\n",
    "    print(\"\\t{}: {:0.4f}\".format(name, val))"
   ]
  },
  {
   "cell_type": "code",
   "execution_count": 43,
   "id": "8075bc11",
   "metadata": {},
   "outputs": [
    {
     "data": {
      "text/plain": [
       "<tensorflow.python.keras.engine.functional.Functional at 0x7f3327a73a00>"
      ]
     },
     "execution_count": 43,
     "metadata": {},
     "output_type": "execute_result"
    }
   ],
   "source": [
    "graph_predictor.model"
   ]
  },
  {
   "cell_type": "code",
   "execution_count": null,
   "id": "ede24525",
   "metadata": {},
   "outputs": [],
   "source": []
  }
 ],
 "metadata": {
  "kernelspec": {
   "display_name": "Python 3",
   "language": "python",
   "name": "python3"
  },
  "language_info": {
   "codemirror_mode": {
    "name": "ipython",
    "version": 3
   },
   "file_extension": ".py",
   "mimetype": "text/x-python",
   "name": "python",
   "nbconvert_exporter": "python",
   "pygments_lexer": "ipython3",
   "version": "3.8.8"
  }
 },
 "nbformat": 4,
 "nbformat_minor": 5
}
