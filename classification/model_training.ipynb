{
 "cells": [
  {
   "cell_type": "markdown",
   "metadata": {
    "id": "1amfDVqIto9n"
   },
   "source": [
    "# Read JSON files\n",
    "\n",
    "do premennej `graphs_raw` sa nacitaju vsetky grafy z datasetu\n",
    "\n",
    "`graph_raw`:\n",
    "  - `filename`: nazov .lua suboru, z ktoreho je vytvoreny\n",
    "  - `path`: cesta k .lua suboru, z ktoreho je vytvoreny \n",
    "  - `is_test`: 1 ak sa subor nachadzal v `test` adresari, inak 0\n",
    "  - `is_spec`: 1 ak sa subor nachadzal v `spec` adresari, inak 0\n",
    "  - `is_shebang`: 1 ak boli prve 2 znaky v subore '#!', inak 0\n",
    "  - `nodes`: DataFrame(columns=\\['id', 'type'\\])\n",
    "  - `edges`: DataFrame(columns=\\['from', 'to'\\])\n",
    "\n"
   ]
  },
  {
   "cell_type": "code",
   "execution_count": 381,
   "metadata": {},
   "outputs": [],
   "source": [
    "import os\n",
    "import pandas as pd\n",
    "import json\n",
    "from tqdm.notebook import tnrange # loading bar"
   ]
  },
  {
   "cell_type": "code",
   "execution_count": 382,
   "metadata": {
    "colab": {
     "base_uri": "https://localhost:8080/",
     "height": 102,
     "referenced_widgets": [
      "d0212312301f4edb9a05cd0de57ab5a1",
      "3249d8ec6d5e450abe2178bee0a899a2",
      "162bd196dd004a1bb543c5d470dc2828",
      "15885d8b533f4ac78900e6b7a161f2bb",
      "a2ace461f6a046ddb5d63eef280929bc",
      "dbc8f281cdd043c795ea0cb458f5b30f",
      "f840a18c31ed44cfbba779a94586ebec",
      "3bdcfa533f6a423ab810910410e4f4e8"
     ]
    },
    "executionInfo": {
     "elapsed": 1121229,
     "status": "ok",
     "timestamp": 1618140077216,
     "user": {
      "displayName": "Róbert Jačko",
      "photoUrl": "",
      "userId": "15811568458173000815"
     },
     "user_tz": -120
    },
    "id": "MrVVg61b_wx9",
    "outputId": "8944ca81-3fa4-4ae0-fc6f-5e78face3737"
   },
   "outputs": [
    {
     "data": {
      "application/vnd.jupyter.widget-view+json": {
       "model_id": "dc14c8d9fba74d07bc41a9be742920f3",
       "version_major": 2,
       "version_minor": 0
      },
      "text/plain": [
       "Dataset loading:   0%|          | 0/216 [00:00<?, ?it/s]"
      ]
     },
     "metadata": {},
     "output_type": "display_data"
    },
    {
     "name": "stdout",
     "output_type": "stream",
     "text": [
      "Wrong json file: ../data/cd/simpledraw.lua.json\n",
      "Wrong json file: ../data/cd-examples/simpledraw.lua.json\n",
      "Wrong json file: ../data/lrexlib/oniguruma_sets.lua.json\n",
      "Wrong json file: ../data/lrexlib/pcre_sets.lua.json\n",
      "Wrong json file: ../data/lrexlib-gnu/oniguruma_sets.lua.json\n",
      "Wrong json file: ../data/lrexlib-gnu/pcre_sets.lua.json\n",
      "Wrong json file: ../data/lrexlib-oniguruma/oniguruma_sets.lua.json\n",
      "Wrong json file: ../data/lrexlib-oniguruma/pcre_sets.lua.json\n",
      "Wrong json file: ../data/lrexlib-pcre/oniguruma_sets.lua.json\n",
      "Wrong json file: ../data/lrexlib-pcre/pcre_sets.lua.json\n",
      "Wrong json file: ../data/lrexlib-posix/oniguruma_sets.lua.json\n",
      "Wrong json file: ../data/lrexlib-posix/pcre_sets.lua.json\n",
      "Wrong json file: ../data/lrexlib-tre/oniguruma_sets.lua.json\n",
      "Wrong json file: ../data/lrexlib-tre/pcre_sets.lua.json\n",
      "Wrong json file: ../data/lua-openssl/7.csr.lua.json\n",
      "Wrong json file: ../data/lua-path/test_wcs.lua.json\n",
      "Wrong json file: ../data/lua-pop3/test-message.lua.json\n",
      "Wrong json file: ../data/lua-sendmail/sendmail.lua.json\n",
      "Wrong json file: ../data/StackTracePlus/StackTracePlus.lua.json\n"
     ]
    }
   ],
   "source": [
    "graphs_raw = []\n",
    "\n",
    "data_path = '../data'\n",
    "dirs = os.listdir(data_path)\n",
    "num_dirs = len(dirs)\n",
    "\n",
    "for i in tnrange(num_dirs, desc='Dataset loading'):\n",
    "    dirname = dirs[i]\n",
    "    dir_path = data_path + '/' + dirname\n",
    "    for filename in os.listdir(dir_path):\n",
    "        json_file = dir_path + '/' + filename\n",
    "        with open(json_file) as jf:\n",
    "            graph = {}\n",
    "            try:\n",
    "                json_data = json.load(jf)\n",
    "                graph['filename'] = json_data['_filename']\n",
    "                graph['path'] = json_data['_path']\n",
    "                graph['is_test'] = int(json_data['_isTest'])\n",
    "                graph['is_spec'] = int(json_data['_isSpec'])\n",
    "                graph['is_shebang'] = int(json_data['_isShebang'])\n",
    "                graph['nodes'] = pd.DataFrame(json_data['nodes'], columns=['id', 'type'])\n",
    "                graph['nodes'] = graph['nodes'].set_index('id')\n",
    "                graph['edges'] = pd.DataFrame(json_data['edges'], columns=['from', 'to'])\n",
    "                graphs_raw.append(graph)\n",
    "            except:\n",
    "                print(f'Wrong json file: {json_file}')"
   ]
  },
  {
   "cell_type": "markdown",
   "metadata": {},
   "source": [
    "## Node types\n",
    "\n",
    "Kedze extraktor, ktory som pouzil na extrakciu grafov zo zdrojovych lua suborov ma nejake bugy, v typoch uzlov sa nachadzaju aj take uzly, ktore by tam byt nemali."
   ]
  },
  {
   "cell_type": "code",
   "execution_count": 383,
   "metadata": {},
   "outputs": [],
   "source": [
    "unique_list = []\n",
    "for d in graphs_raw:\n",
    "    curr_list = d['nodes']['type'].unique()\n",
    "    unique_list += list(set(curr_list) - set(unique_list))"
   ]
  },
  {
   "cell_type": "code",
   "execution_count": 384,
   "metadata": {},
   "outputs": [
    {
     "name": "stdout",
     "output_type": "stream",
     "text": [
      "Node types:\n",
      "    file\n",
      "    statement:keyword\n",
      "    blank lines\n",
      "    module\n",
      "    statement:while\n",
      "    interface\n",
      "    n/a\n",
      "    function\n",
      "    global variable\n",
      "    statement:assign\n",
      "    variable container\n",
      "    global function\n",
      "    require local variable\n",
      "    require container\n",
      "    interface container\n",
      "    statement:localassign\n",
      "    local variable\n",
      "    statement:genericfor\n",
      "    function container\n",
      "    statement:functioncall\n",
      "    statement:if\n",
      "    tableconstructor\n",
      "    statement:numericfor\n",
      "    string\n",
      "    statement:localfunction\n",
      "    table assign node\n",
      "    unop\n",
      "    number\n",
      "    symbol\n",
      "    boolean\n",
      "    statement:repeat\n",
      "    statement:globalfunction\n",
      "    keyword\n",
      "    statement:do\n",
      "    _prefixexp\n",
      "    _simpleexp\n"
     ]
    }
   ],
   "source": [
    "print('Node types:')\n",
    "for u in unique_list:\n",
    "    print(f'    {u}')"
   ]
  },
  {
   "cell_type": "markdown",
   "metadata": {
    "id": "kWTkf36Ws1Gg"
   },
   "source": [
    "# OneHot\n",
    "\n",
    "Kazdemu grafu z `graphs_raw` sa prida atribut `enc_node_types` (OneHot kodovanie typov uzlov).\n",
    "\n",
    "- `enc_node_types` je DataFrame OneHot kodovani pre vsetky uzly v danom grafe\n",
    "- **typy uzlov**: *\\['require container', 'function', 'local variable', 'file', 'tableconstructor', 'module', 'statement:keyword', 'variable container', 'statement:numericfor', 'statement:genericfor', 'statement:if', 'global function', 'statement:functioncall', 'statement:assign', 'function container', 'statement:localassign', 'global variable', 'statement:globalfunction', 'statement:while', 'statement:localfunction', 'interface container', 'interface', 'require local variable', 'statement:do', 'statement:repeat'\\]*\n",
    "- ostatne typy uzlov sa ignoruju (taketo uzly budu zakodovane samymi nulami)"
   ]
  },
  {
   "cell_type": "code",
   "execution_count": 385,
   "metadata": {},
   "outputs": [],
   "source": [
    "from sklearn.preprocessing import OneHotEncoder\n",
    "import numpy as np"
   ]
  },
  {
   "cell_type": "code",
   "execution_count": 386,
   "metadata": {
    "executionInfo": {
     "elapsed": 4894,
     "status": "ok",
     "timestamp": 1618141244142,
     "user": {
      "displayName": "Róbert Jačko",
      "photoUrl": "",
      "userId": "15811568458173000815"
     },
     "user_tz": -120
    },
    "id": "YAutjsD6s0Ei"
   },
   "outputs": [],
   "source": [
    "node_types = [\n",
    "    'require container', 'function', 'local variable', 'file', \n",
    "    'tableconstructor', 'module', 'statement:keyword', \n",
    "    'variable container', 'statement:numericfor', 'statement:genericfor', \n",
    "    'statement:if', 'global function', 'statement:functioncall', \n",
    "    'statement:assign', 'function container', 'statement:localassign', \n",
    "    'global variable', 'statement:globalfunction', 'statement:while', \n",
    "    'statement:localfunction', 'interface container', 'interface', \n",
    "    'require local variable', 'statement:do', 'statement:repeat'\n",
    "]\n",
    "\n",
    "enc = OneHotEncoder(handle_unknown='ignore')\n",
    "X = np.array(node_types).reshape(-1,1)\n",
    "enc.fit(X)\n",
    "\n",
    "for gr in graphs_raw:\n",
    "    # encode all NodeTypes in graph\n",
    "    encoded = enc.transform(gr['nodes']['type'].values.reshape(-1,1))\n",
    "    gr['enc_node_types'] = pd.DataFrame(encoded.toarray())"
   ]
  },
  {
   "cell_type": "code",
   "execution_count": 387,
   "metadata": {},
   "outputs": [
    {
     "data": {
      "text/html": [
       "<div>\n",
       "<style scoped>\n",
       "    .dataframe tbody tr th:only-of-type {\n",
       "        vertical-align: middle;\n",
       "    }\n",
       "\n",
       "    .dataframe tbody tr th {\n",
       "        vertical-align: top;\n",
       "    }\n",
       "\n",
       "    .dataframe thead th {\n",
       "        text-align: right;\n",
       "    }\n",
       "</style>\n",
       "<table border=\"1\" class=\"dataframe\">\n",
       "  <thead>\n",
       "    <tr style=\"text-align: right;\">\n",
       "      <th></th>\n",
       "      <th>0</th>\n",
       "      <th>1</th>\n",
       "      <th>2</th>\n",
       "      <th>3</th>\n",
       "      <th>4</th>\n",
       "      <th>5</th>\n",
       "      <th>6</th>\n",
       "      <th>7</th>\n",
       "      <th>8</th>\n",
       "      <th>9</th>\n",
       "      <th>...</th>\n",
       "      <th>15</th>\n",
       "      <th>16</th>\n",
       "      <th>17</th>\n",
       "      <th>18</th>\n",
       "      <th>19</th>\n",
       "      <th>20</th>\n",
       "      <th>21</th>\n",
       "      <th>22</th>\n",
       "      <th>23</th>\n",
       "      <th>24</th>\n",
       "    </tr>\n",
       "  </thead>\n",
       "  <tbody>\n",
       "    <tr>\n",
       "      <th>0</th>\n",
       "      <td>1.0</td>\n",
       "      <td>0.0</td>\n",
       "      <td>0.0</td>\n",
       "      <td>0.0</td>\n",
       "      <td>0.0</td>\n",
       "      <td>0.0</td>\n",
       "      <td>0.0</td>\n",
       "      <td>0.0</td>\n",
       "      <td>0.0</td>\n",
       "      <td>0.0</td>\n",
       "      <td>...</td>\n",
       "      <td>0.0</td>\n",
       "      <td>0.0</td>\n",
       "      <td>0.0</td>\n",
       "      <td>0.0</td>\n",
       "      <td>0.0</td>\n",
       "      <td>0.0</td>\n",
       "      <td>0.0</td>\n",
       "      <td>0.0</td>\n",
       "      <td>0.0</td>\n",
       "      <td>0.0</td>\n",
       "    </tr>\n",
       "    <tr>\n",
       "      <th>1</th>\n",
       "      <td>0.0</td>\n",
       "      <td>0.0</td>\n",
       "      <td>0.0</td>\n",
       "      <td>0.0</td>\n",
       "      <td>0.0</td>\n",
       "      <td>0.0</td>\n",
       "      <td>0.0</td>\n",
       "      <td>0.0</td>\n",
       "      <td>1.0</td>\n",
       "      <td>0.0</td>\n",
       "      <td>...</td>\n",
       "      <td>0.0</td>\n",
       "      <td>0.0</td>\n",
       "      <td>0.0</td>\n",
       "      <td>0.0</td>\n",
       "      <td>0.0</td>\n",
       "      <td>0.0</td>\n",
       "      <td>0.0</td>\n",
       "      <td>0.0</td>\n",
       "      <td>0.0</td>\n",
       "      <td>0.0</td>\n",
       "    </tr>\n",
       "    <tr>\n",
       "      <th>2</th>\n",
       "      <td>0.0</td>\n",
       "      <td>1.0</td>\n",
       "      <td>0.0</td>\n",
       "      <td>0.0</td>\n",
       "      <td>0.0</td>\n",
       "      <td>0.0</td>\n",
       "      <td>0.0</td>\n",
       "      <td>0.0</td>\n",
       "      <td>0.0</td>\n",
       "      <td>0.0</td>\n",
       "      <td>...</td>\n",
       "      <td>0.0</td>\n",
       "      <td>0.0</td>\n",
       "      <td>0.0</td>\n",
       "      <td>0.0</td>\n",
       "      <td>0.0</td>\n",
       "      <td>0.0</td>\n",
       "      <td>0.0</td>\n",
       "      <td>0.0</td>\n",
       "      <td>0.0</td>\n",
       "      <td>0.0</td>\n",
       "    </tr>\n",
       "    <tr>\n",
       "      <th>3</th>\n",
       "      <td>0.0</td>\n",
       "      <td>0.0</td>\n",
       "      <td>0.0</td>\n",
       "      <td>0.0</td>\n",
       "      <td>0.0</td>\n",
       "      <td>0.0</td>\n",
       "      <td>0.0</td>\n",
       "      <td>0.0</td>\n",
       "      <td>0.0</td>\n",
       "      <td>0.0</td>\n",
       "      <td>...</td>\n",
       "      <td>0.0</td>\n",
       "      <td>0.0</td>\n",
       "      <td>0.0</td>\n",
       "      <td>1.0</td>\n",
       "      <td>0.0</td>\n",
       "      <td>0.0</td>\n",
       "      <td>0.0</td>\n",
       "      <td>0.0</td>\n",
       "      <td>0.0</td>\n",
       "      <td>0.0</td>\n",
       "    </tr>\n",
       "    <tr>\n",
       "      <th>4</th>\n",
       "      <td>0.0</td>\n",
       "      <td>0.0</td>\n",
       "      <td>0.0</td>\n",
       "      <td>0.0</td>\n",
       "      <td>0.0</td>\n",
       "      <td>0.0</td>\n",
       "      <td>0.0</td>\n",
       "      <td>0.0</td>\n",
       "      <td>0.0</td>\n",
       "      <td>0.0</td>\n",
       "      <td>...</td>\n",
       "      <td>0.0</td>\n",
       "      <td>0.0</td>\n",
       "      <td>0.0</td>\n",
       "      <td>0.0</td>\n",
       "      <td>0.0</td>\n",
       "      <td>0.0</td>\n",
       "      <td>0.0</td>\n",
       "      <td>0.0</td>\n",
       "      <td>0.0</td>\n",
       "      <td>0.0</td>\n",
       "    </tr>\n",
       "    <tr>\n",
       "      <th>...</th>\n",
       "      <td>...</td>\n",
       "      <td>...</td>\n",
       "      <td>...</td>\n",
       "      <td>...</td>\n",
       "      <td>...</td>\n",
       "      <td>...</td>\n",
       "      <td>...</td>\n",
       "      <td>...</td>\n",
       "      <td>...</td>\n",
       "      <td>...</td>\n",
       "      <td>...</td>\n",
       "      <td>...</td>\n",
       "      <td>...</td>\n",
       "      <td>...</td>\n",
       "      <td>...</td>\n",
       "      <td>...</td>\n",
       "      <td>...</td>\n",
       "      <td>...</td>\n",
       "      <td>...</td>\n",
       "      <td>...</td>\n",
       "      <td>...</td>\n",
       "    </tr>\n",
       "    <tr>\n",
       "      <th>77</th>\n",
       "      <td>0.0</td>\n",
       "      <td>0.0</td>\n",
       "      <td>0.0</td>\n",
       "      <td>0.0</td>\n",
       "      <td>0.0</td>\n",
       "      <td>0.0</td>\n",
       "      <td>0.0</td>\n",
       "      <td>0.0</td>\n",
       "      <td>0.0</td>\n",
       "      <td>0.0</td>\n",
       "      <td>...</td>\n",
       "      <td>0.0</td>\n",
       "      <td>0.0</td>\n",
       "      <td>0.0</td>\n",
       "      <td>0.0</td>\n",
       "      <td>0.0</td>\n",
       "      <td>0.0</td>\n",
       "      <td>0.0</td>\n",
       "      <td>0.0</td>\n",
       "      <td>0.0</td>\n",
       "      <td>0.0</td>\n",
       "    </tr>\n",
       "    <tr>\n",
       "      <th>78</th>\n",
       "      <td>0.0</td>\n",
       "      <td>0.0</td>\n",
       "      <td>0.0</td>\n",
       "      <td>0.0</td>\n",
       "      <td>0.0</td>\n",
       "      <td>0.0</td>\n",
       "      <td>0.0</td>\n",
       "      <td>0.0</td>\n",
       "      <td>0.0</td>\n",
       "      <td>0.0</td>\n",
       "      <td>...</td>\n",
       "      <td>0.0</td>\n",
       "      <td>0.0</td>\n",
       "      <td>0.0</td>\n",
       "      <td>0.0</td>\n",
       "      <td>0.0</td>\n",
       "      <td>0.0</td>\n",
       "      <td>0.0</td>\n",
       "      <td>0.0</td>\n",
       "      <td>0.0</td>\n",
       "      <td>0.0</td>\n",
       "    </tr>\n",
       "    <tr>\n",
       "      <th>79</th>\n",
       "      <td>0.0</td>\n",
       "      <td>0.0</td>\n",
       "      <td>0.0</td>\n",
       "      <td>0.0</td>\n",
       "      <td>0.0</td>\n",
       "      <td>0.0</td>\n",
       "      <td>0.0</td>\n",
       "      <td>0.0</td>\n",
       "      <td>0.0</td>\n",
       "      <td>0.0</td>\n",
       "      <td>...</td>\n",
       "      <td>0.0</td>\n",
       "      <td>0.0</td>\n",
       "      <td>0.0</td>\n",
       "      <td>0.0</td>\n",
       "      <td>0.0</td>\n",
       "      <td>0.0</td>\n",
       "      <td>0.0</td>\n",
       "      <td>0.0</td>\n",
       "      <td>0.0</td>\n",
       "      <td>0.0</td>\n",
       "    </tr>\n",
       "    <tr>\n",
       "      <th>80</th>\n",
       "      <td>0.0</td>\n",
       "      <td>0.0</td>\n",
       "      <td>0.0</td>\n",
       "      <td>0.0</td>\n",
       "      <td>0.0</td>\n",
       "      <td>0.0</td>\n",
       "      <td>0.0</td>\n",
       "      <td>0.0</td>\n",
       "      <td>0.0</td>\n",
       "      <td>0.0</td>\n",
       "      <td>...</td>\n",
       "      <td>0.0</td>\n",
       "      <td>0.0</td>\n",
       "      <td>0.0</td>\n",
       "      <td>0.0</td>\n",
       "      <td>0.0</td>\n",
       "      <td>0.0</td>\n",
       "      <td>0.0</td>\n",
       "      <td>0.0</td>\n",
       "      <td>0.0</td>\n",
       "      <td>0.0</td>\n",
       "    </tr>\n",
       "    <tr>\n",
       "      <th>81</th>\n",
       "      <td>0.0</td>\n",
       "      <td>0.0</td>\n",
       "      <td>0.0</td>\n",
       "      <td>0.0</td>\n",
       "      <td>0.0</td>\n",
       "      <td>0.0</td>\n",
       "      <td>0.0</td>\n",
       "      <td>0.0</td>\n",
       "      <td>0.0</td>\n",
       "      <td>0.0</td>\n",
       "      <td>...</td>\n",
       "      <td>0.0</td>\n",
       "      <td>0.0</td>\n",
       "      <td>0.0</td>\n",
       "      <td>0.0</td>\n",
       "      <td>0.0</td>\n",
       "      <td>0.0</td>\n",
       "      <td>0.0</td>\n",
       "      <td>0.0</td>\n",
       "      <td>0.0</td>\n",
       "      <td>0.0</td>\n",
       "    </tr>\n",
       "  </tbody>\n",
       "</table>\n",
       "<p>82 rows × 25 columns</p>\n",
       "</div>"
      ],
      "text/plain": [
       "     0    1    2    3    4    5    6    7    8    9   ...   15   16   17   18  \\\n",
       "0   1.0  0.0  0.0  0.0  0.0  0.0  0.0  0.0  0.0  0.0  ...  0.0  0.0  0.0  0.0   \n",
       "1   0.0  0.0  0.0  0.0  0.0  0.0  0.0  0.0  1.0  0.0  ...  0.0  0.0  0.0  0.0   \n",
       "2   0.0  1.0  0.0  0.0  0.0  0.0  0.0  0.0  0.0  0.0  ...  0.0  0.0  0.0  0.0   \n",
       "3   0.0  0.0  0.0  0.0  0.0  0.0  0.0  0.0  0.0  0.0  ...  0.0  0.0  0.0  1.0   \n",
       "4   0.0  0.0  0.0  0.0  0.0  0.0  0.0  0.0  0.0  0.0  ...  0.0  0.0  0.0  0.0   \n",
       "..  ...  ...  ...  ...  ...  ...  ...  ...  ...  ...  ...  ...  ...  ...  ...   \n",
       "77  0.0  0.0  0.0  0.0  0.0  0.0  0.0  0.0  0.0  0.0  ...  0.0  0.0  0.0  0.0   \n",
       "78  0.0  0.0  0.0  0.0  0.0  0.0  0.0  0.0  0.0  0.0  ...  0.0  0.0  0.0  0.0   \n",
       "79  0.0  0.0  0.0  0.0  0.0  0.0  0.0  0.0  0.0  0.0  ...  0.0  0.0  0.0  0.0   \n",
       "80  0.0  0.0  0.0  0.0  0.0  0.0  0.0  0.0  0.0  0.0  ...  0.0  0.0  0.0  0.0   \n",
       "81  0.0  0.0  0.0  0.0  0.0  0.0  0.0  0.0  0.0  0.0  ...  0.0  0.0  0.0  0.0   \n",
       "\n",
       "     19   20   21   22   23   24  \n",
       "0   0.0  0.0  0.0  0.0  0.0  0.0  \n",
       "1   0.0  0.0  0.0  0.0  0.0  0.0  \n",
       "2   0.0  0.0  0.0  0.0  0.0  0.0  \n",
       "3   0.0  0.0  0.0  0.0  0.0  0.0  \n",
       "4   0.0  0.0  0.0  0.0  0.0  0.0  \n",
       "..  ...  ...  ...  ...  ...  ...  \n",
       "77  0.0  0.0  0.0  0.0  0.0  0.0  \n",
       "78  0.0  0.0  0.0  0.0  0.0  0.0  \n",
       "79  0.0  0.0  0.0  0.0  0.0  0.0  \n",
       "80  0.0  0.0  0.0  0.0  0.0  0.0  \n",
       "81  0.0  0.0  0.0  0.0  0.0  0.0  \n",
       "\n",
       "[82 rows x 25 columns]"
      ]
     },
     "execution_count": 387,
     "metadata": {},
     "output_type": "execute_result"
    }
   ],
   "source": [
    "graphs_raw[0]['enc_node_types']"
   ]
  },
  {
   "cell_type": "markdown",
   "metadata": {
    "id": "_vKrj7jHFE2i"
   },
   "source": [
    "# Create dataset\n",
    "\n",
    "dataset tvoria `graphs` a `graph_labels`\n",
    "- `graphs` je numpy.Array of StellarGraphs\n",
    "- `graph_labels` je numpy.Array oznaceni pre dany graf na i-tej pozcii\n",
    "    - `basic` => 0\n",
    "    - `is_shebang` => 1\n",
    "    - `is_spec` => 2\n",
    "  \n",
    "Pozn.: do `basic` zdrojovych kodov som zaradil aj `is_test` (obycajne testy), pretoze struktury ich extrahovanych grafov su velmi podobne"
   ]
  },
  {
   "cell_type": "code",
   "execution_count": 388,
   "metadata": {},
   "outputs": [],
   "source": [
    "from stellargraph import StellarGraph"
   ]
  },
  {
   "cell_type": "code",
   "execution_count": 390,
   "metadata": {
    "executionInfo": {
     "elapsed": 10748,
     "status": "ok",
     "timestamp": 1618141256474,
     "user": {
      "displayName": "Róbert Jačko",
      "photoUrl": "",
      "userId": "15811568458173000815"
     },
     "user_tz": -120
    },
    "id": "dWIGwUA4FEII"
   },
   "outputs": [],
   "source": [
    "def createStellarGraph(graphRaw):\n",
    "    nodes = graphRaw['enc_node_types']\n",
    "    edges = graphRaw['edges']\n",
    "    graph = StellarGraph(nodes=nodes, edges=edges, source_column='from', target_column='to', is_directed=True)\n",
    "    return graph\n",
    "\n",
    "graphs = np.array([createStellarGraph(gr) for gr in graphs_raw])\n",
    "#graph_labels = pd.Series([1 if gr['is_shebang'] else 2 if gr['is_spec'] else 3 if gr['is_test'] else 0 for gr in graphs_raw], dtype=\"category\", name='label')\n",
    "graph_labels = np.array([1 if gr['is_shebang'] else 2 if gr['is_spec'] else 0 for gr in graphs_raw])"
   ]
  },
  {
   "cell_type": "code",
   "execution_count": 391,
   "metadata": {},
   "outputs": [
    {
     "data": {
      "text/plain": [
       "array([<stellargraph.core.graph.StellarGraph object at 0x7f10ddc69940>,\n",
       "       <stellargraph.core.graph.StellarGraph object at 0x7f10ddc69c10>,\n",
       "       <stellargraph.core.graph.StellarGraph object at 0x7f10ddc698e0>,\n",
       "       ...,\n",
       "       <stellargraph.core.graph.StellarGraph object at 0x7f10df180c10>,\n",
       "       <stellargraph.core.graph.StellarGraph object at 0x7f10df1801f0>,\n",
       "       <stellargraph.core.graph.StellarGraph object at 0x7f10df1fcaf0>],\n",
       "      dtype=object)"
      ]
     },
     "execution_count": 391,
     "metadata": {},
     "output_type": "execute_result"
    }
   ],
   "source": [
    "graphs"
   ]
  },
  {
   "cell_type": "code",
   "execution_count": 392,
   "metadata": {},
   "outputs": [
    {
     "data": {
      "text/plain": [
       "array([0, 0, 0, ..., 0, 0, 0])"
      ]
     },
     "execution_count": 392,
     "metadata": {},
     "output_type": "execute_result"
    }
   ],
   "source": [
    "graph_labels"
   ]
  },
  {
   "cell_type": "markdown",
   "metadata": {},
   "source": [
    "# Dataset stats\n",
    "\n",
    "Dataset je velmi nevyvazeny. Pocet `basic` zdrojovych kodov vysoko prevysuje pocty `Shebang` a `Spec` zdrojovych kodov"
   ]
  },
  {
   "cell_type": "code",
   "execution_count": 393,
   "metadata": {},
   "outputs": [
    {
     "name": "stdout",
     "output_type": "stream",
     "text": [
      "Label counts\n",
      "\tBasic: 2249\n",
      "\tShebang: 131\n",
      "\tSpecs: 112\n"
     ]
    }
   ],
   "source": [
    "basic_count, shebang_count, spec_count = pd.Series(graph_labels).value_counts()\n",
    "print(f'Label counts\\n\\tBasic: {basic_count}\\n\\tShebang: {shebang_count}\\n\\tSpecs: {spec_count}')"
   ]
  },
  {
   "cell_type": "code",
   "execution_count": 394,
   "metadata": {},
   "outputs": [
    {
     "data": {
      "text/html": [
       "<div>\n",
       "<style scoped>\n",
       "    .dataframe tbody tr th:only-of-type {\n",
       "        vertical-align: middle;\n",
       "    }\n",
       "\n",
       "    .dataframe tbody tr th {\n",
       "        vertical-align: top;\n",
       "    }\n",
       "\n",
       "    .dataframe thead th {\n",
       "        text-align: right;\n",
       "    }\n",
       "</style>\n",
       "<table border=\"1\" class=\"dataframe\">\n",
       "  <thead>\n",
       "    <tr style=\"text-align: right;\">\n",
       "      <th></th>\n",
       "      <th>nodes</th>\n",
       "      <th>edges</th>\n",
       "    </tr>\n",
       "  </thead>\n",
       "  <tbody>\n",
       "    <tr>\n",
       "      <th>count</th>\n",
       "      <td>2492.0</td>\n",
       "      <td>2492.0</td>\n",
       "    </tr>\n",
       "    <tr>\n",
       "      <th>mean</th>\n",
       "      <td>93.9</td>\n",
       "      <td>156.9</td>\n",
       "    </tr>\n",
       "    <tr>\n",
       "      <th>std</th>\n",
       "      <td>165.7</td>\n",
       "      <td>308.6</td>\n",
       "    </tr>\n",
       "    <tr>\n",
       "      <th>min</th>\n",
       "      <td>5.0</td>\n",
       "      <td>4.0</td>\n",
       "    </tr>\n",
       "    <tr>\n",
       "      <th>25%</th>\n",
       "      <td>20.0</td>\n",
       "      <td>24.0</td>\n",
       "    </tr>\n",
       "    <tr>\n",
       "      <th>50%</th>\n",
       "      <td>43.0</td>\n",
       "      <td>57.0</td>\n",
       "    </tr>\n",
       "    <tr>\n",
       "      <th>75%</th>\n",
       "      <td>100.0</td>\n",
       "      <td>153.0</td>\n",
       "    </tr>\n",
       "    <tr>\n",
       "      <th>max</th>\n",
       "      <td>2400.0</td>\n",
       "      <td>4300.0</td>\n",
       "    </tr>\n",
       "  </tbody>\n",
       "</table>\n",
       "</div>"
      ],
      "text/plain": [
       "        nodes   edges\n",
       "count  2492.0  2492.0\n",
       "mean     93.9   156.9\n",
       "std     165.7   308.6\n",
       "min       5.0     4.0\n",
       "25%      20.0    24.0\n",
       "50%      43.0    57.0\n",
       "75%     100.0   153.0\n",
       "max    2400.0  4300.0"
      ]
     },
     "execution_count": 394,
     "metadata": {},
     "output_type": "execute_result"
    }
   ],
   "source": [
    "summary = pd.DataFrame(\n",
    "    [(g.number_of_nodes(), g.number_of_edges()) for g in graphs],\n",
    "    columns=[\"nodes\", \"edges\"],\n",
    ")\n",
    "summary.describe().round(1)"
   ]
  },
  {
   "cell_type": "markdown",
   "metadata": {},
   "source": [
    "# Outliers\n",
    "\n",
    "Grafy s extremne nizkym (dolny 5% quantil) a s extremne vysokym (horny 5% quantil) poctom uzlov sa z datasetu odfiltruju."
   ]
  },
  {
   "cell_type": "code",
   "execution_count": 395,
   "metadata": {},
   "outputs": [
    {
     "name": "stdout",
     "output_type": "stream",
     "text": [
      "Nodes count quantiles:\n",
      "    lower: 8.0\n",
      "    upper: 341.0\n"
     ]
    }
   ],
   "source": [
    "lower = summary['nodes'].quantile(0.05)\n",
    "upper = summary['nodes'].quantile(0.95)\n",
    "\n",
    "print(f'Nodes count quantiles:\\n    lower: {lower}\\n    upper: {upper}')"
   ]
  },
  {
   "cell_type": "code",
   "execution_count": 396,
   "metadata": {},
   "outputs": [],
   "source": [
    "clipped = summary.loc[(summary['nodes'] > lower) & (summary['nodes'] < upper)]"
   ]
  },
  {
   "cell_type": "code",
   "execution_count": 397,
   "metadata": {},
   "outputs": [
    {
     "data": {
      "text/html": [
       "<div>\n",
       "<style scoped>\n",
       "    .dataframe tbody tr th:only-of-type {\n",
       "        vertical-align: middle;\n",
       "    }\n",
       "\n",
       "    .dataframe tbody tr th {\n",
       "        vertical-align: top;\n",
       "    }\n",
       "\n",
       "    .dataframe thead th {\n",
       "        text-align: right;\n",
       "    }\n",
       "</style>\n",
       "<table border=\"1\" class=\"dataframe\">\n",
       "  <thead>\n",
       "    <tr style=\"text-align: right;\">\n",
       "      <th></th>\n",
       "      <th>nodes</th>\n",
       "      <th>edges</th>\n",
       "    </tr>\n",
       "  </thead>\n",
       "  <tbody>\n",
       "    <tr>\n",
       "      <th>count</th>\n",
       "      <td>2239.0</td>\n",
       "      <td>2239.0</td>\n",
       "    </tr>\n",
       "    <tr>\n",
       "      <th>mean</th>\n",
       "      <td>68.2</td>\n",
       "      <td>109.6</td>\n",
       "    </tr>\n",
       "    <tr>\n",
       "      <th>std</th>\n",
       "      <td>65.9</td>\n",
       "      <td>138.7</td>\n",
       "    </tr>\n",
       "    <tr>\n",
       "      <th>min</th>\n",
       "      <td>9.0</td>\n",
       "      <td>8.0</td>\n",
       "    </tr>\n",
       "    <tr>\n",
       "      <th>25%</th>\n",
       "      <td>22.5</td>\n",
       "      <td>27.0</td>\n",
       "    </tr>\n",
       "    <tr>\n",
       "      <th>50%</th>\n",
       "      <td>43.0</td>\n",
       "      <td>57.0</td>\n",
       "    </tr>\n",
       "    <tr>\n",
       "      <th>75%</th>\n",
       "      <td>90.0</td>\n",
       "      <td>136.5</td>\n",
       "    </tr>\n",
       "    <tr>\n",
       "      <th>max</th>\n",
       "      <td>340.0</td>\n",
       "      <td>1960.0</td>\n",
       "    </tr>\n",
       "  </tbody>\n",
       "</table>\n",
       "</div>"
      ],
      "text/plain": [
       "        nodes   edges\n",
       "count  2239.0  2239.0\n",
       "mean     68.2   109.6\n",
       "std      65.9   138.7\n",
       "min       9.0     8.0\n",
       "25%      22.5    27.0\n",
       "50%      43.0    57.0\n",
       "75%      90.0   136.5\n",
       "max     340.0  1960.0"
      ]
     },
     "execution_count": 397,
     "metadata": {},
     "output_type": "execute_result"
    }
   ],
   "source": [
    "clipped.describe().round(1)"
   ]
  },
  {
   "cell_type": "code",
   "execution_count": 398,
   "metadata": {},
   "outputs": [],
   "source": [
    "graphs = pd.DataFrame(graphs).iloc[clipped.index].to_numpy().flatten()\n",
    "graph_labels = pd.DataFrame(graph_labels).iloc[clipped.index].to_numpy().flatten()"
   ]
  },
  {
   "cell_type": "code",
   "execution_count": 399,
   "metadata": {},
   "outputs": [
    {
     "name": "stdout",
     "output_type": "stream",
     "text": [
      "Label counts\n",
      "\tBasic: 2028\n",
      "\tShebang: 122\n",
      "\tSpecs: 89\n"
     ]
    }
   ],
   "source": [
    "basic_count, shebang_count, spec_count = pd.Series(graph_labels).value_counts()\n",
    "print(f'Label counts\\n\\tBasic: {basic_count}\\n\\tShebang: {shebang_count}\\n\\tSpecs: {spec_count}')"
   ]
  },
  {
   "cell_type": "markdown",
   "metadata": {},
   "source": [
    "# Undersampling\n",
    "\n",
    "Z `basic` zdrojovych kodov sa nahodne vyberie mensi pocet grafov ako ich je v skutocnosti, cim sa upravi ich pomer ku grafom ostatnych tried. \n",
    "\n",
    "Tymto krokom sa trochu vyvazi dataset."
   ]
  },
  {
   "cell_type": "code",
   "execution_count": 363,
   "metadata": {},
   "outputs": [],
   "source": [
    "from imblearn.under_sampling import RandomUnderSampler"
   ]
  },
  {
   "cell_type": "code",
   "execution_count": 400,
   "metadata": {},
   "outputs": [],
   "source": [
    "u_samp_strategy = {\n",
    "    0: 200,\n",
    "    1: shebang_count,\n",
    "    2: spec_count\n",
    "}\n",
    "\n",
    "undersample = RandomUnderSampler(sampling_strategy=u_samp_strategy, random_state=1)\n",
    "graphs_under, graph_labels_under = undersample.fit_resample(graphs.reshape(-1, 1), graph_labels)"
   ]
  },
  {
   "cell_type": "code",
   "execution_count": 401,
   "metadata": {},
   "outputs": [],
   "source": [
    "graphs = graphs_under.flatten()\n",
    "graph_labels = graph_labels_under"
   ]
  },
  {
   "cell_type": "markdown",
   "metadata": {},
   "source": [
    "# Final (sampled) dataset stats"
   ]
  },
  {
   "cell_type": "code",
   "execution_count": 402,
   "metadata": {},
   "outputs": [
    {
     "name": "stdout",
     "output_type": "stream",
     "text": [
      "StellarGraph: Directed multigraph\n",
      " Nodes: 11, Edges: 10\n",
      "\n",
      " Node types:\n",
      "  default: [11]\n",
      "    Features: float32 vector, length 25\n",
      "    Edge types: default-default->default\n",
      "\n",
      " Edge types:\n",
      "    default-default->default: [10]\n",
      "        Weights: all 1 (default)\n",
      "        Features: none\n"
     ]
    }
   ],
   "source": [
    "print(graphs[0].info())"
   ]
  },
  {
   "cell_type": "code",
   "execution_count": 403,
   "metadata": {},
   "outputs": [
    {
     "name": "stdout",
     "output_type": "stream",
     "text": [
      "StellarGraph: Directed multigraph\n",
      " Nodes: 18, Edges: 69\n",
      "\n",
      " Node types:\n",
      "  default: [18]\n",
      "    Features: float32 vector, length 25\n",
      "    Edge types: default-default->default\n",
      "\n",
      " Edge types:\n",
      "    default-default->default: [69]\n",
      "        Weights: all 1 (default)\n",
      "        Features: none\n"
     ]
    }
   ],
   "source": [
    "print(graphs[1].info())"
   ]
  },
  {
   "cell_type": "code",
   "execution_count": 404,
   "metadata": {},
   "outputs": [
    {
     "name": "stdout",
     "output_type": "stream",
     "text": [
      "Label counts\n",
      "\tBasic: 200\n",
      "\tShebang: 122\n",
      "\tSpecs: 89\n"
     ]
    }
   ],
   "source": [
    "basic_count, shebang_count, spec_count = pd.Series(graph_labels).value_counts()\n",
    "print(f'Label counts\\n\\tBasic: {basic_count}\\n\\tShebang: {shebang_count}\\n\\tSpecs: {spec_count}')"
   ]
  },
  {
   "cell_type": "code",
   "execution_count": 405,
   "metadata": {},
   "outputs": [
    {
     "data": {
      "text/html": [
       "<div>\n",
       "<style scoped>\n",
       "    .dataframe tbody tr th:only-of-type {\n",
       "        vertical-align: middle;\n",
       "    }\n",
       "\n",
       "    .dataframe tbody tr th {\n",
       "        vertical-align: top;\n",
       "    }\n",
       "\n",
       "    .dataframe thead th {\n",
       "        text-align: right;\n",
       "    }\n",
       "</style>\n",
       "<table border=\"1\" class=\"dataframe\">\n",
       "  <thead>\n",
       "    <tr style=\"text-align: right;\">\n",
       "      <th></th>\n",
       "      <th>nodes</th>\n",
       "      <th>edges</th>\n",
       "    </tr>\n",
       "  </thead>\n",
       "  <tbody>\n",
       "    <tr>\n",
       "      <th>count</th>\n",
       "      <td>411.0</td>\n",
       "      <td>411.0</td>\n",
       "    </tr>\n",
       "    <tr>\n",
       "      <th>mean</th>\n",
       "      <td>67.5</td>\n",
       "      <td>136.0</td>\n",
       "    </tr>\n",
       "    <tr>\n",
       "      <th>std</th>\n",
       "      <td>69.8</td>\n",
       "      <td>200.3</td>\n",
       "    </tr>\n",
       "    <tr>\n",
       "      <th>min</th>\n",
       "      <td>9.0</td>\n",
       "      <td>8.0</td>\n",
       "    </tr>\n",
       "    <tr>\n",
       "      <th>25%</th>\n",
       "      <td>22.5</td>\n",
       "      <td>28.0</td>\n",
       "    </tr>\n",
       "    <tr>\n",
       "      <th>50%</th>\n",
       "      <td>40.0</td>\n",
       "      <td>58.0</td>\n",
       "    </tr>\n",
       "    <tr>\n",
       "      <th>75%</th>\n",
       "      <td>83.0</td>\n",
       "      <td>151.5</td>\n",
       "    </tr>\n",
       "    <tr>\n",
       "      <th>max</th>\n",
       "      <td>329.0</td>\n",
       "      <td>1960.0</td>\n",
       "    </tr>\n",
       "  </tbody>\n",
       "</table>\n",
       "</div>"
      ],
      "text/plain": [
       "       nodes   edges\n",
       "count  411.0   411.0\n",
       "mean    67.5   136.0\n",
       "std     69.8   200.3\n",
       "min      9.0     8.0\n",
       "25%     22.5    28.0\n",
       "50%     40.0    58.0\n",
       "75%     83.0   151.5\n",
       "max    329.0  1960.0"
      ]
     },
     "execution_count": 405,
     "metadata": {},
     "output_type": "execute_result"
    }
   ],
   "source": [
    "summary = pd.DataFrame(\n",
    "    [(g.number_of_nodes(), g.number_of_edges()) for g in graphs],\n",
    "    columns=[\"nodes\", \"edges\"],\n",
    ")\n",
    "summary.describe().round(1)"
   ]
  },
  {
   "cell_type": "markdown",
   "metadata": {},
   "source": [
    "# Prepair generator\n",
    "Z `graph_labels` sa vytvori OneHot encoding labelov. \n",
    "\n",
    "Pozn.: Generator je potrebny neskor na to, aby sa objekty typu `StellarGraph` mohli vkladat do modelu neuronovej siete z Tensorflow-u"
   ]
  },
  {
   "cell_type": "code",
   "execution_count": 406,
   "metadata": {},
   "outputs": [],
   "source": [
    "from stellargraph.mapper import PaddedGraphGenerator"
   ]
  },
  {
   "cell_type": "code",
   "execution_count": 407,
   "metadata": {},
   "outputs": [
    {
     "name": "stdout",
     "output_type": "stream",
     "text": [
      "     0  1  2\n",
      "0    1  0  0\n",
      "1    1  0  0\n",
      "2    1  0  0\n",
      "3    1  0  0\n",
      "4    1  0  0\n",
      "..  .. .. ..\n",
      "406  0  0  1\n",
      "407  0  0  1\n",
      "408  0  0  1\n",
      "409  0  0  1\n",
      "410  0  0  1\n",
      "\n",
      "[411 rows x 3 columns]\n"
     ]
    }
   ],
   "source": [
    "graph_labels = pd.get_dummies(graph_labels, drop_first=False)\n",
    "\n",
    "print(graph_labels)"
   ]
  },
  {
   "cell_type": "code",
   "execution_count": 408,
   "metadata": {},
   "outputs": [
    {
     "name": "stdout",
     "output_type": "stream",
     "text": [
      "Number of classes: 3\n",
      "Number of graphs: 411\n"
     ]
    }
   ],
   "source": [
    "num_graphs, num_classes = graph_labels.shape\n",
    "\n",
    "print(f'Number of classes: {num_classes}\\nNumber of graphs: {num_graphs}')"
   ]
  },
  {
   "cell_type": "code",
   "execution_count": 409,
   "metadata": {},
   "outputs": [],
   "source": [
    "generator = PaddedGraphGenerator(graphs=graphs)"
   ]
  },
  {
   "cell_type": "markdown",
   "metadata": {},
   "source": [
    "# Supervised graph classification with GCN [StellarGraph]"
   ]
  },
  {
   "cell_type": "code",
   "execution_count": 410,
   "metadata": {},
   "outputs": [],
   "source": [
    "import stellargraph as sg\n",
    "from stellargraph.layer import GCNSupervisedGraphClassification\n",
    "from sklearn import model_selection\n",
    "from tensorflow.keras import Model\n",
    "from tensorflow.keras.optimizers import Adam\n",
    "from tensorflow.keras.layers import Dense\n",
    "from tensorflow.keras.losses import categorical_crossentropy\n",
    "from tensorflow.keras.callbacks import EarlyStopping\n",
    "import tensorflow as tf\n",
    "import matplotlib.pyplot as plt"
   ]
  },
  {
   "cell_type": "markdown",
   "metadata": {},
   "source": [
    "## Split dataset to TRAIN, VALIDATION and TEST\n",
    "Pomer percent TRENOVACI\\:VALIDACNY\\:TESTOVACI == **70\\:15\\:15**"
   ]
  },
  {
   "cell_type": "code",
   "execution_count": 411,
   "metadata": {},
   "outputs": [],
   "source": [
    "# TRAIN:TEST 85:15\n",
    "train_graphs, test_graphs = model_selection.train_test_split(\n",
    "    graph_labels, train_size=0.85, test_size=None, stratify=graph_labels\n",
    ")\n",
    "\n",
    "# TRAIN:VALIDATION 82.4:17.6 => 85*0.824 == 70  85*0.176 == 15 \n",
    "train_graphs, val_graphs = model_selection.train_test_split(\n",
    "    train_graphs, train_size=0.824, test_size=None\n",
    ")"
   ]
  },
  {
   "cell_type": "code",
   "execution_count": 431,
   "metadata": {},
   "outputs": [
    {
     "name": "stdout",
     "output_type": "stream",
     "text": [
      "TRAIN graphs: 287\n",
      "VALIDATION graphs: 62\n",
      "TEST graphs: 62\n"
     ]
    }
   ],
   "source": [
    "print(f'TRAIN graphs: {len(train_graphs)}\\nVALIDATION graphs: {len(val_graphs)}\\nTEST graphs: {len(test_graphs)}')"
   ]
  },
  {
   "cell_type": "markdown",
   "metadata": {},
   "source": [
    "## Create generators"
   ]
  },
  {
   "cell_type": "code",
   "execution_count": 413,
   "metadata": {},
   "outputs": [],
   "source": [
    "batch_size=20\n",
    "\n",
    "train_gen = generator.flow(\n",
    "        train_graphs.index, targets=graph_labels.iloc[train_graphs.index].values, batch_size=batch_size\n",
    "    )\n",
    "val_gen = generator.flow(\n",
    "        val_graphs.index, targets=graph_labels.iloc[val_graphs.index].values, batch_size=batch_size\n",
    "    )"
   ]
  },
  {
   "cell_type": "markdown",
   "metadata": {},
   "source": [
    "## Create model\n",
    "Model ma spolu 11 vrstiev (aj s dropout vrstvami)."
   ]
  },
  {
   "cell_type": "code",
   "execution_count": 414,
   "metadata": {},
   "outputs": [],
   "source": [
    "gc_model = GCNSupervisedGraphClassification(\n",
    "        layer_sizes=[64, 64],\n",
    "        activations=[\"relu\", \"relu\"],\n",
    "        generator=generator,\n",
    "        dropout=0.5,\n",
    "    )\n",
    "\n",
    "x_inp, x_out = gc_model.in_out_tensors()\n",
    "predictions = Dense(units=32, activation=\"relu\")(x_out)\n",
    "predictions = Dense(units=16, activation=\"relu\")(predictions)\n",
    "predictions = Dense(num_classes, activation=\"softmax\")(predictions)\n",
    "\n",
    "model = Model(inputs=x_inp, outputs=predictions)\n",
    "model.compile(optimizer=Adam(0.005), loss=categorical_crossentropy, metrics=[\"acc\"])"
   ]
  },
  {
   "cell_type": "markdown",
   "metadata": {},
   "source": [
    "## Train model"
   ]
  },
  {
   "cell_type": "code",
   "execution_count": 415,
   "metadata": {},
   "outputs": [],
   "source": [
    "es = EarlyStopping(\n",
    "    monitor=\"val_loss\", min_delta=0, patience=25, restore_best_weights=True\n",
    ")"
   ]
  },
  {
   "cell_type": "code",
   "execution_count": 432,
   "metadata": {},
   "outputs": [],
   "source": [
    "epochs = 100"
   ]
  },
  {
   "cell_type": "code",
   "execution_count": 416,
   "metadata": {},
   "outputs": [
    {
     "name": "stdout",
     "output_type": "stream",
     "text": [
      "Epoch 1/100\n",
      "15/15 [==============================] - 2s 86ms/step - loss: 1.0638 - acc: 0.4897 - val_loss: 0.9789 - val_acc: 0.4677\n",
      "Epoch 2/100\n",
      "15/15 [==============================] - 1s 35ms/step - loss: 0.9401 - acc: 0.5323 - val_loss: 0.8182 - val_acc: 0.6129\n",
      "Epoch 3/100\n",
      "15/15 [==============================] - 0s 32ms/step - loss: 0.8257 - acc: 0.6430 - val_loss: 0.7905 - val_acc: 0.6935\n",
      "Epoch 4/100\n",
      "15/15 [==============================] - 0s 30ms/step - loss: 0.7009 - acc: 0.7271 - val_loss: 0.6603 - val_acc: 0.7581\n",
      "Epoch 5/100\n",
      "15/15 [==============================] - 1s 35ms/step - loss: 0.6538 - acc: 0.6977 - val_loss: 0.7502 - val_acc: 0.7097\n",
      "Epoch 6/100\n",
      "15/15 [==============================] - 0s 29ms/step - loss: 0.6376 - acc: 0.7355 - val_loss: 0.6071 - val_acc: 0.7903\n",
      "Epoch 7/100\n",
      "15/15 [==============================] - 0s 31ms/step - loss: 0.6641 - acc: 0.7234 - val_loss: 0.5720 - val_acc: 0.8226\n",
      "Epoch 8/100\n",
      "15/15 [==============================] - 0s 31ms/step - loss: 0.5794 - acc: 0.7655 - val_loss: 0.7130 - val_acc: 0.7581\n",
      "Epoch 9/100\n",
      "15/15 [==============================] - 1s 34ms/step - loss: 0.6026 - acc: 0.7655 - val_loss: 0.9341 - val_acc: 0.6129\n",
      "Epoch 10/100\n",
      "15/15 [==============================] - 0s 30ms/step - loss: 0.6361 - acc: 0.7214 - val_loss: 0.6216 - val_acc: 0.7742\n",
      "Epoch 11/100\n",
      "15/15 [==============================] - 0s 31ms/step - loss: 0.6364 - acc: 0.7719 - val_loss: 0.5732 - val_acc: 0.8065\n",
      "Epoch 12/100\n",
      "15/15 [==============================] - 0s 31ms/step - loss: 0.4711 - acc: 0.8080 - val_loss: 0.5355 - val_acc: 0.8065\n",
      "Epoch 13/100\n",
      "15/15 [==============================] - 0s 31ms/step - loss: 0.5732 - acc: 0.7548 - val_loss: 0.6336 - val_acc: 0.7742\n",
      "Epoch 14/100\n",
      "15/15 [==============================] - 0s 30ms/step - loss: 0.6164 - acc: 0.7455 - val_loss: 0.6762 - val_acc: 0.7258\n",
      "Epoch 15/100\n",
      "15/15 [==============================] - 0s 31ms/step - loss: 0.5724 - acc: 0.7594 - val_loss: 0.5745 - val_acc: 0.7742\n",
      "Epoch 16/100\n",
      "15/15 [==============================] - 0s 33ms/step - loss: 0.5637 - acc: 0.7929 - val_loss: 0.5353 - val_acc: 0.8226\n",
      "Epoch 17/100\n",
      "15/15 [==============================] - 0s 31ms/step - loss: 0.5273 - acc: 0.7901 - val_loss: 0.5295 - val_acc: 0.8226\n",
      "Epoch 18/100\n",
      "15/15 [==============================] - 1s 33ms/step - loss: 0.5362 - acc: 0.7802 - val_loss: 0.5503 - val_acc: 0.8065\n",
      "Epoch 19/100\n",
      "15/15 [==============================] - 0s 30ms/step - loss: 0.5397 - acc: 0.7736 - val_loss: 0.6765 - val_acc: 0.7097\n",
      "Epoch 20/100\n",
      "15/15 [==============================] - 0s 30ms/step - loss: 0.5482 - acc: 0.7716 - val_loss: 0.5238 - val_acc: 0.8226\n",
      "Epoch 21/100\n",
      "15/15 [==============================] - 0s 32ms/step - loss: 0.4770 - acc: 0.7962 - val_loss: 0.5973 - val_acc: 0.7742\n",
      "Epoch 22/100\n",
      "15/15 [==============================] - 0s 31ms/step - loss: 0.5858 - acc: 0.7749 - val_loss: 0.7005 - val_acc: 0.6774\n",
      "Epoch 23/100\n",
      "15/15 [==============================] - 0s 30ms/step - loss: 0.4734 - acc: 0.8496 - val_loss: 0.6952 - val_acc: 0.7097\n",
      "Epoch 24/100\n",
      "15/15 [==============================] - 1s 34ms/step - loss: 0.5092 - acc: 0.7882 - val_loss: 0.4949 - val_acc: 0.8226\n",
      "Epoch 25/100\n",
      "15/15 [==============================] - 0s 30ms/step - loss: 0.5088 - acc: 0.8005 - val_loss: 0.6580 - val_acc: 0.6935\n",
      "Epoch 26/100\n",
      "15/15 [==============================] - 0s 29ms/step - loss: 0.4602 - acc: 0.7922 - val_loss: 0.5491 - val_acc: 0.7742\n",
      "Epoch 27/100\n",
      "15/15 [==============================] - 0s 29ms/step - loss: 0.5164 - acc: 0.8172 - val_loss: 0.8503 - val_acc: 0.6935\n",
      "Epoch 28/100\n",
      "15/15 [==============================] - 0s 32ms/step - loss: 0.4389 - acc: 0.8668 - val_loss: 0.5629 - val_acc: 0.7581\n",
      "Epoch 29/100\n",
      "15/15 [==============================] - 0s 29ms/step - loss: 0.5306 - acc: 0.7995 - val_loss: 0.5264 - val_acc: 0.7097\n",
      "Epoch 30/100\n",
      "15/15 [==============================] - 0s 30ms/step - loss: 0.4750 - acc: 0.7717 - val_loss: 0.5433 - val_acc: 0.8065\n",
      "Epoch 31/100\n",
      "15/15 [==============================] - 0s 32ms/step - loss: 0.4539 - acc: 0.8199 - val_loss: 0.6580 - val_acc: 0.7581\n",
      "Epoch 32/100\n",
      "15/15 [==============================] - 0s 31ms/step - loss: 0.4833 - acc: 0.7867 - val_loss: 0.8527 - val_acc: 0.6613\n",
      "Epoch 33/100\n",
      "15/15 [==============================] - 0s 29ms/step - loss: 0.4765 - acc: 0.7962 - val_loss: 0.6804 - val_acc: 0.7419\n",
      "Epoch 34/100\n",
      "15/15 [==============================] - 1s 33ms/step - loss: 0.4145 - acc: 0.8310 - val_loss: 0.6103 - val_acc: 0.7419\n",
      "Epoch 35/100\n",
      "15/15 [==============================] - 0s 32ms/step - loss: 0.4005 - acc: 0.8520 - val_loss: 0.8040 - val_acc: 0.6774\n",
      "Epoch 36/100\n",
      "15/15 [==============================] - 0s 32ms/step - loss: 0.3888 - acc: 0.8620 - val_loss: 0.7374 - val_acc: 0.6774\n",
      "Epoch 37/100\n",
      "15/15 [==============================] - 1s 33ms/step - loss: 0.4915 - acc: 0.7992 - val_loss: 0.8887 - val_acc: 0.6452\n",
      "Epoch 38/100\n",
      "15/15 [==============================] - 0s 30ms/step - loss: 0.5011 - acc: 0.7817 - val_loss: 0.9269 - val_acc: 0.6129\n",
      "Epoch 39/100\n",
      "15/15 [==============================] - 1s 35ms/step - loss: 0.5216 - acc: 0.8112 - val_loss: 0.4971 - val_acc: 0.8065\n",
      "Epoch 40/100\n",
      "15/15 [==============================] - 0s 32ms/step - loss: 0.4729 - acc: 0.7928 - val_loss: 0.6792 - val_acc: 0.7097\n",
      "Epoch 41/100\n",
      "15/15 [==============================] - 0s 32ms/step - loss: 0.4646 - acc: 0.8081 - val_loss: 0.5153 - val_acc: 0.7903\n",
      "Epoch 42/100\n",
      "15/15 [==============================] - 0s 29ms/step - loss: 0.4662 - acc: 0.8033 - val_loss: 0.6294 - val_acc: 0.7097\n",
      "Epoch 43/100\n",
      "15/15 [==============================] - 0s 31ms/step - loss: 0.4480 - acc: 0.8202 - val_loss: 0.5366 - val_acc: 0.7581\n",
      "Epoch 44/100\n",
      "15/15 [==============================] - 0s 28ms/step - loss: 0.4255 - acc: 0.8326 - val_loss: 0.6831 - val_acc: 0.7097\n",
      "Epoch 45/100\n",
      "15/15 [==============================] - 0s 30ms/step - loss: 0.4256 - acc: 0.8207 - val_loss: 0.7557 - val_acc: 0.7097\n",
      "Epoch 46/100\n",
      "15/15 [==============================] - 0s 29ms/step - loss: 0.4381 - acc: 0.8200 - val_loss: 0.5496 - val_acc: 0.7581\n",
      "Epoch 47/100\n",
      "15/15 [==============================] - 0s 30ms/step - loss: 0.4343 - acc: 0.8194 - val_loss: 0.4205 - val_acc: 0.8710\n",
      "Epoch 48/100\n",
      "15/15 [==============================] - 0s 29ms/step - loss: 0.3418 - acc: 0.8781 - val_loss: 0.7907 - val_acc: 0.6774\n",
      "Epoch 49/100\n",
      "15/15 [==============================] - 0s 29ms/step - loss: 0.3633 - acc: 0.8665 - val_loss: 0.5487 - val_acc: 0.7581\n",
      "Epoch 50/100\n",
      "15/15 [==============================] - 0s 29ms/step - loss: 0.4533 - acc: 0.8369 - val_loss: 0.5391 - val_acc: 0.7903\n",
      "Epoch 51/100\n",
      "15/15 [==============================] - 0s 29ms/step - loss: 0.3680 - acc: 0.8548 - val_loss: 0.5994 - val_acc: 0.7742\n",
      "Epoch 52/100\n",
      "15/15 [==============================] - 1s 33ms/step - loss: 0.3788 - acc: 0.8279 - val_loss: 0.6464 - val_acc: 0.7258\n",
      "Epoch 53/100\n",
      "15/15 [==============================] - 0s 30ms/step - loss: 0.4609 - acc: 0.7969 - val_loss: 0.5966 - val_acc: 0.7258\n",
      "Epoch 54/100\n",
      "15/15 [==============================] - 0s 30ms/step - loss: 0.3526 - acc: 0.8630 - val_loss: 0.5083 - val_acc: 0.7903\n",
      "Epoch 55/100\n",
      "15/15 [==============================] - 0s 30ms/step - loss: 0.4482 - acc: 0.8209 - val_loss: 0.4522 - val_acc: 0.8710\n",
      "Epoch 56/100\n",
      "15/15 [==============================] - 0s 30ms/step - loss: 0.3732 - acc: 0.8405 - val_loss: 0.5601 - val_acc: 0.7742\n",
      "Epoch 57/100\n",
      "15/15 [==============================] - 0s 30ms/step - loss: 0.4321 - acc: 0.8017 - val_loss: 0.9049 - val_acc: 0.6613\n",
      "Epoch 58/100\n",
      "15/15 [==============================] - 0s 30ms/step - loss: 0.3858 - acc: 0.8556 - val_loss: 0.4852 - val_acc: 0.8226\n",
      "Epoch 59/100\n",
      "15/15 [==============================] - 1s 33ms/step - loss: 0.4093 - acc: 0.8538 - val_loss: 0.5475 - val_acc: 0.7742\n",
      "Epoch 60/100\n",
      "15/15 [==============================] - 1s 34ms/step - loss: 0.3666 - acc: 0.8429 - val_loss: 0.5542 - val_acc: 0.7419\n",
      "Epoch 61/100\n",
      "15/15 [==============================] - 0s 31ms/step - loss: 0.3918 - acc: 0.8434 - val_loss: 0.4574 - val_acc: 0.7903\n",
      "Epoch 62/100\n",
      "15/15 [==============================] - 0s 31ms/step - loss: 0.3667 - acc: 0.8583 - val_loss: 0.6143 - val_acc: 0.7258\n",
      "Epoch 63/100\n",
      "15/15 [==============================] - 0s 29ms/step - loss: 0.3603 - acc: 0.8610 - val_loss: 0.6819 - val_acc: 0.7097\n",
      "Epoch 64/100\n",
      "15/15 [==============================] - 0s 33ms/step - loss: 0.3326 - acc: 0.8519 - val_loss: 0.6019 - val_acc: 0.7419\n",
      "Epoch 65/100\n",
      "15/15 [==============================] - 0s 31ms/step - loss: 0.3585 - acc: 0.8473 - val_loss: 0.7199 - val_acc: 0.7419\n",
      "Epoch 66/100\n",
      "15/15 [==============================] - 0s 31ms/step - loss: 0.4062 - acc: 0.8201 - val_loss: 0.6553 - val_acc: 0.7419\n",
      "Epoch 67/100\n",
      "15/15 [==============================] - 0s 29ms/step - loss: 0.3409 - acc: 0.8685 - val_loss: 0.6876 - val_acc: 0.7419\n",
      "Epoch 68/100\n",
      "15/15 [==============================] - 0s 30ms/step - loss: 0.3667 - acc: 0.8704 - val_loss: 0.4486 - val_acc: 0.8710\n",
      "Epoch 69/100\n",
      "15/15 [==============================] - 0s 28ms/step - loss: 0.3474 - acc: 0.8930 - val_loss: 0.5107 - val_acc: 0.8065\n",
      "Epoch 70/100\n",
      "15/15 [==============================] - 0s 30ms/step - loss: 0.3727 - acc: 0.8466 - val_loss: 0.7624 - val_acc: 0.7419\n",
      "Epoch 71/100\n",
      "15/15 [==============================] - 0s 31ms/step - loss: 0.4395 - acc: 0.8251 - val_loss: 0.5213 - val_acc: 0.7581\n",
      "Epoch 72/100\n",
      "15/15 [==============================] - 0s 30ms/step - loss: 0.3504 - acc: 0.8280 - val_loss: 0.5942 - val_acc: 0.7581\n"
     ]
    }
   ],
   "source": [
    "history = model.fit(\n",
    "        train_gen, epochs=epochs, validation_data=val_gen, verbose=1, callbacks=[es],\n",
    "    )"
   ]
  },
  {
   "cell_type": "code",
   "execution_count": 417,
   "metadata": {},
   "outputs": [
    {
     "data": {
      "image/png": "[encoded data removed]",
      "text/plain": [
       "<Figure size 504x576 with 2 Axes>"
      ]
     },
     "metadata": {
      "needs_background": "light"
     },
     "output_type": "display_data"
    }
   ],
   "source": [
    "sg.utils.plot_history(history)"
   ]
  },
  {
   "cell_type": "markdown",
   "metadata": {},
   "source": [
    "# Evaluate on test sample"
   ]
  },
  {
   "cell_type": "code",
   "execution_count": 418,
   "metadata": {},
   "outputs": [],
   "source": [
    "test_gen = generator.flow(\n",
    "        test_graphs.index, targets=graph_labels.iloc[test_graphs.index].values, batch_size=1\n",
    "    )"
   ]
  },
  {
   "cell_type": "code",
   "execution_count": 419,
   "metadata": {},
   "outputs": [
    {
     "name": "stdout",
     "output_type": "stream",
     "text": [
      "62/62 [==============================] - 0s 2ms/step - loss: 0.3987 - acc: 0.8387\n",
      "\n",
      "Test Set Metrics:\n",
      "\tloss: 0.3987\n",
      "\tacc: 0.8387\n"
     ]
    }
   ],
   "source": [
    "test_metrics = model.evaluate(test_gen)\n",
    "print(\"\\nTest Set Metrics:\")\n",
    "for name, val in zip(model.metrics_names, test_metrics):\n",
    "    print(\"\\t{}: {:0.4f}\".format(name, val))"
   ]
  },
  {
   "cell_type": "markdown",
   "metadata": {},
   "source": [
    "# Visualize predictions"
   ]
  },
  {
   "cell_type": "code",
   "execution_count": 433,
   "metadata": {},
   "outputs": [],
   "source": [
    "from sklearn.metrics import confusion_matrix\n",
    "import seaborn as sns"
   ]
  },
  {
   "cell_type": "code",
   "execution_count": 434,
   "metadata": {},
   "outputs": [],
   "source": [
    "predicts = model.predict(test_gen)\n",
    "Y_pred = predicts.argmax(axis=1)\n",
    "Y = graph_labels.iloc[test_graphs.index].values.argmax(axis=1)\n",
    "cf_matrix = confusion_matrix(Y, Y_pred)"
   ]
  },
  {
   "cell_type": "code",
   "execution_count": 436,
   "metadata": {},
   "outputs": [
    {
     "data": {
      "image/png": "[encoded data removed]",
      "text/plain": [
       "<Figure size 432x288 with 2 Axes>"
      ]
     },
     "metadata": {
      "needs_background": "light"
     },
     "output_type": "display_data"
    }
   ],
   "source": [
    "_ = sns.heatmap(cf_matrix, annot=True)"
   ]
  },
  {
   "cell_type": "code",
   "execution_count": 425,
   "metadata": {},
   "outputs": [],
   "source": [
    "res['basic'] = predicts[:,0]\n",
    "res['shebang'] = predicts[:,1] \n",
    "res['spec'] = predicts[:,2]"
   ]
  },
  {
   "cell_type": "code",
   "execution_count": 426,
   "metadata": {},
   "outputs": [
    {
     "name": "stderr",
     "output_type": "stream",
     "text": [
      "<ipython-input-426-6d85375d06cf>:1: MatplotlibDeprecationWarning: Calling gca() with keyword arguments was deprecated in Matplotlib 3.4. Starting two minor releases later, gca() will take no keyword arguments. The gca() function should only be used to get the current axes, or if no axes exist, create new axes with default keyword arguments. To create a new axes with non-default arguments, use plt.axes() or plt.subplot().\n",
      "  ax = plt.figure(figsize=(10,10)).gca(projection='3d')\n"
     ]
    },
    {
     "data": {
      "image/png": "[encoded data removed]",
      "text/plain": [
       "<Figure size 720x720 with 1 Axes>"
      ]
     },
     "metadata": {
      "needs_background": "light"
     },
     "output_type": "display_data"
    }
   ],
   "source": [
    "ax = plt.figure(figsize=(10,10)).gca(projection='3d')\n",
    "ax.scatter(\n",
    "    xs=res[\"shebang\"], \n",
    "    ys=res[\"basic\"], \n",
    "    zs=res[\"spec\"], \n",
    "    c=Y\n",
    ")\n",
    "ax.set_xlabel('shebang')\n",
    "ax.set_ylabel('basic')\n",
    "ax.set_zlabel('spec')\n",
    "plt.show()"
   ]
  },
  {
   "cell_type": "markdown",
   "metadata": {},
   "source": [
    "# Save model to local storage"
   ]
  },
  {
   "cell_type": "code",
   "execution_count": 252,
   "metadata": {},
   "outputs": [
    {
     "name": "stdout",
     "output_type": "stream",
     "text": [
      "INFO:tensorflow:Assets written to: model_3classes_undersample/assets\n"
     ]
    }
   ],
   "source": [
    "model.save('model')"
   ]
  }
 ],
 "metadata": {
  "colab": {
   "authorship_tag": "ABX9TyMW/6WLUiCZmdSHzUTgjtD5",
   "collapsed_sections": [],
   "mount_file_id": "1ghqp0ozbvYngfuZnMTHUNbn4N3wicmLY",
   "name": "BPprojekt.ipynb",
   "provenance": [],
   "toc_visible": true
  },
  "kernelspec": {
   "display_name": "Python 3",
   "language": "python",
   "name": "python3"
  },
  "language_info": {
   "codemirror_mode": {
    "name": "ipython",
    "version": 3
   },
   "file_extension": ".py",
   "mimetype": "text/x-python",
   "name": "python",
   "nbconvert_exporter": "python",
   "pygments_lexer": "ipython3",
   "version": "3.8.8"
  },
  "widgets": {
   "application/vnd.jupyter.widget-state+json": {
    "15885d8b533f4ac78900e6b7a161f2bb": {
     "model_module": "@jupyter-widgets/controls",
     "model_name": "HTMLModel",
     "state": {
      "_dom_classes": [],
      "_model_module": "@jupyter-widgets/controls",
      "_model_module_version": "1.5.0",
      "_model_name": "HTMLModel",
      "_view_count": null,
      "_view_module": "@jupyter-widgets/controls",
      "_view_module_version": "1.5.0",
      "_view_name": "HTMLView",
      "description": "",
      "description_tooltip": null,
      "layout": "IPY_MODEL_3bdcfa533f6a423ab810910410e4f4e8",
      "placeholder": "​",
      "style": "IPY_MODEL_f840a18c31ed44cfbba779a94586ebec",
      "value": " 815/815 [38:04&lt;00:00,  2.80s/it]"
     }
    },
    "162bd196dd004a1bb543c5d470dc2828": {
     "model_module": "@jupyter-widgets/controls",
     "model_name": "FloatProgressModel",
     "state": {
      "_dom_classes": [],
      "_model_module": "@jupyter-widgets/controls",
      "_model_module_version": "1.5.0",
      "_model_name": "FloatProgressModel",
      "_view_count": null,
      "_view_module": "@jupyter-widgets/controls",
      "_view_module_version": "1.5.0",
      "_view_name": "ProgressView",
      "bar_style": "success",
      "description": "Dataset loading: 100%",
      "description_tooltip": null,
      "layout": "IPY_MODEL_dbc8f281cdd043c795ea0cb458f5b30f",
      "max": 815,
      "min": 0,
      "orientation": "horizontal",
      "style": "IPY_MODEL_a2ace461f6a046ddb5d63eef280929bc",
      "value": 815
     }
    },
    "3249d8ec6d5e450abe2178bee0a899a2": {
     "model_module": "@jupyter-widgets/base",
     "model_name": "LayoutModel",
     "state": {
      "_model_module": "@jupyter-widgets/base",
      "_model_module_version": "1.2.0",
      "_model_name": "LayoutModel",
      "_view_count": null,
      "_view_module": "@jupyter-widgets/base",
      "_view_module_version": "1.2.0",
      "_view_name": "LayoutView",
      "align_content": null,
      "align_items": null,
      "align_self": null,
      "border": null,
      "bottom": null,
      "display": null,
      "flex": null,
      "flex_flow": null,
      "grid_area": null,
      "grid_auto_columns": null,
      "grid_auto_flow": null,
      "grid_auto_rows": null,
      "grid_column": null,
      "grid_gap": null,
      "grid_row": null,
      "grid_template_areas": null,
      "grid_template_columns": null,
      "grid_template_rows": null,
      "height": null,
      "justify_content": null,
      "justify_items": null,
      "left": null,
      "margin": null,
      "max_height": null,
      "max_width": null,
      "min_height": null,
      "min_width": null,
      "object_fit": null,
      "object_position": null,
      "order": null,
      "overflow": null,
      "overflow_x": null,
      "overflow_y": null,
      "padding": null,
      "right": null,
      "top": null,
      "visibility": null,
      "width": null
     }
    },
    "3bdcfa533f6a423ab810910410e4f4e8": {
     "model_module": "@jupyter-widgets/base",
     "model_name": "LayoutModel",
     "state": {
      "_model_module": "@jupyter-widgets/base",
      "_model_module_version": "1.2.0",
      "_model_name": "LayoutModel",
      "_view_count": null,
      "_view_module": "@jupyter-widgets/base",
      "_view_module_version": "1.2.0",
      "_view_name": "LayoutView",
      "align_content": null,
      "align_items": null,
      "align_self": null,
      "border": null,
      "bottom": null,
      "display": null,
      "flex": null,
      "flex_flow": null,
      "grid_area": null,
      "grid_auto_columns": null,
      "grid_auto_flow": null,
      "grid_auto_rows": null,
      "grid_column": null,
      "grid_gap": null,
      "grid_row": null,
      "grid_template_areas": null,
      "grid_template_columns": null,
      "grid_template_rows": null,
      "height": null,
      "justify_content": null,
      "justify_items": null,
      "left": null,
      "margin": null,
      "max_height": null,
      "max_width": null,
      "min_height": null,
      "min_width": null,
      "object_fit": null,
      "object_position": null,
      "order": null,
      "overflow": null,
      "overflow_x": null,
      "overflow_y": null,
      "padding": null,
      "right": null,
      "top": null,
      "visibility": null,
      "width": null
     }
    },
    "a2ace461f6a046ddb5d63eef280929bc": {
     "model_module": "@jupyter-widgets/controls",
     "model_name": "ProgressStyleModel",
     "state": {
      "_model_module": "@jupyter-widgets/controls",
      "_model_module_version": "1.5.0",
      "_model_name": "ProgressStyleModel",
      "_view_count": null,
      "_view_module": "@jupyter-widgets/base",
      "_view_module_version": "1.2.0",
      "_view_name": "StyleView",
      "bar_color": null,
      "description_width": "initial"
     }
    },
    "d0212312301f4edb9a05cd0de57ab5a1": {
     "model_module": "@jupyter-widgets/controls",
     "model_name": "HBoxModel",
     "state": {
      "_dom_classes": [],
      "_model_module": "@jupyter-widgets/controls",
      "_model_module_version": "1.5.0",
      "_model_name": "HBoxModel",
      "_view_count": null,
      "_view_module": "@jupyter-widgets/controls",
      "_view_module_version": "1.5.0",
      "_view_name": "HBoxView",
      "box_style": "",
      "children": [
       "IPY_MODEL_162bd196dd004a1bb543c5d470dc2828",
       "IPY_MODEL_15885d8b533f4ac78900e6b7a161f2bb"
      ],
      "layout": "IPY_MODEL_3249d8ec6d5e450abe2178bee0a899a2"
     }
    },
    "dbc8f281cdd043c795ea0cb458f5b30f": {
     "model_module": "@jupyter-widgets/base",
     "model_name": "LayoutModel",
     "state": {
      "_model_module": "@jupyter-widgets/base",
      "_model_module_version": "1.2.0",
      "_model_name": "LayoutModel",
      "_view_count": null,
      "_view_module": "@jupyter-widgets/base",
      "_view_module_version": "1.2.0",
      "_view_name": "LayoutView",
      "align_content": null,
      "align_items": null,
      "align_self": null,
      "border": null,
      "bottom": null,
      "display": null,
      "flex": null,
      "flex_flow": null,
      "grid_area": null,
      "grid_auto_columns": null,
      "grid_auto_flow": null,
      "grid_auto_rows": null,
      "grid_column": null,
      "grid_gap": null,
      "grid_row": null,
      "grid_template_areas": null,
      "grid_template_columns": null,
      "grid_template_rows": null,
      "height": null,
      "justify_content": null,
      "justify_items": null,
      "left": null,
      "margin": null,
      "max_height": null,
      "max_width": null,
      "min_height": null,
      "min_width": null,
      "object_fit": null,
      "object_position": null,
      "order": null,
      "overflow": null,
      "overflow_x": null,
      "overflow_y": null,
      "padding": null,
      "right": null,
      "top": null,
      "visibility": null,
      "width": null
     }
    },
    "f840a18c31ed44cfbba779a94586ebec": {
     "model_module": "@jupyter-widgets/controls",
     "model_name": "DescriptionStyleModel",
     "state": {
      "_model_module": "@jupyter-widgets/controls",
      "_model_module_version": "1.5.0",
      "_model_name": "DescriptionStyleModel",
      "_view_count": null,
      "_view_module": "@jupyter-widgets/base",
      "_view_module_version": "1.2.0",
      "_view_name": "StyleView",
      "description_width": ""
     }
    }
   }
  }
 },
 "nbformat": 4,
 "nbformat_minor": 4
}
