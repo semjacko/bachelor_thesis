{
 "cells": [
  {
   "cell_type": "markdown",
   "metadata": {
    "id": "1amfDVqIto9n"
   },
   "source": [
    "# Read JSON files\n",
    "\n",
    "do premennej `graphs_raw` sa nacitaju vsetky grafy z datasetu\n",
    "\n",
    "`graph_raw`:\n",
    "  - `filename`: nazov .lua suboru, z ktoreho je vytvoreny\n",
    "  - `path`: cesta k .lua suboru, z ktoreho je vytvoreny \n",
    "  - `is_test`: 1 ak sa subor nachadzal v `test` adresari, inak 0\n",
    "  - `is_spec`: 1 ak sa subor nachadzal v `spec` adresari, inak 0\n",
    "  - `is_shebang`: 1 ak boli prve 2 znaky v subore '#!', inak 0\n",
    "  - `nodes`: DataFrame(columns=\\['id', 'type'\\])\n",
    "  - `edges`: DataFrame(columns=\\['from', 'to'\\])\n",
    "\n"
   ]
  },
  {
   "cell_type": "code",
   "execution_count": 519,
   "metadata": {},
   "outputs": [],
   "source": [
    "import os\n",
    "import pandas as pd\n",
    "import json\n",
    "from tqdm.notebook import tnrange # loading bar"
   ]
  },
  {
   "cell_type": "code",
   "execution_count": 520,
   "metadata": {
    "colab": {
     "base_uri": "https://localhost:8080/",
     "height": 102,
     "referenced_widgets": [
      "d0212312301f4edb9a05cd0de57ab5a1",
      "3249d8ec6d5e450abe2178bee0a899a2",
      "162bd196dd004a1bb543c5d470dc2828",
      "15885d8b533f4ac78900e6b7a161f2bb",
      "a2ace461f6a046ddb5d63eef280929bc",
      "dbc8f281cdd043c795ea0cb458f5b30f",
      "f840a18c31ed44cfbba779a94586ebec",
      "3bdcfa533f6a423ab810910410e4f4e8"
     ]
    },
    "executionInfo": {
     "elapsed": 1121229,
     "status": "ok",
     "timestamp": 1618140077216,
     "user": {
      "displayName": "Róbert Jačko",
      "photoUrl": "",
      "userId": "15811568458173000815"
     },
     "user_tz": -120
    },
    "id": "MrVVg61b_wx9",
    "outputId": "8944ca81-3fa4-4ae0-fc6f-5e78face3737"
   },
   "outputs": [
    {
     "data": {
      "application/vnd.jupyter.widget-view+json": {
       "model_id": "53c0059acef04e8fb1ac343fcb31fddb",
       "version_major": 2,
       "version_minor": 0
      },
      "text/plain": [
       "Dataset loading:   0%|          | 0/216 [00:00<?, ?it/s]"
      ]
     },
     "metadata": {},
     "output_type": "display_data"
    },
    {
     "name": "stdout",
     "output_type": "stream",
     "text": [
      "Wrong json file: ../data/cd/simpledraw.lua.json\n",
      "Wrong json file: ../data/cd-examples/simpledraw.lua.json\n",
      "Wrong json file: ../data/lrexlib/oniguruma_sets.lua.json\n",
      "Wrong json file: ../data/lrexlib/pcre_sets.lua.json\n",
      "Wrong json file: ../data/lrexlib-gnu/oniguruma_sets.lua.json\n",
      "Wrong json file: ../data/lrexlib-gnu/pcre_sets.lua.json\n",
      "Wrong json file: ../data/lrexlib-oniguruma/oniguruma_sets.lua.json\n",
      "Wrong json file: ../data/lrexlib-oniguruma/pcre_sets.lua.json\n",
      "Wrong json file: ../data/lrexlib-pcre/oniguruma_sets.lua.json\n",
      "Wrong json file: ../data/lrexlib-pcre/pcre_sets.lua.json\n",
      "Wrong json file: ../data/lrexlib-posix/oniguruma_sets.lua.json\n",
      "Wrong json file: ../data/lrexlib-posix/pcre_sets.lua.json\n",
      "Wrong json file: ../data/lrexlib-tre/oniguruma_sets.lua.json\n",
      "Wrong json file: ../data/lrexlib-tre/pcre_sets.lua.json\n",
      "Wrong json file: ../data/lua-openssl/7.csr.lua.json\n",
      "Wrong json file: ../data/lua-path/test_wcs.lua.json\n",
      "Wrong json file: ../data/lua-pop3/test-message.lua.json\n",
      "Wrong json file: ../data/lua-sendmail/sendmail.lua.json\n",
      "Wrong json file: ../data/StackTracePlus/StackTracePlus.lua.json\n"
     ]
    }
   ],
   "source": [
    "graphs_raw = []\n",
    "\n",
    "data_path = '../data'\n",
    "dirs = os.listdir(data_path)\n",
    "num_dirs = len(dirs)\n",
    "\n",
    "for i in tnrange(num_dirs, desc='Dataset loading'):\n",
    "    dirname = dirs[i]\n",
    "    dir_path = data_path + '/' + dirname\n",
    "    for filename in os.listdir(dir_path):\n",
    "        json_file = dir_path + '/' + filename\n",
    "        with open(json_file) as jf:\n",
    "            graph = {}\n",
    "            try:\n",
    "                json_data = json.load(jf)\n",
    "                graph['filename'] = json_data['_filename']\n",
    "                graph['path'] = json_data['_path']\n",
    "                graph['is_test'] = int(json_data['_isTest'])\n",
    "                graph['is_spec'] = int(json_data['_isSpec'])\n",
    "                graph['is_shebang'] = int(json_data['_isShebang'])\n",
    "                graph['nodes'] = pd.DataFrame(json_data['nodes'], columns=['id', 'type'])\n",
    "                graph['nodes'] = graph['nodes'].set_index('id')\n",
    "                graph['edges'] = pd.DataFrame(json_data['edges'], columns=['from', 'to'])\n",
    "                graphs_raw.append(graph)\n",
    "            except:\n",
    "                print(f'Wrong json file: {json_file}')"
   ]
  },
  {
   "cell_type": "code",
   "execution_count": null,
   "metadata": {},
   "outputs": [],
   "source": [
    "[gr['path'] for gr in graphs_raw if gr['is_test'] and not gr['is_spec']]"
   ]
  },
  {
   "cell_type": "markdown",
   "metadata": {},
   "source": [
    "## Node types\n",
    "\n",
    "Kedze extraktor, ktory som pouzil na extrakciu grafov zo zdrojovych lua suborov ma zopar bugov, v typoch uzlov sa nachadzaju aj take uzly, ktore by tam byt nemali."
   ]
  },
  {
   "cell_type": "code",
   "execution_count": 469,
   "metadata": {},
   "outputs": [],
   "source": [
    "unique_list = []\n",
    "for d in graphs_raw:\n",
    "    curr_list = d['nodes']['type'].unique()\n",
    "    unique_list += list(set(curr_list) - set(unique_list))"
   ]
  },
  {
   "cell_type": "code",
   "execution_count": 470,
   "metadata": {},
   "outputs": [
    {
     "name": "stdout",
     "output_type": "stream",
     "text": [
      "Node types:\n",
      "    module\n",
      "    statement:keyword\n",
      "    interface\n",
      "    function\n",
      "    interface container\n",
      "    statement:functioncall\n",
      "    require container\n",
      "    file\n",
      "    local variable\n",
      "    statement:localassign\n",
      "    blank lines\n",
      "    n/a\n",
      "    global function\n",
      "    statement:while\n",
      "    variable container\n",
      "    statement:if\n",
      "    function container\n",
      "    require local variable\n",
      "    global variable\n",
      "    statement:genericfor\n",
      "    statement:assign\n",
      "    tableconstructor\n",
      "    statement:numericfor\n",
      "    string\n",
      "    statement:localfunction\n",
      "    number\n",
      "    table assign node\n",
      "    unop\n",
      "    symbol\n",
      "    boolean\n",
      "    statement:repeat\n",
      "    statement:globalfunction\n",
      "    keyword\n",
      "    statement:do\n",
      "    _prefixexp\n",
      "    _simpleexp\n"
     ]
    }
   ],
   "source": [
    "print('Node types:')\n",
    "for u in unique_list:\n",
    "    print(f'    {u}')"
   ]
  },
  {
   "cell_type": "markdown",
   "metadata": {
    "id": "kWTkf36Ws1Gg"
   },
   "source": [
    "# OneHot\n",
    "\n",
    "Kazdemu grafu z `graphs_raw` sa prida atribut `enc_node_types` (OneHot kodovanie typov uzlov).\n",
    "\n",
    "- `enc_node_types` je DataFrame OneHot kodovani pre vsetky uzly v danom grafe\n",
    "- **typy uzlov**: *\\['require container', 'function', 'local variable', 'file', 'tableconstructor', 'module', 'statement:keyword', 'variable container', 'statement:numericfor', 'statement:genericfor', 'statement:if', 'global function', 'statement:functioncall', 'statement:assign', 'function container', 'statement:localassign', 'global variable', 'statement:globalfunction', 'statement:while', 'statement:localfunction', 'interface container', 'interface', 'require local variable', 'statement:do', 'statement:repeat'\\]*\n",
    "- ostatne typy uzlov sa ignoruju (taketo uzly budu zakodovane samymi nulami)"
   ]
  },
  {
   "cell_type": "code",
   "execution_count": 523,
   "metadata": {},
   "outputs": [],
   "source": [
    "from sklearn.preprocessing import OneHotEncoder\n",
    "import numpy as np"
   ]
  },
  {
   "cell_type": "code",
   "execution_count": 524,
   "metadata": {
    "executionInfo": {
     "elapsed": 4894,
     "status": "ok",
     "timestamp": 1618141244142,
     "user": {
      "displayName": "Róbert Jačko",
      "photoUrl": "",
      "userId": "15811568458173000815"
     },
     "user_tz": -120
    },
    "id": "YAutjsD6s0Ei"
   },
   "outputs": [],
   "source": [
    "node_types = [\n",
    "    'require container', 'function', 'local variable', 'file', \n",
    "    'tableconstructor', 'module', 'statement:keyword', \n",
    "    'variable container', 'statement:numericfor', 'statement:genericfor', \n",
    "    'statement:if', 'global function', 'statement:functioncall', \n",
    "    'statement:assign', 'function container', 'statement:localassign', \n",
    "    'global variable', 'statement:globalfunction', 'statement:while', \n",
    "    'statement:localfunction', 'interface container', 'interface', \n",
    "    'require local variable', 'statement:do', 'statement:repeat'\n",
    "]\n",
    "\n",
    "enc = OneHotEncoder(handle_unknown='ignore')\n",
    "X = np.array(node_types).reshape(-1,1)\n",
    "enc.fit(X)\n",
    "\n",
    "for gr in graphs_raw:\n",
    "    # encode all NodeTypes in graph\n",
    "    encoded = enc.transform(gr['nodes']['type'].values.reshape(-1,1))\n",
    "    gr['enc_node_types'] = pd.DataFrame(encoded.toarray())"
   ]
  },
  {
   "cell_type": "code",
   "execution_count": 525,
   "metadata": {},
   "outputs": [
    {
     "data": {
      "text/html": [
       "<div>\n",
       "<style scoped>\n",
       "    .dataframe tbody tr th:only-of-type {\n",
       "        vertical-align: middle;\n",
       "    }\n",
       "\n",
       "    .dataframe tbody tr th {\n",
       "        vertical-align: top;\n",
       "    }\n",
       "\n",
       "    .dataframe thead th {\n",
       "        text-align: right;\n",
       "    }\n",
       "</style>\n",
       "<table border=\"1\" class=\"dataframe\">\n",
       "  <thead>\n",
       "    <tr style=\"text-align: right;\">\n",
       "      <th></th>\n",
       "      <th>0</th>\n",
       "      <th>1</th>\n",
       "      <th>2</th>\n",
       "      <th>3</th>\n",
       "      <th>4</th>\n",
       "      <th>5</th>\n",
       "      <th>6</th>\n",
       "      <th>7</th>\n",
       "      <th>8</th>\n",
       "      <th>9</th>\n",
       "      <th>...</th>\n",
       "      <th>15</th>\n",
       "      <th>16</th>\n",
       "      <th>17</th>\n",
       "      <th>18</th>\n",
       "      <th>19</th>\n",
       "      <th>20</th>\n",
       "      <th>21</th>\n",
       "      <th>22</th>\n",
       "      <th>23</th>\n",
       "      <th>24</th>\n",
       "    </tr>\n",
       "  </thead>\n",
       "  <tbody>\n",
       "    <tr>\n",
       "      <th>0</th>\n",
       "      <td>1.0</td>\n",
       "      <td>0.0</td>\n",
       "      <td>0.0</td>\n",
       "      <td>0.0</td>\n",
       "      <td>0.0</td>\n",
       "      <td>0.0</td>\n",
       "      <td>0.0</td>\n",
       "      <td>0.0</td>\n",
       "      <td>0.0</td>\n",
       "      <td>0.0</td>\n",
       "      <td>...</td>\n",
       "      <td>0.0</td>\n",
       "      <td>0.0</td>\n",
       "      <td>0.0</td>\n",
       "      <td>0.0</td>\n",
       "      <td>0.0</td>\n",
       "      <td>0.0</td>\n",
       "      <td>0.0</td>\n",
       "      <td>0.0</td>\n",
       "      <td>0.0</td>\n",
       "      <td>0.0</td>\n",
       "    </tr>\n",
       "    <tr>\n",
       "      <th>1</th>\n",
       "      <td>0.0</td>\n",
       "      <td>0.0</td>\n",
       "      <td>0.0</td>\n",
       "      <td>0.0</td>\n",
       "      <td>0.0</td>\n",
       "      <td>0.0</td>\n",
       "      <td>0.0</td>\n",
       "      <td>0.0</td>\n",
       "      <td>1.0</td>\n",
       "      <td>0.0</td>\n",
       "      <td>...</td>\n",
       "      <td>0.0</td>\n",
       "      <td>0.0</td>\n",
       "      <td>0.0</td>\n",
       "      <td>0.0</td>\n",
       "      <td>0.0</td>\n",
       "      <td>0.0</td>\n",
       "      <td>0.0</td>\n",
       "      <td>0.0</td>\n",
       "      <td>0.0</td>\n",
       "      <td>0.0</td>\n",
       "    </tr>\n",
       "    <tr>\n",
       "      <th>2</th>\n",
       "      <td>0.0</td>\n",
       "      <td>1.0</td>\n",
       "      <td>0.0</td>\n",
       "      <td>0.0</td>\n",
       "      <td>0.0</td>\n",
       "      <td>0.0</td>\n",
       "      <td>0.0</td>\n",
       "      <td>0.0</td>\n",
       "      <td>0.0</td>\n",
       "      <td>0.0</td>\n",
       "      <td>...</td>\n",
       "      <td>0.0</td>\n",
       "      <td>0.0</td>\n",
       "      <td>0.0</td>\n",
       "      <td>0.0</td>\n",
       "      <td>0.0</td>\n",
       "      <td>0.0</td>\n",
       "      <td>0.0</td>\n",
       "      <td>0.0</td>\n",
       "      <td>0.0</td>\n",
       "      <td>0.0</td>\n",
       "    </tr>\n",
       "    <tr>\n",
       "      <th>3</th>\n",
       "      <td>0.0</td>\n",
       "      <td>0.0</td>\n",
       "      <td>0.0</td>\n",
       "      <td>0.0</td>\n",
       "      <td>0.0</td>\n",
       "      <td>0.0</td>\n",
       "      <td>0.0</td>\n",
       "      <td>0.0</td>\n",
       "      <td>0.0</td>\n",
       "      <td>0.0</td>\n",
       "      <td>...</td>\n",
       "      <td>0.0</td>\n",
       "      <td>0.0</td>\n",
       "      <td>0.0</td>\n",
       "      <td>1.0</td>\n",
       "      <td>0.0</td>\n",
       "      <td>0.0</td>\n",
       "      <td>0.0</td>\n",
       "      <td>0.0</td>\n",
       "      <td>0.0</td>\n",
       "      <td>0.0</td>\n",
       "    </tr>\n",
       "    <tr>\n",
       "      <th>4</th>\n",
       "      <td>0.0</td>\n",
       "      <td>0.0</td>\n",
       "      <td>0.0</td>\n",
       "      <td>0.0</td>\n",
       "      <td>0.0</td>\n",
       "      <td>0.0</td>\n",
       "      <td>0.0</td>\n",
       "      <td>0.0</td>\n",
       "      <td>0.0</td>\n",
       "      <td>0.0</td>\n",
       "      <td>...</td>\n",
       "      <td>0.0</td>\n",
       "      <td>0.0</td>\n",
       "      <td>0.0</td>\n",
       "      <td>0.0</td>\n",
       "      <td>0.0</td>\n",
       "      <td>0.0</td>\n",
       "      <td>0.0</td>\n",
       "      <td>0.0</td>\n",
       "      <td>0.0</td>\n",
       "      <td>0.0</td>\n",
       "    </tr>\n",
       "    <tr>\n",
       "      <th>...</th>\n",
       "      <td>...</td>\n",
       "      <td>...</td>\n",
       "      <td>...</td>\n",
       "      <td>...</td>\n",
       "      <td>...</td>\n",
       "      <td>...</td>\n",
       "      <td>...</td>\n",
       "      <td>...</td>\n",
       "      <td>...</td>\n",
       "      <td>...</td>\n",
       "      <td>...</td>\n",
       "      <td>...</td>\n",
       "      <td>...</td>\n",
       "      <td>...</td>\n",
       "      <td>...</td>\n",
       "      <td>...</td>\n",
       "      <td>...</td>\n",
       "      <td>...</td>\n",
       "      <td>...</td>\n",
       "      <td>...</td>\n",
       "      <td>...</td>\n",
       "    </tr>\n",
       "    <tr>\n",
       "      <th>77</th>\n",
       "      <td>0.0</td>\n",
       "      <td>0.0</td>\n",
       "      <td>0.0</td>\n",
       "      <td>0.0</td>\n",
       "      <td>0.0</td>\n",
       "      <td>0.0</td>\n",
       "      <td>0.0</td>\n",
       "      <td>0.0</td>\n",
       "      <td>0.0</td>\n",
       "      <td>0.0</td>\n",
       "      <td>...</td>\n",
       "      <td>0.0</td>\n",
       "      <td>0.0</td>\n",
       "      <td>0.0</td>\n",
       "      <td>0.0</td>\n",
       "      <td>0.0</td>\n",
       "      <td>0.0</td>\n",
       "      <td>0.0</td>\n",
       "      <td>0.0</td>\n",
       "      <td>0.0</td>\n",
       "      <td>0.0</td>\n",
       "    </tr>\n",
       "    <tr>\n",
       "      <th>78</th>\n",
       "      <td>0.0</td>\n",
       "      <td>0.0</td>\n",
       "      <td>0.0</td>\n",
       "      <td>0.0</td>\n",
       "      <td>0.0</td>\n",
       "      <td>0.0</td>\n",
       "      <td>0.0</td>\n",
       "      <td>0.0</td>\n",
       "      <td>0.0</td>\n",
       "      <td>0.0</td>\n",
       "      <td>...</td>\n",
       "      <td>0.0</td>\n",
       "      <td>0.0</td>\n",
       "      <td>0.0</td>\n",
       "      <td>0.0</td>\n",
       "      <td>0.0</td>\n",
       "      <td>0.0</td>\n",
       "      <td>0.0</td>\n",
       "      <td>0.0</td>\n",
       "      <td>0.0</td>\n",
       "      <td>0.0</td>\n",
       "    </tr>\n",
       "    <tr>\n",
       "      <th>79</th>\n",
       "      <td>0.0</td>\n",
       "      <td>0.0</td>\n",
       "      <td>0.0</td>\n",
       "      <td>0.0</td>\n",
       "      <td>0.0</td>\n",
       "      <td>0.0</td>\n",
       "      <td>0.0</td>\n",
       "      <td>0.0</td>\n",
       "      <td>0.0</td>\n",
       "      <td>0.0</td>\n",
       "      <td>...</td>\n",
       "      <td>0.0</td>\n",
       "      <td>0.0</td>\n",
       "      <td>0.0</td>\n",
       "      <td>0.0</td>\n",
       "      <td>0.0</td>\n",
       "      <td>0.0</td>\n",
       "      <td>0.0</td>\n",
       "      <td>0.0</td>\n",
       "      <td>0.0</td>\n",
       "      <td>0.0</td>\n",
       "    </tr>\n",
       "    <tr>\n",
       "      <th>80</th>\n",
       "      <td>0.0</td>\n",
       "      <td>0.0</td>\n",
       "      <td>0.0</td>\n",
       "      <td>0.0</td>\n",
       "      <td>0.0</td>\n",
       "      <td>0.0</td>\n",
       "      <td>0.0</td>\n",
       "      <td>0.0</td>\n",
       "      <td>0.0</td>\n",
       "      <td>0.0</td>\n",
       "      <td>...</td>\n",
       "      <td>0.0</td>\n",
       "      <td>0.0</td>\n",
       "      <td>0.0</td>\n",
       "      <td>0.0</td>\n",
       "      <td>0.0</td>\n",
       "      <td>0.0</td>\n",
       "      <td>0.0</td>\n",
       "      <td>0.0</td>\n",
       "      <td>0.0</td>\n",
       "      <td>0.0</td>\n",
       "    </tr>\n",
       "    <tr>\n",
       "      <th>81</th>\n",
       "      <td>0.0</td>\n",
       "      <td>0.0</td>\n",
       "      <td>0.0</td>\n",
       "      <td>0.0</td>\n",
       "      <td>0.0</td>\n",
       "      <td>0.0</td>\n",
       "      <td>0.0</td>\n",
       "      <td>0.0</td>\n",
       "      <td>0.0</td>\n",
       "      <td>0.0</td>\n",
       "      <td>...</td>\n",
       "      <td>0.0</td>\n",
       "      <td>0.0</td>\n",
       "      <td>0.0</td>\n",
       "      <td>0.0</td>\n",
       "      <td>0.0</td>\n",
       "      <td>0.0</td>\n",
       "      <td>0.0</td>\n",
       "      <td>0.0</td>\n",
       "      <td>0.0</td>\n",
       "      <td>0.0</td>\n",
       "    </tr>\n",
       "  </tbody>\n",
       "</table>\n",
       "<p>82 rows × 25 columns</p>\n",
       "</div>"
      ],
      "text/plain": [
       "     0    1    2    3    4    5    6    7    8    9   ...   15   16   17   18  \\\n",
       "0   1.0  0.0  0.0  0.0  0.0  0.0  0.0  0.0  0.0  0.0  ...  0.0  0.0  0.0  0.0   \n",
       "1   0.0  0.0  0.0  0.0  0.0  0.0  0.0  0.0  1.0  0.0  ...  0.0  0.0  0.0  0.0   \n",
       "2   0.0  1.0  0.0  0.0  0.0  0.0  0.0  0.0  0.0  0.0  ...  0.0  0.0  0.0  0.0   \n",
       "3   0.0  0.0  0.0  0.0  0.0  0.0  0.0  0.0  0.0  0.0  ...  0.0  0.0  0.0  1.0   \n",
       "4   0.0  0.0  0.0  0.0  0.0  0.0  0.0  0.0  0.0  0.0  ...  0.0  0.0  0.0  0.0   \n",
       "..  ...  ...  ...  ...  ...  ...  ...  ...  ...  ...  ...  ...  ...  ...  ...   \n",
       "77  0.0  0.0  0.0  0.0  0.0  0.0  0.0  0.0  0.0  0.0  ...  0.0  0.0  0.0  0.0   \n",
       "78  0.0  0.0  0.0  0.0  0.0  0.0  0.0  0.0  0.0  0.0  ...  0.0  0.0  0.0  0.0   \n",
       "79  0.0  0.0  0.0  0.0  0.0  0.0  0.0  0.0  0.0  0.0  ...  0.0  0.0  0.0  0.0   \n",
       "80  0.0  0.0  0.0  0.0  0.0  0.0  0.0  0.0  0.0  0.0  ...  0.0  0.0  0.0  0.0   \n",
       "81  0.0  0.0  0.0  0.0  0.0  0.0  0.0  0.0  0.0  0.0  ...  0.0  0.0  0.0  0.0   \n",
       "\n",
       "     19   20   21   22   23   24  \n",
       "0   0.0  0.0  0.0  0.0  0.0  0.0  \n",
       "1   0.0  0.0  0.0  0.0  0.0  0.0  \n",
       "2   0.0  0.0  0.0  0.0  0.0  0.0  \n",
       "3   0.0  0.0  0.0  0.0  0.0  0.0  \n",
       "4   0.0  0.0  0.0  0.0  0.0  0.0  \n",
       "..  ...  ...  ...  ...  ...  ...  \n",
       "77  0.0  0.0  0.0  0.0  0.0  0.0  \n",
       "78  0.0  0.0  0.0  0.0  0.0  0.0  \n",
       "79  0.0  0.0  0.0  0.0  0.0  0.0  \n",
       "80  0.0  0.0  0.0  0.0  0.0  0.0  \n",
       "81  0.0  0.0  0.0  0.0  0.0  0.0  \n",
       "\n",
       "[82 rows x 25 columns]"
      ]
     },
     "execution_count": 525,
     "metadata": {},
     "output_type": "execute_result"
    }
   ],
   "source": [
    "graphs_raw[0]['enc_node_types']"
   ]
  },
  {
   "cell_type": "markdown",
   "metadata": {
    "id": "_vKrj7jHFE2i"
   },
   "source": [
    "# Create dataset\n",
    "\n",
    "dataset tvoria `graphs` a `graph_labels`\n",
    "- `graphs` je numpy.Array of StellarGraphs\n",
    "- `graph_labels` je numpy.Array oznaceni pre dany graf na i-tej pozcii\n",
    "    - `basic` => 0\n",
    "    - `is_shebang` => 1\n",
    "    - `is_spec` => 2\n",
    "  \n",
    "Pozn.: do `basic` zdrojovych kodov som zaradil aj `is_test` (obycajne testy), pretoze struktury ich extrahovanych grafov su velmi podobne"
   ]
  },
  {
   "cell_type": "code",
   "execution_count": 670,
   "metadata": {},
   "outputs": [],
   "source": [
    "from stellargraph import StellarGraph"
   ]
  },
  {
   "cell_type": "code",
   "execution_count": 671,
   "metadata": {
    "executionInfo": {
     "elapsed": 10748,
     "status": "ok",
     "timestamp": 1618141256474,
     "user": {
      "displayName": "Róbert Jačko",
      "photoUrl": "",
      "userId": "15811568458173000815"
     },
     "user_tz": -120
    },
    "id": "dWIGwUA4FEII"
   },
   "outputs": [],
   "source": [
    "def createStellarGraph(graphRaw):\n",
    "    nodes = graphRaw['enc_node_types']\n",
    "    edges = graphRaw['edges']\n",
    "    graph = StellarGraph(nodes=nodes, edges=edges, source_column='from', target_column='to', is_directed=True)\n",
    "    return graph\n",
    "\n",
    "graphs = np.array([createStellarGraph(gr) for gr in graphs_raw])\n",
    "#graph_labels = pd.Series([1 if gr['is_shebang'] else 2 if gr['is_spec'] else 3 if gr['is_test'] else 0 for gr in graphs_raw], dtype=\"category\", name='label')\n",
    "graph_labels = np.array([1 if gr['is_shebang'] else 2 if gr['is_spec'] else 0 for gr in graphs_raw])"
   ]
  },
  {
   "cell_type": "code",
   "execution_count": 672,
   "metadata": {},
   "outputs": [
    {
     "data": {
      "text/plain": [
       "array([<stellargraph.core.graph.StellarGraph object at 0x7fd237fe64f0>,\n",
       "       <stellargraph.core.graph.StellarGraph object at 0x7fd237fe6640>,\n",
       "       <stellargraph.core.graph.StellarGraph object at 0x7fd237fe6040>,\n",
       "       ...,\n",
       "       <stellargraph.core.graph.StellarGraph object at 0x7fd23fdeafa0>,\n",
       "       <stellargraph.core.graph.StellarGraph object at 0x7fd23fdf0490>,\n",
       "       <stellargraph.core.graph.StellarGraph object at 0x7fd23fdf0940>],\n",
       "      dtype=object)"
      ]
     },
     "execution_count": 672,
     "metadata": {},
     "output_type": "execute_result"
    }
   ],
   "source": [
    "graphs"
   ]
  },
  {
   "cell_type": "code",
   "execution_count": 673,
   "metadata": {},
   "outputs": [
    {
     "data": {
      "text/plain": [
       "array([0, 0, 0, ..., 0, 0, 0])"
      ]
     },
     "execution_count": 673,
     "metadata": {},
     "output_type": "execute_result"
    }
   ],
   "source": [
    "graph_labels"
   ]
  },
  {
   "cell_type": "markdown",
   "metadata": {},
   "source": [
    "pd.Series(graph_labels).value_counts()# Dataset stats\n",
    "\n",
    "Dataset je velmi nevyvazeny. Pocet `basic` zdrojovych kodov vysoko prevysuje pocty `Shebang` a `Spec` zdrojovych kodov"
   ]
  },
  {
   "cell_type": "code",
   "execution_count": 674,
   "metadata": {},
   "outputs": [
    {
     "name": "stdout",
     "output_type": "stream",
     "text": [
      "Label counts\n",
      "    Basic: 2247\n",
      "    Shebang: 131\n",
      "    Specs: 114\n",
      "    \n"
     ]
    }
   ],
   "source": [
    "value_counts = pd.Series(graph_labels).value_counts()\n",
    "basic_count = value_counts[0]\n",
    "shebang_count= value_counts[1]\n",
    "spec_count = value_counts[2]\n",
    "\n",
    "print(f'''Label counts\n",
    "    Basic: {basic_count}\n",
    "    Shebang: {shebang_count}\n",
    "    Specs: {spec_count}\n",
    "    ''')"
   ]
  },
  {
   "cell_type": "code",
   "execution_count": 675,
   "metadata": {},
   "outputs": [
    {
     "data": {
      "text/html": [
       "<div>\n",
       "<style scoped>\n",
       "    .dataframe tbody tr th:only-of-type {\n",
       "        vertical-align: middle;\n",
       "    }\n",
       "\n",
       "    .dataframe tbody tr th {\n",
       "        vertical-align: top;\n",
       "    }\n",
       "\n",
       "    .dataframe thead th {\n",
       "        text-align: right;\n",
       "    }\n",
       "</style>\n",
       "<table border=\"1\" class=\"dataframe\">\n",
       "  <thead>\n",
       "    <tr style=\"text-align: right;\">\n",
       "      <th></th>\n",
       "      <th>nodes</th>\n",
       "      <th>edges</th>\n",
       "    </tr>\n",
       "  </thead>\n",
       "  <tbody>\n",
       "    <tr>\n",
       "      <th>count</th>\n",
       "      <td>2492.0</td>\n",
       "      <td>2492.0</td>\n",
       "    </tr>\n",
       "    <tr>\n",
       "      <th>mean</th>\n",
       "      <td>93.9</td>\n",
       "      <td>156.9</td>\n",
       "    </tr>\n",
       "    <tr>\n",
       "      <th>std</th>\n",
       "      <td>165.7</td>\n",
       "      <td>308.6</td>\n",
       "    </tr>\n",
       "    <tr>\n",
       "      <th>min</th>\n",
       "      <td>5.0</td>\n",
       "      <td>4.0</td>\n",
       "    </tr>\n",
       "    <tr>\n",
       "      <th>25%</th>\n",
       "      <td>20.0</td>\n",
       "      <td>24.0</td>\n",
       "    </tr>\n",
       "    <tr>\n",
       "      <th>50%</th>\n",
       "      <td>43.0</td>\n",
       "      <td>57.0</td>\n",
       "    </tr>\n",
       "    <tr>\n",
       "      <th>75%</th>\n",
       "      <td>100.0</td>\n",
       "      <td>153.0</td>\n",
       "    </tr>\n",
       "    <tr>\n",
       "      <th>max</th>\n",
       "      <td>2400.0</td>\n",
       "      <td>4300.0</td>\n",
       "    </tr>\n",
       "  </tbody>\n",
       "</table>\n",
       "</div>"
      ],
      "text/plain": [
       "        nodes   edges\n",
       "count  2492.0  2492.0\n",
       "mean     93.9   156.9\n",
       "std     165.7   308.6\n",
       "min       5.0     4.0\n",
       "25%      20.0    24.0\n",
       "50%      43.0    57.0\n",
       "75%     100.0   153.0\n",
       "max    2400.0  4300.0"
      ]
     },
     "execution_count": 675,
     "metadata": {},
     "output_type": "execute_result"
    }
   ],
   "source": [
    "summary = pd.DataFrame(\n",
    "    [(g.number_of_nodes(), g.number_of_edges()) for g in graphs],\n",
    "    columns=[\"nodes\", \"edges\"],\n",
    ")\n",
    "summary.describe().round(1)"
   ]
  },
  {
   "cell_type": "markdown",
   "metadata": {},
   "source": [
    "# Outliers\n",
    "\n",
    "Grafy s extremne nizkym (dolny 5% quantil) a s extremne vysokym (horny 5% quantil) poctom uzlov sa z datasetu odfiltruju."
   ]
  },
  {
   "cell_type": "code",
   "execution_count": 676,
   "metadata": {},
   "outputs": [
    {
     "name": "stdout",
     "output_type": "stream",
     "text": [
      "Nodes count quantiles:\n",
      "    lower: 8.0\n",
      "    upper: 341.0\n",
      "    \n"
     ]
    }
   ],
   "source": [
    "lower = summary['nodes'].quantile(0.05)\n",
    "upper = summary['nodes'].quantile(0.95)\n",
    "\n",
    "print(f'''Nodes count quantiles:\n",
    "    lower: {lower}\n",
    "    upper: {upper}\n",
    "    ''')"
   ]
  },
  {
   "cell_type": "code",
   "execution_count": 677,
   "metadata": {},
   "outputs": [],
   "source": [
    "clipped = summary.loc[(summary['nodes'] > lower) & (summary['nodes'] < upper)]"
   ]
  },
  {
   "cell_type": "code",
   "execution_count": 678,
   "metadata": {},
   "outputs": [
    {
     "data": {
      "text/html": [
       "<div>\n",
       "<style scoped>\n",
       "    .dataframe tbody tr th:only-of-type {\n",
       "        vertical-align: middle;\n",
       "    }\n",
       "\n",
       "    .dataframe tbody tr th {\n",
       "        vertical-align: top;\n",
       "    }\n",
       "\n",
       "    .dataframe thead th {\n",
       "        text-align: right;\n",
       "    }\n",
       "</style>\n",
       "<table border=\"1\" class=\"dataframe\">\n",
       "  <thead>\n",
       "    <tr style=\"text-align: right;\">\n",
       "      <th></th>\n",
       "      <th>nodes</th>\n",
       "      <th>edges</th>\n",
       "    </tr>\n",
       "  </thead>\n",
       "  <tbody>\n",
       "    <tr>\n",
       "      <th>count</th>\n",
       "      <td>2239.0</td>\n",
       "      <td>2239.0</td>\n",
       "    </tr>\n",
       "    <tr>\n",
       "      <th>mean</th>\n",
       "      <td>68.2</td>\n",
       "      <td>109.6</td>\n",
       "    </tr>\n",
       "    <tr>\n",
       "      <th>std</th>\n",
       "      <td>65.9</td>\n",
       "      <td>138.7</td>\n",
       "    </tr>\n",
       "    <tr>\n",
       "      <th>min</th>\n",
       "      <td>9.0</td>\n",
       "      <td>8.0</td>\n",
       "    </tr>\n",
       "    <tr>\n",
       "      <th>25%</th>\n",
       "      <td>22.5</td>\n",
       "      <td>27.0</td>\n",
       "    </tr>\n",
       "    <tr>\n",
       "      <th>50%</th>\n",
       "      <td>43.0</td>\n",
       "      <td>57.0</td>\n",
       "    </tr>\n",
       "    <tr>\n",
       "      <th>75%</th>\n",
       "      <td>90.0</td>\n",
       "      <td>136.5</td>\n",
       "    </tr>\n",
       "    <tr>\n",
       "      <th>max</th>\n",
       "      <td>340.0</td>\n",
       "      <td>1960.0</td>\n",
       "    </tr>\n",
       "  </tbody>\n",
       "</table>\n",
       "</div>"
      ],
      "text/plain": [
       "        nodes   edges\n",
       "count  2239.0  2239.0\n",
       "mean     68.2   109.6\n",
       "std      65.9   138.7\n",
       "min       9.0     8.0\n",
       "25%      22.5    27.0\n",
       "50%      43.0    57.0\n",
       "75%      90.0   136.5\n",
       "max     340.0  1960.0"
      ]
     },
     "execution_count": 678,
     "metadata": {},
     "output_type": "execute_result"
    }
   ],
   "source": [
    "clipped.describe().round(1)"
   ]
  },
  {
   "cell_type": "code",
   "execution_count": 679,
   "metadata": {},
   "outputs": [],
   "source": [
    "graphs = pd.DataFrame(graphs).iloc[clipped.index].to_numpy().flatten()\n",
    "graph_labels = pd.DataFrame(graph_labels).iloc[clipped.index].to_numpy().flatten()"
   ]
  },
  {
   "cell_type": "code",
   "execution_count": 680,
   "metadata": {},
   "outputs": [
    {
     "name": "stdout",
     "output_type": "stream",
     "text": [
      "Label counts\n",
      "    Basic: 2026\n",
      "    Shebang: 122\n",
      "    Specs: 91\n",
      "    \n"
     ]
    }
   ],
   "source": [
    "value_counts = pd.Series(graph_labels).value_counts()\n",
    "basic_count = value_counts[0]\n",
    "shebang_count= value_counts[1]\n",
    "spec_count = value_counts[2]\n",
    "\n",
    "print(f'''Label counts\n",
    "    Basic: {basic_count}\n",
    "    Shebang: {shebang_count}\n",
    "    Specs: {spec_count}\n",
    "    ''')"
   ]
  },
  {
   "cell_type": "markdown",
   "metadata": {},
   "source": [
    "# Undersampling\n",
    "\n",
    "Z `basic` zdrojovych kodov sa nahodne vyberie mensi pocet grafov ako ich je v skutocnosti, cim sa upravi ich pomer ku grafom ostatnych tried. \n",
    "\n",
    "Tymto krokom sa trochu vyvazi dataset."
   ]
  },
  {
   "cell_type": "code",
   "execution_count": 681,
   "metadata": {},
   "outputs": [],
   "source": [
    "from imblearn.under_sampling import RandomUnderSampler"
   ]
  },
  {
   "cell_type": "code",
   "execution_count": 682,
   "metadata": {},
   "outputs": [],
   "source": [
    "u_samp_strategy = {\n",
    "    0: 500,\n",
    "    1: shebang_count,\n",
    "    2: spec_count\n",
    "}\n",
    "\n",
    "undersample = RandomUnderSampler(sampling_strategy=u_samp_strategy, random_state=1)\n",
    "graphs_under, graph_labels_under = undersample.fit_resample(graphs.reshape(-1, 1), graph_labels)"
   ]
  },
  {
   "cell_type": "code",
   "execution_count": 683,
   "metadata": {},
   "outputs": [],
   "source": [
    "graphs = graphs_under.flatten()\n",
    "graph_labels = graph_labels_under"
   ]
  },
  {
   "cell_type": "markdown",
   "metadata": {},
   "source": [
    "# Final (sampled) dataset stats"
   ]
  },
  {
   "cell_type": "code",
   "execution_count": 684,
   "metadata": {},
   "outputs": [
    {
     "name": "stdout",
     "output_type": "stream",
     "text": [
      "StellarGraph: Directed multigraph\n",
      " Nodes: 151, Edges: 200\n",
      "\n",
      " Node types:\n",
      "  default: [151]\n",
      "    Features: float32 vector, length 25\n",
      "    Edge types: default-default->default\n",
      "\n",
      " Edge types:\n",
      "    default-default->default: [200]\n",
      "        Weights: all 1 (default)\n",
      "        Features: none\n"
     ]
    }
   ],
   "source": [
    "print(graphs[0].info())"
   ]
  },
  {
   "cell_type": "code",
   "execution_count": 685,
   "metadata": {},
   "outputs": [
    {
     "name": "stdout",
     "output_type": "stream",
     "text": [
      "StellarGraph: Directed multigraph\n",
      " Nodes: 195, Edges: 278\n",
      "\n",
      " Node types:\n",
      "  default: [195]\n",
      "    Features: float32 vector, length 25\n",
      "    Edge types: default-default->default\n",
      "\n",
      " Edge types:\n",
      "    default-default->default: [278]\n",
      "        Weights: all 1 (default)\n",
      "        Features: none\n"
     ]
    }
   ],
   "source": [
    "print(graphs[1].info())"
   ]
  },
  {
   "cell_type": "code",
   "execution_count": 686,
   "metadata": {},
   "outputs": [
    {
     "name": "stdout",
     "output_type": "stream",
     "text": [
      "Label counts\n",
      "    Basic: 500\n",
      "    Shebang: 122\n",
      "    Specs: 91\n",
      "    \n"
     ]
    }
   ],
   "source": [
    "value_counts = pd.Series(graph_labels).value_counts()\n",
    "basic_count = value_counts[0]\n",
    "shebang_count= value_counts[1]\n",
    "spec_count = value_counts[2]\n",
    "\n",
    "print(f'''Label counts\n",
    "    Basic: {basic_count}\n",
    "    Shebang: {shebang_count}\n",
    "    Specs: {spec_count}\n",
    "    ''')"
   ]
  },
  {
   "cell_type": "code",
   "execution_count": 687,
   "metadata": {},
   "outputs": [
    {
     "data": {
      "text/html": [
       "<div>\n",
       "<style scoped>\n",
       "    .dataframe tbody tr th:only-of-type {\n",
       "        vertical-align: middle;\n",
       "    }\n",
       "\n",
       "    .dataframe tbody tr th {\n",
       "        vertical-align: top;\n",
       "    }\n",
       "\n",
       "    .dataframe thead th {\n",
       "        text-align: right;\n",
       "    }\n",
       "</style>\n",
       "<table border=\"1\" class=\"dataframe\">\n",
       "  <thead>\n",
       "    <tr style=\"text-align: right;\">\n",
       "      <th></th>\n",
       "      <th>nodes</th>\n",
       "      <th>edges</th>\n",
       "    </tr>\n",
       "  </thead>\n",
       "  <tbody>\n",
       "    <tr>\n",
       "      <th>count</th>\n",
       "      <td>713.0</td>\n",
       "      <td>713.0</td>\n",
       "    </tr>\n",
       "    <tr>\n",
       "      <th>mean</th>\n",
       "      <td>67.4</td>\n",
       "      <td>122.3</td>\n",
       "    </tr>\n",
       "    <tr>\n",
       "      <th>std</th>\n",
       "      <td>67.1</td>\n",
       "      <td>172.3</td>\n",
       "    </tr>\n",
       "    <tr>\n",
       "      <th>min</th>\n",
       "      <td>9.0</td>\n",
       "      <td>8.0</td>\n",
       "    </tr>\n",
       "    <tr>\n",
       "      <th>25%</th>\n",
       "      <td>22.0</td>\n",
       "      <td>27.0</td>\n",
       "    </tr>\n",
       "    <tr>\n",
       "      <th>50%</th>\n",
       "      <td>40.0</td>\n",
       "      <td>56.0</td>\n",
       "    </tr>\n",
       "    <tr>\n",
       "      <th>75%</th>\n",
       "      <td>87.0</td>\n",
       "      <td>145.0</td>\n",
       "    </tr>\n",
       "    <tr>\n",
       "      <th>max</th>\n",
       "      <td>337.0</td>\n",
       "      <td>1960.0</td>\n",
       "    </tr>\n",
       "  </tbody>\n",
       "</table>\n",
       "</div>"
      ],
      "text/plain": [
       "       nodes   edges\n",
       "count  713.0   713.0\n",
       "mean    67.4   122.3\n",
       "std     67.1   172.3\n",
       "min      9.0     8.0\n",
       "25%     22.0    27.0\n",
       "50%     40.0    56.0\n",
       "75%     87.0   145.0\n",
       "max    337.0  1960.0"
      ]
     },
     "execution_count": 687,
     "metadata": {},
     "output_type": "execute_result"
    }
   ],
   "source": [
    "summary = pd.DataFrame(\n",
    "    [(g.number_of_nodes(), g.number_of_edges()) for g in graphs],\n",
    "    columns=[\"nodes\", \"edges\"],\n",
    ")\n",
    "summary.describe().round(1)"
   ]
  },
  {
   "cell_type": "markdown",
   "metadata": {},
   "source": [
    "# Prepair generator\n",
    "Z `graph_labels` sa vytvori OneHot encoding labelov. \n",
    "\n",
    "Pozn.: Generator je potrebny neskor na to, aby sa objekty typu `StellarGraph` mohli vkladat do modelu neuronovej siete z Tensorflow-u"
   ]
  },
  {
   "cell_type": "code",
   "execution_count": 688,
   "metadata": {},
   "outputs": [],
   "source": [
    "from stellargraph.mapper import PaddedGraphGenerator"
   ]
  },
  {
   "cell_type": "code",
   "execution_count": 689,
   "metadata": {},
   "outputs": [
    {
     "name": "stdout",
     "output_type": "stream",
     "text": [
      "     0  1  2\n",
      "0    1  0  0\n",
      "1    1  0  0\n",
      "2    1  0  0\n",
      "3    1  0  0\n",
      "4    1  0  0\n",
      "..  .. .. ..\n",
      "708  0  0  1\n",
      "709  0  0  1\n",
      "710  0  0  1\n",
      "711  0  0  1\n",
      "712  0  0  1\n",
      "\n",
      "[713 rows x 3 columns]\n"
     ]
    }
   ],
   "source": [
    "graph_labels = pd.get_dummies(graph_labels, drop_first=False)\n",
    "\n",
    "print(graph_labels)"
   ]
  },
  {
   "cell_type": "code",
   "execution_count": 690,
   "metadata": {},
   "outputs": [
    {
     "name": "stdout",
     "output_type": "stream",
     "text": [
      "Number of classes: 3\n",
      "Number of graphs: 713\n"
     ]
    }
   ],
   "source": [
    "num_graphs, num_classes = graph_labels.shape\n",
    "\n",
    "print(f'Number of classes: {num_classes}\\nNumber of graphs: {num_graphs}')"
   ]
  },
  {
   "cell_type": "code",
   "execution_count": 691,
   "metadata": {},
   "outputs": [],
   "source": [
    "generator = PaddedGraphGenerator(graphs=graphs)"
   ]
  },
  {
   "cell_type": "markdown",
   "metadata": {},
   "source": [
    "# Supervised graph classification with GCN [StellarGraph]"
   ]
  },
  {
   "cell_type": "code",
   "execution_count": 692,
   "metadata": {},
   "outputs": [],
   "source": [
    "import stellargraph as sg\n",
    "from stellargraph.layer import GCNSupervisedGraphClassification\n",
    "from sklearn import model_selection\n",
    "from tensorflow.keras import Model\n",
    "from tensorflow.keras.optimizers import Adam\n",
    "from tensorflow.keras.layers import Dense\n",
    "from tensorflow.keras.losses import categorical_crossentropy\n",
    "from tensorflow.keras.callbacks import EarlyStopping\n",
    "import kerastuner as kt\n",
    "import tensorflow as tf\n",
    "import matplotlib.pyplot as plt"
   ]
  },
  {
   "cell_type": "markdown",
   "metadata": {},
   "source": [
    "## Split dataset to TRAIN, VALIDATION and TEST\n",
    "Pomer percent TRENOVACI\\:VALIDACNY\\:TESTOVACI == **70\\:15\\:15**"
   ]
  },
  {
   "cell_type": "code",
   "execution_count": 693,
   "metadata": {},
   "outputs": [],
   "source": [
    "# TRAIN:TEST 85:15\n",
    "train_graphs, test_graphs = model_selection.train_test_split(\n",
    "    graph_labels, train_size=0.85, stratify=graph_labels\n",
    ")\n",
    "\n",
    "# TRAIN:VALIDATION 82.4:17.6 => 85*0.824 == 70  85*0.176 == 15 \n",
    "train_graphs, val_graphs = model_selection.train_test_split(\n",
    "    train_graphs, train_size=0.824, stratify=train_graphs\n",
    ")"
   ]
  },
  {
   "cell_type": "code",
   "execution_count": 694,
   "metadata": {},
   "outputs": [
    {
     "name": "stdout",
     "output_type": "stream",
     "text": [
      "TRAIN graphs: 499\n",
      "VALIDATION graphs: 107\n",
      "TEST graphs: 107\n"
     ]
    }
   ],
   "source": [
    "print(f'TRAIN graphs: {len(train_graphs)}\\nVALIDATION graphs: {len(val_graphs)}\\nTEST graphs: {len(test_graphs)}')"
   ]
  },
  {
   "cell_type": "markdown",
   "metadata": {},
   "source": [
    "# Compute class weights"
   ]
  },
  {
   "cell_type": "code",
   "execution_count": 708,
   "metadata": {},
   "outputs": [],
   "source": [
    "from sklearn.utils.class_weight import compute_class_weight"
   ]
  },
  {
   "cell_type": "code",
   "execution_count": 709,
   "metadata": {},
   "outputs": [],
   "source": [
    "y_integers = np.argmax(train_graphs.to_numpy(), axis=1)\n",
    "class_weights = compute_class_weight(class_weight='balanced', classes=np.unique(y_integers), y=y_integers)\n",
    "d_class_weights = dict(enumerate(class_weights))"
   ]
  },
  {
   "cell_type": "code",
   "execution_count": 710,
   "metadata": {},
   "outputs": [
    {
     "data": {
      "text/plain": [
       "{0: 0.47523809523809524, 1: 1.934108527131783, 2: 2.64021164021164}"
      ]
     },
     "execution_count": 710,
     "metadata": {},
     "output_type": "execute_result"
    }
   ],
   "source": [
    "d_class_weights"
   ]
  },
  {
   "cell_type": "markdown",
   "metadata": {},
   "source": [
    "## Create generators"
   ]
  },
  {
   "cell_type": "code",
   "execution_count": 711,
   "metadata": {},
   "outputs": [],
   "source": [
    "batch_size=32\n",
    "\n",
    "train_gen = generator.flow(\n",
    "        train_graphs.index, targets=graph_labels.iloc[train_graphs.index].values, batch_size=batch_size\n",
    "    )\n",
    "val_gen = generator.flow(\n",
    "        val_graphs.index, targets=graph_labels.iloc[val_graphs.index].values, batch_size=batch_size\n",
    "    )"
   ]
  },
  {
   "cell_type": "markdown",
   "metadata": {},
   "source": [
    "## Build model\n",
    "Model ma spolu 11 vrstiev (aj s dropout vrstvami)."
   ]
  },
  {
   "cell_type": "code",
   "execution_count": 712,
   "metadata": {},
   "outputs": [],
   "source": [
    "gc_model = GCNSupervisedGraphClassification(\n",
    "        layer_sizes=[64, 64],\n",
    "        activations=[\"relu\", \"relu\"],\n",
    "        generator=generator,\n",
    "        dropout=0.5,\n",
    "    )\n",
    "\n",
    "x_inp, x_out = gc_model.in_out_tensors()\n",
    "predictions = Dense(units=32, activation=\"relu\")(x_out)\n",
    "predictions = Dense(units=16, activation=\"relu\")(predictions)\n",
    "predictions = Dense(num_classes, activation=\"softmax\")(predictions)\n",
    "\n",
    "model = Model(inputs=x_inp, outputs=predictions)\n",
    "model.compile(optimizer=Adam(0.005), loss=categorical_crossentropy, metrics=[\"accuracy\"])"
   ]
  },
  {
   "cell_type": "markdown",
   "metadata": {},
   "source": [
    "## Tune hyperparameters"
   ]
  },
  {
   "cell_type": "code",
   "execution_count": 380,
   "metadata": {},
   "outputs": [],
   "source": [
    "def model_builder(hp):\n",
    "    hp_convo1 = hp.Int('convo1', min_value=32, max_value=320, step=32)\n",
    "    hp_convo2 = hp.Int('convo2', min_value=32, max_value=320, step=32)\n",
    "    hp_dropout = hp.Float('dropout', min_value=0.1, max_value=0.5, step=0.1)\n",
    "    hp_dense1 = hp.Int('dense1', min_value=32, max_value=320, step=32)\n",
    "    hp_dense2 = hp.Int('dense2', min_value=16, max_value=160, step=16)\n",
    "    hp_learning_rate = hp.Choice('learning_rate', values=[0.0001, 0.001, 0.005, 0.01])\n",
    "    \n",
    "    gc_model = GCNSupervisedGraphClassification(\n",
    "            layer_sizes=[hp_convo1, hp_convo2],\n",
    "            activations=[\"relu\", \"relu\"],\n",
    "            generator=generator,\n",
    "            dropout=hp_dropout,\n",
    "        )\n",
    "\n",
    "    x_inp, x_out = gc_model.in_out_tensors()\n",
    "    \n",
    "    predictions = Dense(units=hp_dense1, activation=\"relu\")(x_out)\n",
    "    predictions = Dense(units=hp_dense2, activation=\"relu\")(predictions)\n",
    "    predictions = Dense(num_classes, activation=\"softmax\")(predictions)\n",
    "\n",
    "    model = Model(inputs=x_inp, outputs=predictions)\n",
    "    model.compile(optimizer=Adam(learning_rate=hp_learning_rate), loss=categorical_crossentropy, metrics=['accuracy'])\n",
    "    \n",
    "    return model"
   ]
  },
  {
   "cell_type": "code",
   "execution_count": 381,
   "metadata": {},
   "outputs": [],
   "source": [
    "tuner = kt.Hyperband(model_builder,\n",
    "                     objective='val_accuracy',\n",
    "                     max_epochs=100,\n",
    "                     factor=3,\n",
    "                     directory='.',\n",
    "                     project_name='tuner')"
   ]
  },
  {
   "cell_type": "code",
   "execution_count": 383,
   "metadata": {},
   "outputs": [],
   "source": [
    "es = EarlyStopping(\n",
    "    monitor=\"val_loss\", patience=25\n",
    ")"
   ]
  },
  {
   "cell_type": "code",
   "execution_count": 384,
   "metadata": {},
   "outputs": [
    {
     "name": "stdout",
     "output_type": "stream",
     "text": [
      "Trial 254 Complete [00h 01m 30s]\n",
      "val_accuracy: 0.9252336621284485\n",
      "\n",
      "Best val_accuracy So Far: 0.9532710313796997\n",
      "Total elapsed time: 01h 01m 09s\n",
      "INFO:tensorflow:Oracle triggered exit\n"
     ]
    }
   ],
   "source": [
    "tuner.search(train_gen, epochs=100, validation_data=val_gen, verbose=1, class_weight=d_class_weights, callbacks=[es])"
   ]
  },
  {
   "cell_type": "code",
   "execution_count": 448,
   "metadata": {},
   "outputs": [
    {
     "name": "stdout",
     "output_type": "stream",
     "text": [
      "Optional hyperparameters:\n",
      "    convo1: 256\n",
      "    convo2: 256\n",
      "    dropout: 0.5\n",
      "    dense1: 288\n",
      "    dense2: 80\n",
      "    learning_rate: 0.005\n",
      "    \n"
     ]
    }
   ],
   "source": [
    "best_hps=tuner.get_best_hyperparameters()[0]\n",
    "\n",
    "print(f'''Optional hyperparameters:\n",
    "    convo1: {best_hps.get('convo1')}\n",
    "    convo2: {best_hps.get('convo2')}\n",
    "    dropout: {best_hps.get('dropout')}\n",
    "    dense1: {best_hps.get('dense1')}\n",
    "    dense2: {best_hps.get('dense2')}\n",
    "    learning_rate: {best_hps.get('learning_rate')}\n",
    "    ''')"
   ]
  },
  {
   "cell_type": "code",
   "execution_count": 386,
   "metadata": {},
   "outputs": [],
   "source": [
    "model = tuner.hypermodel.build(best_hps)"
   ]
  },
  {
   "cell_type": "markdown",
   "metadata": {},
   "source": [
    "## Train model"
   ]
  },
  {
   "cell_type": "code",
   "execution_count": 713,
   "metadata": {},
   "outputs": [],
   "source": [
    "es = EarlyStopping(\n",
    "    monitor=\"val_loss\", min_delta=0, patience=25, restore_best_weights=True\n",
    ")"
   ]
  },
  {
   "cell_type": "code",
   "execution_count": 714,
   "metadata": {},
   "outputs": [],
   "source": [
    "epochs = 100"
   ]
  },
  {
   "cell_type": "code",
   "execution_count": 715,
   "metadata": {},
   "outputs": [
    {
     "name": "stdout",
     "output_type": "stream",
     "text": [
      "Epoch 1/100\n",
      "16/16 [==============================] - 2s 85ms/step - loss: 1.1232 - accuracy: 0.1887 - val_loss: 1.0152 - val_accuracy: 0.5607\n",
      "Epoch 2/100\n",
      "16/16 [==============================] - 1s 52ms/step - loss: 0.9147 - accuracy: 0.4582 - val_loss: 0.7487 - val_accuracy: 0.7850\n",
      "Epoch 3/100\n",
      "16/16 [==============================] - 1s 55ms/step - loss: 0.8009 - accuracy: 0.6665 - val_loss: 0.7047 - val_accuracy: 0.8131\n",
      "Epoch 4/100\n",
      "16/16 [==============================] - 1s 63ms/step - loss: 0.7701 - accuracy: 0.6461 - val_loss: 0.7766 - val_accuracy: 0.7290\n",
      "Epoch 5/100\n",
      "16/16 [==============================] - 1s 52ms/step - loss: 0.7115 - accuracy: 0.6278 - val_loss: 0.6044 - val_accuracy: 0.8224\n",
      "Epoch 6/100\n",
      "16/16 [==============================] - 1s 54ms/step - loss: 0.6384 - accuracy: 0.7554 - val_loss: 0.4920 - val_accuracy: 0.8598\n",
      "Epoch 7/100\n",
      "16/16 [==============================] - 1s 55ms/step - loss: 0.6317 - accuracy: 0.7068 - val_loss: 0.4516 - val_accuracy: 0.8785\n",
      "Epoch 8/100\n",
      "16/16 [==============================] - 1s 54ms/step - loss: 0.5575 - accuracy: 0.7366 - val_loss: 0.4899 - val_accuracy: 0.7944\n",
      "Epoch 9/100\n",
      "16/16 [==============================] - 1s 54ms/step - loss: 0.5930 - accuracy: 0.7285 - val_loss: 0.5563 - val_accuracy: 0.8131\n",
      "Epoch 10/100\n",
      "16/16 [==============================] - 1s 53ms/step - loss: 0.4829 - accuracy: 0.7926 - val_loss: 0.4837 - val_accuracy: 0.8598\n",
      "Epoch 11/100\n",
      "16/16 [==============================] - 1s 55ms/step - loss: 0.5326 - accuracy: 0.7380 - val_loss: 0.5264 - val_accuracy: 0.7944\n",
      "Epoch 12/100\n",
      "16/16 [==============================] - 1s 55ms/step - loss: 0.5739 - accuracy: 0.7658 - val_loss: 0.4509 - val_accuracy: 0.8598\n",
      "Epoch 13/100\n",
      "16/16 [==============================] - 1s 52ms/step - loss: 0.5346 - accuracy: 0.7593 - val_loss: 0.6538 - val_accuracy: 0.7664\n",
      "Epoch 14/100\n",
      "16/16 [==============================] - 1s 55ms/step - loss: 0.5330 - accuracy: 0.7529 - val_loss: 0.5800 - val_accuracy: 0.8037\n",
      "Epoch 15/100\n",
      "16/16 [==============================] - 1s 70ms/step - loss: 0.5305 - accuracy: 0.7421 - val_loss: 0.4014 - val_accuracy: 0.8879\n",
      "Epoch 16/100\n",
      "16/16 [==============================] - 1s 53ms/step - loss: 0.5366 - accuracy: 0.7856 - val_loss: 0.4774 - val_accuracy: 0.8598\n",
      "Epoch 17/100\n",
      "16/16 [==============================] - 1s 53ms/step - loss: 0.5439 - accuracy: 0.7438 - val_loss: 0.5598 - val_accuracy: 0.8037\n",
      "Epoch 18/100\n",
      "16/16 [==============================] - 1s 53ms/step - loss: 0.5054 - accuracy: 0.7334 - val_loss: 0.4752 - val_accuracy: 0.8318\n",
      "Epoch 19/100\n",
      "16/16 [==============================] - 1s 54ms/step - loss: 0.4151 - accuracy: 0.8045 - val_loss: 0.4968 - val_accuracy: 0.8224\n",
      "Epoch 20/100\n",
      "16/16 [==============================] - 1s 52ms/step - loss: 0.5639 - accuracy: 0.7428 - val_loss: 0.6225 - val_accuracy: 0.7664\n",
      "Epoch 21/100\n",
      "16/16 [==============================] - 1s 51ms/step - loss: 0.5766 - accuracy: 0.6862 - val_loss: 0.4818 - val_accuracy: 0.8692\n",
      "Epoch 22/100\n",
      "16/16 [==============================] - 1s 52ms/step - loss: 0.4894 - accuracy: 0.7746 - val_loss: 0.5209 - val_accuracy: 0.8131\n",
      "Epoch 23/100\n",
      "16/16 [==============================] - 1s 51ms/step - loss: 0.5360 - accuracy: 0.7471 - val_loss: 0.6255 - val_accuracy: 0.7850\n",
      "Epoch 24/100\n",
      "16/16 [==============================] - 1s 53ms/step - loss: 0.4804 - accuracy: 0.7677 - val_loss: 0.4878 - val_accuracy: 0.8318\n",
      "Epoch 25/100\n",
      "16/16 [==============================] - 1s 53ms/step - loss: 0.5724 - accuracy: 0.7622 - val_loss: 0.4487 - val_accuracy: 0.8972\n",
      "Epoch 26/100\n",
      "16/16 [==============================] - 1s 57ms/step - loss: 0.5592 - accuracy: 0.7308 - val_loss: 0.4892 - val_accuracy: 0.8598\n",
      "Epoch 27/100\n",
      "16/16 [==============================] - 1s 53ms/step - loss: 0.5321 - accuracy: 0.7308 - val_loss: 0.5994 - val_accuracy: 0.8037\n",
      "Epoch 28/100\n",
      "16/16 [==============================] - 1s 53ms/step - loss: 0.4481 - accuracy: 0.7513 - val_loss: 0.4512 - val_accuracy: 0.8598\n",
      "Epoch 29/100\n",
      "16/16 [==============================] - 1s 51ms/step - loss: 0.4477 - accuracy: 0.7616 - val_loss: 0.4755 - val_accuracy: 0.8505\n",
      "Epoch 30/100\n",
      "16/16 [==============================] - 1s 53ms/step - loss: 0.4652 - accuracy: 0.7572 - val_loss: 0.5142 - val_accuracy: 0.8224\n",
      "Epoch 31/100\n",
      "16/16 [==============================] - 1s 53ms/step - loss: 0.3965 - accuracy: 0.8054 - val_loss: 0.6180 - val_accuracy: 0.7570\n",
      "Epoch 32/100\n",
      "16/16 [==============================] - 1s 56ms/step - loss: 0.4093 - accuracy: 0.7756 - val_loss: 0.5906 - val_accuracy: 0.7664\n",
      "Epoch 33/100\n",
      "16/16 [==============================] - 1s 53ms/step - loss: 0.4596 - accuracy: 0.7656 - val_loss: 0.6016 - val_accuracy: 0.7757\n",
      "Epoch 34/100\n",
      "16/16 [==============================] - 1s 52ms/step - loss: 0.4546 - accuracy: 0.8173 - val_loss: 0.6889 - val_accuracy: 0.7196\n",
      "Epoch 35/100\n",
      "16/16 [==============================] - 1s 54ms/step - loss: 0.4904 - accuracy: 0.7568 - val_loss: 0.5036 - val_accuracy: 0.8131\n",
      "Epoch 36/100\n",
      "16/16 [==============================] - 1s 49ms/step - loss: 0.4932 - accuracy: 0.7784 - val_loss: 0.5035 - val_accuracy: 0.8224\n",
      "Epoch 37/100\n",
      "16/16 [==============================] - 1s 53ms/step - loss: 0.4935 - accuracy: 0.7701 - val_loss: 0.5358 - val_accuracy: 0.8505\n",
      "Epoch 38/100\n",
      "16/16 [==============================] - 1s 56ms/step - loss: 0.4250 - accuracy: 0.7945 - val_loss: 0.6140 - val_accuracy: 0.7850\n",
      "Epoch 39/100\n",
      "16/16 [==============================] - 1s 52ms/step - loss: 0.3673 - accuracy: 0.8228 - val_loss: 0.6643 - val_accuracy: 0.7196\n",
      "Epoch 40/100\n",
      "16/16 [==============================] - 1s 57ms/step - loss: 0.5056 - accuracy: 0.7345 - val_loss: 0.5951 - val_accuracy: 0.7850\n"
     ]
    }
   ],
   "source": [
    "history = model.fit(\n",
    "        train_gen, epochs=epochs, validation_data=val_gen, verbose=1, class_weight=d_class_weights, callbacks=[es],\n",
    "    )"
   ]
  },
  {
   "cell_type": "code",
   "execution_count": 716,
   "metadata": {},
   "outputs": [
    {
     "data": {
      "image/png": "[encoded data removed]",
      "text/plain": [
       "<Figure size 504x576 with 2 Axes>"
      ]
     },
     "metadata": {
      "needs_background": "light"
     },
     "output_type": "display_data"
    }
   ],
   "source": [
    "sg.utils.plot_history(history)"
   ]
  },
  {
   "cell_type": "markdown",
   "metadata": {},
   "source": [
    "# Evaluate on test sample"
   ]
  },
  {
   "cell_type": "code",
   "execution_count": 717,
   "metadata": {},
   "outputs": [],
   "source": [
    "test_gen = generator.flow(\n",
    "        test_graphs.index, targets=graph_labels.iloc[test_graphs.index].values, batch_size=1\n",
    "    )"
   ]
  },
  {
   "cell_type": "code",
   "execution_count": 718,
   "metadata": {},
   "outputs": [
    {
     "name": "stdout",
     "output_type": "stream",
     "text": [
      "107/107 [==============================] - 0s 2ms/step - loss: 0.5240 - accuracy: 0.7944\n",
      "\n",
      "Test Set Metrics:\n",
      "\tloss: 0.5240\n",
      "\taccuracy: 0.7944\n"
     ]
    }
   ],
   "source": [
    "test_metrics = model.evaluate(test_gen)\n",
    "print(\"\\nTest Set Metrics:\")\n",
    "for name, val in zip(model.metrics_names, test_metrics):\n",
    "    print(\"\\t{}: {:0.4f}\".format(name, val))"
   ]
  },
  {
   "cell_type": "markdown",
   "metadata": {},
   "source": [
    "# Visualize predictions"
   ]
  },
  {
   "cell_type": "code",
   "execution_count": 719,
   "metadata": {},
   "outputs": [],
   "source": [
    "from sklearn.metrics import confusion_matrix\n",
    "import seaborn as sns"
   ]
  },
  {
   "cell_type": "code",
   "execution_count": 720,
   "metadata": {},
   "outputs": [],
   "source": [
    "predicts = model.predict(test_gen)\n",
    "Y_pred = predicts.argmax(axis=1)\n",
    "Y = graph_labels.iloc[test_graphs.index].values.argmax(axis=1)\n",
    "cf_matrix = confusion_matrix(Y, Y_pred)"
   ]
  },
  {
   "cell_type": "code",
   "execution_count": 721,
   "metadata": {},
   "outputs": [
    {
     "data": {
      "image/png": "[encoded data removed]",
      "text/plain": [
       "<Figure size 432x288 with 2 Axes>"
      ]
     },
     "metadata": {
      "needs_background": "light"
     },
     "output_type": "display_data"
    }
   ],
   "source": [
    "_ = sns.heatmap(cf_matrix, annot=True)"
   ]
  },
  {
   "cell_type": "code",
   "execution_count": 722,
   "metadata": {},
   "outputs": [
    {
     "data": {
      "image/png": "[encoded data removed]",
      "text/plain": [
       "<Figure size 432x288 with 2 Axes>"
      ]
     },
     "metadata": {
      "needs_background": "light"
     },
     "output_type": "display_data"
    }
   ],
   "source": [
    "_ = sns.heatmap((cf_matrix.T/cf_matrix.sum(axis=1)*100).T, annot=True)"
   ]
  },
  {
   "cell_type": "code",
   "execution_count": 723,
   "metadata": {},
   "outputs": [],
   "source": [
    "res = {}\n",
    "res['basic'] = predicts[:,0]\n",
    "res['shebang'] = predicts[:,1] \n",
    "res['spec'] = predicts[:,2]"
   ]
  },
  {
   "cell_type": "code",
   "execution_count": 724,
   "metadata": {},
   "outputs": [
    {
     "data": {
      "image/png": "[encoded data removed]",
      "text/plain": [
       "<Figure size 720x720 with 1 Axes>"
      ]
     },
     "metadata": {
      "needs_background": "light"
     },
     "output_type": "display_data"
    }
   ],
   "source": [
    "fig = plt.figure(figsize=(10,10))\n",
    "ax = plt.axes(projection='3d')\n",
    "ax.scatter(\n",
    "    xs=res[\"shebang\"], \n",
    "    ys=res[\"basic\"], \n",
    "    zs=res[\"spec\"], \n",
    "    c=Y\n",
    ")\n",
    "ax.set_xlabel('shebang')\n",
    "ax.set_ylabel('basic')\n",
    "ax.set_zlabel('spec')\n",
    "plt.show()"
   ]
  },
  {
   "cell_type": "markdown",
   "metadata": {},
   "source": [
    "# Save model to local storage"
   ]
  },
  {
   "cell_type": "code",
   "execution_count": 252,
   "metadata": {},
   "outputs": [
    {
     "name": "stdout",
     "output_type": "stream",
     "text": [
      "INFO:tensorflow:Assets written to: model_3classes_undersample/assets\n"
     ]
    }
   ],
   "source": [
    "model.save('model')"
   ]
  }
 ],
 "metadata": {
  "colab": {
   "authorship_tag": "ABX9TyMW/6WLUiCZmdSHzUTgjtD5",
   "collapsed_sections": [],
   "mount_file_id": "1ghqp0ozbvYngfuZnMTHUNbn4N3wicmLY",
   "name": "BPprojekt.ipynb",
   "provenance": [],
   "toc_visible": true
  },
  "kernelspec": {
   "display_name": "Python 3",
   "language": "python",
   "name": "python3"
  },
  "language_info": {
   "codemirror_mode": {
    "name": "ipython",
    "version": 3
   },
   "file_extension": ".py",
   "mimetype": "text/x-python",
   "name": "python",
   "nbconvert_exporter": "python",
   "pygments_lexer": "ipython3",
   "version": "3.8.8"
  },
  "widgets": {
   "application/vnd.jupyter.widget-state+json": {
    "15885d8b533f4ac78900e6b7a161f2bb": {
     "model_module": "@jupyter-widgets/controls",
     "model_name": "HTMLModel",
     "state": {
      "_dom_classes": [],
      "_model_module": "@jupyter-widgets/controls",
      "_model_module_version": "1.5.0",
      "_model_name": "HTMLModel",
      "_view_count": null,
      "_view_module": "@jupyter-widgets/controls",
      "_view_module_version": "1.5.0",
      "_view_name": "HTMLView",
      "description": "",
      "description_tooltip": null,
      "layout": "IPY_MODEL_3bdcfa533f6a423ab810910410e4f4e8",
      "placeholder": "​",
      "style": "IPY_MODEL_f840a18c31ed44cfbba779a94586ebec",
      "value": " 815/815 [38:04&lt;00:00,  2.80s/it]"
     }
    },
    "162bd196dd004a1bb543c5d470dc2828": {
     "model_module": "@jupyter-widgets/controls",
     "model_name": "FloatProgressModel",
     "state": {
      "_dom_classes": [],
      "_model_module": "@jupyter-widgets/controls",
      "_model_module_version": "1.5.0",
      "_model_name": "FloatProgressModel",
      "_view_count": null,
      "_view_module": "@jupyter-widgets/controls",
      "_view_module_version": "1.5.0",
      "_view_name": "ProgressView",
      "bar_style": "success",
      "description": "Dataset loading: 100%",
      "description_tooltip": null,
      "layout": "IPY_MODEL_dbc8f281cdd043c795ea0cb458f5b30f",
      "max": 815,
      "min": 0,
      "orientation": "horizontal",
      "style": "IPY_MODEL_a2ace461f6a046ddb5d63eef280929bc",
      "value": 815
     }
    },
    "3249d8ec6d5e450abe2178bee0a899a2": {
     "model_module": "@jupyter-widgets/base",
     "model_name": "LayoutModel",
     "state": {
      "_model_module": "@jupyter-widgets/base",
      "_model_module_version": "1.2.0",
      "_model_name": "LayoutModel",
      "_view_count": null,
      "_view_module": "@jupyter-widgets/base",
      "_view_module_version": "1.2.0",
      "_view_name": "LayoutView",
      "align_content": null,
      "align_items": null,
      "align_self": null,
      "border": null,
      "bottom": null,
      "display": null,
      "flex": null,
      "flex_flow": null,
      "grid_area": null,
      "grid_auto_columns": null,
      "grid_auto_flow": null,
      "grid_auto_rows": null,
      "grid_column": null,
      "grid_gap": null,
      "grid_row": null,
      "grid_template_areas": null,
      "grid_template_columns": null,
      "grid_template_rows": null,
      "height": null,
      "justify_content": null,
      "justify_items": null,
      "left": null,
      "margin": null,
      "max_height": null,
      "max_width": null,
      "min_height": null,
      "min_width": null,
      "object_fit": null,
      "object_position": null,
      "order": null,
      "overflow": null,
      "overflow_x": null,
      "overflow_y": null,
      "padding": null,
      "right": null,
      "top": null,
      "visibility": null,
      "width": null
     }
    },
    "3bdcfa533f6a423ab810910410e4f4e8": {
     "model_module": "@jupyter-widgets/base",
     "model_name": "LayoutModel",
     "state": {
      "_model_module": "@jupyter-widgets/base",
      "_model_module_version": "1.2.0",
      "_model_name": "LayoutModel",
      "_view_count": null,
      "_view_module": "@jupyter-widgets/base",
      "_view_module_version": "1.2.0",
      "_view_name": "LayoutView",
      "align_content": null,
      "align_items": null,
      "align_self": null,
      "border": null,
      "bottom": null,
      "display": null,
      "flex": null,
      "flex_flow": null,
      "grid_area": null,
      "grid_auto_columns": null,
      "grid_auto_flow": null,
      "grid_auto_rows": null,
      "grid_column": null,
      "grid_gap": null,
      "grid_row": null,
      "grid_template_areas": null,
      "grid_template_columns": null,
      "grid_template_rows": null,
      "height": null,
      "justify_content": null,
      "justify_items": null,
      "left": null,
      "margin": null,
      "max_height": null,
      "max_width": null,
      "min_height": null,
      "min_width": null,
      "object_fit": null,
      "object_position": null,
      "order": null,
      "overflow": null,
      "overflow_x": null,
      "overflow_y": null,
      "padding": null,
      "right": null,
      "top": null,
      "visibility": null,
      "width": null
     }
    },
    "a2ace461f6a046ddb5d63eef280929bc": {
     "model_module": "@jupyter-widgets/controls",
     "model_name": "ProgressStyleModel",
     "state": {
      "_model_module": "@jupyter-widgets/controls",
      "_model_module_version": "1.5.0",
      "_model_name": "ProgressStyleModel",
      "_view_count": null,
      "_view_module": "@jupyter-widgets/base",
      "_view_module_version": "1.2.0",
      "_view_name": "StyleView",
      "bar_color": null,
      "description_width": "initial"
     }
    },
    "d0212312301f4edb9a05cd0de57ab5a1": {
     "model_module": "@jupyter-widgets/controls",
     "model_name": "HBoxModel",
     "state": {
      "_dom_classes": [],
      "_model_module": "@jupyter-widgets/controls",
      "_model_module_version": "1.5.0",
      "_model_name": "HBoxModel",
      "_view_count": null,
      "_view_module": "@jupyter-widgets/controls",
      "_view_module_version": "1.5.0",
      "_view_name": "HBoxView",
      "box_style": "",
      "children": [
       "IPY_MODEL_162bd196dd004a1bb543c5d470dc2828",
       "IPY_MODEL_15885d8b533f4ac78900e6b7a161f2bb"
      ],
      "layout": "IPY_MODEL_3249d8ec6d5e450abe2178bee0a899a2"
     }
    },
    "dbc8f281cdd043c795ea0cb458f5b30f": {
     "model_module": "@jupyter-widgets/base",
     "model_name": "LayoutModel",
     "state": {
      "_model_module": "@jupyter-widgets/base",
      "_model_module_version": "1.2.0",
      "_model_name": "LayoutModel",
      "_view_count": null,
      "_view_module": "@jupyter-widgets/base",
      "_view_module_version": "1.2.0",
      "_view_name": "LayoutView",
      "align_content": null,
      "align_items": null,
      "align_self": null,
      "border": null,
      "bottom": null,
      "display": null,
      "flex": null,
      "flex_flow": null,
      "grid_area": null,
      "grid_auto_columns": null,
      "grid_auto_flow": null,
      "grid_auto_rows": null,
      "grid_column": null,
      "grid_gap": null,
      "grid_row": null,
      "grid_template_areas": null,
      "grid_template_columns": null,
      "grid_template_rows": null,
      "height": null,
      "justify_content": null,
      "justify_items": null,
      "left": null,
      "margin": null,
      "max_height": null,
      "max_width": null,
      "min_height": null,
      "min_width": null,
      "object_fit": null,
      "object_position": null,
      "order": null,
      "overflow": null,
      "overflow_x": null,
      "overflow_y": null,
      "padding": null,
      "right": null,
      "top": null,
      "visibility": null,
      "width": null
     }
    },
    "f840a18c31ed44cfbba779a94586ebec": {
     "model_module": "@jupyter-widgets/controls",
     "model_name": "DescriptionStyleModel",
     "state": {
      "_model_module": "@jupyter-widgets/controls",
      "_model_module_version": "1.5.0",
      "_model_name": "DescriptionStyleModel",
      "_view_count": null,
      "_view_module": "@jupyter-widgets/base",
      "_view_module_version": "1.2.0",
      "_view_name": "StyleView",
      "description_width": ""
     }
    }
   }
  }
 },
 "nbformat": 4,
 "nbformat_minor": 4
}
