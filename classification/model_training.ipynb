{
 "cells": [
  {
   "cell_type": "markdown",
   "metadata": {
    "id": "1amfDVqIto9n"
   },
   "source": [
    "# Read JSON files\n",
    "\n",
    "do premennej `graphsRaw` sa nacitaju vsetky grafy z datasetu\n",
    "\n",
    "`graphRaw`:\n",
    "  - `filename`: nazov .lua suboru z ktoreho je vytvoreny\n",
    "  - `isTest`: 1 ak je to \"testovaci\" subor, inak 0\n",
    "  - `isSpec`: 1 ak je to testovaci subor, inak 0\n",
    "  - `nodes`: DataFrame(columns=\\['id', 'type'\\])\n",
    "  - `edges`: DataFrame(columns=\\['from', 'to'\\])\n",
    "\n"
   ]
  },
  {
   "cell_type": "code",
   "execution_count": 1,
   "metadata": {
    "colab": {
     "base_uri": "https://localhost:8080/",
     "height": 102,
     "referenced_widgets": [
      "d0212312301f4edb9a05cd0de57ab5a1",
      "3249d8ec6d5e450abe2178bee0a899a2",
      "162bd196dd004a1bb543c5d470dc2828",
      "15885d8b533f4ac78900e6b7a161f2bb",
      "a2ace461f6a046ddb5d63eef280929bc",
      "dbc8f281cdd043c795ea0cb458f5b30f",
      "f840a18c31ed44cfbba779a94586ebec",
      "3bdcfa533f6a423ab810910410e4f4e8"
     ]
    },
    "executionInfo": {
     "elapsed": 1121229,
     "status": "ok",
     "timestamp": 1618140077216,
     "user": {
      "displayName": "Róbert Jačko",
      "photoUrl": "",
      "userId": "15811568458173000815"
     },
     "user_tz": -120
    },
    "id": "MrVVg61b_wx9",
    "outputId": "8944ca81-3fa4-4ae0-fc6f-5e78face3737"
   },
   "outputs": [
    {
     "data": {
      "application/vnd.jupyter.widget-view+json": {
       "model_id": "a397394beabf4dd9b1b0b87ad8e27cc7",
       "version_major": 2,
       "version_minor": 0
      },
      "text/plain": [
       "Dataset loading:   0%|          | 0/216 [00:00<?, ?it/s]"
      ]
     },
     "metadata": {},
     "output_type": "display_data"
    },
    {
     "name": "stdout",
     "output_type": "stream",
     "text": [
      "Wrong json file: ../data/cd/simpledraw.lua.json\n",
      "Wrong json file: ../data/cd-examples/simpledraw.lua.json\n",
      "Wrong json file: ../data/lrexlib/oniguruma_sets.lua.json\n",
      "Wrong json file: ../data/lrexlib/pcre_sets.lua.json\n",
      "Wrong json file: ../data/lrexlib-gnu/oniguruma_sets.lua.json\n",
      "Wrong json file: ../data/lrexlib-gnu/pcre_sets.lua.json\n",
      "Wrong json file: ../data/lrexlib-oniguruma/oniguruma_sets.lua.json\n",
      "Wrong json file: ../data/lrexlib-oniguruma/pcre_sets.lua.json\n",
      "Wrong json file: ../data/lrexlib-pcre/oniguruma_sets.lua.json\n",
      "Wrong json file: ../data/lrexlib-pcre/pcre_sets.lua.json\n",
      "Wrong json file: ../data/lrexlib-posix/oniguruma_sets.lua.json\n",
      "Wrong json file: ../data/lrexlib-posix/pcre_sets.lua.json\n",
      "Wrong json file: ../data/lrexlib-tre/oniguruma_sets.lua.json\n",
      "Wrong json file: ../data/lrexlib-tre/pcre_sets.lua.json\n",
      "Wrong json file: ../data/lua-openssl/7.csr.lua.json\n",
      "Wrong json file: ../data/lua-path/test_wcs.lua.json\n",
      "Wrong json file: ../data/lua-pop3/test-message.lua.json\n",
      "Wrong json file: ../data/lua-sendmail/sendmail.lua.json\n",
      "Wrong json file: ../data/StackTracePlus/StackTracePlus.lua.json\n"
     ]
    }
   ],
   "source": [
    "import os\n",
    "import pandas as pd\n",
    "import json\n",
    "from tqdm.notebook import tnrange # loading bar\n",
    "\n",
    "graphsRaw = []\n",
    "\n",
    "dataPath = '../data'\n",
    "dirs = os.listdir(dataPath)\n",
    "nDirs = len(dirs)\n",
    "\n",
    "for i in tnrange(nDirs, desc='Dataset loading'):\n",
    "    dirname = dirs[i]\n",
    "    dirPath = dataPath + '/' + dirname\n",
    "    for filename in os.listdir(dirPath):\n",
    "        json_file = dirPath + '/' + filename\n",
    "        with open(json_file) as jf:\n",
    "            graph = {}\n",
    "            try:\n",
    "                jsonData = json.load(jf)\n",
    "                graph['filename'] = jsonData['_filename']\n",
    "                graph['path'] = jsonData['_path']\n",
    "                graph['isTest'] = int(jsonData['_isTest'])\n",
    "                graph['isSpec'] = int(jsonData['_isSpec'])\n",
    "                graph['isShebang'] = int(jsonData['_isShebang'])\n",
    "                graph['nodes'] = pd.DataFrame(jsonData['nodes'], columns=['id', 'type'])\n",
    "                graph['nodes'] = graph['nodes'].set_index('id')\n",
    "                graph['edges'] = pd.DataFrame(jsonData['edges'], columns=['from', 'to'])\n",
    "                graphsRaw.append(graph)\n",
    "            except:\n",
    "                print(f'Wrong json file: {json_file}')"
   ]
  },
  {
   "cell_type": "code",
   "execution_count": 654,
   "metadata": {},
   "outputs": [
    {
     "data": {
      "text/plain": [
       "['modules/bencode/examples/dumptorrent.lua',\n",
       " 'modules/bencode/tests/runtests.lua',\n",
       " 'modules/busted/spec/lua.lua',\n",
       " 'modules/cgilua/examples/app.lua',\n",
       " 'modules/cgilua/tests/download.lua',\n",
       " 'modules/cgilua/tests/prepara_sql2.lua',\n",
       " 'modules/dado/tests/overall.lua',\n",
       " 'modules/dado/tests/tdado.lua',\n",
       " 'modules/dado/tests/tdbobj.lua',\n",
       " 'modules/dado/tests/tsql.lua',\n",
       " 'modules/dado/tests/ttable.extra.lua',\n",
       " 'modules/etree/doc/html.lua',\n",
       " 'modules/gzio/test/lartest.lua',\n",
       " 'modules/gzio/test/tartest.lua',\n",
       " 'modules/gzio/test/test.lua',\n",
       " 'modules/kepler/web/app.lua',\n",
       " 'modules/kepler/web/orbit/songs/songs.lua',\n",
       " 'modules/loop/lua/precompiler.lua',\n",
       " 'modules/loop/lua/preloader.lua',\n",
       " 'modules/lpeg/test.lua',\n",
       " 'modules/lpty/samples/expectex.lua',\n",
       " 'modules/lpty/samples/lptytest.lua',\n",
       " 'modules/lpty/samples/simpleex.lua',\n",
       " 'modules/lpty/samples/testclient.lua',\n",
       " 'modules/lua-apr/etc/buildbot.lua',\n",
       " 'modules/lua-apr/benchmarks/file_io.lua',\n",
       " 'modules/lua-cjson/tests/bench.lua',\n",
       " 'modules/lua-cjson/tests/decode.lua',\n",
       " 'modules/lua-cjson/tests/encode.lua',\n",
       " 'modules/lua-cjson/tests/test.lua',\n",
       " 'modules/lua-odbc/test/luasql/test-luasql.lua',\n",
       " 'modules/lua-path/test/test_lfs.lua',\n",
       " 'modules/lua-plantuml/src/bin/lua-plantuml.lua',\n",
       " 'modules/lua-spore/eg/echo_lab_madgex_com.lua',\n",
       " 'modules/lua-stdlib/template.lua',\n",
       " 'modules/lua-tinycdb/example.lua',\n",
       " 'modules/lua-tokyocabinet/memsize.lua',\n",
       " 'modules/lua-tokyocabinet/tcatest.lua',\n",
       " 'modules/lua-tokyocabinet/tcbtest.lua',\n",
       " 'modules/lua-tokyocabinet/tcftest.lua',\n",
       " 'modules/lua-tokyocabinet/tchtest.lua',\n",
       " 'modules/lua-tokyocabinet/tcttest.lua',\n",
       " 'modules/lua-tokyocabinet/tcutest.lua',\n",
       " 'modules/lua-websockets/test-server/test-server-copas.lua',\n",
       " 'modules/lua-websockets/test-server/test-server-ev.lua',\n",
       " 'modules/lua-xmlreader/example.lua',\n",
       " 'modules/lua-xmlrpc/tests/apitest.lua',\n",
       " 'modules/luacheck/install.lua',\n",
       " 'modules/luacheck/bin/luacheck.lua',\n",
       " 'modules/luacrypto/tests/rand.lua',\n",
       " 'modules/luadist-git/luadist.lua',\n",
       " 'modules/luadoc/src/luadoc.lua',\n",
       " 'modules/luaexpat/tests/test-lom.lua',\n",
       " 'modules/luaexpat/tests/test.lua',\n",
       " 'modules/luafilesystem/tests/test.lua',\n",
       " 'modules/luagd/demos/circle.lua',\n",
       " 'modules/luagd/demos/clock.lua',\n",
       " 'modules/luagd/demos/counter.lua',\n",
       " 'modules/luagd/demos/fractal.lua',\n",
       " 'modules/luagd/demos/lualogo.lua',\n",
       " 'modules/luagd/test_features.lua',\n",
       " 'modules/luagd/demos/utf-8.lua',\n",
       " 'modules/lualibusb/test.lua',\n",
       " 'modules/luapretty/src/lua-formatter.lua',\n",
       " 'modules/luapretty/src/lua-highlighter.lua',\n",
       " 'modules/luarocks/lfw/luarocks-admin.lua',\n",
       " 'modules/luarocks/lfw/luarocks.lua',\n",
       " 'modules/luarocks/lfw/rocks/luafilesystem/1.5.0-1/tests/test.lua',\n",
       " 'modules/luasoap/test.lua',\n",
       " 'modules/luasql/tests/ado.lua',\n",
       " 'modules/luasql/tests/performance.lua',\n",
       " 'modules/luasql/tests/test.lua',\n",
       " 'modules/luasql-firebird/tests/ado.lua',\n",
       " 'modules/luasql-firebird/tests/performance.lua',\n",
       " 'modules/luasql-firebird/tests/test.lua',\n",
       " 'modules/luasql-mysql/tests/ado.lua',\n",
       " 'modules/luasql-mysql/tests/performance.lua',\n",
       " 'modules/luasql-mysql/tests/test.lua',\n",
       " 'modules/luasql-odbc/tests/ado.lua',\n",
       " 'modules/luasql-odbc/tests/performance.lua',\n",
       " 'modules/luasql-odbc/tests/test.lua',\n",
       " 'modules/luasql-postgresql/tests/ado.lua',\n",
       " 'modules/luasql-postgresql/tests/performance.lua',\n",
       " 'modules/luasql-postgresql/tests/test.lua',\n",
       " 'modules/luasql-sqlite/tests/ado.lua',\n",
       " 'modules/luasql-sqlite/tests/performance.lua',\n",
       " 'modules/luasql-sqlite/tests/test.lua',\n",
       " 'modules/luasql-sqlite3/tests/ado.lua',\n",
       " 'modules/luasql-sqlite3/tests/performance.lua',\n",
       " 'modules/luasql-sqlite3/tests/test.lua',\n",
       " 'modules/luasys/test/mem/bench.lua',\n",
       " 'modules/luasys/test/sock/connect.lua',\n",
       " 'modules/luasys/test/sock/daytimeclnt.lua',\n",
       " 'modules/luasys/test/thread/dinner.lua',\n",
       " 'modules/luasys/test/event/dirwatch.lua',\n",
       " 'modules/luasys/test/thread/dpool.lua',\n",
       " 'modules/luasys/test/sock/echoclnt.lua',\n",
       " 'modules/luasys/test/sock/echosrvr.lua',\n",
       " 'modules/luasys/test/isa/fcgi.lua',\n",
       " 'modules/luasys/test/sock/manyclnt.lua',\n",
       " 'modules/luasys/test/sock/mcastrecv.lua',\n",
       " 'modules/luasys/test/sock/mcastsend.lua',\n",
       " 'modules/luasys/test/event/pair.lua',\n",
       " 'modules/luasys/test/thread/stdin.lua',\n",
       " 'modules/luasys/test/test_evq.lua',\n",
       " 'modules/luasys/test/mem/test_mem.lua',\n",
       " 'modules/luasys/test/test_pid.lua',\n",
       " 'modules/luasys/test/test_sys.lua',\n",
       " 'modules/luasys/test/event/test_time.lua',\n",
       " 'modules/luasys/test/sock/unixrecv.lua',\n",
       " 'modules/luasys/test/sock/unixsend.lua',\n",
       " 'modules/luasys/test/thread/vms.lua',\n",
       " 'modules/lub/scripts/rock.lua',\n",
       " 'modules/lut/scripts/rock.lua',\n",
       " 'modules/markdown/markdown.lua',\n",
       " 'modules/md5/tests/test.lua',\n",
       " 'modules/metalua/doc/manual/mkhtml.lua',\n",
       " 'modules/mixlua/test.lua',\n",
       " 'modules/mk/samples/hello.lua',\n",
       " 'modules/mk/samples/songs.lua',\n",
       " 'modules/rings/tests/test.lua',\n",
       " 'modules/squish/squish.lua',\n",
       " 'modules/srlua/test.lua',\n",
       " 'modules/struct/teststruct.lua',\n",
       " 'modules/winapi/markdown.lua',\n",
       " 'modules/wsapi/samples/cgi-example.lua',\n",
       " 'modules/wsapi/samples/fastcgi-example.lua',\n",
       " 'modules/wsapi/samples/hello.lua',\n",
       " 'modules/wxlua/util/bin2c/bin2c.lua',\n",
       " 'modules/wxlua/apps/wxluafreeze/src/wxluafreeze.lua',\n",
       " 'modules/xml/scripts/rock.lua']"
      ]
     },
     "execution_count": 654,
     "metadata": {},
     "output_type": "execute_result"
    }
   ],
   "source": [
    "#[gr['path'] for gr in graphsRaw if gr['isSpec'] == 1]\n",
    "#[gr['path'] for gr in graphsRaw if gr['isTest'] == 1]\n",
    "[gr['path'] for gr in graphsRaw if gr['isShebang'] == 1]"
   ]
  },
  {
   "cell_type": "markdown",
   "metadata": {
    "id": "kWTkf36Ws1Gg"
   },
   "source": [
    "# OneHot\n",
    "\n",
    "kazdemu grafu z `graphsRaw` sa prida atribut `encNodeTypes` (OneHot kodovanie typov uzlov)\n",
    "- `encNodeTypes` je DataFrame OneHot kodovani pre vsetky uzly v danom grafe\n",
    "- **typy uzlov**: *\\['require container', 'function', 'local variable', 'file', 'tableconstructor', 'module', 'statement:keyword', 'variable container', 'statement:numericfor', 'statement:genericfor', 'statement:if', 'global function', 'statement:functioncall', 'statement:assign', 'function container', 'statement:localassign', 'global variable', 'statement:globalfunction', 'statement:while', 'statement:localfunction', 'interface container', 'interface', 'require local variable', 'statement:do', 'statement:repeat'\\]*\n",
    "- ostatne typy uzlov sa ignoruju"
   ]
  },
  {
   "cell_type": "code",
   "execution_count": 292,
   "metadata": {
    "executionInfo": {
     "elapsed": 4894,
     "status": "ok",
     "timestamp": 1618141244142,
     "user": {
      "displayName": "Róbert Jačko",
      "photoUrl": "",
      "userId": "15811568458173000815"
     },
     "user_tz": -120
    },
    "id": "YAutjsD6s0Ei"
   },
   "outputs": [],
   "source": [
    "from sklearn.preprocessing import OneHotEncoder\n",
    "import numpy as np\n",
    "\n",
    "ntypes = ['require container', 'function', 'local variable', 'file', \n",
    "          'tableconstructor', 'module', 'statement:keyword', \n",
    "          'variable container', 'statement:numericfor', 'statement:genericfor', \n",
    "          'statement:if', 'global function', 'statement:functioncall', \n",
    "          'statement:assign', 'function container', 'statement:localassign', \n",
    "          'global variable', 'statement:globalfunction', 'statement:while', \n",
    "          'statement:localfunction', 'interface container', 'interface', \n",
    "          'require local variable', 'statement:do', 'statement:repeat']\n",
    "\n",
    "enc = OneHotEncoder(handle_unknown='ignore')\n",
    "X = np.array(ntypes).reshape(-1,1)\n",
    "enc.fit(X)\n",
    "\n",
    "# encode all NodeTypes in graph\n",
    "for gr in graphsRaw:\n",
    "    encoded = enc.transform(gr['nodes']['type'].values.reshape(-1,1))\n",
    "    gr['encNodeTypes'] = pd.DataFrame(encoded.toarray())"
   ]
  },
  {
   "cell_type": "code",
   "execution_count": 293,
   "metadata": {},
   "outputs": [
    {
     "data": {
      "text/html": [
       "<div>\n",
       "<style scoped>\n",
       "    .dataframe tbody tr th:only-of-type {\n",
       "        vertical-align: middle;\n",
       "    }\n",
       "\n",
       "    .dataframe tbody tr th {\n",
       "        vertical-align: top;\n",
       "    }\n",
       "\n",
       "    .dataframe thead th {\n",
       "        text-align: right;\n",
       "    }\n",
       "</style>\n",
       "<table border=\"1\" class=\"dataframe\">\n",
       "  <thead>\n",
       "    <tr style=\"text-align: right;\">\n",
       "      <th></th>\n",
       "      <th>0</th>\n",
       "      <th>1</th>\n",
       "      <th>2</th>\n",
       "      <th>3</th>\n",
       "      <th>4</th>\n",
       "      <th>5</th>\n",
       "      <th>6</th>\n",
       "      <th>7</th>\n",
       "      <th>8</th>\n",
       "      <th>9</th>\n",
       "      <th>...</th>\n",
       "      <th>15</th>\n",
       "      <th>16</th>\n",
       "      <th>17</th>\n",
       "      <th>18</th>\n",
       "      <th>19</th>\n",
       "      <th>20</th>\n",
       "      <th>21</th>\n",
       "      <th>22</th>\n",
       "      <th>23</th>\n",
       "      <th>24</th>\n",
       "    </tr>\n",
       "  </thead>\n",
       "  <tbody>\n",
       "    <tr>\n",
       "      <th>0</th>\n",
       "      <td>1.0</td>\n",
       "      <td>0.0</td>\n",
       "      <td>0.0</td>\n",
       "      <td>0.0</td>\n",
       "      <td>0.0</td>\n",
       "      <td>0.0</td>\n",
       "      <td>0.0</td>\n",
       "      <td>0.0</td>\n",
       "      <td>0.0</td>\n",
       "      <td>0.0</td>\n",
       "      <td>...</td>\n",
       "      <td>0.0</td>\n",
       "      <td>0.0</td>\n",
       "      <td>0.0</td>\n",
       "      <td>0.0</td>\n",
       "      <td>0.0</td>\n",
       "      <td>0.0</td>\n",
       "      <td>0.0</td>\n",
       "      <td>0.0</td>\n",
       "      <td>0.0</td>\n",
       "      <td>0.0</td>\n",
       "    </tr>\n",
       "    <tr>\n",
       "      <th>1</th>\n",
       "      <td>0.0</td>\n",
       "      <td>0.0</td>\n",
       "      <td>0.0</td>\n",
       "      <td>0.0</td>\n",
       "      <td>0.0</td>\n",
       "      <td>0.0</td>\n",
       "      <td>0.0</td>\n",
       "      <td>0.0</td>\n",
       "      <td>1.0</td>\n",
       "      <td>0.0</td>\n",
       "      <td>...</td>\n",
       "      <td>0.0</td>\n",
       "      <td>0.0</td>\n",
       "      <td>0.0</td>\n",
       "      <td>0.0</td>\n",
       "      <td>0.0</td>\n",
       "      <td>0.0</td>\n",
       "      <td>0.0</td>\n",
       "      <td>0.0</td>\n",
       "      <td>0.0</td>\n",
       "      <td>0.0</td>\n",
       "    </tr>\n",
       "    <tr>\n",
       "      <th>2</th>\n",
       "      <td>0.0</td>\n",
       "      <td>1.0</td>\n",
       "      <td>0.0</td>\n",
       "      <td>0.0</td>\n",
       "      <td>0.0</td>\n",
       "      <td>0.0</td>\n",
       "      <td>0.0</td>\n",
       "      <td>0.0</td>\n",
       "      <td>0.0</td>\n",
       "      <td>0.0</td>\n",
       "      <td>...</td>\n",
       "      <td>0.0</td>\n",
       "      <td>0.0</td>\n",
       "      <td>0.0</td>\n",
       "      <td>0.0</td>\n",
       "      <td>0.0</td>\n",
       "      <td>0.0</td>\n",
       "      <td>0.0</td>\n",
       "      <td>0.0</td>\n",
       "      <td>0.0</td>\n",
       "      <td>0.0</td>\n",
       "    </tr>\n",
       "    <tr>\n",
       "      <th>3</th>\n",
       "      <td>0.0</td>\n",
       "      <td>0.0</td>\n",
       "      <td>0.0</td>\n",
       "      <td>0.0</td>\n",
       "      <td>0.0</td>\n",
       "      <td>0.0</td>\n",
       "      <td>0.0</td>\n",
       "      <td>0.0</td>\n",
       "      <td>0.0</td>\n",
       "      <td>0.0</td>\n",
       "      <td>...</td>\n",
       "      <td>0.0</td>\n",
       "      <td>0.0</td>\n",
       "      <td>0.0</td>\n",
       "      <td>1.0</td>\n",
       "      <td>0.0</td>\n",
       "      <td>0.0</td>\n",
       "      <td>0.0</td>\n",
       "      <td>0.0</td>\n",
       "      <td>0.0</td>\n",
       "      <td>0.0</td>\n",
       "    </tr>\n",
       "    <tr>\n",
       "      <th>4</th>\n",
       "      <td>0.0</td>\n",
       "      <td>0.0</td>\n",
       "      <td>0.0</td>\n",
       "      <td>0.0</td>\n",
       "      <td>0.0</td>\n",
       "      <td>0.0</td>\n",
       "      <td>0.0</td>\n",
       "      <td>0.0</td>\n",
       "      <td>0.0</td>\n",
       "      <td>0.0</td>\n",
       "      <td>...</td>\n",
       "      <td>0.0</td>\n",
       "      <td>0.0</td>\n",
       "      <td>0.0</td>\n",
       "      <td>0.0</td>\n",
       "      <td>0.0</td>\n",
       "      <td>0.0</td>\n",
       "      <td>0.0</td>\n",
       "      <td>0.0</td>\n",
       "      <td>0.0</td>\n",
       "      <td>0.0</td>\n",
       "    </tr>\n",
       "    <tr>\n",
       "      <th>...</th>\n",
       "      <td>...</td>\n",
       "      <td>...</td>\n",
       "      <td>...</td>\n",
       "      <td>...</td>\n",
       "      <td>...</td>\n",
       "      <td>...</td>\n",
       "      <td>...</td>\n",
       "      <td>...</td>\n",
       "      <td>...</td>\n",
       "      <td>...</td>\n",
       "      <td>...</td>\n",
       "      <td>...</td>\n",
       "      <td>...</td>\n",
       "      <td>...</td>\n",
       "      <td>...</td>\n",
       "      <td>...</td>\n",
       "      <td>...</td>\n",
       "      <td>...</td>\n",
       "      <td>...</td>\n",
       "      <td>...</td>\n",
       "      <td>...</td>\n",
       "    </tr>\n",
       "    <tr>\n",
       "      <th>77</th>\n",
       "      <td>0.0</td>\n",
       "      <td>0.0</td>\n",
       "      <td>0.0</td>\n",
       "      <td>0.0</td>\n",
       "      <td>0.0</td>\n",
       "      <td>0.0</td>\n",
       "      <td>0.0</td>\n",
       "      <td>0.0</td>\n",
       "      <td>0.0</td>\n",
       "      <td>0.0</td>\n",
       "      <td>...</td>\n",
       "      <td>0.0</td>\n",
       "      <td>0.0</td>\n",
       "      <td>0.0</td>\n",
       "      <td>0.0</td>\n",
       "      <td>0.0</td>\n",
       "      <td>0.0</td>\n",
       "      <td>0.0</td>\n",
       "      <td>0.0</td>\n",
       "      <td>0.0</td>\n",
       "      <td>0.0</td>\n",
       "    </tr>\n",
       "    <tr>\n",
       "      <th>78</th>\n",
       "      <td>0.0</td>\n",
       "      <td>0.0</td>\n",
       "      <td>0.0</td>\n",
       "      <td>0.0</td>\n",
       "      <td>0.0</td>\n",
       "      <td>0.0</td>\n",
       "      <td>0.0</td>\n",
       "      <td>0.0</td>\n",
       "      <td>0.0</td>\n",
       "      <td>0.0</td>\n",
       "      <td>...</td>\n",
       "      <td>0.0</td>\n",
       "      <td>0.0</td>\n",
       "      <td>0.0</td>\n",
       "      <td>0.0</td>\n",
       "      <td>0.0</td>\n",
       "      <td>0.0</td>\n",
       "      <td>0.0</td>\n",
       "      <td>0.0</td>\n",
       "      <td>0.0</td>\n",
       "      <td>0.0</td>\n",
       "    </tr>\n",
       "    <tr>\n",
       "      <th>79</th>\n",
       "      <td>0.0</td>\n",
       "      <td>0.0</td>\n",
       "      <td>0.0</td>\n",
       "      <td>0.0</td>\n",
       "      <td>0.0</td>\n",
       "      <td>0.0</td>\n",
       "      <td>0.0</td>\n",
       "      <td>0.0</td>\n",
       "      <td>0.0</td>\n",
       "      <td>0.0</td>\n",
       "      <td>...</td>\n",
       "      <td>0.0</td>\n",
       "      <td>0.0</td>\n",
       "      <td>0.0</td>\n",
       "      <td>0.0</td>\n",
       "      <td>0.0</td>\n",
       "      <td>0.0</td>\n",
       "      <td>0.0</td>\n",
       "      <td>0.0</td>\n",
       "      <td>0.0</td>\n",
       "      <td>0.0</td>\n",
       "    </tr>\n",
       "    <tr>\n",
       "      <th>80</th>\n",
       "      <td>0.0</td>\n",
       "      <td>0.0</td>\n",
       "      <td>0.0</td>\n",
       "      <td>0.0</td>\n",
       "      <td>0.0</td>\n",
       "      <td>0.0</td>\n",
       "      <td>0.0</td>\n",
       "      <td>0.0</td>\n",
       "      <td>0.0</td>\n",
       "      <td>0.0</td>\n",
       "      <td>...</td>\n",
       "      <td>0.0</td>\n",
       "      <td>0.0</td>\n",
       "      <td>0.0</td>\n",
       "      <td>0.0</td>\n",
       "      <td>0.0</td>\n",
       "      <td>0.0</td>\n",
       "      <td>0.0</td>\n",
       "      <td>0.0</td>\n",
       "      <td>0.0</td>\n",
       "      <td>0.0</td>\n",
       "    </tr>\n",
       "    <tr>\n",
       "      <th>81</th>\n",
       "      <td>0.0</td>\n",
       "      <td>0.0</td>\n",
       "      <td>0.0</td>\n",
       "      <td>0.0</td>\n",
       "      <td>0.0</td>\n",
       "      <td>0.0</td>\n",
       "      <td>0.0</td>\n",
       "      <td>0.0</td>\n",
       "      <td>0.0</td>\n",
       "      <td>0.0</td>\n",
       "      <td>...</td>\n",
       "      <td>0.0</td>\n",
       "      <td>0.0</td>\n",
       "      <td>0.0</td>\n",
       "      <td>0.0</td>\n",
       "      <td>0.0</td>\n",
       "      <td>0.0</td>\n",
       "      <td>0.0</td>\n",
       "      <td>0.0</td>\n",
       "      <td>0.0</td>\n",
       "      <td>0.0</td>\n",
       "    </tr>\n",
       "  </tbody>\n",
       "</table>\n",
       "<p>82 rows × 25 columns</p>\n",
       "</div>"
      ],
      "text/plain": [
       "     0    1    2    3    4    5    6    7    8    9   ...   15   16   17   18  \\\n",
       "0   1.0  0.0  0.0  0.0  0.0  0.0  0.0  0.0  0.0  0.0  ...  0.0  0.0  0.0  0.0   \n",
       "1   0.0  0.0  0.0  0.0  0.0  0.0  0.0  0.0  1.0  0.0  ...  0.0  0.0  0.0  0.0   \n",
       "2   0.0  1.0  0.0  0.0  0.0  0.0  0.0  0.0  0.0  0.0  ...  0.0  0.0  0.0  0.0   \n",
       "3   0.0  0.0  0.0  0.0  0.0  0.0  0.0  0.0  0.0  0.0  ...  0.0  0.0  0.0  1.0   \n",
       "4   0.0  0.0  0.0  0.0  0.0  0.0  0.0  0.0  0.0  0.0  ...  0.0  0.0  0.0  0.0   \n",
       "..  ...  ...  ...  ...  ...  ...  ...  ...  ...  ...  ...  ...  ...  ...  ...   \n",
       "77  0.0  0.0  0.0  0.0  0.0  0.0  0.0  0.0  0.0  0.0  ...  0.0  0.0  0.0  0.0   \n",
       "78  0.0  0.0  0.0  0.0  0.0  0.0  0.0  0.0  0.0  0.0  ...  0.0  0.0  0.0  0.0   \n",
       "79  0.0  0.0  0.0  0.0  0.0  0.0  0.0  0.0  0.0  0.0  ...  0.0  0.0  0.0  0.0   \n",
       "80  0.0  0.0  0.0  0.0  0.0  0.0  0.0  0.0  0.0  0.0  ...  0.0  0.0  0.0  0.0   \n",
       "81  0.0  0.0  0.0  0.0  0.0  0.0  0.0  0.0  0.0  0.0  ...  0.0  0.0  0.0  0.0   \n",
       "\n",
       "     19   20   21   22   23   24  \n",
       "0   0.0  0.0  0.0  0.0  0.0  0.0  \n",
       "1   0.0  0.0  0.0  0.0  0.0  0.0  \n",
       "2   0.0  0.0  0.0  0.0  0.0  0.0  \n",
       "3   0.0  0.0  0.0  0.0  0.0  0.0  \n",
       "4   0.0  0.0  0.0  0.0  0.0  0.0  \n",
       "..  ...  ...  ...  ...  ...  ...  \n",
       "77  0.0  0.0  0.0  0.0  0.0  0.0  \n",
       "78  0.0  0.0  0.0  0.0  0.0  0.0  \n",
       "79  0.0  0.0  0.0  0.0  0.0  0.0  \n",
       "80  0.0  0.0  0.0  0.0  0.0  0.0  \n",
       "81  0.0  0.0  0.0  0.0  0.0  0.0  \n",
       "\n",
       "[82 rows x 25 columns]"
      ]
     },
     "execution_count": 293,
     "metadata": {},
     "output_type": "execute_result"
    }
   ],
   "source": [
    "graphsRaw[0]['encNodeTypes']"
   ]
  },
  {
   "cell_type": "markdown",
   "metadata": {
    "id": "_vKrj7jHFE2i"
   },
   "source": [
    "# Create dataset\n",
    "\n",
    "dataset tvoria `graphs` a `graph_labels`\n",
    "- `graphs` je list of StellarGraphs\n",
    "- `graph_labels` je list oznaceni pre dany graf na i-tej pozcii pre atribut `isTest`"
   ]
  },
  {
   "cell_type": "code",
   "execution_count": 880,
   "metadata": {
    "executionInfo": {
     "elapsed": 10748,
     "status": "ok",
     "timestamp": 1618141256474,
     "user": {
      "displayName": "Róbert Jačko",
      "photoUrl": "",
      "userId": "15811568458173000815"
     },
     "user_tz": -120
    },
    "id": "dWIGwUA4FEII"
   },
   "outputs": [],
   "source": [
    "from stellargraph import StellarGraph\n",
    "\n",
    "def createStellarGraph(graphRaw):\n",
    "    nodes = graphRaw['encNodeTypes']\n",
    "    edges = graphRaw['edges']\n",
    "    graph = StellarGraph(nodes=nodes, edges=edges, source_column='from', target_column='to', is_directed=True)\n",
    "    return graph\n",
    "\n",
    "\n",
    "graphs = [createStellarGraph(gr) for gr in graphsRaw]\n",
    "#graph_labels = pd.Series([1 if gr['isShebang'] else 2 if gr['isSpec'] else 3 if gr['isTest'] else 0 for gr in graphsRaw], dtype=\"category\", name='label')\n",
    "graph_labels = pd.Series([1 if gr['isShebang'] else 2 if gr['isSpec'] else 0 for gr in graphsRaw], dtype=\"category\", name='label')\n",
    "#graph_labels = pd.Series([1 if gr['isSpec'] else 0 for gr in graphsRaw], dtype=\"category\", name='label')\n",
    "#graph_labels = pd.Series([1 if gr['isShebang'] else 0 for gr in graphsRaw], dtype=\"category\", name='label')"
   ]
  },
  {
   "cell_type": "markdown",
   "metadata": {},
   "source": [
    "# Dataset stats"
   ]
  },
  {
   "cell_type": "code",
   "execution_count": 881,
   "metadata": {},
   "outputs": [
    {
     "data": {
      "text/plain": [
       "0    2249\n",
       "1     131\n",
       "2     112\n",
       "Name: label, dtype: int64"
      ]
     },
     "execution_count": 881,
     "metadata": {},
     "output_type": "execute_result"
    }
   ],
   "source": [
    "graph_labels.value_counts()"
   ]
  },
  {
   "cell_type": "code",
   "execution_count": 845,
   "metadata": {},
   "outputs": [
    {
     "data": {
      "text/html": [
       "<div>\n",
       "<style scoped>\n",
       "    .dataframe tbody tr th:only-of-type {\n",
       "        vertical-align: middle;\n",
       "    }\n",
       "\n",
       "    .dataframe tbody tr th {\n",
       "        vertical-align: top;\n",
       "    }\n",
       "\n",
       "    .dataframe thead th {\n",
       "        text-align: right;\n",
       "    }\n",
       "</style>\n",
       "<table border=\"1\" class=\"dataframe\">\n",
       "  <thead>\n",
       "    <tr style=\"text-align: right;\">\n",
       "      <th></th>\n",
       "      <th>nodes</th>\n",
       "      <th>edges</th>\n",
       "    </tr>\n",
       "  </thead>\n",
       "  <tbody>\n",
       "    <tr>\n",
       "      <th>count</th>\n",
       "      <td>2492.0</td>\n",
       "      <td>2492.0</td>\n",
       "    </tr>\n",
       "    <tr>\n",
       "      <th>mean</th>\n",
       "      <td>93.9</td>\n",
       "      <td>156.9</td>\n",
       "    </tr>\n",
       "    <tr>\n",
       "      <th>std</th>\n",
       "      <td>165.7</td>\n",
       "      <td>308.6</td>\n",
       "    </tr>\n",
       "    <tr>\n",
       "      <th>min</th>\n",
       "      <td>5.0</td>\n",
       "      <td>4.0</td>\n",
       "    </tr>\n",
       "    <tr>\n",
       "      <th>25%</th>\n",
       "      <td>20.0</td>\n",
       "      <td>24.0</td>\n",
       "    </tr>\n",
       "    <tr>\n",
       "      <th>50%</th>\n",
       "      <td>43.0</td>\n",
       "      <td>57.0</td>\n",
       "    </tr>\n",
       "    <tr>\n",
       "      <th>75%</th>\n",
       "      <td>100.0</td>\n",
       "      <td>153.0</td>\n",
       "    </tr>\n",
       "    <tr>\n",
       "      <th>max</th>\n",
       "      <td>2400.0</td>\n",
       "      <td>4300.0</td>\n",
       "    </tr>\n",
       "  </tbody>\n",
       "</table>\n",
       "</div>"
      ],
      "text/plain": [
       "        nodes   edges\n",
       "count  2492.0  2492.0\n",
       "mean     93.9   156.9\n",
       "std     165.7   308.6\n",
       "min       5.0     4.0\n",
       "25%      20.0    24.0\n",
       "50%      43.0    57.0\n",
       "75%     100.0   153.0\n",
       "max    2400.0  4300.0"
      ]
     },
     "execution_count": 845,
     "metadata": {},
     "output_type": "execute_result"
    }
   ],
   "source": [
    "summary = pd.DataFrame(\n",
    "    [(g.number_of_nodes(), g.number_of_edges()) for g in graphs],\n",
    "    columns=[\"nodes\", \"edges\"],\n",
    ")\n",
    "summary.describe().round(1)"
   ]
  },
  {
   "cell_type": "markdown",
   "metadata": {},
   "source": [
    "# Outliers TODO"
   ]
  },
  {
   "cell_type": "code",
   "execution_count": 805,
   "metadata": {},
   "outputs": [],
   "source": [
    "lower = summary['nodes'].quantile(0.05)\n",
    "upper = summary['nodes'].quantile(0.95)"
   ]
  },
  {
   "cell_type": "code",
   "execution_count": 806,
   "metadata": {},
   "outputs": [],
   "source": [
    "clipped = summary.loc[(summary['nodes'] > lower) & (summary['nodes'] < upper)]"
   ]
  },
  {
   "cell_type": "code",
   "execution_count": 807,
   "metadata": {},
   "outputs": [
    {
     "data": {
      "text/html": [
       "<div>\n",
       "<style scoped>\n",
       "    .dataframe tbody tr th:only-of-type {\n",
       "        vertical-align: middle;\n",
       "    }\n",
       "\n",
       "    .dataframe tbody tr th {\n",
       "        vertical-align: top;\n",
       "    }\n",
       "\n",
       "    .dataframe thead th {\n",
       "        text-align: right;\n",
       "    }\n",
       "</style>\n",
       "<table border=\"1\" class=\"dataframe\">\n",
       "  <thead>\n",
       "    <tr style=\"text-align: right;\">\n",
       "      <th></th>\n",
       "      <th>nodes</th>\n",
       "      <th>edges</th>\n",
       "    </tr>\n",
       "  </thead>\n",
       "  <tbody>\n",
       "    <tr>\n",
       "      <th>count</th>\n",
       "      <td>2239.0</td>\n",
       "      <td>2239.0</td>\n",
       "    </tr>\n",
       "    <tr>\n",
       "      <th>mean</th>\n",
       "      <td>68.2</td>\n",
       "      <td>109.6</td>\n",
       "    </tr>\n",
       "    <tr>\n",
       "      <th>std</th>\n",
       "      <td>65.9</td>\n",
       "      <td>138.7</td>\n",
       "    </tr>\n",
       "    <tr>\n",
       "      <th>min</th>\n",
       "      <td>9.0</td>\n",
       "      <td>8.0</td>\n",
       "    </tr>\n",
       "    <tr>\n",
       "      <th>25%</th>\n",
       "      <td>22.5</td>\n",
       "      <td>27.0</td>\n",
       "    </tr>\n",
       "    <tr>\n",
       "      <th>50%</th>\n",
       "      <td>43.0</td>\n",
       "      <td>57.0</td>\n",
       "    </tr>\n",
       "    <tr>\n",
       "      <th>75%</th>\n",
       "      <td>90.0</td>\n",
       "      <td>136.5</td>\n",
       "    </tr>\n",
       "    <tr>\n",
       "      <th>max</th>\n",
       "      <td>340.0</td>\n",
       "      <td>1960.0</td>\n",
       "    </tr>\n",
       "  </tbody>\n",
       "</table>\n",
       "</div>"
      ],
      "text/plain": [
       "        nodes   edges\n",
       "count  2239.0  2239.0\n",
       "mean     68.2   109.6\n",
       "std      65.9   138.7\n",
       "min       9.0     8.0\n",
       "25%      22.5    27.0\n",
       "50%      43.0    57.0\n",
       "75%      90.0   136.5\n",
       "max     340.0  1960.0"
      ]
     },
     "execution_count": 807,
     "metadata": {},
     "output_type": "execute_result"
    }
   ],
   "source": [
    "clipped.describe().round(1)"
   ]
  },
  {
   "cell_type": "code",
   "execution_count": 808,
   "metadata": {},
   "outputs": [],
   "source": [
    "graph_labels = graph_labels.iloc[clipped.index]"
   ]
  },
  {
   "cell_type": "markdown",
   "metadata": {},
   "source": [
    "# Undersampling\n",
    "z datasetu sa vyberie len nejaky pocet grafov tak aby sa pocty grafov vytvorenych z testovacich a grafov vytvorenych z netestovacich suborov rovnal "
   ]
  },
  {
   "cell_type": "code",
   "execution_count": 846,
   "metadata": {},
   "outputs": [],
   "source": [
    "from imblearn.under_sampling import RandomUnderSampler\n",
    "\n",
    "u_samp_strategy = {\n",
    "    0: 500,\n",
    "    1: 131,\n",
    "    2: 112\n",
    "}\n",
    "\n",
    "undersample = RandomUnderSampler(sampling_strategy=u_samp_strategy, random_state=40)\n",
    "X_under, y_under = undersample.fit_resample(np.array(graphs).reshape(-1, 1), graph_labels.to_numpy())"
   ]
  },
  {
   "cell_type": "code",
   "execution_count": 847,
   "metadata": {},
   "outputs": [],
   "source": [
    "graphs = X_under.flatten()\n",
    "graph_labels = y_under"
   ]
  },
  {
   "cell_type": "markdown",
   "metadata": {},
   "source": [
    "# Oversampling"
   ]
  },
  {
   "cell_type": "code",
   "execution_count": 849,
   "metadata": {},
   "outputs": [],
   "source": [
    "from imblearn.over_sampling import RandomOverSampler\n",
    "\n",
    "o_samp_strategy = {\n",
    "    0: 500,\n",
    "    1: 260,\n",
    "    2: 240\n",
    "}\n",
    "\n",
    "oversample = RandomOverSampler(sampling_strategy=o_samp_strategy, random_state=10)\n",
    "X_over, y_over = oversample.fit_resample(graphs.reshape(-1, 1), graph_labels)"
   ]
  },
  {
   "cell_type": "code",
   "execution_count": 850,
   "metadata": {},
   "outputs": [],
   "source": [
    "graphs = X_over.flatten()\n",
    "graph_labels = y_over"
   ]
  },
  {
   "cell_type": "markdown",
   "metadata": {},
   "source": [
    "# Sampled dataset stats"
   ]
  },
  {
   "cell_type": "code",
   "execution_count": 852,
   "metadata": {},
   "outputs": [
    {
     "name": "stdout",
     "output_type": "stream",
     "text": [
      "StellarGraph: Directed multigraph\n",
      " Nodes: 51, Edges: 72\n",
      "\n",
      " Node types:\n",
      "  default: [51]\n",
      "    Features: float32 vector, length 25\n",
      "    Edge types: default-default->default\n",
      "\n",
      " Edge types:\n",
      "    default-default->default: [72]\n",
      "        Weights: all 1 (default)\n",
      "        Features: none\n"
     ]
    }
   ],
   "source": [
    "print(graphs[0].info())"
   ]
  },
  {
   "cell_type": "code",
   "execution_count": 853,
   "metadata": {},
   "outputs": [
    {
     "name": "stdout",
     "output_type": "stream",
     "text": [
      "StellarGraph: Directed multigraph\n",
      " Nodes: 47, Edges: 58\n",
      "\n",
      " Node types:\n",
      "  default: [47]\n",
      "    Features: float32 vector, length 25\n",
      "    Edge types: default-default->default\n",
      "\n",
      " Edge types:\n",
      "    default-default->default: [58]\n",
      "        Weights: all 1 (default)\n",
      "        Features: none\n"
     ]
    }
   ],
   "source": [
    "print(graphs[1].info())"
   ]
  },
  {
   "cell_type": "code",
   "execution_count": 854,
   "metadata": {},
   "outputs": [
    {
     "data": {
      "text/html": [
       "<div>\n",
       "<style scoped>\n",
       "    .dataframe tbody tr th:only-of-type {\n",
       "        vertical-align: middle;\n",
       "    }\n",
       "\n",
       "    .dataframe tbody tr th {\n",
       "        vertical-align: top;\n",
       "    }\n",
       "\n",
       "    .dataframe thead th {\n",
       "        text-align: right;\n",
       "    }\n",
       "</style>\n",
       "<table border=\"1\" class=\"dataframe\">\n",
       "  <thead>\n",
       "    <tr style=\"text-align: right;\">\n",
       "      <th></th>\n",
       "      <th>0</th>\n",
       "    </tr>\n",
       "  </thead>\n",
       "  <tbody>\n",
       "    <tr>\n",
       "      <th>0</th>\n",
       "      <td>500</td>\n",
       "    </tr>\n",
       "    <tr>\n",
       "      <th>1</th>\n",
       "      <td>260</td>\n",
       "    </tr>\n",
       "    <tr>\n",
       "      <th>2</th>\n",
       "      <td>240</td>\n",
       "    </tr>\n",
       "  </tbody>\n",
       "</table>\n",
       "</div>"
      ],
      "text/plain": [
       "     0\n",
       "0  500\n",
       "1  260\n",
       "2  240"
      ]
     },
     "execution_count": 854,
     "metadata": {},
     "output_type": "execute_result"
    }
   ],
   "source": [
    "pd.Series(graph_labels).value_counts().to_frame()"
   ]
  },
  {
   "cell_type": "code",
   "execution_count": 855,
   "metadata": {},
   "outputs": [
    {
     "data": {
      "text/html": [
       "<div>\n",
       "<style scoped>\n",
       "    .dataframe tbody tr th:only-of-type {\n",
       "        vertical-align: middle;\n",
       "    }\n",
       "\n",
       "    .dataframe tbody tr th {\n",
       "        vertical-align: top;\n",
       "    }\n",
       "\n",
       "    .dataframe thead th {\n",
       "        text-align: right;\n",
       "    }\n",
       "</style>\n",
       "<table border=\"1\" class=\"dataframe\">\n",
       "  <thead>\n",
       "    <tr style=\"text-align: right;\">\n",
       "      <th></th>\n",
       "      <th>nodes</th>\n",
       "      <th>edges</th>\n",
       "    </tr>\n",
       "  </thead>\n",
       "  <tbody>\n",
       "    <tr>\n",
       "      <th>count</th>\n",
       "      <td>1000.0</td>\n",
       "      <td>1000.0</td>\n",
       "    </tr>\n",
       "    <tr>\n",
       "      <th>mean</th>\n",
       "      <td>93.3</td>\n",
       "      <td>197.2</td>\n",
       "    </tr>\n",
       "    <tr>\n",
       "      <th>std</th>\n",
       "      <td>146.1</td>\n",
       "      <td>356.5</td>\n",
       "    </tr>\n",
       "    <tr>\n",
       "      <th>min</th>\n",
       "      <td>5.0</td>\n",
       "      <td>4.0</td>\n",
       "    </tr>\n",
       "    <tr>\n",
       "      <th>25%</th>\n",
       "      <td>20.0</td>\n",
       "      <td>25.0</td>\n",
       "    </tr>\n",
       "    <tr>\n",
       "      <th>50%</th>\n",
       "      <td>40.0</td>\n",
       "      <td>58.0</td>\n",
       "    </tr>\n",
       "    <tr>\n",
       "      <th>75%</th>\n",
       "      <td>104.0</td>\n",
       "      <td>187.2</td>\n",
       "    </tr>\n",
       "    <tr>\n",
       "      <th>max</th>\n",
       "      <td>1642.0</td>\n",
       "      <td>2697.0</td>\n",
       "    </tr>\n",
       "  </tbody>\n",
       "</table>\n",
       "</div>"
      ],
      "text/plain": [
       "        nodes   edges\n",
       "count  1000.0  1000.0\n",
       "mean     93.3   197.2\n",
       "std     146.1   356.5\n",
       "min       5.0     4.0\n",
       "25%      20.0    25.0\n",
       "50%      40.0    58.0\n",
       "75%     104.0   187.2\n",
       "max    1642.0  2697.0"
      ]
     },
     "execution_count": 855,
     "metadata": {},
     "output_type": "execute_result"
    }
   ],
   "source": [
    "summary = pd.DataFrame(\n",
    "    [(g.number_of_nodes(), g.number_of_edges()) for g in graphs],\n",
    "    columns=[\"nodes\", \"edges\"],\n",
    ")\n",
    "summary.describe().round(1)"
   ]
  },
  {
   "cell_type": "markdown",
   "metadata": {},
   "source": [
    "# Prepair generator"
   ]
  },
  {
   "cell_type": "code",
   "execution_count": 882,
   "metadata": {},
   "outputs": [],
   "source": [
    "graph_labels = pd.get_dummies(graph_labels, drop_first=False)"
   ]
  },
  {
   "cell_type": "code",
   "execution_count": 883,
   "metadata": {},
   "outputs": [
    {
     "name": "stdout",
     "output_type": "stream",
     "text": [
      "Number of classes: 3\n",
      "Number of graphs: 2492\n"
     ]
    }
   ],
   "source": [
    "num_graphs, num_classes = graph_labels.shape\n",
    "print(f'Number of classes: {num_classes}\\nNumber of graphs: {num_graphs}')"
   ]
  },
  {
   "cell_type": "code",
   "execution_count": 884,
   "metadata": {},
   "outputs": [],
   "source": [
    "from stellargraph.mapper import PaddedGraphGenerator\n",
    "generator = PaddedGraphGenerator(graphs=graphs)"
   ]
  },
  {
   "cell_type": "markdown",
   "metadata": {},
   "source": [
    "# Supervised graph classification with GCN [StellarGraph]"
   ]
  },
  {
   "cell_type": "code",
   "execution_count": 859,
   "metadata": {},
   "outputs": [],
   "source": [
    "from stellargraph.layer import GCNSupervisedGraphClassification\n",
    "\n",
    "from sklearn import model_selection\n",
    "\n",
    "from tensorflow.keras import Model\n",
    "from tensorflow.keras.optimizers import Adam\n",
    "from tensorflow.keras.layers import Dense\n",
    "from tensorflow.keras.losses import categorical_crossentropy\n",
    "from tensorflow.keras.callbacks import EarlyStopping\n",
    "import tensorflow as tf\n",
    "import matplotlib.pyplot as plt"
   ]
  },
  {
   "cell_type": "code",
   "execution_count": 860,
   "metadata": {},
   "outputs": [],
   "source": [
    "def create_graph_classification_model(generator):\n",
    "    gc_model = GCNSupervisedGraphClassification(\n",
    "        layer_sizes=[64, 64],\n",
    "        activations=[\"relu\", \"relu\"],\n",
    "        generator=generator,\n",
    "        dropout=0.5,\n",
    "    )\n",
    "    x_inp, x_out = gc_model.in_out_tensors()\n",
    "    predictions = Dense(units=32, activation=\"relu\")(x_out)\n",
    "    predictions = Dense(units=16, activation=\"relu\")(predictions)\n",
    "    predictions = Dense(num_classes, activation=\"softmax\")(predictions)\n",
    "\n",
    "    model = Model(inputs=x_inp, outputs=predictions)\n",
    "    model.compile(optimizer=Adam(0.005), loss=categorical_crossentropy, metrics=[\"acc\"])\n",
    "\n",
    "    return model"
   ]
  },
  {
   "cell_type": "code",
   "execution_count": 861,
   "metadata": {},
   "outputs": [],
   "source": [
    "es = EarlyStopping(\n",
    "    monitor=\"val_loss\", min_delta=0, patience=25, restore_best_weights=True\n",
    ")"
   ]
  },
  {
   "cell_type": "code",
   "execution_count": 862,
   "metadata": {},
   "outputs": [],
   "source": [
    "def get_generators(train_index, test_index, graph_labels, batch_size):\n",
    "    train_gen = generator.flow(\n",
    "        train_index, targets=graph_labels.iloc[train_index].values, batch_size=batch_size\n",
    "    )\n",
    "    test_gen = generator.flow(\n",
    "        test_index, targets=graph_labels.iloc[test_index].values, batch_size=batch_size\n",
    "    )\n",
    "\n",
    "    return train_gen, test_gen"
   ]
  },
  {
   "cell_type": "code",
   "execution_count": 863,
   "metadata": {},
   "outputs": [],
   "source": [
    "#train_graphs, test_graphs = model_selection.train_test_split(\n",
    "#    graph_labels, train_size=0.9, test_size=None, stratify=graph_labels,\n",
    "#)"
   ]
  },
  {
   "cell_type": "code",
   "execution_count": 864,
   "metadata": {},
   "outputs": [],
   "source": [
    "# TRAIN VAL TEST\n",
    "train_graphs, test_graphs = model_selection.train_test_split(\n",
    "    graph_labels, train_size=0.85, test_size=None, stratify=graph_labels\n",
    ")\n",
    "\n",
    "train_graphs, val_graphs = model_selection.train_test_split(\n",
    "    train_graphs, train_size=0.82, test_size=None\n",
    ")"
   ]
  },
  {
   "cell_type": "code",
   "execution_count": 865,
   "metadata": {},
   "outputs": [],
   "source": [
    "train_gen, val_gen = get_generators(\n",
    "        train_graphs.index, val_graphs.index, graph_labels, batch_size=30\n",
    "    )"
   ]
  },
  {
   "cell_type": "code",
   "execution_count": 866,
   "metadata": {},
   "outputs": [],
   "source": [
    "model = create_graph_classification_model(generator)"
   ]
  },
  {
   "cell_type": "code",
   "execution_count": 867,
   "metadata": {},
   "outputs": [],
   "source": [
    "epochs = 100"
   ]
  },
  {
   "cell_type": "code",
   "execution_count": 868,
   "metadata": {},
   "outputs": [
    {
     "name": "stdout",
     "output_type": "stream",
     "text": [
      "Epoch 1/100\n",
      "24/24 [==============================] - 7s 259ms/step - loss: 1.0347 - acc: 0.4588 - val_loss: 0.8260 - val_acc: 0.6667\n",
      "Epoch 2/100\n",
      "24/24 [==============================] - 6s 269ms/step - loss: 0.7964 - acc: 0.6643 - val_loss: 0.6130 - val_acc: 0.6928\n",
      "Epoch 3/100\n",
      "24/24 [==============================] - 8s 362ms/step - loss: 0.6697 - acc: 0.6967 - val_loss: 0.5134 - val_acc: 0.8562\n",
      "Epoch 4/100\n",
      "24/24 [==============================] - 7s 282ms/step - loss: 0.6487 - acc: 0.7228 - val_loss: 0.4634 - val_acc: 0.8366\n",
      "Epoch 5/100\n",
      "24/24 [==============================] - 6s 260ms/step - loss: 0.6481 - acc: 0.7194 - val_loss: 0.5109 - val_acc: 0.8497\n",
      "Epoch 6/100\n",
      "24/24 [==============================] - 6s 246ms/step - loss: 0.6098 - acc: 0.7236 - val_loss: 0.4613 - val_acc: 0.8301\n",
      "Epoch 7/100\n",
      "24/24 [==============================] - 6s 246ms/step - loss: 0.6099 - acc: 0.7430 - val_loss: 0.4445 - val_acc: 0.8366\n",
      "Epoch 8/100\n",
      "24/24 [==============================] - 6s 251ms/step - loss: 0.6210 - acc: 0.7486 - val_loss: 0.4459 - val_acc: 0.8497\n",
      "Epoch 9/100\n",
      "24/24 [==============================] - 6s 259ms/step - loss: 0.5454 - acc: 0.7696 - val_loss: 0.4189 - val_acc: 0.8366\n",
      "Epoch 10/100\n",
      "24/24 [==============================] - 6s 249ms/step - loss: 0.5804 - acc: 0.7445 - val_loss: 0.4318 - val_acc: 0.8562\n",
      "Epoch 11/100\n",
      "24/24 [==============================] - 6s 246ms/step - loss: 0.5683 - acc: 0.7608 - val_loss: 0.4171 - val_acc: 0.8431\n",
      "Epoch 12/100\n",
      "24/24 [==============================] - 6s 238ms/step - loss: 0.6009 - acc: 0.7368 - val_loss: 0.5153 - val_acc: 0.8301\n",
      "Epoch 13/100\n",
      "24/24 [==============================] - 6s 248ms/step - loss: 0.5372 - acc: 0.7845 - val_loss: 0.4512 - val_acc: 0.8627\n",
      "Epoch 14/100\n",
      "24/24 [==============================] - 6s 249ms/step - loss: 0.5592 - acc: 0.7666 - val_loss: 0.4294 - val_acc: 0.8301\n",
      "Epoch 15/100\n",
      "24/24 [==============================] - 6s 244ms/step - loss: 0.4873 - acc: 0.8006 - val_loss: 0.4688 - val_acc: 0.8366\n",
      "Epoch 16/100\n",
      "24/24 [==============================] - 6s 257ms/step - loss: 0.5712 - acc: 0.7534 - val_loss: 0.4503 - val_acc: 0.8301\n",
      "Epoch 17/100\n",
      "24/24 [==============================] - 6s 240ms/step - loss: 0.5401 - acc: 0.7684 - val_loss: 0.4442 - val_acc: 0.8301\n",
      "Epoch 18/100\n",
      "24/24 [==============================] - 6s 263ms/step - loss: 0.5408 - acc: 0.7775 - val_loss: 0.4824 - val_acc: 0.7908\n",
      "Epoch 19/100\n",
      "24/24 [==============================] - 6s 218ms/step - loss: 0.5230 - acc: 0.7826 - val_loss: 0.5038 - val_acc: 0.8235\n",
      "Epoch 20/100\n",
      "24/24 [==============================] - 6s 194ms/step - loss: 0.4859 - acc: 0.7886 - val_loss: 0.5828 - val_acc: 0.8039\n",
      "Epoch 21/100\n",
      "24/24 [==============================] - 6s 242ms/step - loss: 0.5611 - acc: 0.7643 - val_loss: 0.4542 - val_acc: 0.8039\n",
      "Epoch 22/100\n",
      "24/24 [==============================] - 6s 268ms/step - loss: 0.5175 - acc: 0.7533 - val_loss: 0.4314 - val_acc: 0.8562\n",
      "Epoch 23/100\n",
      "24/24 [==============================] - 6s 253ms/step - loss: 0.5249 - acc: 0.7866 - val_loss: 0.4027 - val_acc: 0.8366\n",
      "Epoch 24/100\n",
      "24/24 [==============================] - 6s 266ms/step - loss: 0.5014 - acc: 0.7972 - val_loss: 0.4324 - val_acc: 0.8301\n",
      "Epoch 25/100\n",
      "24/24 [==============================] - 7s 281ms/step - loss: 0.4740 - acc: 0.7883 - val_loss: 0.4080 - val_acc: 0.8497\n",
      "Epoch 26/100\n",
      "24/24 [==============================] - 6s 257ms/step - loss: 0.4717 - acc: 0.8024 - val_loss: 0.4284 - val_acc: 0.8301\n",
      "Epoch 27/100\n",
      "24/24 [==============================] - 6s 240ms/step - loss: 0.4374 - acc: 0.8044 - val_loss: 0.4011 - val_acc: 0.8693\n",
      "Epoch 28/100\n",
      "24/24 [==============================] - 6s 224ms/step - loss: 0.4647 - acc: 0.8121 - val_loss: 0.4255 - val_acc: 0.8170\n",
      "Epoch 29/100\n",
      "24/24 [==============================] - 6s 243ms/step - loss: 0.4909 - acc: 0.7956 - val_loss: 0.4004 - val_acc: 0.8235\n",
      "Epoch 30/100\n",
      "24/24 [==============================] - 6s 239ms/step - loss: 0.5010 - acc: 0.7978 - val_loss: 0.3655 - val_acc: 0.8627\n",
      "Epoch 31/100\n",
      "24/24 [==============================] - 6s 244ms/step - loss: 0.5031 - acc: 0.7829 - val_loss: 0.3642 - val_acc: 0.9020\n",
      "Epoch 32/100\n",
      "24/24 [==============================] - 6s 247ms/step - loss: 0.5293 - acc: 0.7702 - val_loss: 0.4392 - val_acc: 0.8627\n",
      "Epoch 33/100\n",
      "24/24 [==============================] - 6s 244ms/step - loss: 0.4710 - acc: 0.8075 - val_loss: 0.4544 - val_acc: 0.8627\n",
      "Epoch 34/100\n",
      "24/24 [==============================] - 5s 231ms/step - loss: 0.4841 - acc: 0.8093 - val_loss: 0.3711 - val_acc: 0.8954\n",
      "Epoch 35/100\n",
      "24/24 [==============================] - 6s 260ms/step - loss: 0.4497 - acc: 0.8130 - val_loss: 0.3355 - val_acc: 0.8824\n",
      "Epoch 36/100\n",
      "24/24 [==============================] - 6s 257ms/step - loss: 0.4281 - acc: 0.8195 - val_loss: 0.4128 - val_acc: 0.8627\n",
      "Epoch 37/100\n",
      "24/24 [==============================] - 7s 280ms/step - loss: 0.3937 - acc: 0.8312 - val_loss: 0.3356 - val_acc: 0.8693\n",
      "Epoch 38/100\n",
      "24/24 [==============================] - 7s 319ms/step - loss: 0.4222 - acc: 0.8432 - val_loss: 0.4078 - val_acc: 0.8693\n",
      "Epoch 39/100\n",
      "24/24 [==============================] - 9s 373ms/step - loss: 0.4554 - acc: 0.8294 - val_loss: 0.4156 - val_acc: 0.8627\n",
      "Epoch 40/100\n",
      "24/24 [==============================] - 7s 288ms/step - loss: 0.4928 - acc: 0.7805 - val_loss: 0.4052 - val_acc: 0.8758\n",
      "Epoch 41/100\n",
      "24/24 [==============================] - 7s 311ms/step - loss: 0.4409 - acc: 0.8190 - val_loss: 0.4032 - val_acc: 0.8693\n",
      "Epoch 42/100\n",
      "24/24 [==============================] - 9s 383ms/step - loss: 0.4630 - acc: 0.8049 - val_loss: 0.5599 - val_acc: 0.7647\n",
      "Epoch 43/100\n",
      "24/24 [==============================] - 8s 344ms/step - loss: 0.4499 - acc: 0.8232 - val_loss: 0.4298 - val_acc: 0.8497\n",
      "Epoch 44/100\n",
      "24/24 [==============================] - 9s 388ms/step - loss: 0.3840 - acc: 0.8435 - val_loss: 0.3589 - val_acc: 0.8758\n",
      "Epoch 45/100\n",
      "24/24 [==============================] - 7s 310ms/step - loss: 0.3927 - acc: 0.8311 - val_loss: 0.3271 - val_acc: 0.8758\n",
      "Epoch 46/100\n",
      "24/24 [==============================] - 8s 350ms/step - loss: 0.4410 - acc: 0.8082 - val_loss: 0.3228 - val_acc: 0.8693\n",
      "Epoch 47/100\n",
      "24/24 [==============================] - 8s 340ms/step - loss: 0.3964 - acc: 0.8241 - val_loss: 0.3553 - val_acc: 0.8627\n",
      "Epoch 48/100\n",
      "24/24 [==============================] - 7s 293ms/step - loss: 0.4628 - acc: 0.8110 - val_loss: 0.3730 - val_acc: 0.8954\n",
      "Epoch 49/100\n",
      "24/24 [==============================] - 7s 281ms/step - loss: 0.4147 - acc: 0.8183 - val_loss: 0.3408 - val_acc: 0.8693\n",
      "Epoch 50/100\n",
      "24/24 [==============================] - 7s 315ms/step - loss: 0.4370 - acc: 0.8306 - val_loss: 0.4050 - val_acc: 0.8431\n",
      "Epoch 51/100\n",
      "24/24 [==============================] - 7s 283ms/step - loss: 0.4060 - acc: 0.8162 - val_loss: 0.4311 - val_acc: 0.8301\n",
      "Epoch 52/100\n",
      "24/24 [==============================] - 7s 286ms/step - loss: 0.4065 - acc: 0.8294 - val_loss: 0.4039 - val_acc: 0.8431\n",
      "Epoch 53/100\n",
      "24/24 [==============================] - 7s 280ms/step - loss: 0.4347 - acc: 0.8166 - val_loss: 0.3814 - val_acc: 0.8758\n",
      "Epoch 54/100\n",
      "24/24 [==============================] - 7s 274ms/step - loss: 0.4230 - acc: 0.8307 - val_loss: 0.4044 - val_acc: 0.8627\n",
      "Epoch 55/100\n",
      "24/24 [==============================] - 7s 302ms/step - loss: 0.4200 - acc: 0.8165 - val_loss: 0.4937 - val_acc: 0.8039\n",
      "Epoch 56/100\n",
      "24/24 [==============================] - 7s 288ms/step - loss: 0.4097 - acc: 0.8383 - val_loss: 0.4212 - val_acc: 0.8431\n",
      "Epoch 57/100\n",
      "24/24 [==============================] - 7s 270ms/step - loss: 0.4136 - acc: 0.8314 - val_loss: 0.4390 - val_acc: 0.8301\n",
      "Epoch 58/100\n",
      "24/24 [==============================] - 6s 274ms/step - loss: 0.4181 - acc: 0.8463 - val_loss: 0.3575 - val_acc: 0.8627\n",
      "Epoch 59/100\n",
      "24/24 [==============================] - 6s 255ms/step - loss: 0.4395 - acc: 0.8002 - val_loss: 0.4250 - val_acc: 0.8497\n",
      "Epoch 60/100\n",
      "24/24 [==============================] - 6s 248ms/step - loss: 0.4306 - acc: 0.8337 - val_loss: 0.4925 - val_acc: 0.8235\n",
      "Epoch 61/100\n",
      "24/24 [==============================] - 6s 250ms/step - loss: 0.3454 - acc: 0.8627 - val_loss: 0.4323 - val_acc: 0.8235\n",
      "Epoch 62/100\n",
      "24/24 [==============================] - 6s 214ms/step - loss: 0.3243 - acc: 0.8739 - val_loss: 0.4421 - val_acc: 0.8562\n",
      "Epoch 63/100\n",
      "24/24 [==============================] - 6s 257ms/step - loss: 0.4062 - acc: 0.8331 - val_loss: 0.4086 - val_acc: 0.8627\n",
      "Epoch 64/100\n",
      "24/24 [==============================] - 6s 215ms/step - loss: 0.4557 - acc: 0.7946 - val_loss: 0.4007 - val_acc: 0.8562\n",
      "Epoch 65/100\n",
      "24/24 [==============================] - 6s 263ms/step - loss: 0.3922 - acc: 0.8314 - val_loss: 0.4821 - val_acc: 0.8235\n",
      "Epoch 66/100\n",
      "24/24 [==============================] - 6s 244ms/step - loss: 0.4523 - acc: 0.8085 - val_loss: 0.4512 - val_acc: 0.8431\n",
      "Epoch 67/100\n",
      "24/24 [==============================] - 6s 257ms/step - loss: 0.3694 - acc: 0.8534 - val_loss: 0.4130 - val_acc: 0.8627\n",
      "Epoch 68/100\n",
      "24/24 [==============================] - 6s 270ms/step - loss: 0.3757 - acc: 0.8344 - val_loss: 0.4749 - val_acc: 0.8497\n",
      "Epoch 69/100\n",
      "24/24 [==============================] - 8s 331ms/step - loss: 0.3824 - acc: 0.8480 - val_loss: 0.5143 - val_acc: 0.8235\n",
      "Epoch 70/100\n",
      "24/24 [==============================] - 7s 291ms/step - loss: 0.4005 - acc: 0.8597 - val_loss: 0.4912 - val_acc: 0.8301\n",
      "Epoch 71/100\n",
      "24/24 [==============================] - 7s 270ms/step - loss: 0.3995 - acc: 0.8242 - val_loss: 0.3969 - val_acc: 0.8562\n"
     ]
    }
   ],
   "source": [
    "history = model.fit(\n",
    "        train_gen, epochs=epochs, validation_data=val_gen, verbose=1, callbacks=[es],\n",
    "    )\n",
    "\n",
    "test_metrics = model.evaluate(val_gen, verbose=0)\n",
    "val_acc = test_metrics[model.metrics_names.index(\"acc\")]"
   ]
  },
  {
   "cell_type": "code",
   "execution_count": 871,
   "metadata": {},
   "outputs": [
    {
     "data": {
      "image/png": "[encoded data removed]",
      "text/plain": [
       "<Figure size 504x576 with 2 Axes>"
      ]
     },
     "metadata": {
      "needs_background": "light"
     },
     "output_type": "display_data"
    }
   ],
   "source": [
    "import stellargraph as sg\n",
    "sg.utils.plot_history(history)"
   ]
  },
  {
   "cell_type": "code",
   "execution_count": 872,
   "metadata": {},
   "outputs": [
    {
     "name": "stdout",
     "output_type": "stream",
     "text": [
      "0.8692810535430908\n"
     ]
    }
   ],
   "source": [
    "print(val_acc)"
   ]
  },
  {
   "cell_type": "markdown",
   "metadata": {},
   "source": [
    "# Evaluate on test sample"
   ]
  },
  {
   "cell_type": "code",
   "execution_count": 893,
   "metadata": {},
   "outputs": [],
   "source": [
    "#test_gen = generator.flow(\n",
    "#        test_graphs.index, targets=graph_labels.iloc[test_graphs.index].values, batch_size=1\n",
    "#    )\n",
    "\n",
    "test_gen = generator.flow(\n",
    "        np.arange(len(graphs)), targets=graph_labels.iloc[np.arange(len(graphs))].values, batch_size=1\n",
    "    )"
   ]
  },
  {
   "cell_type": "code",
   "execution_count": 894,
   "metadata": {},
   "outputs": [
    {
     "name": "stdout",
     "output_type": "stream",
     "text": [
      "2492/2492 [==============================] - 5s 2ms/step - loss: 0.2629 - acc: 0.8965\n",
      "\n",
      "Test Set Metrics:\n",
      "\tloss: 0.2629\n",
      "\tacc: 0.8965\n"
     ]
    }
   ],
   "source": [
    "test_metrics = model.evaluate(test_gen)\n",
    "print(\"\\nTest Set Metrics:\")\n",
    "for name, val in zip(model.metrics_names, test_metrics):\n",
    "    print(\"\\t{}: {:0.4f}\".format(name, val))"
   ]
  },
  {
   "cell_type": "code",
   "execution_count": 899,
   "metadata": {},
   "outputs": [],
   "source": [
    "predicts = model.predict(test_gen)"
   ]
  },
  {
   "cell_type": "code",
   "execution_count": 900,
   "metadata": {},
   "outputs": [],
   "source": [
    "Y_pred = predicts.argmax(axis=1)"
   ]
  },
  {
   "cell_type": "code",
   "execution_count": 901,
   "metadata": {},
   "outputs": [],
   "source": [
    "Y = graph_labels.iloc[test_graphs.index].values.argmax(axis=1)"
   ]
  },
  {
   "cell_type": "code",
   "execution_count": 902,
   "metadata": {},
   "outputs": [],
   "source": [
    "from sklearn.metrics import confusion_matrix\n",
    "\n",
    "matrix = confusion_matrix(Y, Y_pred)"
   ]
  },
  {
   "cell_type": "code",
   "execution_count": 903,
   "metadata": {},
   "outputs": [
    {
     "data": {
      "text/plain": [
       "<AxesSubplot:>"
      ]
     },
     "execution_count": 903,
     "metadata": {},
     "output_type": "execute_result"
    },
    {
     "data": {
      "image/png": "[encoded data removed]",
      "text/plain": [
       "<Figure size 432x288 with 2 Axes>"
      ]
     },
     "metadata": {
      "needs_background": "light"
     },
     "output_type": "display_data"
    }
   ],
   "source": [
    "import seaborn as sns\n",
    "sns.heatmap(matrix, annot=True)"
   ]
  },
  {
   "cell_type": "markdown",
   "metadata": {},
   "source": [
    "# Save model to local storage"
   ]
  },
  {
   "cell_type": "code",
   "execution_count": 759,
   "metadata": {},
   "outputs": [
    {
     "name": "stdout",
     "output_type": "stream",
     "text": [
      "INFO:tensorflow:Assets written to: model_3classes_undersample/assets\n"
     ]
    }
   ],
   "source": [
    "model.save('model_3classes_undersample')"
   ]
  },
  {
   "cell_type": "markdown",
   "metadata": {
    "id": "6I6csNRwb4yj"
   },
   "source": [
    "# Hidden"
   ]
  },
  {
   "cell_type": "code",
   "execution_count": 3,
   "metadata": {
    "id": "-XBlIB8aoBkw"
   },
   "outputs": [],
   "source": [
    "uniquelist = []\n",
    "for d in graphsRaw:\n",
    "    curr_list = d['nodes']['type'].unique()\n",
    "    uniquelist += list(set(curr_list) - set(uniquelist))"
   ]
  },
  {
   "cell_type": "code",
   "execution_count": 4,
   "metadata": {
    "id": "VsoPcB4xv3Py"
   },
   "outputs": [
    {
     "name": "stdout",
     "output_type": "stream",
     "text": [
      "36\n",
      "['function container', 'statement:if', 'local variable', 'blank lines', 'variable container', 'statement:genericfor', 'statement:keyword', 'statement:localassign', 'module', 'statement:assign', 'interface', 'file', 'interface container', 'require container', 'global variable', 'statement:while', 'n/a', 'statement:functioncall', 'global function', 'tableconstructor', 'function', 'table assign node', 'require local variable', 'string', 'statement:numericfor', 'number', 'statement:localfunction', '_simpleexp', 'statement:globalfunction', 'keyword', 'symbol', 'statement:repeat', 'unop', 'boolean', '_prefixexp', 'statement:do']\n"
     ]
    }
   ],
   "source": [
    "print(len(uniquelist))\n",
    "print(uniquelist)"
   ]
  },
  {
   "cell_type": "markdown",
   "metadata": {
    "id": "aRj0HCRwBaew"
   },
   "source": [
    "# Visualize graphs"
   ]
  },
  {
   "cell_type": "code",
   "execution_count": null,
   "metadata": {
    "id": "j-_h0Z_Y_3g-"
   },
   "outputs": [],
   "source": [
    "from graphviz import Digraph\n",
    "\n",
    "for _, d in enumerate(data):\n",
    "  nodes_data = data[623]['nodes']\n",
    "  edges_data = data[623]['edges']\n",
    "\n",
    "  dot = Digraph(format='png')\n",
    "  for index, row in nodes_data.iterrows():\n",
    "    dot.node(str(row.id), str(row['type']), shape='box') # + '\\n' + str(row.text)\n",
    "  for index, row in edges_data.iterrows():\n",
    "    dot.edge(str(row['from']), str(row['to'])) #, label=row['label']\n",
    "  dot.render('graphVisualizations/' + data[623]['filename'])\n",
    "  # TODO\n",
    "  if _ >= 0:\n",
    "    break "
   ]
  }
 ],
 "metadata": {
  "colab": {
   "authorship_tag": "ABX9TyMW/6WLUiCZmdSHzUTgjtD5",
   "collapsed_sections": [],
   "mount_file_id": "1ghqp0ozbvYngfuZnMTHUNbn4N3wicmLY",
   "name": "BPprojekt.ipynb",
   "provenance": [],
   "toc_visible": true
  },
  "kernelspec": {
   "display_name": "Python 3",
   "language": "python",
   "name": "python3"
  },
  "language_info": {
   "codemirror_mode": {
    "name": "ipython",
    "version": 3
   },
   "file_extension": ".py",
   "mimetype": "text/x-python",
   "name": "python",
   "nbconvert_exporter": "python",
   "pygments_lexer": "ipython3",
   "version": "3.8.8"
  },
  "widgets": {
   "application/vnd.jupyter.widget-state+json": {
    "15885d8b533f4ac78900e6b7a161f2bb": {
     "model_module": "@jupyter-widgets/controls",
     "model_name": "HTMLModel",
     "state": {
      "_dom_classes": [],
      "_model_module": "@jupyter-widgets/controls",
      "_model_module_version": "1.5.0",
      "_model_name": "HTMLModel",
      "_view_count": null,
      "_view_module": "@jupyter-widgets/controls",
      "_view_module_version": "1.5.0",
      "_view_name": "HTMLView",
      "description": "",
      "description_tooltip": null,
      "layout": "IPY_MODEL_3bdcfa533f6a423ab810910410e4f4e8",
      "placeholder": "​",
      "style": "IPY_MODEL_f840a18c31ed44cfbba779a94586ebec",
      "value": " 815/815 [38:04&lt;00:00,  2.80s/it]"
     }
    },
    "162bd196dd004a1bb543c5d470dc2828": {
     "model_module": "@jupyter-widgets/controls",
     "model_name": "FloatProgressModel",
     "state": {
      "_dom_classes": [],
      "_model_module": "@jupyter-widgets/controls",
      "_model_module_version": "1.5.0",
      "_model_name": "FloatProgressModel",
      "_view_count": null,
      "_view_module": "@jupyter-widgets/controls",
      "_view_module_version": "1.5.0",
      "_view_name": "ProgressView",
      "bar_style": "success",
      "description": "Dataset loading: 100%",
      "description_tooltip": null,
      "layout": "IPY_MODEL_dbc8f281cdd043c795ea0cb458f5b30f",
      "max": 815,
      "min": 0,
      "orientation": "horizontal",
      "style": "IPY_MODEL_a2ace461f6a046ddb5d63eef280929bc",
      "value": 815
     }
    },
    "3249d8ec6d5e450abe2178bee0a899a2": {
     "model_module": "@jupyter-widgets/base",
     "model_name": "LayoutModel",
     "state": {
      "_model_module": "@jupyter-widgets/base",
      "_model_module_version": "1.2.0",
      "_model_name": "LayoutModel",
      "_view_count": null,
      "_view_module": "@jupyter-widgets/base",
      "_view_module_version": "1.2.0",
      "_view_name": "LayoutView",
      "align_content": null,
      "align_items": null,
      "align_self": null,
      "border": null,
      "bottom": null,
      "display": null,
      "flex": null,
      "flex_flow": null,
      "grid_area": null,
      "grid_auto_columns": null,
      "grid_auto_flow": null,
      "grid_auto_rows": null,
      "grid_column": null,
      "grid_gap": null,
      "grid_row": null,
      "grid_template_areas": null,
      "grid_template_columns": null,
      "grid_template_rows": null,
      "height": null,
      "justify_content": null,
      "justify_items": null,
      "left": null,
      "margin": null,
      "max_height": null,
      "max_width": null,
      "min_height": null,
      "min_width": null,
      "object_fit": null,
      "object_position": null,
      "order": null,
      "overflow": null,
      "overflow_x": null,
      "overflow_y": null,
      "padding": null,
      "right": null,
      "top": null,
      "visibility": null,
      "width": null
     }
    },
    "3bdcfa533f6a423ab810910410e4f4e8": {
     "model_module": "@jupyter-widgets/base",
     "model_name": "LayoutModel",
     "state": {
      "_model_module": "@jupyter-widgets/base",
      "_model_module_version": "1.2.0",
      "_model_name": "LayoutModel",
      "_view_count": null,
      "_view_module": "@jupyter-widgets/base",
      "_view_module_version": "1.2.0",
      "_view_name": "LayoutView",
      "align_content": null,
      "align_items": null,
      "align_self": null,
      "border": null,
      "bottom": null,
      "display": null,
      "flex": null,
      "flex_flow": null,
      "grid_area": null,
      "grid_auto_columns": null,
      "grid_auto_flow": null,
      "grid_auto_rows": null,
      "grid_column": null,
      "grid_gap": null,
      "grid_row": null,
      "grid_template_areas": null,
      "grid_template_columns": null,
      "grid_template_rows": null,
      "height": null,
      "justify_content": null,
      "justify_items": null,
      "left": null,
      "margin": null,
      "max_height": null,
      "max_width": null,
      "min_height": null,
      "min_width": null,
      "object_fit": null,
      "object_position": null,
      "order": null,
      "overflow": null,
      "overflow_x": null,
      "overflow_y": null,
      "padding": null,
      "right": null,
      "top": null,
      "visibility": null,
      "width": null
     }
    },
    "a2ace461f6a046ddb5d63eef280929bc": {
     "model_module": "@jupyter-widgets/controls",
     "model_name": "ProgressStyleModel",
     "state": {
      "_model_module": "@jupyter-widgets/controls",
      "_model_module_version": "1.5.0",
      "_model_name": "ProgressStyleModel",
      "_view_count": null,
      "_view_module": "@jupyter-widgets/base",
      "_view_module_version": "1.2.0",
      "_view_name": "StyleView",
      "bar_color": null,
      "description_width": "initial"
     }
    },
    "d0212312301f4edb9a05cd0de57ab5a1": {
     "model_module": "@jupyter-widgets/controls",
     "model_name": "HBoxModel",
     "state": {
      "_dom_classes": [],
      "_model_module": "@jupyter-widgets/controls",
      "_model_module_version": "1.5.0",
      "_model_name": "HBoxModel",
      "_view_count": null,
      "_view_module": "@jupyter-widgets/controls",
      "_view_module_version": "1.5.0",
      "_view_name": "HBoxView",
      "box_style": "",
      "children": [
       "IPY_MODEL_162bd196dd004a1bb543c5d470dc2828",
       "IPY_MODEL_15885d8b533f4ac78900e6b7a161f2bb"
      ],
      "layout": "IPY_MODEL_3249d8ec6d5e450abe2178bee0a899a2"
     }
    },
    "dbc8f281cdd043c795ea0cb458f5b30f": {
     "model_module": "@jupyter-widgets/base",
     "model_name": "LayoutModel",
     "state": {
      "_model_module": "@jupyter-widgets/base",
      "_model_module_version": "1.2.0",
      "_model_name": "LayoutModel",
      "_view_count": null,
      "_view_module": "@jupyter-widgets/base",
      "_view_module_version": "1.2.0",
      "_view_name": "LayoutView",
      "align_content": null,
      "align_items": null,
      "align_self": null,
      "border": null,
      "bottom": null,
      "display": null,
      "flex": null,
      "flex_flow": null,
      "grid_area": null,
      "grid_auto_columns": null,
      "grid_auto_flow": null,
      "grid_auto_rows": null,
      "grid_column": null,
      "grid_gap": null,
      "grid_row": null,
      "grid_template_areas": null,
      "grid_template_columns": null,
      "grid_template_rows": null,
      "height": null,
      "justify_content": null,
      "justify_items": null,
      "left": null,
      "margin": null,
      "max_height": null,
      "max_width": null,
      "min_height": null,
      "min_width": null,
      "object_fit": null,
      "object_position": null,
      "order": null,
      "overflow": null,
      "overflow_x": null,
      "overflow_y": null,
      "padding": null,
      "right": null,
      "top": null,
      "visibility": null,
      "width": null
     }
    },
    "f840a18c31ed44cfbba779a94586ebec": {
     "model_module": "@jupyter-widgets/controls",
     "model_name": "DescriptionStyleModel",
     "state": {
      "_model_module": "@jupyter-widgets/controls",
      "_model_module_version": "1.5.0",
      "_model_name": "DescriptionStyleModel",
      "_view_count": null,
      "_view_module": "@jupyter-widgets/base",
      "_view_module_version": "1.2.0",
      "_view_name": "StyleView",
      "description_width": ""
     }
    }
   }
  }
 },
 "nbformat": 4,
 "nbformat_minor": 4
}
