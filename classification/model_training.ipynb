{
 "cells": [
  {
   "cell_type": "markdown",
   "metadata": {
    "id": "1amfDVqIto9n"
   },
   "source": [
    "# Read JSON files\n",
    "\n",
    "do premennej `graphs_raw` sa nacitaju vsetky grafy z datasetu\n",
    "\n",
    "`graph_raw`:\n",
    "  - `filename`: nazov .lua suboru, z ktoreho je vytvoreny\n",
    "  - `path`: cesta k .lua suboru, z ktoreho je vytvoreny \n",
    "  - `is_test`: 1 ak sa subor nachadzal v `test` adresari, inak 0\n",
    "  - `is_spec`: 1 ak sa subor nachadzal v `spec` adresari, inak 0\n",
    "  - `is_shebang`: 1 ak boli prve 2 znaky v subore '#!', inak 0\n",
    "  - `nodes`: DataFrame(columns=\\['id', 'type'\\])\n",
    "  - `edges`: DataFrame(columns=\\['from', 'to'\\])\n",
    "\n"
   ]
  },
  {
   "cell_type": "code",
   "execution_count": 573,
   "metadata": {},
   "outputs": [],
   "source": [
    "import os\n",
    "import pandas as pd\n",
    "import json\n",
    "from tqdm.notebook import tnrange # loading bar"
   ]
  },
  {
   "cell_type": "code",
   "execution_count": 574,
   "metadata": {
    "colab": {
     "base_uri": "https://localhost:8080/",
     "height": 102,
     "referenced_widgets": [
      "d0212312301f4edb9a05cd0de57ab5a1",
      "3249d8ec6d5e450abe2178bee0a899a2",
      "162bd196dd004a1bb543c5d470dc2828",
      "15885d8b533f4ac78900e6b7a161f2bb",
      "a2ace461f6a046ddb5d63eef280929bc",
      "dbc8f281cdd043c795ea0cb458f5b30f",
      "f840a18c31ed44cfbba779a94586ebec",
      "3bdcfa533f6a423ab810910410e4f4e8"
     ]
    },
    "executionInfo": {
     "elapsed": 1121229,
     "status": "ok",
     "timestamp": 1618140077216,
     "user": {
      "displayName": "Róbert Jačko",
      "photoUrl": "",
      "userId": "15811568458173000815"
     },
     "user_tz": -120
    },
    "id": "MrVVg61b_wx9",
    "outputId": "8944ca81-3fa4-4ae0-fc6f-5e78face3737"
   },
   "outputs": [
    {
     "data": {
      "application/vnd.jupyter.widget-view+json": {
       "model_id": "3a5db5d2efab48348aaef7c9b9f1b299",
       "version_major": 2,
       "version_minor": 0
      },
      "text/plain": [
       "Dataset loading:   0%|          | 0/216 [00:00<?, ?it/s]"
      ]
     },
     "metadata": {},
     "output_type": "display_data"
    },
    {
     "name": "stdout",
     "output_type": "stream",
     "text": [
      "Wrong json file: ../data/cd/simpledraw.lua.json\n",
      "Wrong json file: ../data/cd-examples/simpledraw.lua.json\n",
      "Wrong json file: ../data/lrexlib/oniguruma_sets.lua.json\n",
      "Wrong json file: ../data/lrexlib/pcre_sets.lua.json\n",
      "Wrong json file: ../data/lrexlib-gnu/oniguruma_sets.lua.json\n",
      "Wrong json file: ../data/lrexlib-gnu/pcre_sets.lua.json\n",
      "Wrong json file: ../data/lrexlib-oniguruma/oniguruma_sets.lua.json\n",
      "Wrong json file: ../data/lrexlib-oniguruma/pcre_sets.lua.json\n",
      "Wrong json file: ../data/lrexlib-pcre/oniguruma_sets.lua.json\n",
      "Wrong json file: ../data/lrexlib-pcre/pcre_sets.lua.json\n",
      "Wrong json file: ../data/lrexlib-posix/oniguruma_sets.lua.json\n",
      "Wrong json file: ../data/lrexlib-posix/pcre_sets.lua.json\n",
      "Wrong json file: ../data/lrexlib-tre/oniguruma_sets.lua.json\n",
      "Wrong json file: ../data/lrexlib-tre/pcre_sets.lua.json\n",
      "Wrong json file: ../data/lua-openssl/7.csr.lua.json\n",
      "Wrong json file: ../data/lua-path/test_wcs.lua.json\n",
      "Wrong json file: ../data/lua-pop3/test-message.lua.json\n",
      "Wrong json file: ../data/lua-sendmail/sendmail.lua.json\n",
      "Wrong json file: ../data/StackTracePlus/StackTracePlus.lua.json\n"
     ]
    }
   ],
   "source": [
    "graphs_raw = []\n",
    "\n",
    "data_path = '../data'\n",
    "dirs = os.listdir(data_path)\n",
    "num_dirs = len(dirs)\n",
    "\n",
    "for i in tnrange(num_dirs, desc='Dataset loading'):\n",
    "    dirname = dirs[i]\n",
    "    dir_path = data_path + '/' + dirname\n",
    "    for filename in os.listdir(dir_path):\n",
    "        json_file = dir_path + '/' + filename\n",
    "        with open(json_file) as jf:\n",
    "            graph = {}\n",
    "            try:\n",
    "                json_data = json.load(jf)\n",
    "                graph['filename'] = json_data['_filename']\n",
    "                graph['path'] = json_data['_path']\n",
    "                graph['is_test'] = int(json_data['_isTest'])\n",
    "                graph['is_spec'] = int(json_data['_isSpec'])\n",
    "                graph['is_shebang'] = int(json_data['_isShebang'])\n",
    "                graph['nodes'] = pd.DataFrame(json_data['nodes'], columns=['id', 'type'])\n",
    "                graph['nodes'] = graph['nodes'].set_index('id')\n",
    "                graph['edges'] = pd.DataFrame(json_data['edges'], columns=['from', 'to'])\n",
    "                graphs_raw.append(graph)\n",
    "            except:\n",
    "                print(f'Wrong json file: {json_file}')"
   ]
  },
  {
   "cell_type": "markdown",
   "metadata": {},
   "source": [
    "## Node types\n",
    "\n",
    "Kedze extraktor, ktory som pouzil na extrakciu grafov zo zdrojovych lua suborov ma zopar bugov, v typoch uzlov sa nachadzaju aj take uzly, ktore by tam byt nemali."
   ]
  },
  {
   "cell_type": "code",
   "execution_count": 439,
   "metadata": {},
   "outputs": [],
   "source": [
    "unique_list = []\n",
    "for d in graphs_raw:\n",
    "    curr_list = d['nodes']['type'].unique()\n",
    "    unique_list += list(set(curr_list) - set(unique_list))"
   ]
  },
  {
   "cell_type": "code",
   "execution_count": 440,
   "metadata": {},
   "outputs": [
    {
     "name": "stdout",
     "output_type": "stream",
     "text": [
      "Node types:\n",
      "    statement:if\n",
      "    blank lines\n",
      "    statement:assign\n",
      "    statement:while\n",
      "    variable container\n",
      "    function container\n",
      "    statement:localassign\n",
      "    require local variable\n",
      "    statement:keyword\n",
      "    module\n",
      "    local variable\n",
      "    require container\n",
      "    interface\n",
      "    global function\n",
      "    n/a\n",
      "    global variable\n",
      "    function\n",
      "    interface container\n",
      "    file\n",
      "    statement:functioncall\n",
      "    statement:genericfor\n",
      "    tableconstructor\n",
      "    statement:numericfor\n",
      "    string\n",
      "    statement:localfunction\n",
      "    table assign node\n",
      "    unop\n",
      "    number\n",
      "    symbol\n",
      "    boolean\n",
      "    statement:repeat\n",
      "    statement:globalfunction\n",
      "    keyword\n",
      "    statement:do\n",
      "    _prefixexp\n",
      "    _simpleexp\n"
     ]
    }
   ],
   "source": [
    "print('Node types:')\n",
    "for u in unique_list:\n",
    "    print(f'    {u}')"
   ]
  },
  {
   "cell_type": "markdown",
   "metadata": {
    "id": "kWTkf36Ws1Gg"
   },
   "source": [
    "# OneHot\n",
    "\n",
    "Kazdemu grafu z `graphs_raw` sa prida atribut `enc_node_types` (OneHot kodovanie typov uzlov).\n",
    "\n",
    "- `enc_node_types` je DataFrame OneHot kodovani pre vsetky uzly v danom grafe\n",
    "- **typy uzlov**: *\\['require container', 'function', 'local variable', 'file', 'tableconstructor', 'module', 'statement:keyword', 'variable container', 'statement:numericfor', 'statement:genericfor', 'statement:if', 'global function', 'statement:functioncall', 'statement:assign', 'function container', 'statement:localassign', 'global variable', 'statement:globalfunction', 'statement:while', 'statement:localfunction', 'interface container', 'interface', 'require local variable', 'statement:do', 'statement:repeat'\\]*\n",
    "- ostatne typy uzlov sa ignoruju (taketo uzly budu zakodovane samymi nulami)"
   ]
  },
  {
   "cell_type": "code",
   "execution_count": 441,
   "metadata": {},
   "outputs": [],
   "source": [
    "from sklearn.preprocessing import OneHotEncoder\n",
    "import numpy as np"
   ]
  },
  {
   "cell_type": "code",
   "execution_count": 442,
   "metadata": {
    "executionInfo": {
     "elapsed": 4894,
     "status": "ok",
     "timestamp": 1618141244142,
     "user": {
      "displayName": "Róbert Jačko",
      "photoUrl": "",
      "userId": "15811568458173000815"
     },
     "user_tz": -120
    },
    "id": "YAutjsD6s0Ei"
   },
   "outputs": [],
   "source": [
    "NODE_TYPES = [\n",
    "    'require container', 'function', 'local variable', 'file', \n",
    "    'tableconstructor', 'module', 'statement:keyword', \n",
    "    'variable container', 'statement:numericfor', 'statement:genericfor', \n",
    "    'statement:if', 'global function', 'statement:functioncall', \n",
    "    'statement:assign', 'function container', 'statement:localassign', \n",
    "    'global variable', 'statement:globalfunction', 'statement:while', \n",
    "    'statement:localfunction', 'interface container', 'interface', \n",
    "    'require local variable', 'statement:do', 'statement:repeat'\n",
    "]\n",
    "\n",
    "enc = OneHotEncoder(handle_unknown='ignore')\n",
    "X = np.array(NODE_TYPES).reshape(-1,1)\n",
    "enc.fit(X)\n",
    "\n",
    "for gr in graphs_raw:\n",
    "    # encode all NodeTypes in graph\n",
    "    encoded = enc.transform(gr['nodes']['type'].values.reshape(-1,1))\n",
    "    gr['enc_node_types'] = pd.DataFrame(encoded.toarray())"
   ]
  },
  {
   "cell_type": "code",
   "execution_count": 443,
   "metadata": {},
   "outputs": [
    {
     "data": {
      "text/html": [
       "<div>\n",
       "<style scoped>\n",
       "    .dataframe tbody tr th:only-of-type {\n",
       "        vertical-align: middle;\n",
       "    }\n",
       "\n",
       "    .dataframe tbody tr th {\n",
       "        vertical-align: top;\n",
       "    }\n",
       "\n",
       "    .dataframe thead th {\n",
       "        text-align: right;\n",
       "    }\n",
       "</style>\n",
       "<table border=\"1\" class=\"dataframe\">\n",
       "  <thead>\n",
       "    <tr style=\"text-align: right;\">\n",
       "      <th></th>\n",
       "      <th>0</th>\n",
       "      <th>1</th>\n",
       "      <th>2</th>\n",
       "      <th>3</th>\n",
       "      <th>4</th>\n",
       "      <th>5</th>\n",
       "      <th>6</th>\n",
       "      <th>7</th>\n",
       "      <th>8</th>\n",
       "      <th>9</th>\n",
       "      <th>...</th>\n",
       "      <th>15</th>\n",
       "      <th>16</th>\n",
       "      <th>17</th>\n",
       "      <th>18</th>\n",
       "      <th>19</th>\n",
       "      <th>20</th>\n",
       "      <th>21</th>\n",
       "      <th>22</th>\n",
       "      <th>23</th>\n",
       "      <th>24</th>\n",
       "    </tr>\n",
       "  </thead>\n",
       "  <tbody>\n",
       "    <tr>\n",
       "      <th>0</th>\n",
       "      <td>1.0</td>\n",
       "      <td>0.0</td>\n",
       "      <td>0.0</td>\n",
       "      <td>0.0</td>\n",
       "      <td>0.0</td>\n",
       "      <td>0.0</td>\n",
       "      <td>0.0</td>\n",
       "      <td>0.0</td>\n",
       "      <td>0.0</td>\n",
       "      <td>0.0</td>\n",
       "      <td>...</td>\n",
       "      <td>0.0</td>\n",
       "      <td>0.0</td>\n",
       "      <td>0.0</td>\n",
       "      <td>0.0</td>\n",
       "      <td>0.0</td>\n",
       "      <td>0.0</td>\n",
       "      <td>0.0</td>\n",
       "      <td>0.0</td>\n",
       "      <td>0.0</td>\n",
       "      <td>0.0</td>\n",
       "    </tr>\n",
       "    <tr>\n",
       "      <th>1</th>\n",
       "      <td>0.0</td>\n",
       "      <td>0.0</td>\n",
       "      <td>0.0</td>\n",
       "      <td>0.0</td>\n",
       "      <td>0.0</td>\n",
       "      <td>0.0</td>\n",
       "      <td>0.0</td>\n",
       "      <td>0.0</td>\n",
       "      <td>1.0</td>\n",
       "      <td>0.0</td>\n",
       "      <td>...</td>\n",
       "      <td>0.0</td>\n",
       "      <td>0.0</td>\n",
       "      <td>0.0</td>\n",
       "      <td>0.0</td>\n",
       "      <td>0.0</td>\n",
       "      <td>0.0</td>\n",
       "      <td>0.0</td>\n",
       "      <td>0.0</td>\n",
       "      <td>0.0</td>\n",
       "      <td>0.0</td>\n",
       "    </tr>\n",
       "    <tr>\n",
       "      <th>2</th>\n",
       "      <td>0.0</td>\n",
       "      <td>1.0</td>\n",
       "      <td>0.0</td>\n",
       "      <td>0.0</td>\n",
       "      <td>0.0</td>\n",
       "      <td>0.0</td>\n",
       "      <td>0.0</td>\n",
       "      <td>0.0</td>\n",
       "      <td>0.0</td>\n",
       "      <td>0.0</td>\n",
       "      <td>...</td>\n",
       "      <td>0.0</td>\n",
       "      <td>0.0</td>\n",
       "      <td>0.0</td>\n",
       "      <td>0.0</td>\n",
       "      <td>0.0</td>\n",
       "      <td>0.0</td>\n",
       "      <td>0.0</td>\n",
       "      <td>0.0</td>\n",
       "      <td>0.0</td>\n",
       "      <td>0.0</td>\n",
       "    </tr>\n",
       "    <tr>\n",
       "      <th>3</th>\n",
       "      <td>0.0</td>\n",
       "      <td>0.0</td>\n",
       "      <td>0.0</td>\n",
       "      <td>0.0</td>\n",
       "      <td>0.0</td>\n",
       "      <td>0.0</td>\n",
       "      <td>0.0</td>\n",
       "      <td>0.0</td>\n",
       "      <td>0.0</td>\n",
       "      <td>0.0</td>\n",
       "      <td>...</td>\n",
       "      <td>0.0</td>\n",
       "      <td>0.0</td>\n",
       "      <td>0.0</td>\n",
       "      <td>1.0</td>\n",
       "      <td>0.0</td>\n",
       "      <td>0.0</td>\n",
       "      <td>0.0</td>\n",
       "      <td>0.0</td>\n",
       "      <td>0.0</td>\n",
       "      <td>0.0</td>\n",
       "    </tr>\n",
       "    <tr>\n",
       "      <th>4</th>\n",
       "      <td>0.0</td>\n",
       "      <td>0.0</td>\n",
       "      <td>0.0</td>\n",
       "      <td>0.0</td>\n",
       "      <td>0.0</td>\n",
       "      <td>0.0</td>\n",
       "      <td>0.0</td>\n",
       "      <td>0.0</td>\n",
       "      <td>0.0</td>\n",
       "      <td>0.0</td>\n",
       "      <td>...</td>\n",
       "      <td>0.0</td>\n",
       "      <td>0.0</td>\n",
       "      <td>0.0</td>\n",
       "      <td>0.0</td>\n",
       "      <td>0.0</td>\n",
       "      <td>0.0</td>\n",
       "      <td>0.0</td>\n",
       "      <td>0.0</td>\n",
       "      <td>0.0</td>\n",
       "      <td>0.0</td>\n",
       "    </tr>\n",
       "    <tr>\n",
       "      <th>...</th>\n",
       "      <td>...</td>\n",
       "      <td>...</td>\n",
       "      <td>...</td>\n",
       "      <td>...</td>\n",
       "      <td>...</td>\n",
       "      <td>...</td>\n",
       "      <td>...</td>\n",
       "      <td>...</td>\n",
       "      <td>...</td>\n",
       "      <td>...</td>\n",
       "      <td>...</td>\n",
       "      <td>...</td>\n",
       "      <td>...</td>\n",
       "      <td>...</td>\n",
       "      <td>...</td>\n",
       "      <td>...</td>\n",
       "      <td>...</td>\n",
       "      <td>...</td>\n",
       "      <td>...</td>\n",
       "      <td>...</td>\n",
       "      <td>...</td>\n",
       "    </tr>\n",
       "    <tr>\n",
       "      <th>77</th>\n",
       "      <td>0.0</td>\n",
       "      <td>0.0</td>\n",
       "      <td>0.0</td>\n",
       "      <td>0.0</td>\n",
       "      <td>0.0</td>\n",
       "      <td>0.0</td>\n",
       "      <td>0.0</td>\n",
       "      <td>0.0</td>\n",
       "      <td>0.0</td>\n",
       "      <td>0.0</td>\n",
       "      <td>...</td>\n",
       "      <td>0.0</td>\n",
       "      <td>0.0</td>\n",
       "      <td>0.0</td>\n",
       "      <td>0.0</td>\n",
       "      <td>0.0</td>\n",
       "      <td>0.0</td>\n",
       "      <td>0.0</td>\n",
       "      <td>0.0</td>\n",
       "      <td>0.0</td>\n",
       "      <td>0.0</td>\n",
       "    </tr>\n",
       "    <tr>\n",
       "      <th>78</th>\n",
       "      <td>0.0</td>\n",
       "      <td>0.0</td>\n",
       "      <td>0.0</td>\n",
       "      <td>0.0</td>\n",
       "      <td>0.0</td>\n",
       "      <td>0.0</td>\n",
       "      <td>0.0</td>\n",
       "      <td>0.0</td>\n",
       "      <td>0.0</td>\n",
       "      <td>0.0</td>\n",
       "      <td>...</td>\n",
       "      <td>0.0</td>\n",
       "      <td>0.0</td>\n",
       "      <td>0.0</td>\n",
       "      <td>0.0</td>\n",
       "      <td>0.0</td>\n",
       "      <td>0.0</td>\n",
       "      <td>0.0</td>\n",
       "      <td>0.0</td>\n",
       "      <td>0.0</td>\n",
       "      <td>0.0</td>\n",
       "    </tr>\n",
       "    <tr>\n",
       "      <th>79</th>\n",
       "      <td>0.0</td>\n",
       "      <td>0.0</td>\n",
       "      <td>0.0</td>\n",
       "      <td>0.0</td>\n",
       "      <td>0.0</td>\n",
       "      <td>0.0</td>\n",
       "      <td>0.0</td>\n",
       "      <td>0.0</td>\n",
       "      <td>0.0</td>\n",
       "      <td>0.0</td>\n",
       "      <td>...</td>\n",
       "      <td>0.0</td>\n",
       "      <td>0.0</td>\n",
       "      <td>0.0</td>\n",
       "      <td>0.0</td>\n",
       "      <td>0.0</td>\n",
       "      <td>0.0</td>\n",
       "      <td>0.0</td>\n",
       "      <td>0.0</td>\n",
       "      <td>0.0</td>\n",
       "      <td>0.0</td>\n",
       "    </tr>\n",
       "    <tr>\n",
       "      <th>80</th>\n",
       "      <td>0.0</td>\n",
       "      <td>0.0</td>\n",
       "      <td>0.0</td>\n",
       "      <td>0.0</td>\n",
       "      <td>0.0</td>\n",
       "      <td>0.0</td>\n",
       "      <td>0.0</td>\n",
       "      <td>0.0</td>\n",
       "      <td>0.0</td>\n",
       "      <td>0.0</td>\n",
       "      <td>...</td>\n",
       "      <td>0.0</td>\n",
       "      <td>0.0</td>\n",
       "      <td>0.0</td>\n",
       "      <td>0.0</td>\n",
       "      <td>0.0</td>\n",
       "      <td>0.0</td>\n",
       "      <td>0.0</td>\n",
       "      <td>0.0</td>\n",
       "      <td>0.0</td>\n",
       "      <td>0.0</td>\n",
       "    </tr>\n",
       "    <tr>\n",
       "      <th>81</th>\n",
       "      <td>0.0</td>\n",
       "      <td>0.0</td>\n",
       "      <td>0.0</td>\n",
       "      <td>0.0</td>\n",
       "      <td>0.0</td>\n",
       "      <td>0.0</td>\n",
       "      <td>0.0</td>\n",
       "      <td>0.0</td>\n",
       "      <td>0.0</td>\n",
       "      <td>0.0</td>\n",
       "      <td>...</td>\n",
       "      <td>0.0</td>\n",
       "      <td>0.0</td>\n",
       "      <td>0.0</td>\n",
       "      <td>0.0</td>\n",
       "      <td>0.0</td>\n",
       "      <td>0.0</td>\n",
       "      <td>0.0</td>\n",
       "      <td>0.0</td>\n",
       "      <td>0.0</td>\n",
       "      <td>0.0</td>\n",
       "    </tr>\n",
       "  </tbody>\n",
       "</table>\n",
       "<p>82 rows × 25 columns</p>\n",
       "</div>"
      ],
      "text/plain": [
       "     0    1    2    3    4    5    6    7    8    9   ...   15   16   17   18  \\\n",
       "0   1.0  0.0  0.0  0.0  0.0  0.0  0.0  0.0  0.0  0.0  ...  0.0  0.0  0.0  0.0   \n",
       "1   0.0  0.0  0.0  0.0  0.0  0.0  0.0  0.0  1.0  0.0  ...  0.0  0.0  0.0  0.0   \n",
       "2   0.0  1.0  0.0  0.0  0.0  0.0  0.0  0.0  0.0  0.0  ...  0.0  0.0  0.0  0.0   \n",
       "3   0.0  0.0  0.0  0.0  0.0  0.0  0.0  0.0  0.0  0.0  ...  0.0  0.0  0.0  1.0   \n",
       "4   0.0  0.0  0.0  0.0  0.0  0.0  0.0  0.0  0.0  0.0  ...  0.0  0.0  0.0  0.0   \n",
       "..  ...  ...  ...  ...  ...  ...  ...  ...  ...  ...  ...  ...  ...  ...  ...   \n",
       "77  0.0  0.0  0.0  0.0  0.0  0.0  0.0  0.0  0.0  0.0  ...  0.0  0.0  0.0  0.0   \n",
       "78  0.0  0.0  0.0  0.0  0.0  0.0  0.0  0.0  0.0  0.0  ...  0.0  0.0  0.0  0.0   \n",
       "79  0.0  0.0  0.0  0.0  0.0  0.0  0.0  0.0  0.0  0.0  ...  0.0  0.0  0.0  0.0   \n",
       "80  0.0  0.0  0.0  0.0  0.0  0.0  0.0  0.0  0.0  0.0  ...  0.0  0.0  0.0  0.0   \n",
       "81  0.0  0.0  0.0  0.0  0.0  0.0  0.0  0.0  0.0  0.0  ...  0.0  0.0  0.0  0.0   \n",
       "\n",
       "     19   20   21   22   23   24  \n",
       "0   0.0  0.0  0.0  0.0  0.0  0.0  \n",
       "1   0.0  0.0  0.0  0.0  0.0  0.0  \n",
       "2   0.0  0.0  0.0  0.0  0.0  0.0  \n",
       "3   0.0  0.0  0.0  0.0  0.0  0.0  \n",
       "4   0.0  0.0  0.0  0.0  0.0  0.0  \n",
       "..  ...  ...  ...  ...  ...  ...  \n",
       "77  0.0  0.0  0.0  0.0  0.0  0.0  \n",
       "78  0.0  0.0  0.0  0.0  0.0  0.0  \n",
       "79  0.0  0.0  0.0  0.0  0.0  0.0  \n",
       "80  0.0  0.0  0.0  0.0  0.0  0.0  \n",
       "81  0.0  0.0  0.0  0.0  0.0  0.0  \n",
       "\n",
       "[82 rows x 25 columns]"
      ]
     },
     "execution_count": 443,
     "metadata": {},
     "output_type": "execute_result"
    }
   ],
   "source": [
    "graphs_raw[0]['enc_node_types']"
   ]
  },
  {
   "cell_type": "markdown",
   "metadata": {
    "id": "_vKrj7jHFE2i"
   },
   "source": [
    "# Create dataset\n",
    "\n",
    "dataset tvoria `graphs` a `graph_labels`\n",
    "- `graphs` je numpy.Array of StellarGraphs\n",
    "- `graph_labels` je numpy.Array oznaceni pre dany graf na i-tej pozcii\n",
    "    - `basic` => 0\n",
    "    - `is_shebang` => 1\n",
    "    - `is_spec` => 2\n",
    "  \n",
    "Pozn.: do `basic` zdrojovych kodov su nakoniec zaradene aj `is_test` (obycajne testy), pretoze struktury ich extrahovanych grafov su velmi podobne"
   ]
  },
  {
   "cell_type": "code",
   "execution_count": 444,
   "metadata": {},
   "outputs": [],
   "source": [
    "from stellargraph import StellarGraph"
   ]
  },
  {
   "cell_type": "code",
   "execution_count": 446,
   "metadata": {
    "executionInfo": {
     "elapsed": 10748,
     "status": "ok",
     "timestamp": 1618141256474,
     "user": {
      "displayName": "Róbert Jačko",
      "photoUrl": "",
      "userId": "15811568458173000815"
     },
     "user_tz": -120
    },
    "id": "dWIGwUA4FEII"
   },
   "outputs": [],
   "source": [
    "def createStellarGraph(graphRaw):\n",
    "    nodes = graphRaw['enc_node_types']\n",
    "    edges = graphRaw['edges']\n",
    "    graph = StellarGraph(\n",
    "            nodes=nodes,\n",
    "            edges=edges,\n",
    "            source_column='from',\n",
    "            target_column='to',\n",
    "            is_directed=True\n",
    "        )\n",
    "    return graph\n",
    "\n",
    "graphs = np.array([createStellarGraph(gr) for gr in graphs_raw])\n",
    "#graph_labels = pd.Series(\n",
    "#        [\n",
    "#            1 if gr['is_shebang']\n",
    "#            else 2 if gr['is_spec']\n",
    "#            else 3 if gr['is_test']\n",
    "#            else 0 for gr in graphs_raw\n",
    "#        ], \n",
    "#        dtype=\"category\",\n",
    "#        name='label'\n",
    "#    )\n",
    "graph_labels = np.array([\n",
    "        1 if gr['is_shebang']\n",
    "        else 2 if gr['is_spec']\n",
    "        else 0 for gr in graphs_raw\n",
    "    ])"
   ]
  },
  {
   "cell_type": "markdown",
   "metadata": {},
   "source": [
    "# Dataset stats\n",
    "\n",
    "Dataset je velmi nevyvazeny. Pocet `basic` zdrojovych kodov vysoko prevysuje pocty `Shebang` a `Spec` zdrojovych kodov"
   ]
  },
  {
   "cell_type": "code",
   "execution_count": 447,
   "metadata": {},
   "outputs": [
    {
     "name": "stdout",
     "output_type": "stream",
     "text": [
      "Label counts\n",
      "    Basic: 2247\n",
      "    Shebang: 131\n",
      "    Specs: 114\n",
      "    \n"
     ]
    }
   ],
   "source": [
    "value_counts = pd.Series(graph_labels).value_counts()\n",
    "basic_count = value_counts[0]\n",
    "shebang_count= value_counts[1]\n",
    "spec_count = value_counts[2]\n",
    "\n",
    "print(f'''Label counts\n",
    "    Basic: {basic_count}\n",
    "    Shebang: {shebang_count}\n",
    "    Specs: {spec_count}\n",
    "    ''')"
   ]
  },
  {
   "cell_type": "code",
   "execution_count": 448,
   "metadata": {},
   "outputs": [
    {
     "data": {
      "text/html": [
       "<div>\n",
       "<style scoped>\n",
       "    .dataframe tbody tr th:only-of-type {\n",
       "        vertical-align: middle;\n",
       "    }\n",
       "\n",
       "    .dataframe tbody tr th {\n",
       "        vertical-align: top;\n",
       "    }\n",
       "\n",
       "    .dataframe thead th {\n",
       "        text-align: right;\n",
       "    }\n",
       "</style>\n",
       "<table border=\"1\" class=\"dataframe\">\n",
       "  <thead>\n",
       "    <tr style=\"text-align: right;\">\n",
       "      <th></th>\n",
       "      <th>nodes</th>\n",
       "      <th>edges</th>\n",
       "    </tr>\n",
       "  </thead>\n",
       "  <tbody>\n",
       "    <tr>\n",
       "      <th>count</th>\n",
       "      <td>2492.0</td>\n",
       "      <td>2492.0</td>\n",
       "    </tr>\n",
       "    <tr>\n",
       "      <th>mean</th>\n",
       "      <td>93.9</td>\n",
       "      <td>156.9</td>\n",
       "    </tr>\n",
       "    <tr>\n",
       "      <th>std</th>\n",
       "      <td>165.7</td>\n",
       "      <td>308.6</td>\n",
       "    </tr>\n",
       "    <tr>\n",
       "      <th>min</th>\n",
       "      <td>5.0</td>\n",
       "      <td>4.0</td>\n",
       "    </tr>\n",
       "    <tr>\n",
       "      <th>25%</th>\n",
       "      <td>20.0</td>\n",
       "      <td>24.0</td>\n",
       "    </tr>\n",
       "    <tr>\n",
       "      <th>50%</th>\n",
       "      <td>43.0</td>\n",
       "      <td>57.0</td>\n",
       "    </tr>\n",
       "    <tr>\n",
       "      <th>75%</th>\n",
       "      <td>100.0</td>\n",
       "      <td>153.0</td>\n",
       "    </tr>\n",
       "    <tr>\n",
       "      <th>max</th>\n",
       "      <td>2400.0</td>\n",
       "      <td>4300.0</td>\n",
       "    </tr>\n",
       "  </tbody>\n",
       "</table>\n",
       "</div>"
      ],
      "text/plain": [
       "        nodes   edges\n",
       "count  2492.0  2492.0\n",
       "mean     93.9   156.9\n",
       "std     165.7   308.6\n",
       "min       5.0     4.0\n",
       "25%      20.0    24.0\n",
       "50%      43.0    57.0\n",
       "75%     100.0   153.0\n",
       "max    2400.0  4300.0"
      ]
     },
     "execution_count": 448,
     "metadata": {},
     "output_type": "execute_result"
    }
   ],
   "source": [
    "summary = pd.DataFrame(\n",
    "    [(g.number_of_nodes(), g.number_of_edges()) for g in graphs],\n",
    "    columns=[\"nodes\", \"edges\"],\n",
    ")\n",
    "summary.describe().round(1)"
   ]
  },
  {
   "cell_type": "markdown",
   "metadata": {},
   "source": [
    "# Outliers\n",
    "\n",
    "Grafy s extremne nizkym (dolny 5% quantil) a s extremne vysokym (horny 5% quantil) poctom uzlov sa z datasetu odfiltruju."
   ]
  },
  {
   "cell_type": "code",
   "execution_count": 449,
   "metadata": {},
   "outputs": [
    {
     "name": "stdout",
     "output_type": "stream",
     "text": [
      "Nodes count quantiles:\n",
      "    lower: 8.0\n",
      "    upper: 341.0\n",
      "    \n"
     ]
    }
   ],
   "source": [
    "lower = summary['nodes'].quantile(0.05)\n",
    "upper = summary['nodes'].quantile(0.95)\n",
    "\n",
    "print(f'''Nodes count quantiles:\n",
    "    lower: {lower}\n",
    "    upper: {upper}\n",
    "    ''')"
   ]
  },
  {
   "cell_type": "code",
   "execution_count": 450,
   "metadata": {},
   "outputs": [],
   "source": [
    "clipped = summary.loc[(summary['nodes'] > lower) & (summary['nodes'] < upper)]"
   ]
  },
  {
   "cell_type": "code",
   "execution_count": 451,
   "metadata": {},
   "outputs": [
    {
     "data": {
      "text/html": [
       "<div>\n",
       "<style scoped>\n",
       "    .dataframe tbody tr th:only-of-type {\n",
       "        vertical-align: middle;\n",
       "    }\n",
       "\n",
       "    .dataframe tbody tr th {\n",
       "        vertical-align: top;\n",
       "    }\n",
       "\n",
       "    .dataframe thead th {\n",
       "        text-align: right;\n",
       "    }\n",
       "</style>\n",
       "<table border=\"1\" class=\"dataframe\">\n",
       "  <thead>\n",
       "    <tr style=\"text-align: right;\">\n",
       "      <th></th>\n",
       "      <th>nodes</th>\n",
       "      <th>edges</th>\n",
       "    </tr>\n",
       "  </thead>\n",
       "  <tbody>\n",
       "    <tr>\n",
       "      <th>count</th>\n",
       "      <td>2239.0</td>\n",
       "      <td>2239.0</td>\n",
       "    </tr>\n",
       "    <tr>\n",
       "      <th>mean</th>\n",
       "      <td>68.2</td>\n",
       "      <td>109.6</td>\n",
       "    </tr>\n",
       "    <tr>\n",
       "      <th>std</th>\n",
       "      <td>65.9</td>\n",
       "      <td>138.7</td>\n",
       "    </tr>\n",
       "    <tr>\n",
       "      <th>min</th>\n",
       "      <td>9.0</td>\n",
       "      <td>8.0</td>\n",
       "    </tr>\n",
       "    <tr>\n",
       "      <th>25%</th>\n",
       "      <td>22.5</td>\n",
       "      <td>27.0</td>\n",
       "    </tr>\n",
       "    <tr>\n",
       "      <th>50%</th>\n",
       "      <td>43.0</td>\n",
       "      <td>57.0</td>\n",
       "    </tr>\n",
       "    <tr>\n",
       "      <th>75%</th>\n",
       "      <td>90.0</td>\n",
       "      <td>136.5</td>\n",
       "    </tr>\n",
       "    <tr>\n",
       "      <th>max</th>\n",
       "      <td>340.0</td>\n",
       "      <td>1960.0</td>\n",
       "    </tr>\n",
       "  </tbody>\n",
       "</table>\n",
       "</div>"
      ],
      "text/plain": [
       "        nodes   edges\n",
       "count  2239.0  2239.0\n",
       "mean     68.2   109.6\n",
       "std      65.9   138.7\n",
       "min       9.0     8.0\n",
       "25%      22.5    27.0\n",
       "50%      43.0    57.0\n",
       "75%      90.0   136.5\n",
       "max     340.0  1960.0"
      ]
     },
     "execution_count": 451,
     "metadata": {},
     "output_type": "execute_result"
    }
   ],
   "source": [
    "clipped.describe().round(1)"
   ]
  },
  {
   "cell_type": "code",
   "execution_count": 452,
   "metadata": {},
   "outputs": [],
   "source": [
    "graphs = pd.DataFrame(graphs).iloc[clipped.index].to_numpy().flatten()\n",
    "graph_labels = pd.DataFrame(graph_labels).iloc[clipped.index].to_numpy().flatten()"
   ]
  },
  {
   "cell_type": "code",
   "execution_count": 453,
   "metadata": {},
   "outputs": [
    {
     "name": "stdout",
     "output_type": "stream",
     "text": [
      "Label counts\n",
      "    Basic: 2026\n",
      "    Shebang: 122\n",
      "    Specs: 91\n",
      "    \n"
     ]
    }
   ],
   "source": [
    "value_counts = pd.Series(graph_labels).value_counts()\n",
    "basic_count = value_counts[0]\n",
    "shebang_count= value_counts[1]\n",
    "spec_count = value_counts[2]\n",
    "\n",
    "print(f'''Label counts\n",
    "    Basic: {basic_count}\n",
    "    Shebang: {shebang_count}\n",
    "    Specs: {spec_count}\n",
    "    ''')"
   ]
  },
  {
   "cell_type": "markdown",
   "metadata": {},
   "source": [
    "# Undersampling\n",
    "\n",
    "Z `basic` zdrojovych kodov sa nahodne vyberie mensi pocet grafov ako ich je v skutocnosti, cim sa upravi ich pomer ku grafom ostatnych tried. \n",
    "\n",
    "Tymto krokom sa trochu vyvazi dataset."
   ]
  },
  {
   "cell_type": "code",
   "execution_count": 454,
   "metadata": {},
   "outputs": [],
   "source": [
    "from imblearn.under_sampling import RandomUnderSampler"
   ]
  },
  {
   "cell_type": "code",
   "execution_count": 455,
   "metadata": {},
   "outputs": [],
   "source": [
    "u_samp_strategy = {\n",
    "    0: 500,\n",
    "    1: shebang_count,\n",
    "    2: spec_count\n",
    "}\n",
    "\n",
    "undersample = RandomUnderSampler(sampling_strategy=u_samp_strategy, random_state=1)\n",
    "graphs_under, graph_labels_under = undersample.fit_resample(graphs.reshape(-1, 1), graph_labels)"
   ]
  },
  {
   "cell_type": "code",
   "execution_count": 456,
   "metadata": {},
   "outputs": [],
   "source": [
    "graphs = graphs_under.flatten()\n",
    "graph_labels = graph_labels_under"
   ]
  },
  {
   "cell_type": "markdown",
   "metadata": {},
   "source": [
    "# Final (sampled) dataset stats"
   ]
  },
  {
   "cell_type": "code",
   "execution_count": 457,
   "metadata": {},
   "outputs": [
    {
     "name": "stdout",
     "output_type": "stream",
     "text": [
      "StellarGraph: Directed multigraph\n",
      " Nodes: 151, Edges: 200\n",
      "\n",
      " Node types:\n",
      "  default: [151]\n",
      "    Features: float32 vector, length 25\n",
      "    Edge types: default-default->default\n",
      "\n",
      " Edge types:\n",
      "    default-default->default: [200]\n",
      "        Weights: all 1 (default)\n",
      "        Features: none\n"
     ]
    }
   ],
   "source": [
    "print(graphs[0].info())"
   ]
  },
  {
   "cell_type": "code",
   "execution_count": 458,
   "metadata": {},
   "outputs": [
    {
     "name": "stdout",
     "output_type": "stream",
     "text": [
      "Label counts\n",
      "    Basic: 500\n",
      "    Shebang: 122\n",
      "    Specs: 91\n",
      "    \n"
     ]
    }
   ],
   "source": [
    "value_counts = pd.Series(graph_labels).value_counts()\n",
    "basic_count = value_counts[0]\n",
    "shebang_count= value_counts[1]\n",
    "spec_count = value_counts[2]\n",
    "\n",
    "print(f'''Label counts\n",
    "    Basic: {basic_count}\n",
    "    Shebang: {shebang_count}\n",
    "    Specs: {spec_count}\n",
    "    ''')"
   ]
  },
  {
   "cell_type": "code",
   "execution_count": 459,
   "metadata": {},
   "outputs": [
    {
     "data": {
      "text/html": [
       "<div>\n",
       "<style scoped>\n",
       "    .dataframe tbody tr th:only-of-type {\n",
       "        vertical-align: middle;\n",
       "    }\n",
       "\n",
       "    .dataframe tbody tr th {\n",
       "        vertical-align: top;\n",
       "    }\n",
       "\n",
       "    .dataframe thead th {\n",
       "        text-align: right;\n",
       "    }\n",
       "</style>\n",
       "<table border=\"1\" class=\"dataframe\">\n",
       "  <thead>\n",
       "    <tr style=\"text-align: right;\">\n",
       "      <th></th>\n",
       "      <th>nodes</th>\n",
       "      <th>edges</th>\n",
       "    </tr>\n",
       "  </thead>\n",
       "  <tbody>\n",
       "    <tr>\n",
       "      <th>count</th>\n",
       "      <td>713.0</td>\n",
       "      <td>713.0</td>\n",
       "    </tr>\n",
       "    <tr>\n",
       "      <th>mean</th>\n",
       "      <td>67.4</td>\n",
       "      <td>122.3</td>\n",
       "    </tr>\n",
       "    <tr>\n",
       "      <th>std</th>\n",
       "      <td>67.1</td>\n",
       "      <td>172.3</td>\n",
       "    </tr>\n",
       "    <tr>\n",
       "      <th>min</th>\n",
       "      <td>9.0</td>\n",
       "      <td>8.0</td>\n",
       "    </tr>\n",
       "    <tr>\n",
       "      <th>25%</th>\n",
       "      <td>22.0</td>\n",
       "      <td>27.0</td>\n",
       "    </tr>\n",
       "    <tr>\n",
       "      <th>50%</th>\n",
       "      <td>40.0</td>\n",
       "      <td>56.0</td>\n",
       "    </tr>\n",
       "    <tr>\n",
       "      <th>75%</th>\n",
       "      <td>87.0</td>\n",
       "      <td>145.0</td>\n",
       "    </tr>\n",
       "    <tr>\n",
       "      <th>max</th>\n",
       "      <td>337.0</td>\n",
       "      <td>1960.0</td>\n",
       "    </tr>\n",
       "  </tbody>\n",
       "</table>\n",
       "</div>"
      ],
      "text/plain": [
       "       nodes   edges\n",
       "count  713.0   713.0\n",
       "mean    67.4   122.3\n",
       "std     67.1   172.3\n",
       "min      9.0     8.0\n",
       "25%     22.0    27.0\n",
       "50%     40.0    56.0\n",
       "75%     87.0   145.0\n",
       "max    337.0  1960.0"
      ]
     },
     "execution_count": 459,
     "metadata": {},
     "output_type": "execute_result"
    }
   ],
   "source": [
    "summary = pd.DataFrame(\n",
    "    [(g.number_of_nodes(), g.number_of_edges()) for g in graphs],\n",
    "    columns=[\"nodes\", \"edges\"],\n",
    ")\n",
    "summary.describe().round(1)"
   ]
  },
  {
   "cell_type": "markdown",
   "metadata": {},
   "source": [
    "# Prepair generator\n",
    "Z `graph_labels` sa vytvori OneHot encoding labelov. \n",
    "\n",
    "Pozn.: Generator je potrebny neskor na to, aby sa objekty typu `StellarGraph` mohli vkladat do modelu neuronovej siete z Tensorflow-u"
   ]
  },
  {
   "cell_type": "code",
   "execution_count": 460,
   "metadata": {},
   "outputs": [],
   "source": [
    "from stellargraph.mapper import PaddedGraphGenerator"
   ]
  },
  {
   "cell_type": "code",
   "execution_count": 461,
   "metadata": {},
   "outputs": [
    {
     "name": "stdout",
     "output_type": "stream",
     "text": [
      "     0  1  2\n",
      "0    1  0  0\n",
      "1    1  0  0\n",
      "2    1  0  0\n",
      "3    1  0  0\n",
      "4    1  0  0\n",
      "..  .. .. ..\n",
      "708  0  0  1\n",
      "709  0  0  1\n",
      "710  0  0  1\n",
      "711  0  0  1\n",
      "712  0  0  1\n",
      "\n",
      "[713 rows x 3 columns]\n"
     ]
    }
   ],
   "source": [
    "graph_labels = pd.get_dummies(graph_labels, drop_first=False)\n",
    "\n",
    "print(graph_labels)"
   ]
  },
  {
   "cell_type": "code",
   "execution_count": 462,
   "metadata": {},
   "outputs": [
    {
     "name": "stdout",
     "output_type": "stream",
     "text": [
      "Number of classes: 3\n",
      "Number of graphs: 713\n"
     ]
    }
   ],
   "source": [
    "num_graphs, num_classes = graph_labels.shape\n",
    "\n",
    "print(f'Number of classes: {num_classes}\\nNumber of graphs: {num_graphs}')"
   ]
  },
  {
   "cell_type": "code",
   "execution_count": 463,
   "metadata": {},
   "outputs": [],
   "source": [
    "generator = PaddedGraphGenerator(graphs=graphs)"
   ]
  },
  {
   "cell_type": "markdown",
   "metadata": {},
   "source": [
    "# Supervised graph classification with GCN [StellarGraph]"
   ]
  },
  {
   "cell_type": "code",
   "execution_count": 464,
   "metadata": {},
   "outputs": [],
   "source": [
    "import stellargraph as sg\n",
    "from stellargraph.layer import GCNSupervisedGraphClassification\n",
    "from sklearn import model_selection\n",
    "from sklearn.utils.class_weight import compute_class_weight\n",
    "from tensorflow.keras import Model\n",
    "from tensorflow.keras.optimizers import Adam\n",
    "from tensorflow.keras.layers import Dense\n",
    "from tensorflow.keras.losses import categorical_crossentropy\n",
    "from tensorflow.keras.callbacks import EarlyStopping\n",
    "from tensorflow.keras.metrics import Precision\n",
    "import kerastuner as kt\n",
    "import tensorflow as tf\n",
    "import matplotlib.pyplot as plt"
   ]
  },
  {
   "cell_type": "markdown",
   "metadata": {},
   "source": [
    "## Split dataset to TRAIN, VALIDATION and TEST\n",
    "Pomer percent TRENOVACI\\:VALIDACNY\\:TESTOVACI == **70\\:15\\:15**"
   ]
  },
  {
   "cell_type": "code",
   "execution_count": 465,
   "metadata": {},
   "outputs": [],
   "source": [
    "# TRAIN:TEST 85:15\n",
    "train_graphs, test_graphs = model_selection.train_test_split(\n",
    "    graph_labels, train_size=0.85, stratify=graph_labels\n",
    ")\n",
    "\n",
    "# TRAIN:VALIDATION 82.4:17.6 => 85*0.824 == 70  85*0.176 == 15 \n",
    "train_graphs, val_graphs = model_selection.train_test_split(\n",
    "    train_graphs, train_size=0.824, stratify=train_graphs\n",
    ")"
   ]
  },
  {
   "cell_type": "code",
   "execution_count": 466,
   "metadata": {},
   "outputs": [
    {
     "name": "stdout",
     "output_type": "stream",
     "text": [
      "TRAIN graphs: 499\n",
      "VALIDATION graphs: 107\n",
      "TEST graphs: 107\n"
     ]
    }
   ],
   "source": [
    "print(f'TRAIN graphs: {len(train_graphs)}\\nVALIDATION graphs: {len(val_graphs)}\\nTEST graphs: {len(test_graphs)}')"
   ]
  },
  {
   "cell_type": "markdown",
   "metadata": {},
   "source": [
    "## Compute class weights\n",
    "Kedze je dataset nevyrovnany, trebalo zvysit citlivost na minoritne triedy"
   ]
  },
  {
   "cell_type": "code",
   "execution_count": 467,
   "metadata": {},
   "outputs": [],
   "source": [
    "y_integers = np.argmax(train_graphs.to_numpy(), axis=1)\n",
    "class_weights = compute_class_weight(class_weight='balanced', classes=np.unique(y_integers), y=y_integers)\n",
    "d_class_weights = dict(enumerate(class_weights))"
   ]
  },
  {
   "cell_type": "code",
   "execution_count": 468,
   "metadata": {},
   "outputs": [
    {
     "data": {
      "text/plain": [
       "{0: 0.47523809523809524, 1: 1.934108527131783, 2: 2.64021164021164}"
      ]
     },
     "execution_count": 468,
     "metadata": {},
     "output_type": "execute_result"
    }
   ],
   "source": [
    "d_class_weights"
   ]
  },
  {
   "cell_type": "markdown",
   "metadata": {},
   "source": [
    "## Create generators"
   ]
  },
  {
   "cell_type": "code",
   "execution_count": 469,
   "metadata": {},
   "outputs": [],
   "source": [
    "batch_size=32\n",
    "\n",
    "train_gen = generator.flow(\n",
    "        train_graphs.index, targets=graph_labels.iloc[train_graphs.index].values, batch_size=batch_size\n",
    "    )\n",
    "val_gen = generator.flow(\n",
    "        val_graphs.index, targets=graph_labels.iloc[val_graphs.index].values, batch_size=batch_size\n",
    "    )"
   ]
  },
  {
   "cell_type": "markdown",
   "metadata": {},
   "source": [
    "## Build model\n",
    "- `GCNSupervisedGraphClassification` obsahuje grafove konvolucne vrstvy sluziace na extrakciu vlastnosti grafov a mean pooling vrstvu na znizenie dimenzionality dat\n",
    "- `Dense` vrstvy sluzia na samotny proces klasifikacie\n",
    "\n",
    "Funkciu je mozno pouzit aj pocas ladenia hyperparametrov pomocou `keras-tuner`"
   ]
  },
  {
   "cell_type": "code",
   "execution_count": 470,
   "metadata": {},
   "outputs": [],
   "source": [
    "def model_builder(hp=None):\n",
    "    # default hyperparameters\n",
    "    convo1 = 64\n",
    "    convo2 = 64\n",
    "    dropout = 0.5\n",
    "    dense1 = 32\n",
    "    dense2 = 16\n",
    "    learning_rate = 0.005\n",
    "    \n",
    "    # hyperparameter tuning\n",
    "    if (hp):\n",
    "        convo1 = hp.Int('convo1', min_value=32, max_value=320, step=32)\n",
    "        convo2 = hp.Int('convo2', min_value=32, max_value=320, step=32)\n",
    "        dropout = hp.Float('dropout', min_value=0.1, max_value=0.5, step=0.1)\n",
    "        dense1 = hp.Int('dense1', min_value=32, max_value=320, step=32)\n",
    "        dense2 = hp.Int('dense2', min_value=16, max_value=160, step=16)\n",
    "        learning_rate = hp.Choice('learning_rate', values=[0.0001, 0.001, 0.005, 0.01])\n",
    "    \n",
    "    gc_model = GCNSupervisedGraphClassification(\n",
    "            layer_sizes=[convo1, convo2],\n",
    "            activations=[\"relu\", \"relu\"],\n",
    "            generator=generator,\n",
    "            dropout=dropout,\n",
    "        )\n",
    "\n",
    "    x_inp, x_out = gc_model.in_out_tensors()\n",
    "    \n",
    "    predictions = Dense(units=dense1, activation=\"relu\")(x_out)\n",
    "    predictions = Dense(units=dense2, activation=\"relu\")(predictions)\n",
    "    predictions = Dense(num_classes, activation=\"softmax\")(predictions)\n",
    "\n",
    "    model = Model(inputs=x_inp, outputs=predictions)\n",
    "    model.compile(optimizer=Adam(learning_rate=learning_rate), loss=categorical_crossentropy, metrics=['accuracy', Precision()])\n",
    "    \n",
    "    return model"
   ]
  },
  {
   "cell_type": "code",
   "execution_count": 471,
   "metadata": {},
   "outputs": [],
   "source": [
    "es = EarlyStopping(\n",
    "    monitor=\"val_loss\", min_delta=0, patience=25, restore_best_weights=True\n",
    ")"
   ]
  },
  {
   "cell_type": "code",
   "execution_count": 472,
   "metadata": {},
   "outputs": [],
   "source": [
    "model = model_builder()"
   ]
  },
  {
   "cell_type": "markdown",
   "metadata": {},
   "source": [
    "## Tune hyperparameters"
   ]
  },
  {
   "cell_type": "code",
   "execution_count": null,
   "metadata": {},
   "outputs": [],
   "source": [
    "tuner = kt.Hyperband(model_builder,\n",
    "                     objective='val_accuracy',\n",
    "                     max_epochs=10,\n",
    "                     factor=3,\n",
    "                     directory='.',\n",
    "                     project_name='tuner')"
   ]
  },
  {
   "cell_type": "code",
   "execution_count": null,
   "metadata": {},
   "outputs": [],
   "source": [
    "tuner.search(train_gen, epochs=100, validation_data=val_gen, verbose=1, class_weight=d_class_weights, callbacks=[es])"
   ]
  },
  {
   "cell_type": "code",
   "execution_count": null,
   "metadata": {},
   "outputs": [],
   "source": [
    "best_hps=tuner.get_best_hyperparameters()[0]\n",
    "\n",
    "print(f'''Optional hyperparameters:\n",
    "    convo1: {best_hps.get('convo1')}\n",
    "    convo2: {best_hps.get('convo2')}\n",
    "    dropout: {best_hps.get('dropout')}\n",
    "    dense1: {best_hps.get('dense1')}\n",
    "    dense2: {best_hps.get('dense2')}\n",
    "    learning_rate: {best_hps.get('learning_rate')}\n",
    "    ''')"
   ]
  },
  {
   "cell_type": "code",
   "execution_count": 44,
   "metadata": {},
   "outputs": [],
   "source": [
    "model = tuner.hypermodel.build(best_hps)"
   ]
  },
  {
   "cell_type": "markdown",
   "metadata": {},
   "source": [
    "## Train model"
   ]
  },
  {
   "cell_type": "code",
   "execution_count": 473,
   "metadata": {},
   "outputs": [],
   "source": [
    "epochs = 100"
   ]
  },
  {
   "cell_type": "code",
   "execution_count": 474,
   "metadata": {},
   "outputs": [
    {
     "name": "stdout",
     "output_type": "stream",
     "text": [
      "Epoch 1/100\n",
      "16/16 [==============================] - 2s 71ms/step - loss: 1.0490 - accuracy: 0.3912 - precision_12: 0.0000e+00 - val_loss: 1.1350 - val_accuracy: 0.1495 - val_precision_12: 0.0000e+00\n",
      "Epoch 2/100\n",
      "16/16 [==============================] - 1s 46ms/step - loss: 1.0147 - accuracy: 0.2959 - precision_12: 0.6587 - val_loss: 0.8785 - val_accuracy: 0.7757 - val_precision_12: 0.8182\n",
      "Epoch 3/100\n",
      "16/16 [==============================] - 1s 50ms/step - loss: 0.8586 - accuracy: 0.6377 - precision_12: 0.6440 - val_loss: 0.6501 - val_accuracy: 0.7944 - val_precision_12: 0.8690\n",
      "Epoch 4/100\n",
      "16/16 [==============================] - 1s 45ms/step - loss: 0.6664 - accuracy: 0.7371 - precision_12: 0.7898 - val_loss: 0.7011 - val_accuracy: 0.7196 - val_precision_12: 0.7889\n",
      "Epoch 5/100\n",
      "16/16 [==============================] - 1s 46ms/step - loss: 0.6898 - accuracy: 0.7123 - precision_12: 0.7485 - val_loss: 0.6958 - val_accuracy: 0.7196 - val_precision_12: 0.8072\n",
      "Epoch 6/100\n",
      "16/16 [==============================] - 1s 47ms/step - loss: 0.6367 - accuracy: 0.6859 - precision_12: 0.7300 - val_loss: 0.5196 - val_accuracy: 0.8411 - val_precision_12: 0.8842\n",
      "Epoch 7/100\n",
      "16/16 [==============================] - 1s 49ms/step - loss: 0.5338 - accuracy: 0.8147 - precision_12: 0.8428 - val_loss: 0.5653 - val_accuracy: 0.8224 - val_precision_12: 0.8737\n",
      "Epoch 8/100\n",
      "16/16 [==============================] - 1s 49ms/step - loss: 0.6178 - accuracy: 0.7627 - precision_12: 0.7946 - val_loss: 0.7034 - val_accuracy: 0.7570 - val_precision_12: 0.8242\n",
      "Epoch 9/100\n",
      "16/16 [==============================] - 1s 49ms/step - loss: 0.6208 - accuracy: 0.7576 - precision_12: 0.8019 - val_loss: 0.5765 - val_accuracy: 0.7850 - val_precision_12: 0.7980\n",
      "Epoch 10/100\n",
      "16/16 [==============================] - 1s 47ms/step - loss: 0.5253 - accuracy: 0.7775 - precision_12: 0.8031 - val_loss: 0.4954 - val_accuracy: 0.8224 - val_precision_12: 0.8317\n",
      "Epoch 11/100\n",
      "16/16 [==============================] - 1s 50ms/step - loss: 0.5513 - accuracy: 0.7890 - precision_12: 0.8126 - val_loss: 0.6736 - val_accuracy: 0.7103 - val_precision_12: 0.7629\n",
      "Epoch 12/100\n",
      "16/16 [==============================] - 1s 45ms/step - loss: 0.4536 - accuracy: 0.7654 - precision_12: 0.7824 - val_loss: 0.6036 - val_accuracy: 0.8224 - val_precision_12: 0.8333\n",
      "Epoch 13/100\n",
      "16/16 [==============================] - 1s 48ms/step - loss: 0.6267 - accuracy: 0.7224 - precision_12: 0.7505 - val_loss: 0.7011 - val_accuracy: 0.7570 - val_precision_12: 0.7629\n",
      "Epoch 14/100\n",
      "16/16 [==============================] - 1s 47ms/step - loss: 0.4399 - accuracy: 0.8062 - precision_12: 0.8292 - val_loss: 0.4830 - val_accuracy: 0.8318 - val_precision_12: 0.8350\n",
      "Epoch 15/100\n",
      "16/16 [==============================] - 1s 46ms/step - loss: 0.5739 - accuracy: 0.7408 - precision_12: 0.7484 - val_loss: 0.6216 - val_accuracy: 0.7757 - val_precision_12: 0.8085\n",
      "Epoch 16/100\n",
      "16/16 [==============================] - 1s 46ms/step - loss: 0.5491 - accuracy: 0.7531 - precision_12: 0.7644 - val_loss: 0.4542 - val_accuracy: 0.8224 - val_precision_12: 0.8515\n",
      "Epoch 17/100\n",
      "16/16 [==============================] - 1s 48ms/step - loss: 0.6147 - accuracy: 0.7520 - precision_12: 0.7575 - val_loss: 0.5051 - val_accuracy: 0.8224 - val_precision_12: 0.8431\n",
      "Epoch 18/100\n",
      "16/16 [==============================] - 1s 46ms/step - loss: 0.4481 - accuracy: 0.7700 - precision_12: 0.7868 - val_loss: 0.5701 - val_accuracy: 0.7944 - val_precision_12: 0.8200\n",
      "Epoch 19/100\n",
      "16/16 [==============================] - 1s 49ms/step - loss: 0.5486 - accuracy: 0.7337 - precision_12: 0.7493 - val_loss: 0.5690 - val_accuracy: 0.8131 - val_precision_12: 0.8137\n",
      "Epoch 20/100\n",
      "16/16 [==============================] - 1s 47ms/step - loss: 0.4193 - accuracy: 0.7626 - precision_12: 0.7786 - val_loss: 0.4332 - val_accuracy: 0.8785 - val_precision_12: 0.8922\n",
      "Epoch 21/100\n",
      "16/16 [==============================] - 1s 51ms/step - loss: 0.4609 - accuracy: 0.7551 - precision_12: 0.7792 - val_loss: 0.4508 - val_accuracy: 0.8692 - val_precision_12: 0.8812\n",
      "Epoch 22/100\n",
      "16/16 [==============================] - 1s 48ms/step - loss: 0.5370 - accuracy: 0.7811 - precision_12: 0.7956 - val_loss: 0.5700 - val_accuracy: 0.7944 - val_precision_12: 0.8317\n",
      "Epoch 23/100\n",
      "16/16 [==============================] - 1s 48ms/step - loss: 0.5643 - accuracy: 0.7404 - precision_12: 0.7602 - val_loss: 0.5247 - val_accuracy: 0.8505 - val_precision_12: 0.8614\n",
      "Epoch 24/100\n",
      "16/16 [==============================] - 1s 48ms/step - loss: 0.4458 - accuracy: 0.7933 - precision_12: 0.8049 - val_loss: 0.4568 - val_accuracy: 0.8598 - val_precision_12: 0.8738\n",
      "Epoch 25/100\n",
      "16/16 [==============================] - 1s 46ms/step - loss: 0.4797 - accuracy: 0.7825 - precision_12: 0.8051 - val_loss: 0.4379 - val_accuracy: 0.8505 - val_precision_12: 0.8627\n",
      "Epoch 26/100\n",
      "16/16 [==============================] - 1s 48ms/step - loss: 0.4224 - accuracy: 0.8079 - precision_12: 0.8133 - val_loss: 0.5562 - val_accuracy: 0.8224 - val_precision_12: 0.8529\n",
      "Epoch 27/100\n",
      "16/16 [==============================] - 1s 48ms/step - loss: 0.4803 - accuracy: 0.7887 - precision_12: 0.8095 - val_loss: 0.5629 - val_accuracy: 0.7944 - val_precision_12: 0.8119\n",
      "Epoch 28/100\n",
      "16/16 [==============================] - 1s 46ms/step - loss: 0.4667 - accuracy: 0.7711 - precision_12: 0.7980 - val_loss: 0.4653 - val_accuracy: 0.8505 - val_precision_12: 0.8515\n",
      "Epoch 29/100\n",
      "16/16 [==============================] - 1s 47ms/step - loss: 0.4026 - accuracy: 0.8189 - precision_12: 0.8276 - val_loss: 0.4563 - val_accuracy: 0.8598 - val_precision_12: 0.8800\n",
      "Epoch 30/100\n",
      "16/16 [==============================] - 1s 47ms/step - loss: 0.4632 - accuracy: 0.7951 - precision_12: 0.8185 - val_loss: 0.3941 - val_accuracy: 0.8785 - val_precision_12: 0.8857\n",
      "Epoch 31/100\n",
      "16/16 [==============================] - 1s 47ms/step - loss: 0.4662 - accuracy: 0.8208 - precision_12: 0.8352 - val_loss: 0.5237 - val_accuracy: 0.8411 - val_precision_12: 0.8614\n",
      "Epoch 32/100\n",
      "16/16 [==============================] - 1s 47ms/step - loss: 0.5631 - accuracy: 0.7777 - precision_12: 0.7871 - val_loss: 0.5428 - val_accuracy: 0.8318 - val_precision_12: 0.8600\n",
      "Epoch 33/100\n",
      "16/16 [==============================] - 1s 47ms/step - loss: 0.4230 - accuracy: 0.7759 - precision_12: 0.7884 - val_loss: 0.5016 - val_accuracy: 0.8692 - val_precision_12: 0.8854\n",
      "Epoch 34/100\n",
      "16/16 [==============================] - 1s 47ms/step - loss: 0.4349 - accuracy: 0.8336 - precision_12: 0.8496 - val_loss: 0.6122 - val_accuracy: 0.7944 - val_precision_12: 0.8526\n",
      "Epoch 35/100\n",
      "16/16 [==============================] - 1s 47ms/step - loss: 0.5161 - accuracy: 0.7932 - precision_12: 0.8127 - val_loss: 0.4779 - val_accuracy: 0.8598 - val_precision_12: 0.8824\n",
      "Epoch 36/100\n",
      "16/16 [==============================] - 1s 52ms/step - loss: 0.5374 - accuracy: 0.7894 - precision_12: 0.8068 - val_loss: 0.6409 - val_accuracy: 0.7850 - val_precision_12: 0.8211\n",
      "Epoch 37/100\n",
      "16/16 [==============================] - 1s 45ms/step - loss: 0.3637 - accuracy: 0.8095 - precision_12: 0.8286 - val_loss: 0.5945 - val_accuracy: 0.8318 - val_precision_12: 0.8396\n",
      "Epoch 38/100\n",
      "16/16 [==============================] - 1s 47ms/step - loss: 0.4937 - accuracy: 0.7601 - precision_12: 0.7806 - val_loss: 0.4820 - val_accuracy: 0.8879 - val_precision_12: 0.8846\n",
      "Epoch 39/100\n",
      "16/16 [==============================] - 1s 63ms/step - loss: 0.4085 - accuracy: 0.8075 - precision_12: 0.8297 - val_loss: 0.4231 - val_accuracy: 0.8879 - val_precision_12: 0.8932\n",
      "Epoch 40/100\n",
      "16/16 [==============================] - 1s 50ms/step - loss: 0.4743 - accuracy: 0.8169 - precision_12: 0.8565 - val_loss: 0.5372 - val_accuracy: 0.8411 - val_precision_12: 0.8416\n",
      "Epoch 41/100\n",
      "16/16 [==============================] - 1s 48ms/step - loss: 0.4185 - accuracy: 0.7857 - precision_12: 0.8050 - val_loss: 0.6765 - val_accuracy: 0.7850 - val_precision_12: 0.7921\n",
      "Epoch 42/100\n",
      "16/16 [==============================] - 1s 47ms/step - loss: 0.4688 - accuracy: 0.7837 - precision_12: 0.7979 - val_loss: 0.5184 - val_accuracy: 0.8318 - val_precision_12: 0.8462\n",
      "Epoch 43/100\n",
      "16/16 [==============================] - 1s 49ms/step - loss: 0.3568 - accuracy: 0.8263 - precision_12: 0.8337 - val_loss: 0.5260 - val_accuracy: 0.8505 - val_precision_12: 0.8447\n",
      "Epoch 44/100\n",
      "16/16 [==============================] - 1s 46ms/step - loss: 0.4211 - accuracy: 0.8082 - precision_12: 0.8312 - val_loss: 0.4651 - val_accuracy: 0.8411 - val_precision_12: 0.8627\n",
      "Epoch 45/100\n",
      "16/16 [==============================] - 1s 46ms/step - loss: 0.5023 - accuracy: 0.7904 - precision_12: 0.7968 - val_loss: 0.5920 - val_accuracy: 0.8318 - val_precision_12: 0.8854\n",
      "Epoch 46/100\n",
      "16/16 [==============================] - 1s 51ms/step - loss: 0.4233 - accuracy: 0.8247 - precision_12: 0.8373 - val_loss: 0.4818 - val_accuracy: 0.8598 - val_precision_12: 0.8641\n",
      "Epoch 47/100\n",
      "16/16 [==============================] - 1s 47ms/step - loss: 0.4758 - accuracy: 0.7647 - precision_12: 0.7801 - val_loss: 0.4950 - val_accuracy: 0.8598 - val_precision_12: 0.8725\n",
      "Epoch 48/100\n",
      "16/16 [==============================] - 1s 53ms/step - loss: 0.3719 - accuracy: 0.8349 - precision_12: 0.8485 - val_loss: 0.6166 - val_accuracy: 0.8224 - val_precision_12: 0.8252\n",
      "Epoch 49/100\n",
      "16/16 [==============================] - 1s 47ms/step - loss: 0.4319 - accuracy: 0.7364 - precision_12: 0.7549 - val_loss: 0.5917 - val_accuracy: 0.8131 - val_precision_12: 0.8235\n",
      "Epoch 50/100\n",
      "16/16 [==============================] - 1s 46ms/step - loss: 0.5021 - accuracy: 0.7666 - precision_12: 0.7780 - val_loss: 0.5272 - val_accuracy: 0.8505 - val_precision_12: 0.8476\n",
      "Epoch 51/100\n",
      "16/16 [==============================] - 1s 45ms/step - loss: 0.4146 - accuracy: 0.7920 - precision_12: 0.8016 - val_loss: 0.6284 - val_accuracy: 0.8131 - val_precision_12: 0.8155\n",
      "Epoch 52/100\n",
      "16/16 [==============================] - 1s 47ms/step - loss: 0.4159 - accuracy: 0.8153 - precision_12: 0.8338 - val_loss: 0.5024 - val_accuracy: 0.8318 - val_precision_12: 0.8544\n",
      "Epoch 53/100\n",
      "16/16 [==============================] - 1s 47ms/step - loss: 0.3916 - accuracy: 0.7770 - precision_12: 0.7903 - val_loss: 0.4459 - val_accuracy: 0.8785 - val_precision_12: 0.8846\n",
      "Epoch 54/100\n",
      "16/16 [==============================] - 1s 49ms/step - loss: 0.3853 - accuracy: 0.8068 - precision_12: 0.8173 - val_loss: 0.4865 - val_accuracy: 0.8505 - val_precision_12: 0.8627\n",
      "Epoch 55/100\n",
      "16/16 [==============================] - 1s 46ms/step - loss: 0.4873 - accuracy: 0.7980 - precision_12: 0.8087 - val_loss: 0.4985 - val_accuracy: 0.8598 - val_precision_12: 0.8529\n"
     ]
    }
   ],
   "source": [
    "history = model.fit(\n",
    "        train_gen,\n",
    "        epochs=epochs,\n",
    "        validation_data=val_gen,\n",
    "        verbose=1,\n",
    "        class_weight=d_class_weights,\n",
    "        callbacks=[es],\n",
    "    )"
   ]
  },
  {
   "cell_type": "code",
   "execution_count": 476,
   "metadata": {},
   "outputs": [
    {
     "data": {
      "image/png": "[encoded data removed]",
      "text/plain": [
       "<Figure size 504x864 with 3 Axes>"
      ]
     },
     "metadata": {
      "needs_background": "light"
     },
     "output_type": "display_data"
    }
   ],
   "source": [
    "sg.utils.plot_history(history)"
   ]
  },
  {
   "cell_type": "markdown",
   "metadata": {},
   "source": [
    "# Evaluate on test sample"
   ]
  },
  {
   "cell_type": "code",
   "execution_count": 477,
   "metadata": {},
   "outputs": [],
   "source": [
    "test_gen = generator.flow(\n",
    "        test_graphs.index, targets=graph_labels.iloc[test_graphs.index].values, batch_size=1\n",
    "    )"
   ]
  },
  {
   "cell_type": "code",
   "execution_count": 576,
   "metadata": {},
   "outputs": [
    {
     "name": "stdout",
     "output_type": "stream",
     "text": [
      "107/107 [==============================] - 0s 3ms/step - loss: 0.3978 - accuracy: 0.8598 - precision_12: 0.8835\n",
      "\n",
      "Test Set Metrics:\n",
      "\tloss: 0.3978\n",
      "\taccuracy: 0.8598\n",
      "\tprecision_12: 0.8835\n"
     ]
    }
   ],
   "source": [
    "test_metrics = model.evaluate(test_gen)\n",
    "print(\"\\nTest Set Metrics:\")\n",
    "for name, val in zip(model.metrics_names, test_metrics):\n",
    "    print(\"\\t{}: {:0.4f}\".format(name, val))"
   ]
  },
  {
   "cell_type": "markdown",
   "metadata": {},
   "source": [
    "# Visualize predictions"
   ]
  },
  {
   "cell_type": "code",
   "execution_count": 512,
   "metadata": {},
   "outputs": [],
   "source": [
    "from sklearn.metrics import confusion_matrix\n",
    "import seaborn as sns"
   ]
  },
  {
   "cell_type": "code",
   "execution_count": 513,
   "metadata": {},
   "outputs": [],
   "source": [
    "predicts = model.predict(test_gen)\n",
    "Y_pred = predicts.argmax(axis=1)\n",
    "Y = graph_labels.iloc[test_graphs.index].values.argmax(axis=1)\n",
    "cf_matrix = confusion_matrix(Y, Y_pred, normalize='true')"
   ]
  },
  {
   "cell_type": "code",
   "execution_count": 514,
   "metadata": {},
   "outputs": [
    {
     "data": {
      "image/png": "[encoded data removed]",
      "text/plain": [
       "<Figure size 432x288 with 2 Axes>"
      ]
     },
     "metadata": {
      "needs_background": "light"
     },
     "output_type": "display_data"
    }
   ],
   "source": [
    "labels = ['basic', 'shebang', 'spec']\n",
    "ax = sns.heatmap(cf_matrix, annot=True, fmt='.2%', cmap='Blues', xticklabels=labels, yticklabels=labels)\n",
    "\n",
    "plt.xlabel('PREDICTIONS', fontsize = 15)\n",
    "plt.ylabel('TRUE LABELS', fontsize = 15)\n",
    "\n",
    "plt.show()"
   ]
  },
  {
   "cell_type": "code",
   "execution_count": 551,
   "metadata": {},
   "outputs": [],
   "source": [
    "res = {}\n",
    "res['basic'] = np.array([p for _, p in enumerate(predicts) if Y[_] == 0])\n",
    "res['shebang'] = np.array([p for _, p in enumerate(predicts) if Y[_] == 1])\n",
    "res['spec'] = np.array([p for _, p in enumerate(predicts) if Y[_] == 2])"
   ]
  },
  {
   "cell_type": "code",
   "execution_count": 572,
   "metadata": {},
   "outputs": [
    {
     "data": {
      "image/png": "[encoded data removed]",
      "text/plain": [
       "<Figure size 720x720 with 1 Axes>"
      ]
     },
     "metadata": {
      "needs_background": "light"
     },
     "output_type": "display_data"
    }
   ],
   "source": [
    "import matplotlib.pyplot as plt\n",
    "fig = plt.figure(figsize=(10,10))\n",
    "\n",
    "ax = plt.subplot(projection='3d')\n",
    "\n",
    "ax.plot(res[\"basic\"][:,0], res[\"basic\"][:,1], res[\"basic\"][:,2], 'o', color='r', label='basic')\n",
    "ax.plot(res[\"shebang\"][:,0], res[\"shebang\"][:,1], res[\"shebang\"][:,2], 'o', color='g', label='shebang')\n",
    "ax.plot(res[\"spec\"][:,0], res[\"spec\"][:,1], res[\"spec\"][:,2], 'o', color='b', label='spec')\n",
    "\n",
    "ax.set_xlabel('basic', fontsize=14)\n",
    "ax.set_ylabel('shebang', fontsize=14)\n",
    "ax.set_zlabel('spec', fontsize=14)\n",
    "\n",
    "plt.legend(loc='upper right', ncol=3, fontsize=16)\n",
    "\n",
    "plt.show()"
   ]
  },
  {
   "cell_type": "markdown",
   "metadata": {},
   "source": [
    "# Save model to local storage"
   ]
  },
  {
   "cell_type": "code",
   "execution_count": 139,
   "metadata": {},
   "outputs": [
    {
     "name": "stdout",
     "output_type": "stream",
     "text": [
      "INFO:tensorflow:Assets written to: model/assets\n"
     ]
    }
   ],
   "source": [
    "model.save('model')"
   ]
  }
 ],
 "metadata": {
  "colab": {
   "authorship_tag": "ABX9TyMW/6WLUiCZmdSHzUTgjtD5",
   "collapsed_sections": [],
   "mount_file_id": "1ghqp0ozbvYngfuZnMTHUNbn4N3wicmLY",
   "name": "BPprojekt.ipynb",
   "provenance": [],
   "toc_visible": true
  },
  "kernelspec": {
   "display_name": "Python 3",
   "language": "python",
   "name": "python3"
  },
  "language_info": {
   "codemirror_mode": {
    "name": "ipython",
    "version": 3
   },
   "file_extension": ".py",
   "mimetype": "text/x-python",
   "name": "python",
   "nbconvert_exporter": "python",
   "pygments_lexer": "ipython3",
   "version": "3.8.8"
  },
  "widgets": {
   "application/vnd.jupyter.widget-state+json": {
    "15885d8b533f4ac78900e6b7a161f2bb": {
     "model_module": "@jupyter-widgets/controls",
     "model_name": "HTMLModel",
     "state": {
      "_dom_classes": [],
      "_model_module": "@jupyter-widgets/controls",
      "_model_module_version": "1.5.0",
      "_model_name": "HTMLModel",
      "_view_count": null,
      "_view_module": "@jupyter-widgets/controls",
      "_view_module_version": "1.5.0",
      "_view_name": "HTMLView",
      "description": "",
      "description_tooltip": null,
      "layout": "IPY_MODEL_3bdcfa533f6a423ab810910410e4f4e8",
      "placeholder": "​",
      "style": "IPY_MODEL_f840a18c31ed44cfbba779a94586ebec",
      "value": " 815/815 [38:04&lt;00:00,  2.80s/it]"
     }
    },
    "162bd196dd004a1bb543c5d470dc2828": {
     "model_module": "@jupyter-widgets/controls",
     "model_name": "FloatProgressModel",
     "state": {
      "_dom_classes": [],
      "_model_module": "@jupyter-widgets/controls",
      "_model_module_version": "1.5.0",
      "_model_name": "FloatProgressModel",
      "_view_count": null,
      "_view_module": "@jupyter-widgets/controls",
      "_view_module_version": "1.5.0",
      "_view_name": "ProgressView",
      "bar_style": "success",
      "description": "Dataset loading: 100%",
      "description_tooltip": null,
      "layout": "IPY_MODEL_dbc8f281cdd043c795ea0cb458f5b30f",
      "max": 815,
      "min": 0,
      "orientation": "horizontal",
      "style": "IPY_MODEL_a2ace461f6a046ddb5d63eef280929bc",
      "value": 815
     }
    },
    "3249d8ec6d5e450abe2178bee0a899a2": {
     "model_module": "@jupyter-widgets/base",
     "model_name": "LayoutModel",
     "state": {
      "_model_module": "@jupyter-widgets/base",
      "_model_module_version": "1.2.0",
      "_model_name": "LayoutModel",
      "_view_count": null,
      "_view_module": "@jupyter-widgets/base",
      "_view_module_version": "1.2.0",
      "_view_name": "LayoutView",
      "align_content": null,
      "align_items": null,
      "align_self": null,
      "border": null,
      "bottom": null,
      "display": null,
      "flex": null,
      "flex_flow": null,
      "grid_area": null,
      "grid_auto_columns": null,
      "grid_auto_flow": null,
      "grid_auto_rows": null,
      "grid_column": null,
      "grid_gap": null,
      "grid_row": null,
      "grid_template_areas": null,
      "grid_template_columns": null,
      "grid_template_rows": null,
      "height": null,
      "justify_content": null,
      "justify_items": null,
      "left": null,
      "margin": null,
      "max_height": null,
      "max_width": null,
      "min_height": null,
      "min_width": null,
      "object_fit": null,
      "object_position": null,
      "order": null,
      "overflow": null,
      "overflow_x": null,
      "overflow_y": null,
      "padding": null,
      "right": null,
      "top": null,
      "visibility": null,
      "width": null
     }
    },
    "3bdcfa533f6a423ab810910410e4f4e8": {
     "model_module": "@jupyter-widgets/base",
     "model_name": "LayoutModel",
     "state": {
      "_model_module": "@jupyter-widgets/base",
      "_model_module_version": "1.2.0",
      "_model_name": "LayoutModel",
      "_view_count": null,
      "_view_module": "@jupyter-widgets/base",
      "_view_module_version": "1.2.0",
      "_view_name": "LayoutView",
      "align_content": null,
      "align_items": null,
      "align_self": null,
      "border": null,
      "bottom": null,
      "display": null,
      "flex": null,
      "flex_flow": null,
      "grid_area": null,
      "grid_auto_columns": null,
      "grid_auto_flow": null,
      "grid_auto_rows": null,
      "grid_column": null,
      "grid_gap": null,
      "grid_row": null,
      "grid_template_areas": null,
      "grid_template_columns": null,
      "grid_template_rows": null,
      "height": null,
      "justify_content": null,
      "justify_items": null,
      "left": null,
      "margin": null,
      "max_height": null,
      "max_width": null,
      "min_height": null,
      "min_width": null,
      "object_fit": null,
      "object_position": null,
      "order": null,
      "overflow": null,
      "overflow_x": null,
      "overflow_y": null,
      "padding": null,
      "right": null,
      "top": null,
      "visibility": null,
      "width": null
     }
    },
    "a2ace461f6a046ddb5d63eef280929bc": {
     "model_module": "@jupyter-widgets/controls",
     "model_name": "ProgressStyleModel",
     "state": {
      "_model_module": "@jupyter-widgets/controls",
      "_model_module_version": "1.5.0",
      "_model_name": "ProgressStyleModel",
      "_view_count": null,
      "_view_module": "@jupyter-widgets/base",
      "_view_module_version": "1.2.0",
      "_view_name": "StyleView",
      "bar_color": null,
      "description_width": "initial"
     }
    },
    "d0212312301f4edb9a05cd0de57ab5a1": {
     "model_module": "@jupyter-widgets/controls",
     "model_name": "HBoxModel",
     "state": {
      "_dom_classes": [],
      "_model_module": "@jupyter-widgets/controls",
      "_model_module_version": "1.5.0",
      "_model_name": "HBoxModel",
      "_view_count": null,
      "_view_module": "@jupyter-widgets/controls",
      "_view_module_version": "1.5.0",
      "_view_name": "HBoxView",
      "box_style": "",
      "children": [
       "IPY_MODEL_162bd196dd004a1bb543c5d470dc2828",
       "IPY_MODEL_15885d8b533f4ac78900e6b7a161f2bb"
      ],
      "layout": "IPY_MODEL_3249d8ec6d5e450abe2178bee0a899a2"
     }
    },
    "dbc8f281cdd043c795ea0cb458f5b30f": {
     "model_module": "@jupyter-widgets/base",
     "model_name": "LayoutModel",
     "state": {
      "_model_module": "@jupyter-widgets/base",
      "_model_module_version": "1.2.0",
      "_model_name": "LayoutModel",
      "_view_count": null,
      "_view_module": "@jupyter-widgets/base",
      "_view_module_version": "1.2.0",
      "_view_name": "LayoutView",
      "align_content": null,
      "align_items": null,
      "align_self": null,
      "border": null,
      "bottom": null,
      "display": null,
      "flex": null,
      "flex_flow": null,
      "grid_area": null,
      "grid_auto_columns": null,
      "grid_auto_flow": null,
      "grid_auto_rows": null,
      "grid_column": null,
      "grid_gap": null,
      "grid_row": null,
      "grid_template_areas": null,
      "grid_template_columns": null,
      "grid_template_rows": null,
      "height": null,
      "justify_content": null,
      "justify_items": null,
      "left": null,
      "margin": null,
      "max_height": null,
      "max_width": null,
      "min_height": null,
      "min_width": null,
      "object_fit": null,
      "object_position": null,
      "order": null,
      "overflow": null,
      "overflow_x": null,
      "overflow_y": null,
      "padding": null,
      "right": null,
      "top": null,
      "visibility": null,
      "width": null
     }
    },
    "f840a18c31ed44cfbba779a94586ebec": {
     "model_module": "@jupyter-widgets/controls",
     "model_name": "DescriptionStyleModel",
     "state": {
      "_model_module": "@jupyter-widgets/controls",
      "_model_module_version": "1.5.0",
      "_model_name": "DescriptionStyleModel",
      "_view_count": null,
      "_view_module": "@jupyter-widgets/base",
      "_view_module_version": "1.2.0",
      "_view_name": "StyleView",
      "description_width": ""
     }
    }
   }
  }
 },
 "nbformat": 4,
 "nbformat_minor": 4
}
